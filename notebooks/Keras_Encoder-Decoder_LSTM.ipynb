{
 "cells": [
  {
   "cell_type": "markdown",
   "metadata": {},
   "source": [
    "## Character-level recurrent sequence-to-sequence model"
   ]
  },
  {
   "cell_type": "markdown",
   "metadata": {},
   "source": [
    "Example from https://keras.io/examples/nlp/lstm_seq2seq/  \n",
    "Older post https://blog.keras.io/a-ten-minute-introduction-to-sequence-to-sequence-learning-in-keras.html"
   ]
  },
  {
   "cell_type": "code",
   "execution_count": 1,
   "metadata": {},
   "outputs": [],
   "source": [
    "import numpy as np\n",
    "import tensorflow as tf\n",
    "from tensorflow import keras"
   ]
  },
  {
   "cell_type": "code",
   "execution_count": 2,
   "metadata": {
    "collapsed": true
   },
   "outputs": [
    {
     "data": {
      "text/plain": [
       "['Archive:  fra-eng.zip',\n",
       " '  End-of-central-directory signature not found.  Either this file is not',\n",
       " '  a zipfile, or it constitutes one disk of a multi-part archive.  In the',\n",
       " '  latter case the central directory and zipfile comment will be found on',\n",
       " '  the last disk(s) of this archive.',\n",
       " 'unzip:  cannot find zipfile directory in one of fra-eng.zip or',\n",
       " '        fra-eng.zip.zip, and cannot find fra-eng.zip.ZIP, period.']"
      ]
     },
     "execution_count": 2,
     "metadata": {},
     "output_type": "execute_result"
    }
   ],
   "source": [
    "!!curl -O http://www.manythings.org/anki/fra-eng.zip\n",
    "!!unzip fra-eng.zip"
   ]
  },
  {
   "cell_type": "code",
   "execution_count": 3,
   "metadata": {},
   "outputs": [],
   "source": [
    "batch_size = 64      # Batch size for training.\n",
    "epochs = 100         # Number of epochs to train for.\n",
    "latent_dim = 256     # Latent dimensionality of the encoding space.\n",
    "num_samples = 10000  # Number of samples to train on.\n",
    "\n",
    "# Path to the data txt file on disk.\n",
    "data_path = \"data/fra.txt\""
   ]
  },
  {
   "cell_type": "markdown",
   "metadata": {},
   "source": [
    "## Data prep"
   ]
  },
  {
   "cell_type": "code",
   "execution_count": 15,
   "metadata": {},
   "outputs": [],
   "source": [
    "# Vectorize the data.\n",
    "input_texts = []\n",
    "target_texts = []\n",
    "input_characters = set()\n",
    "target_characters = set()"
   ]
  },
  {
   "cell_type": "code",
   "execution_count": 21,
   "metadata": {},
   "outputs": [
    {
     "name": "stdout",
     "output_type": "stream",
     "text": [
      "Go.\tVa !\tCC-BY 2.0 (France) Attribution: tatoeba.org #2877272 (CM) & #1158250 (Wittydev)\n",
      "Go.\tMarche.\tCC-BY 2.0 (France) Attribution: tatoeba.org #2877272 (CM) & #8090732 (Micsmithel)\n",
      "Go.\tBouge !\tCC-BY 2.0 (France) Attribution: tatoeba.org #2877272 (CM) & #9022935 (Micsmithel)\n",
      "Hi.\tSalut !\tCC-BY 2.0 (France) Attribution: tatoeba.org #538123 (CM) & #509819 (Aiji)\n",
      "Hi.\tSalut.\tCC-BY 2.0 (France) Attribution: tatoeba.org #538123 (CM) & #4320462 (gillux)\n",
      "Number of lines:  185584\n"
     ]
    }
   ],
   "source": [
    "with open(data_path, \"r\", encoding=\"utf-8\") as f:\n",
    "    lines = f.read().split(\"\\n\")\n",
    "for line in lines[:5]:\n",
    "    print(line)\n",
    "print(\"Number of lines: \", len(lines))"
   ]
  },
  {
   "cell_type": "code",
   "execution_count": 25,
   "metadata": {},
   "outputs": [],
   "source": [
    "for line in lines[: min(num_samples, len(lines) - 1)]:\n",
    "    input_text, target_text, _ = line.split(\"\\t\")\n",
    "    # We use \"tab\" as the \"start sequence\" character\n",
    "    # for the targets, and \"\\n\" as \"end sequence\" character.\n",
    "    target_text = \"\\t\" + target_text + \"\\n\"\n",
    "    input_texts.append(input_text)\n",
    "    target_texts.append(target_text)\n",
    "    for char in input_text:\n",
    "        if char not in input_characters:\n",
    "            input_characters.add(char)\n",
    "    for char in target_text:\n",
    "        if char not in target_characters:\n",
    "            target_characters.add(char)"
   ]
  },
  {
   "cell_type": "code",
   "execution_count": 32,
   "metadata": {},
   "outputs": [
    {
     "name": "stdout",
     "output_type": "stream",
     "text": [
      "input_texts  10000\n",
      "target_texts 10000\n",
      "input_characters 71\n",
      "target_characters 93\n"
     ]
    }
   ],
   "source": [
    "print(\"input_texts \", len(input_texts))\n",
    "print(\"target_texts\", len(target_texts))\n",
    "print(\"input_characters\", len(input_characters))\n",
    "print(\"target_characters\", len(target_characters))"
   ]
  },
  {
   "cell_type": "code",
   "execution_count": 33,
   "metadata": {},
   "outputs": [
    {
     "name": "stdout",
     "output_type": "stream",
     "text": [
      "Number of samples: 10000\n",
      "Number of unique input tokens: 71\n",
      "Number of unique output tokens: 93\n",
      "Max sequence length for inputs: 15\n",
      "Max sequence length for outputs: 59\n"
     ]
    }
   ],
   "source": [
    "input_characters = sorted(list(input_characters))\n",
    "target_characters = sorted(list(target_characters))\n",
    "num_encoder_tokens = len(input_characters)\n",
    "num_decoder_tokens = len(target_characters)\n",
    "max_encoder_seq_length = max([len(txt) for txt in input_texts])\n",
    "max_decoder_seq_length = max([len(txt) for txt in target_texts])\n",
    "\n",
    "print(\"Number of samples:\", len(input_texts))\n",
    "print(\"Number of unique input tokens:\", num_encoder_tokens)\n",
    "print(\"Number of unique output tokens:\", num_decoder_tokens)\n",
    "print(\"Max sequence length for inputs:\", max_encoder_seq_length)\n",
    "print(\"Max sequence length for outputs:\", max_decoder_seq_length)"
   ]
  },
  {
   "cell_type": "code",
   "execution_count": 36,
   "metadata": {},
   "outputs": [
    {
     "name": "stdout",
     "output_type": "stream",
     "text": [
      "input_token_index 71\n",
      "target_token_index 93\n"
     ]
    }
   ],
   "source": [
    "input_token_index = dict([(char, i) for i, char in enumerate(input_characters)])\n",
    "target_token_index = dict([(char, i) for i, char in enumerate(target_characters)])\n",
    "print(\"input_token_index\", len(input_token_index))\n",
    "print(\"target_token_index\", len(target_token_index))"
   ]
  },
  {
   "cell_type": "code",
   "execution_count": 41,
   "metadata": {},
   "outputs": [
    {
     "name": "stdout",
     "output_type": "stream",
     "text": [
      "encoder_input_data.shape (10000, 15, 71)\n",
      "decoder_input_data.shape (10000, 59, 93)\n",
      "decoder_target_data.shape (10000, 59, 93)\n"
     ]
    }
   ],
   "source": [
    "encoder_input_data = np.zeros(\n",
    "    (len(input_texts), max_encoder_seq_length, num_encoder_tokens), dtype=\"float32\"\n",
    ")\n",
    "decoder_input_data = np.zeros(\n",
    "    (len(input_texts), max_decoder_seq_length, num_decoder_tokens), dtype=\"float32\"\n",
    ")\n",
    "decoder_target_data = np.zeros(\n",
    "    (len(input_texts), max_decoder_seq_length, num_decoder_tokens), dtype=\"float32\"\n",
    ")\n",
    "print(\"encoder_input_data.shape\", encoder_input_data.shape)\n",
    "print(\"decoder_input_data.shape\", decoder_input_data.shape)\n",
    "print(\"decoder_target_data.shape\", decoder_target_data.shape)"
   ]
  },
  {
   "cell_type": "code",
   "execution_count": 51,
   "metadata": {},
   "outputs": [],
   "source": [
    "for i, (input_text, target_text) in enumerate(zip(input_texts, target_texts)):\n",
    "    \n",
    "    for t, char in enumerate(input_text):\n",
    "        encoder_input_data[i, t, input_token_index[char]] = 1.0\n",
    "    encoder_input_data[i, t + 1 :, input_token_index[\" \"]] = 1.0\n",
    "    \n",
    "    for t, char in enumerate(target_text):\n",
    "        \n",
    "        # decoder_target_data is ahead of decoder_input_data by one timestep\n",
    "        decoder_input_data[i, t, target_token_index[char]] = 1.0\n",
    "        \n",
    "        if t > 0:\n",
    "            # decoder_target_data will be ahead by one timestep\n",
    "            # and will not include the start character.\n",
    "            decoder_target_data[i, t - 1, target_token_index[char]] = 1.0\n",
    "            \n",
    "    decoder_input_data[i, t + 1 :, target_token_index[\" \"]] = 1.0\n",
    "    decoder_target_data[i, t:, target_token_index[\" \"]] = 1.0\n",
    "    "
   ]
  },
  {
   "cell_type": "markdown",
   "metadata": {},
   "source": [
    "## Construct model"
   ]
  },
  {
   "cell_type": "code",
   "execution_count": 61,
   "metadata": {},
   "outputs": [],
   "source": [
    "# Define an input sequence and process it.\n",
    "encoder_inputs = keras.Input(shape = (None, num_encoder_tokens))\n",
    "encoder = keras.layers.LSTM(latent_dim, return_state = True)\n",
    "encoder_outputs, state_h, state_c = encoder(encoder_inputs)\n",
    "\n",
    "# We discard `encoder_outputs` and only keep the states.\n",
    "encoder_states = [state_h, state_c]\n",
    "\n",
    "# Set up the decoder, using `encoder_states` as initial state.\n",
    "decoder_inputs = keras.Input(shape = (None, num_decoder_tokens))\n",
    "\n",
    "# We set up our decoder to return full output sequences,\n",
    "# and to return internal states as well. We don't use the\n",
    "# return states in the training model, but we will use them in inference.\n",
    "decoder_lstm = keras.layers.LSTM(latent_dim, return_sequences = True, return_state = True)\n",
    "decoder_outputs, _, _ = decoder_lstm(decoder_inputs, initial_state = encoder_states)\n",
    "decoder_dense = keras.layers.Dense(num_decoder_tokens, activation = \"softmax\")\n",
    "decoder_outputs = decoder_dense(decoder_outputs)\n",
    "\n",
    "# Define the model that will turn\n",
    "# `encoder_input_data` & `decoder_input_data` into `decoder_target_data`\n",
    "model = keras.Model([encoder_inputs, decoder_inputs], decoder_outputs)"
   ]
  },
  {
   "cell_type": "code",
   "execution_count": 6,
   "metadata": {},
   "outputs": [
    {
     "name": "stdout",
     "output_type": "stream",
     "text": [
      "Model: \"model\"\n",
      "__________________________________________________________________________________________________\n",
      "Layer (type)                    Output Shape         Param #     Connected to                     \n",
      "==================================================================================================\n",
      "input_1 (InputLayer)            [(None, None, 71)]   0                                            \n",
      "__________________________________________________________________________________________________\n",
      "input_2 (InputLayer)            [(None, None, 93)]   0                                            \n",
      "__________________________________________________________________________________________________\n",
      "lstm (LSTM)                     [(None, 256), (None, 335872      input_1[0][0]                    \n",
      "__________________________________________________________________________________________________\n",
      "lstm_1 (LSTM)                   [(None, None, 256),  358400      input_2[0][0]                    \n",
      "                                                                 lstm[0][1]                       \n",
      "                                                                 lstm[0][2]                       \n",
      "__________________________________________________________________________________________________\n",
      "dense (Dense)                   (None, None, 93)     23901       lstm_1[0][0]                     \n",
      "==================================================================================================\n",
      "Total params: 718,173\n",
      "Trainable params: 718,173\n",
      "Non-trainable params: 0\n",
      "__________________________________________________________________________________________________\n"
     ]
    }
   ],
   "source": [
    "model.summary()"
   ]
  },
  {
   "cell_type": "code",
   "execution_count": 62,
   "metadata": {},
   "outputs": [
    {
     "name": "stdout",
     "output_type": "stream",
     "text": [
      "[name: \"/device:CPU:0\"\n",
      "device_type: \"CPU\"\n",
      "memory_limit: 268435456\n",
      "locality {\n",
      "}\n",
      "incarnation: 17915378753931948132\n",
      ", name: \"/device:GPU:0\"\n",
      "device_type: \"GPU\"\n",
      "memory_limit: 7628526720\n",
      "locality {\n",
      "  bus_id: 1\n",
      "  links {\n",
      "    link {\n",
      "      device_id: 1\n",
      "      type: \"StreamExecutor\"\n",
      "      strength: 1\n",
      "    }\n",
      "  }\n",
      "}\n",
      "incarnation: 17675558037069747316\n",
      "physical_device_desc: \"device: 0, name: GeForce GTX 1080, pci bus id: 0000:01:00.0, compute capability: 6.1\"\n",
      ", name: \"/device:GPU:1\"\n",
      "device_type: \"GPU\"\n",
      "memory_limit: 7775883104\n",
      "locality {\n",
      "  bus_id: 1\n",
      "  links {\n",
      "    link {\n",
      "      type: \"StreamExecutor\"\n",
      "      strength: 1\n",
      "    }\n",
      "  }\n",
      "}\n",
      "incarnation: 7402407548172880412\n",
      "physical_device_desc: \"device: 1, name: GeForce GTX 1080, pci bus id: 0000:02:00.0, compute capability: 6.1\"\n",
      "]\n"
     ]
    }
   ],
   "source": [
    "from tensorflow.python.client import device_lib\n",
    "print(device_lib.list_local_devices())"
   ]
  },
  {
   "cell_type": "markdown",
   "metadata": {},
   "source": [
    "## Train model"
   ]
  },
  {
   "cell_type": "code",
   "execution_count": 63,
   "metadata": {},
   "outputs": [
    {
     "name": "stdout",
     "output_type": "stream",
     "text": [
      "Epoch 1/100\n",
      "125/125 [==============================] - 3s 14ms/step - loss: 1.4946 - accuracy: 0.7044 - val_loss: 1.0304 - val_accuracy: 0.7093\n",
      "Epoch 2/100\n",
      "125/125 [==============================] - 2s 13ms/step - loss: 0.8679 - accuracy: 0.7641 - val_loss: 0.8326 - val_accuracy: 0.7686\n",
      "Epoch 3/100\n",
      "125/125 [==============================] - 2s 16ms/step - loss: 0.6896 - accuracy: 0.8087 - val_loss: 0.7047 - val_accuracy: 0.7965\n",
      "Epoch 4/100\n",
      "125/125 [==============================] - 2s 12ms/step - loss: 0.6000 - accuracy: 0.8260 - val_loss: 0.6454 - val_accuracy: 0.8094\n",
      "Epoch 5/100\n",
      "125/125 [==============================] - 2s 15ms/step - loss: 0.5463 - accuracy: 0.8393 - val_loss: 0.5957 - val_accuracy: 0.8266\n",
      "Epoch 6/100\n",
      "125/125 [==============================] - 2s 14ms/step - loss: 0.5025 - accuracy: 0.8521 - val_loss: 0.5650 - val_accuracy: 0.8353\n",
      "Epoch 7/100\n",
      "125/125 [==============================] - 2s 13ms/step - loss: 0.4696 - accuracy: 0.8610 - val_loss: 0.5403 - val_accuracy: 0.8399\n",
      "Epoch 8/100\n",
      "125/125 [==============================] - 2s 15ms/step - loss: 0.4469 - accuracy: 0.8671 - val_loss: 0.5218 - val_accuracy: 0.8458\n",
      "Epoch 9/100\n",
      "125/125 [==============================] - 2s 13ms/step - loss: 0.4221 - accuracy: 0.8739 - val_loss: 0.5065 - val_accuracy: 0.8512\n",
      "Epoch 10/100\n",
      "125/125 [==============================] - 2s 12ms/step - loss: 0.4029 - accuracy: 0.8797 - val_loss: 0.5001 - val_accuracy: 0.8527\n",
      "Epoch 11/100\n",
      "125/125 [==============================] - 2s 14ms/step - loss: 0.3903 - accuracy: 0.8829 - val_loss: 0.4896 - val_accuracy: 0.8545\n",
      "Epoch 12/100\n",
      "125/125 [==============================] - 2s 13ms/step - loss: 0.3707 - accuracy: 0.8889 - val_loss: 0.4797 - val_accuracy: 0.8587\n",
      "Epoch 13/100\n",
      "125/125 [==============================] - 2s 13ms/step - loss: 0.3568 - accuracy: 0.8927 - val_loss: 0.4704 - val_accuracy: 0.8612\n",
      "Epoch 14/100\n",
      "125/125 [==============================] - 2s 13ms/step - loss: 0.3456 - accuracy: 0.8956 - val_loss: 0.4685 - val_accuracy: 0.8624\n",
      "Epoch 15/100\n",
      "125/125 [==============================] - 2s 13ms/step - loss: 0.3317 - accuracy: 0.8994 - val_loss: 0.4568 - val_accuracy: 0.8668\n",
      "Epoch 16/100\n",
      "125/125 [==============================] - 2s 13ms/step - loss: 0.3155 - accuracy: 0.9049 - val_loss: 0.4554 - val_accuracy: 0.8667\n",
      "Epoch 17/100\n",
      "125/125 [==============================] - 2s 16ms/step - loss: 0.3072 - accuracy: 0.9074 - val_loss: 0.4564 - val_accuracy: 0.8667\n",
      "Epoch 18/100\n",
      "125/125 [==============================] - 2s 16ms/step - loss: 0.2963 - accuracy: 0.9105 - val_loss: 0.4508 - val_accuracy: 0.8692\n",
      "Epoch 19/100\n",
      "125/125 [==============================] - 2s 16ms/step - loss: 0.2875 - accuracy: 0.9133 - val_loss: 0.4443 - val_accuracy: 0.8709\n",
      "Epoch 20/100\n",
      "125/125 [==============================] - 2s 14ms/step - loss: 0.2747 - accuracy: 0.9167 - val_loss: 0.4436 - val_accuracy: 0.8728\n",
      "Epoch 21/100\n",
      "125/125 [==============================] - 2s 13ms/step - loss: 0.2651 - accuracy: 0.9195 - val_loss: 0.4444 - val_accuracy: 0.8722\n",
      "Epoch 22/100\n",
      "125/125 [==============================] - 2s 15ms/step - loss: 0.2551 - accuracy: 0.9226 - val_loss: 0.4475 - val_accuracy: 0.8721\n",
      "Epoch 23/100\n",
      "125/125 [==============================] - 1s 12ms/step - loss: 0.2467 - accuracy: 0.9253 - val_loss: 0.4465 - val_accuracy: 0.8730\n",
      "Epoch 24/100\n",
      "125/125 [==============================] - 2s 14ms/step - loss: 0.2373 - accuracy: 0.9275 - val_loss: 0.4504 - val_accuracy: 0.8736\n",
      "Epoch 25/100\n",
      "125/125 [==============================] - 2s 14ms/step - loss: 0.2313 - accuracy: 0.9298 - val_loss: 0.4483 - val_accuracy: 0.8741\n",
      "Epoch 26/100\n",
      "125/125 [==============================] - 2s 16ms/step - loss: 0.2230 - accuracy: 0.9323 - val_loss: 0.4550 - val_accuracy: 0.8733\n",
      "Epoch 27/100\n",
      "125/125 [==============================] - 2s 15ms/step - loss: 0.2167 - accuracy: 0.9339 - val_loss: 0.4522 - val_accuracy: 0.8739\n",
      "Epoch 28/100\n",
      "125/125 [==============================] - 2s 13ms/step - loss: 0.2087 - accuracy: 0.9361 - val_loss: 0.4560 - val_accuracy: 0.8742\n",
      "Epoch 29/100\n",
      "125/125 [==============================] - 2s 16ms/step - loss: 0.2016 - accuracy: 0.9387 - val_loss: 0.4604 - val_accuracy: 0.8750\n",
      "Epoch 30/100\n",
      "125/125 [==============================] - 2s 14ms/step - loss: 0.1949 - accuracy: 0.9405 - val_loss: 0.4631 - val_accuracy: 0.8745\n",
      "Epoch 31/100\n",
      "125/125 [==============================] - 2s 16ms/step - loss: 0.1894 - accuracy: 0.9422 - val_loss: 0.4661 - val_accuracy: 0.8748\n",
      "Epoch 32/100\n",
      "125/125 [==============================] - 2s 16ms/step - loss: 0.1832 - accuracy: 0.9442 - val_loss: 0.4672 - val_accuracy: 0.8754\n",
      "Epoch 33/100\n",
      "125/125 [==============================] - 2s 14ms/step - loss: 0.1765 - accuracy: 0.9461 - val_loss: 0.4714 - val_accuracy: 0.8748\n",
      "Epoch 34/100\n",
      "125/125 [==============================] - 2s 13ms/step - loss: 0.1715 - accuracy: 0.9480 - val_loss: 0.4726 - val_accuracy: 0.8744\n",
      "Epoch 35/100\n",
      "125/125 [==============================] - 2s 12ms/step - loss: 0.1678 - accuracy: 0.9489 - val_loss: 0.4844 - val_accuracy: 0.8743\n",
      "Epoch 36/100\n",
      "125/125 [==============================] - 2s 15ms/step - loss: 0.1602 - accuracy: 0.9510 - val_loss: 0.4872 - val_accuracy: 0.8738\n",
      "Epoch 37/100\n",
      "125/125 [==============================] - 2s 16ms/step - loss: 0.1581 - accuracy: 0.9516 - val_loss: 0.4921 - val_accuracy: 0.8744\n",
      "Epoch 38/100\n",
      "125/125 [==============================] - 2s 15ms/step - loss: 0.1527 - accuracy: 0.9534 - val_loss: 0.4959 - val_accuracy: 0.8744\n",
      "Epoch 39/100\n",
      "125/125 [==============================] - 2s 14ms/step - loss: 0.1488 - accuracy: 0.9547 - val_loss: 0.4939 - val_accuracy: 0.8754\n",
      "Epoch 40/100\n",
      "125/125 [==============================] - 2s 16ms/step - loss: 0.1438 - accuracy: 0.9560 - val_loss: 0.5036 - val_accuracy: 0.8747\n",
      "Epoch 41/100\n",
      "125/125 [==============================] - 2s 15ms/step - loss: 0.1388 - accuracy: 0.9577 - val_loss: 0.5092 - val_accuracy: 0.8742\n",
      "Epoch 42/100\n",
      "125/125 [==============================] - 2s 14ms/step - loss: 0.1355 - accuracy: 0.9586 - val_loss: 0.5131 - val_accuracy: 0.8751\n",
      "Epoch 43/100\n",
      "125/125 [==============================] - 2s 16ms/step - loss: 0.1336 - accuracy: 0.9592 - val_loss: 0.5191 - val_accuracy: 0.8745\n",
      "Epoch 44/100\n",
      "125/125 [==============================] - 2s 15ms/step - loss: 0.1294 - accuracy: 0.9604 - val_loss: 0.5225 - val_accuracy: 0.8743\n",
      "Epoch 45/100\n",
      "125/125 [==============================] - 2s 16ms/step - loss: 0.1252 - accuracy: 0.9616 - val_loss: 0.5325 - val_accuracy: 0.8741\n",
      "Epoch 46/100\n",
      "125/125 [==============================] - 2s 14ms/step - loss: 0.1225 - accuracy: 0.9623 - val_loss: 0.5348 - val_accuracy: 0.8741\n",
      "Epoch 47/100\n",
      "125/125 [==============================] - 2s 13ms/step - loss: 0.1180 - accuracy: 0.9635 - val_loss: 0.5374 - val_accuracy: 0.8737\n",
      "Epoch 48/100\n",
      "125/125 [==============================] - 2s 13ms/step - loss: 0.1150 - accuracy: 0.9646 - val_loss: 0.5401 - val_accuracy: 0.8749\n",
      "Epoch 49/100\n",
      "125/125 [==============================] - 2s 13ms/step - loss: 0.1114 - accuracy: 0.9655 - val_loss: 0.5467 - val_accuracy: 0.8746\n",
      "Epoch 50/100\n",
      "125/125 [==============================] - 2s 13ms/step - loss: 0.1091 - accuracy: 0.9664 - val_loss: 0.5503 - val_accuracy: 0.8746\n",
      "Epoch 51/100\n",
      "125/125 [==============================] - 2s 15ms/step - loss: 0.1073 - accuracy: 0.9670 - val_loss: 0.5567 - val_accuracy: 0.8732\n",
      "Epoch 52/100\n",
      "125/125 [==============================] - 1s 12ms/step - loss: 0.1043 - accuracy: 0.9678 - val_loss: 0.5575 - val_accuracy: 0.8745\n",
      "Epoch 53/100\n",
      "125/125 [==============================] - 2s 16ms/step - loss: 0.1007 - accuracy: 0.9688 - val_loss: 0.5677 - val_accuracy: 0.8737\n",
      "Epoch 54/100\n",
      "125/125 [==============================] - 2s 14ms/step - loss: 0.0987 - accuracy: 0.9694 - val_loss: 0.5697 - val_accuracy: 0.8733\n",
      "Epoch 55/100\n",
      "125/125 [==============================] - 2s 13ms/step - loss: 0.0966 - accuracy: 0.9703 - val_loss: 0.5767 - val_accuracy: 0.8738\n",
      "Epoch 56/100\n",
      "125/125 [==============================] - 1s 12ms/step - loss: 0.0947 - accuracy: 0.9703 - val_loss: 0.5776 - val_accuracy: 0.8736\n",
      "Epoch 57/100\n"
     ]
    },
    {
     "name": "stdout",
     "output_type": "stream",
     "text": [
      "125/125 [==============================] - 2s 13ms/step - loss: 0.0920 - accuracy: 0.9712 - val_loss: 0.5876 - val_accuracy: 0.8743\n",
      "Epoch 58/100\n",
      "125/125 [==============================] - 2s 15ms/step - loss: 0.0908 - accuracy: 0.9719 - val_loss: 0.5914 - val_accuracy: 0.8738\n",
      "Epoch 59/100\n",
      "125/125 [==============================] - 2s 14ms/step - loss: 0.0874 - accuracy: 0.9725 - val_loss: 0.5953 - val_accuracy: 0.8738\n",
      "Epoch 60/100\n",
      "125/125 [==============================] - 1s 12ms/step - loss: 0.0864 - accuracy: 0.9731 - val_loss: 0.6018 - val_accuracy: 0.8734\n",
      "Epoch 61/100\n",
      "125/125 [==============================] - 2s 13ms/step - loss: 0.0835 - accuracy: 0.9742 - val_loss: 0.6051 - val_accuracy: 0.8741\n",
      "Epoch 62/100\n",
      "125/125 [==============================] - 2s 12ms/step - loss: 0.0812 - accuracy: 0.9742 - val_loss: 0.6124 - val_accuracy: 0.8735\n",
      "Epoch 63/100\n",
      "125/125 [==============================] - 2s 14ms/step - loss: 0.0807 - accuracy: 0.9747 - val_loss: 0.6127 - val_accuracy: 0.8731\n",
      "Epoch 64/100\n",
      "125/125 [==============================] - 2s 13ms/step - loss: 0.0783 - accuracy: 0.9751 - val_loss: 0.6258 - val_accuracy: 0.8725\n",
      "Epoch 65/100\n",
      "125/125 [==============================] - 2s 13ms/step - loss: 0.0766 - accuracy: 0.9757 - val_loss: 0.6262 - val_accuracy: 0.8734\n",
      "Epoch 66/100\n",
      "125/125 [==============================] - 2s 16ms/step - loss: 0.0756 - accuracy: 0.9758 - val_loss: 0.6341 - val_accuracy: 0.8730\n",
      "Epoch 67/100\n",
      "125/125 [==============================] - 2s 14ms/step - loss: 0.0737 - accuracy: 0.9761 - val_loss: 0.6346 - val_accuracy: 0.8734\n",
      "Epoch 68/100\n",
      "125/125 [==============================] - 2s 13ms/step - loss: 0.0722 - accuracy: 0.9770 - val_loss: 0.6382 - val_accuracy: 0.8732\n",
      "Epoch 69/100\n",
      "125/125 [==============================] - 2s 16ms/step - loss: 0.0701 - accuracy: 0.9776 - val_loss: 0.6467 - val_accuracy: 0.8730\n",
      "Epoch 70/100\n",
      "125/125 [==============================] - 2s 16ms/step - loss: 0.0698 - accuracy: 0.9777 - val_loss: 0.6462 - val_accuracy: 0.8729\n",
      "Epoch 71/100\n",
      "125/125 [==============================] - 2s 12ms/step - loss: 0.0680 - accuracy: 0.9780 - val_loss: 0.6531 - val_accuracy: 0.8725\n",
      "Epoch 72/100\n",
      "125/125 [==============================] - 2s 15ms/step - loss: 0.0667 - accuracy: 0.9785 - val_loss: 0.6512 - val_accuracy: 0.8728\n",
      "Epoch 73/100\n",
      "125/125 [==============================] - 2s 16ms/step - loss: 0.0657 - accuracy: 0.9786 - val_loss: 0.6622 - val_accuracy: 0.8727\n",
      "Epoch 74/100\n",
      "125/125 [==============================] - 2s 16ms/step - loss: 0.0636 - accuracy: 0.9793 - val_loss: 0.6652 - val_accuracy: 0.8729\n",
      "Epoch 75/100\n",
      "125/125 [==============================] - 2s 14ms/step - loss: 0.0624 - accuracy: 0.9797 - val_loss: 0.6661 - val_accuracy: 0.8730\n",
      "Epoch 76/100\n",
      "125/125 [==============================] - 2s 16ms/step - loss: 0.0617 - accuracy: 0.9797 - val_loss: 0.6763 - val_accuracy: 0.8719\n",
      "Epoch 77/100\n",
      "125/125 [==============================] - 2s 14ms/step - loss: 0.0603 - accuracy: 0.9802 - val_loss: 0.6783 - val_accuracy: 0.8728\n",
      "Epoch 78/100\n",
      "125/125 [==============================] - 2s 14ms/step - loss: 0.0590 - accuracy: 0.9805 - val_loss: 0.6837 - val_accuracy: 0.8722\n",
      "Epoch 79/100\n",
      "125/125 [==============================] - 2s 16ms/step - loss: 0.0579 - accuracy: 0.9809 - val_loss: 0.6899 - val_accuracy: 0.8716\n",
      "Epoch 80/100\n",
      "125/125 [==============================] - 2s 15ms/step - loss: 0.0569 - accuracy: 0.9812 - val_loss: 0.6943 - val_accuracy: 0.8712\n",
      "Epoch 81/100\n",
      "125/125 [==============================] - 2s 14ms/step - loss: 0.0559 - accuracy: 0.9815 - val_loss: 0.6907 - val_accuracy: 0.8728\n",
      "Epoch 82/100\n",
      "125/125 [==============================] - 2s 13ms/step - loss: 0.0546 - accuracy: 0.9819 - val_loss: 0.6991 - val_accuracy: 0.8717\n",
      "Epoch 83/100\n",
      "125/125 [==============================] - 1s 12ms/step - loss: 0.0538 - accuracy: 0.9820 - val_loss: 0.7083 - val_accuracy: 0.8712\n",
      "Epoch 84/100\n",
      "125/125 [==============================] - 2s 14ms/step - loss: 0.0537 - accuracy: 0.9819 - val_loss: 0.7156 - val_accuracy: 0.8713\n",
      "Epoch 85/100\n",
      "125/125 [==============================] - 2s 13ms/step - loss: 0.0521 - accuracy: 0.9824 - val_loss: 0.7088 - val_accuracy: 0.8712\n",
      "Epoch 86/100\n",
      "125/125 [==============================] - 2s 15ms/step - loss: 0.0511 - accuracy: 0.9828 - val_loss: 0.7204 - val_accuracy: 0.8713\n",
      "Epoch 87/100\n",
      "125/125 [==============================] - 2s 16ms/step - loss: 0.0503 - accuracy: 0.9830 - val_loss: 0.7246 - val_accuracy: 0.8713\n",
      "Epoch 88/100\n",
      "125/125 [==============================] - 2s 12ms/step - loss: 0.0498 - accuracy: 0.9831 - val_loss: 0.7210 - val_accuracy: 0.8713\n",
      "Epoch 89/100\n",
      "125/125 [==============================] - 2s 14ms/step - loss: 0.0491 - accuracy: 0.9834 - val_loss: 0.7264 - val_accuracy: 0.8718\n",
      "Epoch 90/100\n",
      "125/125 [==============================] - 2s 14ms/step - loss: 0.0481 - accuracy: 0.9834 - val_loss: 0.7288 - val_accuracy: 0.8718\n",
      "Epoch 91/100\n",
      "125/125 [==============================] - 2s 14ms/step - loss: 0.0474 - accuracy: 0.9839 - val_loss: 0.7285 - val_accuracy: 0.8713\n",
      "Epoch 92/100\n",
      "125/125 [==============================] - 2s 12ms/step - loss: 0.0467 - accuracy: 0.9842 - val_loss: 0.7369 - val_accuracy: 0.8715\n",
      "Epoch 93/100\n",
      "125/125 [==============================] - 2s 16ms/step - loss: 0.0455 - accuracy: 0.9843 - val_loss: 0.7403 - val_accuracy: 0.8711\n",
      "Epoch 94/100\n",
      "125/125 [==============================] - 2s 14ms/step - loss: 0.0457 - accuracy: 0.9842 - val_loss: 0.7416 - val_accuracy: 0.8722\n",
      "Epoch 95/100\n",
      "125/125 [==============================] - 2s 13ms/step - loss: 0.0445 - accuracy: 0.9847 - val_loss: 0.7425 - val_accuracy: 0.8726\n",
      "Epoch 96/100\n",
      "125/125 [==============================] - 2s 16ms/step - loss: 0.0440 - accuracy: 0.9847 - val_loss: 0.7518 - val_accuracy: 0.8708\n",
      "Epoch 97/100\n",
      "125/125 [==============================] - 2s 16ms/step - loss: 0.0434 - accuracy: 0.9849 - val_loss: 0.7567 - val_accuracy: 0.8709\n",
      "Epoch 98/100\n",
      "125/125 [==============================] - 2s 16ms/step - loss: 0.0424 - accuracy: 0.9852 - val_loss: 0.7554 - val_accuracy: 0.8706\n",
      "Epoch 99/100\n",
      "125/125 [==============================] - 2s 15ms/step - loss: 0.0417 - accuracy: 0.9857 - val_loss: 0.7615 - val_accuracy: 0.8708\n",
      "Epoch 100/100\n",
      "125/125 [==============================] - 2s 14ms/step - loss: 0.0424 - accuracy: 0.9851 - val_loss: 0.7626 - val_accuracy: 0.8712\n"
     ]
    },
    {
     "name": "stderr",
     "output_type": "stream",
     "text": [
      "WARNING:absl:Found untraced functions such as lstm_cell_6_layer_call_fn, lstm_cell_6_layer_call_and_return_conditional_losses, lstm_cell_7_layer_call_fn, lstm_cell_7_layer_call_and_return_conditional_losses, lstm_cell_6_layer_call_fn while saving (showing 5 of 10). These functions will not be directly callable after loading.\n",
      "WARNING:absl:Found untraced functions such as lstm_cell_6_layer_call_fn, lstm_cell_6_layer_call_and_return_conditional_losses, lstm_cell_7_layer_call_fn, lstm_cell_7_layer_call_and_return_conditional_losses, lstm_cell_6_layer_call_fn while saving (showing 5 of 10). These functions will not be directly callable after loading.\n"
     ]
    },
    {
     "name": "stdout",
     "output_type": "stream",
     "text": [
      "INFO:tensorflow:Assets written to: s2s/assets\n"
     ]
    },
    {
     "name": "stderr",
     "output_type": "stream",
     "text": [
      "INFO:tensorflow:Assets written to: s2s/assets\n"
     ]
    }
   ],
   "source": [
    "model.compile(\n",
    "    optimizer = \"rmsprop\", loss = \"categorical_crossentropy\", metrics = [\"accuracy\"]\n",
    ")\n",
    "model.fit(\n",
    "    [ encoder_input_data, decoder_input_data ],\n",
    "    decoder_target_data,\n",
    "    batch_size = batch_size,\n",
    "    epochs = epochs,\n",
    "    validation_split = 0.2,\n",
    ")\n",
    "# Save model\n",
    "model.save(\"s2s\")"
   ]
  },
  {
   "cell_type": "markdown",
   "metadata": {},
   "source": [
    "## Inference"
   ]
  },
  {
   "cell_type": "code",
   "execution_count": 64,
   "metadata": {},
   "outputs": [],
   "source": [
    "# Define sampling models\n",
    "# Restore the model and construct the encoder and decoder.\n",
    "model = keras.models.load_model(\"s2s\")"
   ]
  },
  {
   "cell_type": "code",
   "execution_count": 65,
   "metadata": {},
   "outputs": [],
   "source": [
    "encoder_inputs = model.input[0]  # input_1\n",
    "encoder_outputs, state_h_enc, state_c_enc = model.layers[2].output  # lstm_1\n",
    "encoder_states = [state_h_enc, state_c_enc]\n",
    "encoder_model = keras.Model(encoder_inputs, encoder_states)\n",
    "\n",
    "decoder_inputs = model.input[1]  # input_2\n",
    "decoder_state_input_h = keras.Input(shape=(latent_dim,), name=\"input_3\")\n",
    "decoder_state_input_c = keras.Input(shape=(latent_dim,), name=\"input_4\")\n",
    "decoder_states_inputs = [decoder_state_input_h, decoder_state_input_c]\n",
    "decoder_lstm = model.layers[3]\n",
    "decoder_outputs, state_h_dec, state_c_dec = decoder_lstm(\n",
    "    decoder_inputs, initial_state=decoder_states_inputs\n",
    ")\n",
    "decoder_states = [state_h_dec, state_c_dec]\n",
    "decoder_dense = model.layers[4]\n",
    "decoder_outputs = decoder_dense(decoder_outputs)\n",
    "decoder_model = keras.Model(\n",
    "    [decoder_inputs] + decoder_states_inputs, [decoder_outputs] + decoder_states\n",
    ")\n",
    "\n",
    "# Reverse-lookup token index to decode sequences back to\n",
    "# something readable.\n",
    "reverse_input_char_index = dict((i, char) for char, i in input_token_index.items())\n",
    "reverse_target_char_index = dict((i, char) for char, i in target_token_index.items())"
   ]
  },
  {
   "cell_type": "code",
   "execution_count": 67,
   "metadata": {},
   "outputs": [],
   "source": [
    "def decode_sequence(input_seq):\n",
    "    # Encode the input as state vectors.\n",
    "    states_value = encoder_model.predict(input_seq)\n",
    "\n",
    "    # Generate empty target sequence of length 1.\n",
    "    target_seq = np.zeros((1, 1, num_decoder_tokens))\n",
    "    # Populate the first character of target sequence with the start character.\n",
    "    target_seq[0, 0, target_token_index[\"\\t\"]] = 1.0\n",
    "\n",
    "    # Sampling loop for a batch of sequences\n",
    "    # (to simplify, here we assume a batch of size 1).\n",
    "    stop_condition = False\n",
    "    decoded_sentence = \"\"\n",
    "    while not stop_condition:\n",
    "        output_tokens, h, c = decoder_model.predict([target_seq] + states_value)\n",
    "\n",
    "        # Sample a token\n",
    "        sampled_token_index = np.argmax(output_tokens[0, -1, :])\n",
    "        sampled_char = reverse_target_char_index[sampled_token_index]\n",
    "        decoded_sentence += sampled_char\n",
    "\n",
    "        # Exit condition: either hit max length\n",
    "        # or find stop character.\n",
    "        if sampled_char == \"\\n\" or len(decoded_sentence) > max_decoder_seq_length:\n",
    "            stop_condition = True\n",
    "\n",
    "        # Update the target sequence (of length 1).\n",
    "        target_seq = np.zeros((1, 1, num_decoder_tokens))\n",
    "        target_seq[0, 0, sampled_token_index] = 1.0\n",
    "\n",
    "        # Update states\n",
    "        states_value = [h, c]\n",
    "    return decoded_sentence"
   ]
  },
  {
   "cell_type": "code",
   "execution_count": 68,
   "metadata": {},
   "outputs": [
    {
     "name": "stdout",
     "output_type": "stream",
     "text": [
      "-\n",
      "Input sentence: Go.\n",
      "Decoded sentence: Bouge !\n",
      "\n",
      "-\n",
      "Input sentence: Go.\n",
      "Decoded sentence: Bouge !\n",
      "\n",
      "-\n",
      "Input sentence: Go.\n",
      "Decoded sentence: Bouge !\n",
      "\n",
      "-\n",
      "Input sentence: Hi.\n",
      "Decoded sentence: Salut.\n",
      "\n",
      "-\n",
      "Input sentence: Hi.\n",
      "Decoded sentence: Salut.\n",
      "\n",
      "-\n",
      "Input sentence: Run!\n",
      "Decoded sentence: Courez !\n",
      "\n",
      "-\n",
      "Input sentence: Run!\n",
      "Decoded sentence: Courez !\n",
      "\n",
      "-\n",
      "Input sentence: Run!\n",
      "Decoded sentence: Courez !\n",
      "\n",
      "-\n",
      "Input sentence: Run!\n",
      "Decoded sentence: Courez !\n",
      "\n",
      "-\n",
      "Input sentence: Run!\n",
      "Decoded sentence: Courez !\n",
      "\n",
      "-\n",
      "Input sentence: Run!\n",
      "Decoded sentence: Courez !\n",
      "\n",
      "-\n",
      "Input sentence: Run!\n",
      "Decoded sentence: Courez !\n",
      "\n",
      "-\n",
      "Input sentence: Run!\n",
      "Decoded sentence: Courez !\n",
      "\n",
      "-\n",
      "Input sentence: Run.\n",
      "Decoded sentence: Courez !\n",
      "\n",
      "-\n",
      "Input sentence: Run.\n",
      "Decoded sentence: Courez !\n",
      "\n",
      "-\n",
      "Input sentence: Run.\n",
      "Decoded sentence: Courez !\n",
      "\n",
      "-\n",
      "Input sentence: Run.\n",
      "Decoded sentence: Courez !\n",
      "\n",
      "-\n",
      "Input sentence: Run.\n",
      "Decoded sentence: Courez !\n",
      "\n",
      "-\n",
      "Input sentence: Run.\n",
      "Decoded sentence: Courez !\n",
      "\n",
      "-\n",
      "Input sentence: Run.\n",
      "Decoded sentence: Courez !\n",
      "\n"
     ]
    }
   ],
   "source": [
    "for seq_index in range(20):\n",
    "    # Take one sequence (part of the training set)\n",
    "    # for trying out decoding.\n",
    "    input_seq = encoder_input_data[seq_index : seq_index + 1]\n",
    "    decoded_sentence = decode_sequence(input_seq)\n",
    "    print(\"-\")\n",
    "    print(\"Input sentence:\", input_texts[seq_index])\n",
    "    print(\"Decoded sentence:\", decoded_sentence)"
   ]
  },
  {
   "cell_type": "code",
   "execution_count": null,
   "metadata": {},
   "outputs": [],
   "source": []
  },
  {
   "cell_type": "code",
   "execution_count": null,
   "metadata": {},
   "outputs": [],
   "source": []
  }
 ],
 "metadata": {
  "kernelspec": {
   "display_name": "seq2seq",
   "language": "python",
   "name": "seq2seq"
  },
  "language_info": {
   "codemirror_mode": {
    "name": "ipython",
    "version": 3
   },
   "file_extension": ".py",
   "mimetype": "text/x-python",
   "name": "python",
   "nbconvert_exporter": "python",
   "pygments_lexer": "ipython3",
   "version": "3.8.5"
  }
 },
 "nbformat": 4,
 "nbformat_minor": 2
}
