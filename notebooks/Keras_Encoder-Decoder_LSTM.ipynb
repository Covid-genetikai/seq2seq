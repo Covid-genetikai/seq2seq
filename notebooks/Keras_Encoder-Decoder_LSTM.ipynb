{
 "cells": [
  {
   "cell_type": "markdown",
   "metadata": {},
   "source": [
    "## Character-level recurrent sequence-to-sequence model"
   ]
  },
  {
   "cell_type": "markdown",
   "metadata": {},
   "source": [
    "Example from https://keras.io/examples/nlp/lstm_seq2seq/  \n",
    "Older post https://blog.keras.io/a-ten-minute-introduction-to-sequence-to-sequence-learning-in-keras.html"
   ]
  },
  {
   "cell_type": "code",
   "execution_count": 1,
   "metadata": {},
   "outputs": [],
   "source": [
    "import numpy as np\n",
    "import tensorflow as tf\n",
    "from tensorflow import keras\n",
    "from keras.callbacks import EarlyStopping"
   ]
  },
  {
   "cell_type": "code",
   "execution_count": 2,
   "metadata": {},
   "outputs": [
    {
     "data": {
      "text/plain": [
       "['Archive:  data/fra-eng.zip',\n",
       " '  inflating: data/_about.txt         ',\n",
       " '  inflating: data/fra.txt            ']"
      ]
     },
     "execution_count": 2,
     "metadata": {},
     "output_type": "execute_result"
    }
   ],
   "source": [
    "!!curl -O http://www.manythings.org/anki/fra-eng.zip\n",
    "!!mv fra-eng.zip data/fra-eng.zip\n",
    "!!unzip -o data/fra-eng.zip -d data"
   ]
  },
  {
   "cell_type": "code",
   "execution_count": 3,
   "metadata": {},
   "outputs": [],
   "source": [
    "batch_size = 64      # Batch size for training.\n",
    "epochs = 100         # Number of epochs to train for.\n",
    "latent_dim = 256     # Latent dimensionality of the encoding space.\n",
    "num_samples = 10000  # Number of samples to train on.\n",
    "\n",
    "# Path to the data txt file on disk.\n",
    "data_path = \"data/fra.txt\""
   ]
  },
  {
   "cell_type": "markdown",
   "metadata": {},
   "source": [
    "## Data prep"
   ]
  },
  {
   "cell_type": "code",
   "execution_count": 4,
   "metadata": {},
   "outputs": [],
   "source": [
    "# Vectorize the data.\n",
    "input_texts = []\n",
    "target_texts = []\n",
    "input_characters = set()\n",
    "target_characters = set()"
   ]
  },
  {
   "cell_type": "code",
   "execution_count": 5,
   "metadata": {},
   "outputs": [
    {
     "name": "stdout",
     "output_type": "stream",
     "text": [
      "Go.\tVa !\tCC-BY 2.0 (France) Attribution: tatoeba.org #2877272 (CM) & #1158250 (Wittydev)\n",
      "Go.\tMarche.\tCC-BY 2.0 (France) Attribution: tatoeba.org #2877272 (CM) & #8090732 (Micsmithel)\n",
      "Go.\tBouge !\tCC-BY 2.0 (France) Attribution: tatoeba.org #2877272 (CM) & #9022935 (Micsmithel)\n",
      "Hi.\tSalut !\tCC-BY 2.0 (France) Attribution: tatoeba.org #538123 (CM) & #509819 (Aiji)\n",
      "Hi.\tSalut.\tCC-BY 2.0 (France) Attribution: tatoeba.org #538123 (CM) & #4320462 (gillux)\n",
      "Number of lines:  185584\n"
     ]
    }
   ],
   "source": [
    "with open(data_path, \"r\", encoding=\"utf-8\") as f:\n",
    "    lines = f.read().split(\"\\n\")\n",
    "for line in lines[:5]:\n",
    "    print(line)\n",
    "print(\"Number of lines: \", len(lines))"
   ]
  },
  {
   "cell_type": "code",
   "execution_count": 6,
   "metadata": {},
   "outputs": [],
   "source": [
    "for line in lines[: min(num_samples, len(lines) - 1)]:\n",
    "    input_text, target_text, _ = line.split(\"\\t\")\n",
    "    # We use \"tab\" as the \"start sequence\" character\n",
    "    # for the targets, and \"\\n\" as \"end sequence\" character.\n",
    "    target_text = \"\\t\" + target_text + \"\\n\"\n",
    "    input_texts.append(input_text)\n",
    "    target_texts.append(target_text)\n",
    "    for char in input_text:\n",
    "        if char not in input_characters:\n",
    "            input_characters.add(char)\n",
    "    for char in target_text:\n",
    "        if char not in target_characters:\n",
    "            target_characters.add(char)"
   ]
  },
  {
   "cell_type": "code",
   "execution_count": 7,
   "metadata": {},
   "outputs": [
    {
     "name": "stdout",
     "output_type": "stream",
     "text": [
      "input_texts  10000\n",
      "target_texts 10000\n",
      "input_characters 71\n",
      "target_characters 93\n"
     ]
    }
   ],
   "source": [
    "print(\"input_texts \", len(input_texts))\n",
    "print(\"target_texts\", len(target_texts))\n",
    "print(\"input_characters\", len(input_characters))\n",
    "print(\"target_characters\", len(target_characters))"
   ]
  },
  {
   "cell_type": "code",
   "execution_count": 8,
   "metadata": {},
   "outputs": [
    {
     "name": "stdout",
     "output_type": "stream",
     "text": [
      "Number of samples: 10000\n",
      "Number of unique input tokens: 71\n",
      "Number of unique output tokens: 93\n",
      "Max sequence length for inputs: 15\n",
      "Max sequence length for outputs: 59\n"
     ]
    }
   ],
   "source": [
    "input_characters = sorted(list(input_characters))\n",
    "target_characters = sorted(list(target_characters))\n",
    "num_encoder_tokens = len(input_characters)\n",
    "num_decoder_tokens = len(target_characters)\n",
    "max_encoder_seq_length = max([len(txt) for txt in input_texts])\n",
    "max_decoder_seq_length = max([len(txt) for txt in target_texts])\n",
    "\n",
    "print(\"Number of samples:\", len(input_texts))\n",
    "print(\"Number of unique input tokens:\", num_encoder_tokens)\n",
    "print(\"Number of unique output tokens:\", num_decoder_tokens)\n",
    "print(\"Max sequence length for inputs:\", max_encoder_seq_length)\n",
    "print(\"Max sequence length for outputs:\", max_decoder_seq_length)"
   ]
  },
  {
   "cell_type": "code",
   "execution_count": 9,
   "metadata": {},
   "outputs": [
    {
     "name": "stdout",
     "output_type": "stream",
     "text": [
      "input_token_index 71\n",
      "target_token_index 93\n"
     ]
    }
   ],
   "source": [
    "input_token_index = dict([(char, i) for i, char in enumerate(input_characters)])\n",
    "target_token_index = dict([(char, i) for i, char in enumerate(target_characters)])\n",
    "print(\"input_token_index\", len(input_token_index))\n",
    "print(\"target_token_index\", len(target_token_index))"
   ]
  },
  {
   "cell_type": "code",
   "execution_count": 10,
   "metadata": {},
   "outputs": [
    {
     "name": "stdout",
     "output_type": "stream",
     "text": [
      "encoder_input_data.shape (10000, 15, 71)\n",
      "decoder_input_data.shape (10000, 59, 93)\n",
      "decoder_target_data.shape (10000, 59, 93)\n"
     ]
    }
   ],
   "source": [
    "encoder_input_data = np.zeros(\n",
    "    (len(input_texts), max_encoder_seq_length, num_encoder_tokens), dtype=\"float32\"\n",
    ")\n",
    "decoder_input_data = np.zeros(\n",
    "    (len(input_texts), max_decoder_seq_length, num_decoder_tokens), dtype=\"float32\"\n",
    ")\n",
    "decoder_target_data = np.zeros(\n",
    "    (len(input_texts), max_decoder_seq_length, num_decoder_tokens), dtype=\"float32\"\n",
    ")\n",
    "print(\"encoder_input_data.shape\", encoder_input_data.shape)\n",
    "print(\"decoder_input_data.shape\", decoder_input_data.shape)\n",
    "print(\"decoder_target_data.shape\", decoder_target_data.shape)"
   ]
  },
  {
   "cell_type": "code",
   "execution_count": 11,
   "metadata": {},
   "outputs": [],
   "source": [
    "for i, (input_text, target_text) in enumerate(zip(input_texts, target_texts)):\n",
    "    \n",
    "    for t, char in enumerate(input_text):\n",
    "        encoder_input_data[i, t, input_token_index[char]] = 1.0\n",
    "    encoder_input_data[i, t + 1 :, input_token_index[\" \"]] = 1.0\n",
    "    \n",
    "    for t, char in enumerate(target_text):\n",
    "        \n",
    "        # decoder_target_data is ahead of decoder_input_data by one timestep\n",
    "        decoder_input_data[i, t, target_token_index[char]] = 1.0\n",
    "        \n",
    "        if t > 0:\n",
    "            # decoder_target_data will be ahead by one timestep\n",
    "            # and will not include the start character.\n",
    "            decoder_target_data[i, t - 1, target_token_index[char]] = 1.0\n",
    "            \n",
    "    decoder_input_data[i, t + 1 :, target_token_index[\" \"]] = 1.0\n",
    "    decoder_target_data[i, t:, target_token_index[\" \"]] = 1.0\n",
    "    "
   ]
  },
  {
   "cell_type": "markdown",
   "metadata": {},
   "source": [
    "## Construct model"
   ]
  },
  {
   "cell_type": "code",
   "execution_count": 12,
   "metadata": {},
   "outputs": [],
   "source": [
    "# Define an input sequence and process it.\n",
    "encoder_inputs = keras.Input(shape = (None, num_encoder_tokens))\n",
    "encoder = keras.layers.LSTM(latent_dim, return_state = True)\n",
    "encoder_outputs, state_h, state_c = encoder(encoder_inputs)\n",
    "\n",
    "# We discard `encoder_outputs` and only keep the states.\n",
    "encoder_states = [state_h, state_c]\n",
    "\n",
    "# Set up the decoder, using `encoder_states` as initial state.\n",
    "decoder_inputs = keras.Input(shape = (None, num_decoder_tokens))\n",
    "\n",
    "# We set up our decoder to return full output sequences,\n",
    "# and to return internal states as well. We don't use the\n",
    "# return states in the training model, but we will use them in inference.\n",
    "decoder_lstm = keras.layers.LSTM(latent_dim, return_sequences = True, return_state = True)\n",
    "decoder_outputs, _, _ = decoder_lstm(decoder_inputs, initial_state = encoder_states)\n",
    "decoder_dense = keras.layers.Dense(num_decoder_tokens, activation = \"softmax\")\n",
    "decoder_outputs = decoder_dense(decoder_outputs)\n",
    "\n",
    "# Define the model that will turn\n",
    "# `encoder_input_data` & `decoder_input_data` into `decoder_target_data`\n",
    "model = keras.Model([encoder_inputs, decoder_inputs], decoder_outputs)"
   ]
  },
  {
   "cell_type": "code",
   "execution_count": 13,
   "metadata": {},
   "outputs": [
    {
     "name": "stdout",
     "output_type": "stream",
     "text": [
      "Model: \"model\"\n",
      "__________________________________________________________________________________________________\n",
      "Layer (type)                    Output Shape         Param #     Connected to                     \n",
      "==================================================================================================\n",
      "input_1 (InputLayer)            [(None, None, 71)]   0                                            \n",
      "__________________________________________________________________________________________________\n",
      "input_2 (InputLayer)            [(None, None, 93)]   0                                            \n",
      "__________________________________________________________________________________________________\n",
      "lstm (LSTM)                     [(None, 256), (None, 335872      input_1[0][0]                    \n",
      "__________________________________________________________________________________________________\n",
      "lstm_1 (LSTM)                   [(None, None, 256),  358400      input_2[0][0]                    \n",
      "                                                                 lstm[0][1]                       \n",
      "                                                                 lstm[0][2]                       \n",
      "__________________________________________________________________________________________________\n",
      "dense (Dense)                   (None, None, 93)     23901       lstm_1[0][0]                     \n",
      "==================================================================================================\n",
      "Total params: 718,173\n",
      "Trainable params: 718,173\n",
      "Non-trainable params: 0\n",
      "__________________________________________________________________________________________________\n"
     ]
    }
   ],
   "source": [
    "model.summary()"
   ]
  },
  {
   "cell_type": "code",
   "execution_count": 14,
   "metadata": {},
   "outputs": [
    {
     "name": "stdout",
     "output_type": "stream",
     "text": [
      "[name: \"/device:CPU:0\"\n",
      "device_type: \"CPU\"\n",
      "memory_limit: 268435456\n",
      "locality {\n",
      "}\n",
      "incarnation: 11784492424940117722\n",
      ", name: \"/device:GPU:0\"\n",
      "device_type: \"GPU\"\n",
      "memory_limit: 7620518240\n",
      "locality {\n",
      "  bus_id: 1\n",
      "  links {\n",
      "    link {\n",
      "      device_id: 1\n",
      "      type: \"StreamExecutor\"\n",
      "      strength: 1\n",
      "    }\n",
      "  }\n",
      "}\n",
      "incarnation: 9072037145702411861\n",
      "physical_device_desc: \"device: 0, name: GeForce GTX 1080, pci bus id: 0000:01:00.0, compute capability: 6.1\"\n",
      ", name: \"/device:GPU:1\"\n",
      "device_type: \"GPU\"\n",
      "memory_limit: 7775883104\n",
      "locality {\n",
      "  bus_id: 1\n",
      "  links {\n",
      "    link {\n",
      "      type: \"StreamExecutor\"\n",
      "      strength: 1\n",
      "    }\n",
      "  }\n",
      "}\n",
      "incarnation: 7559528275057294042\n",
      "physical_device_desc: \"device: 1, name: GeForce GTX 1080, pci bus id: 0000:02:00.0, compute capability: 6.1\"\n",
      "]\n"
     ]
    }
   ],
   "source": [
    "from tensorflow.python.client import device_lib\n",
    "print(device_lib.list_local_devices())"
   ]
  },
  {
   "cell_type": "markdown",
   "metadata": {},
   "source": [
    "## Train model"
   ]
  },
  {
   "cell_type": "code",
   "execution_count": 15,
   "metadata": {
    "scrolled": false
   },
   "outputs": [
    {
     "name": "stdout",
     "output_type": "stream",
     "text": [
      "Epoch 1/100\n",
      "125/125 [==============================] - 4s 15ms/step - loss: 1.4802 - accuracy: 0.7059 - val_loss: 1.0734 - val_accuracy: 0.7099\n",
      "Epoch 2/100\n",
      "125/125 [==============================] - 2s 12ms/step - loss: 0.8645 - accuracy: 0.7661 - val_loss: 0.8180 - val_accuracy: 0.7717\n",
      "Epoch 3/100\n",
      "125/125 [==============================] - 2s 12ms/step - loss: 0.6971 - accuracy: 0.8064 - val_loss: 0.6937 - val_accuracy: 0.7998\n",
      "Epoch 4/100\n",
      "125/125 [==============================] - 2s 12ms/step - loss: 0.5839 - accuracy: 0.8309 - val_loss: 0.6336 - val_accuracy: 0.8145\n",
      "Epoch 5/100\n",
      "125/125 [==============================] - 2s 15ms/step - loss: 0.5330 - accuracy: 0.8449 - val_loss: 0.5904 - val_accuracy: 0.8259\n",
      "Epoch 6/100\n",
      "125/125 [==============================] - 2s 16ms/step - loss: 0.4981 - accuracy: 0.8542 - val_loss: 0.5657 - val_accuracy: 0.8352\n",
      "Epoch 7/100\n",
      "125/125 [==============================] - 2s 16ms/step - loss: 0.4717 - accuracy: 0.8606 - val_loss: 0.5421 - val_accuracy: 0.8406\n",
      "Epoch 8/100\n",
      "125/125 [==============================] - 2s 15ms/step - loss: 0.4455 - accuracy: 0.8681 - val_loss: 0.5220 - val_accuracy: 0.8452\n",
      "Epoch 9/100\n",
      "125/125 [==============================] - 1s 12ms/step - loss: 0.4233 - accuracy: 0.8738 - val_loss: 0.5127 - val_accuracy: 0.8481\n",
      "Epoch 10/100\n",
      "125/125 [==============================] - 2s 12ms/step - loss: 0.4083 - accuracy: 0.8778 - val_loss: 0.5013 - val_accuracy: 0.8518\n",
      "Epoch 11/100\n",
      "125/125 [==============================] - 2s 16ms/step - loss: 0.3867 - accuracy: 0.8839 - val_loss: 0.4841 - val_accuracy: 0.8573\n",
      "Epoch 12/100\n",
      "125/125 [==============================] - 2s 12ms/step - loss: 0.3752 - accuracy: 0.8870 - val_loss: 0.4749 - val_accuracy: 0.8598\n",
      "Epoch 13/100\n",
      "125/125 [==============================] - 2s 16ms/step - loss: 0.3578 - accuracy: 0.8922 - val_loss: 0.4677 - val_accuracy: 0.8616\n",
      "Epoch 14/100\n",
      "125/125 [==============================] - 1s 12ms/step - loss: 0.3398 - accuracy: 0.8974 - val_loss: 0.4634 - val_accuracy: 0.8644\n",
      "Epoch 15/100\n",
      "125/125 [==============================] - 2s 13ms/step - loss: 0.3324 - accuracy: 0.9001 - val_loss: 0.4588 - val_accuracy: 0.8652\n",
      "Epoch 16/100\n",
      "125/125 [==============================] - 2s 15ms/step - loss: 0.3199 - accuracy: 0.9037 - val_loss: 0.4537 - val_accuracy: 0.8686\n",
      "Epoch 17/100\n",
      "125/125 [==============================] - 1s 11ms/step - loss: 0.3087 - accuracy: 0.9075 - val_loss: 0.4519 - val_accuracy: 0.8682\n",
      "Epoch 18/100\n",
      "125/125 [==============================] - 2s 16ms/step - loss: 0.2970 - accuracy: 0.9106 - val_loss: 0.4520 - val_accuracy: 0.8690\n",
      "Epoch 19/100\n",
      "125/125 [==============================] - 2s 15ms/step - loss: 0.2844 - accuracy: 0.9145 - val_loss: 0.4472 - val_accuracy: 0.8706\n",
      "Epoch 20/100\n",
      "125/125 [==============================] - 2s 14ms/step - loss: 0.2760 - accuracy: 0.9164 - val_loss: 0.4482 - val_accuracy: 0.8708\n",
      "Epoch 21/100\n",
      "125/125 [==============================] - 2s 17ms/step - loss: 0.2648 - accuracy: 0.9198 - val_loss: 0.4483 - val_accuracy: 0.8722\n",
      "Epoch 22/100\n",
      "125/125 [==============================] - 2s 15ms/step - loss: 0.2563 - accuracy: 0.9224 - val_loss: 0.4443 - val_accuracy: 0.8736\n",
      "Epoch 23/100\n",
      "125/125 [==============================] - 2s 12ms/step - loss: 0.2507 - accuracy: 0.9243 - val_loss: 0.4489 - val_accuracy: 0.8725\n",
      "Epoch 24/100\n",
      "125/125 [==============================] - 2s 16ms/step - loss: 0.2382 - accuracy: 0.9282 - val_loss: 0.4457 - val_accuracy: 0.8738\n",
      "Epoch 25/100\n",
      "125/125 [==============================] - 2s 16ms/step - loss: 0.2314 - accuracy: 0.9302 - val_loss: 0.4515 - val_accuracy: 0.8738\n",
      "Epoch 26/100\n",
      "125/125 [==============================] - 2s 14ms/step - loss: 0.2245 - accuracy: 0.9322 - val_loss: 0.4468 - val_accuracy: 0.8753\n",
      "Epoch 27/100\n",
      "125/125 [==============================] - 2s 16ms/step - loss: 0.2166 - accuracy: 0.9342 - val_loss: 0.4549 - val_accuracy: 0.8748\n",
      "Epoch 28/100\n",
      "125/125 [==============================] - 2s 15ms/step - loss: 0.2089 - accuracy: 0.9368 - val_loss: 0.4540 - val_accuracy: 0.8745\n",
      "Epoch 29/100\n",
      "125/125 [==============================] - 2s 15ms/step - loss: 0.2030 - accuracy: 0.9387 - val_loss: 0.4572 - val_accuracy: 0.8748\n",
      "Epoch 30/100\n",
      "125/125 [==============================] - 2s 17ms/step - loss: 0.1979 - accuracy: 0.9403 - val_loss: 0.4656 - val_accuracy: 0.8748\n",
      "Epoch 31/100\n",
      "125/125 [==============================] - 2s 16ms/step - loss: 0.1896 - accuracy: 0.9426 - val_loss: 0.4619 - val_accuracy: 0.8744\n",
      "Epoch 32/100\n",
      "125/125 [==============================] - 2s 16ms/step - loss: 0.1842 - accuracy: 0.9440 - val_loss: 0.4649 - val_accuracy: 0.8745\n",
      "Restoring model weights from the end of the best epoch.\n",
      "Epoch 00032: early stopping\n"
     ]
    }
   ],
   "source": [
    "model.compile(\n",
    "    optimizer = \"rmsprop\", loss = \"categorical_crossentropy\", metrics = [\"accuracy\"]\n",
    ")\n",
    "\n",
    "es = EarlyStopping(monitor='val_loss', min_delta = 0, patience = 10, verbose = 1, restore_best_weights = True)\n",
    "\n",
    "log = model.fit(\n",
    "    [ encoder_input_data, decoder_input_data ],\n",
    "    decoder_target_data,\n",
    "    batch_size = batch_size,\n",
    "    epochs = epochs,\n",
    "    callbacks = [ es ],\n",
    "    validation_split = 0.2,\n",
    ")"
   ]
  },
  {
   "cell_type": "code",
   "execution_count": 16,
   "metadata": {},
   "outputs": [
    {
     "name": "stderr",
     "output_type": "stream",
     "text": [
      "WARNING:absl:Found untraced functions such as lstm_cell_layer_call_fn, lstm_cell_layer_call_and_return_conditional_losses, lstm_cell_1_layer_call_fn, lstm_cell_1_layer_call_and_return_conditional_losses, lstm_cell_layer_call_fn while saving (showing 5 of 10). These functions will not be directly callable after loading.\n",
      "WARNING:absl:Found untraced functions such as lstm_cell_layer_call_fn, lstm_cell_layer_call_and_return_conditional_losses, lstm_cell_1_layer_call_fn, lstm_cell_1_layer_call_and_return_conditional_losses, lstm_cell_layer_call_fn while saving (showing 5 of 10). These functions will not be directly callable after loading.\n"
     ]
    },
    {
     "name": "stdout",
     "output_type": "stream",
     "text": [
      "INFO:tensorflow:Assets written to: s2s/assets\n"
     ]
    },
    {
     "name": "stderr",
     "output_type": "stream",
     "text": [
      "INFO:tensorflow:Assets written to: s2s/assets\n"
     ]
    }
   ],
   "source": [
    "import matplotlib.pyplot as plt\n",
    "\n",
    "%matplotlib inline\n",
    "plt.rcParams['figure.figsize'] = (16, 8)\n",
    "\n",
    "# Save model\n",
    "model.save(\"s2s\")"
   ]
  },
  {
   "cell_type": "code",
   "execution_count": 17,
   "metadata": {},
   "outputs": [
    {
     "data": {
      "image/png": "[encoded data removed]",
      "text/plain": [
       "<Figure size 1152x576 with 2 Axes>"
      ]
     },
     "metadata": {
      "needs_background": "light"
     },
     "output_type": "display_data"
    }
   ],
   "source": [
    "plt.plot(log.history['accuracy'], label = 'mokymo')\n",
    "plt.plot(log.history['val_accuracy'], label = 'validavimo')\n",
    "plt.ylabel('tikslumas')\n",
    "plt.xlabel('epocha')\n",
    "plt.legend(loc='right') #['mokymo', 'testavimo'])\n",
    "\n",
    "ax2 = plt.twinx()\n",
    "ax2.plot(log.history['loss'], '--', label = 'mokymo')\n",
    "ax2.plot(log.history['val_loss'], '--', label = 'validavimo')\n",
    "ax2.set_ylabel('netektis')\n",
    "#plt.title('model accuracy')\n",
    "plt.show()"
   ]
  },
  {
   "cell_type": "markdown",
   "metadata": {},
   "source": [
    "## Inference"
   ]
  },
  {
   "cell_type": "code",
   "execution_count": 18,
   "metadata": {},
   "outputs": [],
   "source": [
    "# Define sampling models\n",
    "# Restore the model and construct the encoder and decoder.\n",
    "model = keras.models.load_model(\"s2s\")"
   ]
  },
  {
   "cell_type": "code",
   "execution_count": 19,
   "metadata": {},
   "outputs": [],
   "source": [
    "encoder_inputs = model.input[0]  # input_1\n",
    "encoder_outputs, state_h_enc, state_c_enc = model.layers[2].output  # lstm_1\n",
    "encoder_states = [state_h_enc, state_c_enc]\n",
    "encoder_model = keras.Model(encoder_inputs, encoder_states)\n",
    "\n",
    "decoder_inputs = model.input[1]  # input_2\n",
    "decoder_state_input_h = keras.Input(shape=(latent_dim,), name=\"input_3\")\n",
    "decoder_state_input_c = keras.Input(shape=(latent_dim,), name=\"input_4\")\n",
    "decoder_states_inputs = [decoder_state_input_h, decoder_state_input_c]\n",
    "decoder_lstm = model.layers[3]\n",
    "decoder_outputs, state_h_dec, state_c_dec = decoder_lstm(\n",
    "    decoder_inputs, initial_state=decoder_states_inputs\n",
    ")\n",
    "decoder_states = [state_h_dec, state_c_dec]\n",
    "decoder_dense = model.layers[4]\n",
    "decoder_outputs = decoder_dense(decoder_outputs)\n",
    "decoder_model = keras.Model(\n",
    "    [decoder_inputs] + decoder_states_inputs, [decoder_outputs] + decoder_states\n",
    ")\n",
    "\n",
    "# Reverse-lookup token index to decode sequences back to\n",
    "# something readable.\n",
    "reverse_input_char_index = dict((i, char) for char, i in input_token_index.items())\n",
    "reverse_target_char_index = dict((i, char) for char, i in target_token_index.items())"
   ]
  },
  {
   "cell_type": "code",
   "execution_count": 20,
   "metadata": {},
   "outputs": [],
   "source": [
    "def decode_sequence(input_seq):\n",
    "    # Encode the input as state vectors.\n",
    "    states_value = encoder_model.predict(input_seq)\n",
    "\n",
    "    # Generate empty target sequence of length 1.\n",
    "    target_seq = np.zeros((1, 1, num_decoder_tokens))\n",
    "    # Populate the first character of target sequence with the start character.\n",
    "    target_seq[0, 0, target_token_index[\"\\t\"]] = 1.0\n",
    "\n",
    "    # Sampling loop for a batch of sequences\n",
    "    # (to simplify, here we assume a batch of size 1).\n",
    "    stop_condition = False\n",
    "    decoded_sentence = \"\"\n",
    "    while not stop_condition:\n",
    "        output_tokens, h, c = decoder_model.predict([target_seq] + states_value)\n",
    "\n",
    "        # Sample a token\n",
    "        sampled_token_index = np.argmax(output_tokens[0, -1, :])\n",
    "        sampled_char = reverse_target_char_index[sampled_token_index]\n",
    "        decoded_sentence += sampled_char\n",
    "\n",
    "        # Exit condition: either hit max length\n",
    "        # or find stop character.\n",
    "        if sampled_char == \"\\n\" or len(decoded_sentence) > max_decoder_seq_length:\n",
    "            stop_condition = True\n",
    "\n",
    "        # Update the target sequence (of length 1).\n",
    "        target_seq = np.zeros((1, 1, num_decoder_tokens))\n",
    "        target_seq[0, 0, sampled_token_index] = 1.0\n",
    "\n",
    "        # Update states\n",
    "        states_value = [h, c]\n",
    "    return decoded_sentence"
   ]
  },
  {
   "cell_type": "code",
   "execution_count": 21,
   "metadata": {},
   "outputs": [
    {
     "name": "stdout",
     "output_type": "stream",
     "text": [
      "-\n",
      "Input sentence: Go.\n",
      "Decoded sentence: Poursuis !\n",
      "\n",
      "-\n",
      "Input sentence: Go.\n",
      "Decoded sentence: Poursuis !\n",
      "\n",
      "-\n",
      "Input sentence: Go.\n",
      "Decoded sentence: Poursuis !\n",
      "\n",
      "-\n",
      "Input sentence: Hi.\n",
      "Decoded sentence: Attends-toi.\n",
      "\n",
      "-\n",
      "Input sentence: Hi.\n",
      "Decoded sentence: Attends-toi.\n",
      "\n",
      "-\n",
      "Input sentence: Run!\n",
      "Decoded sentence: Fais !\n",
      "\n",
      "-\n",
      "Input sentence: Run!\n",
      "Decoded sentence: Fais !\n",
      "\n",
      "-\n",
      "Input sentence: Run!\n",
      "Decoded sentence: Fais !\n",
      "\n",
      "-\n",
      "Input sentence: Run!\n",
      "Decoded sentence: Fais !\n",
      "\n",
      "-\n",
      "Input sentence: Run!\n",
      "Decoded sentence: Fais !\n",
      "\n",
      "-\n",
      "Input sentence: Run!\n",
      "Decoded sentence: Fais !\n",
      "\n",
      "-\n",
      "Input sentence: Run!\n",
      "Decoded sentence: Fais !\n",
      "\n",
      "-\n",
      "Input sentence: Run!\n",
      "Decoded sentence: Fais !\n",
      "\n",
      "-\n",
      "Input sentence: Run.\n",
      "Decoded sentence: Fais stant !\n",
      "\n",
      "-\n",
      "Input sentence: Run.\n",
      "Decoded sentence: Fais stant !\n",
      "\n",
      "-\n",
      "Input sentence: Run.\n",
      "Decoded sentence: Fais stant !\n",
      "\n",
      "-\n",
      "Input sentence: Run.\n",
      "Decoded sentence: Fais stant !\n",
      "\n",
      "-\n",
      "Input sentence: Run.\n",
      "Decoded sentence: Fais stant !\n",
      "\n",
      "-\n",
      "Input sentence: Run.\n",
      "Decoded sentence: Fais stant !\n",
      "\n",
      "-\n",
      "Input sentence: Run.\n",
      "Decoded sentence: Fais stant !\n",
      "\n"
     ]
    }
   ],
   "source": [
    "for seq_index in range(20):\n",
    "    # Take one sequence (part of the training set)\n",
    "    # for trying out decoding.\n",
    "    input_seq = encoder_input_data[seq_index : seq_index + 1]\n",
    "    decoded_sentence = decode_sequence(input_seq)\n",
    "    print(\"-\")\n",
    "    print(\"Input sentence:\", input_texts[seq_index])\n",
    "    print(\"Decoded sentence:\", decoded_sentence)"
   ]
  },
  {
   "cell_type": "code",
   "execution_count": null,
   "metadata": {},
   "outputs": [],
   "source": []
  }
 ],
 "metadata": {
  "kernelspec": {
   "display_name": "seq2seq",
   "language": "python",
   "name": "seq2seq"
  },
  "language_info": {
   "codemirror_mode": {
    "name": "ipython",
    "version": 3
   },
   "file_extension": ".py",
   "mimetype": "text/x-python",
   "name": "python",
   "nbconvert_exporter": "python",
   "pygments_lexer": "ipython3",
   "version": "3.8.5"
  }
 },
 "nbformat": 4,
 "nbformat_minor": 2
}
