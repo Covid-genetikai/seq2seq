{
 "cells": [
  {
   "cell_type": "markdown",
   "metadata": {},
   "source": [
    "## Character-level feed-forward sequence-to-sequence model"
   ]
  },
  {
   "cell_type": "code",
   "execution_count": 1,
   "metadata": {
    "ExecuteTime": {
     "end_time": "2021-04-25T12:55:38.244466Z",
     "start_time": "2021-04-25T12:55:38.237634Z"
    }
   },
   "outputs": [],
   "source": [
    "import numpy as np\n",
    "import pandas as pd\n",
    "from itertools import chain\n",
    "import tensorflow as tf\n",
    "from tensorflow import keras\n",
    "from tensorflow.keras.callbacks import EarlyStopping\n",
    "from keras.layers import Dense, Dropout\n",
    "from keras import Sequential, optimizers\n",
    "from sklearn.preprocessing import MinMaxScaler\n",
    "from sklearn.metrics import accuracy_score\n",
    "\n",
    "import matplotlib.pyplot as plt\n",
    "\n",
    "%matplotlib inline\n",
    "plt.rcParams['figure.figsize'] = (16, 8)"
   ]
  },
  {
   "cell_type": "code",
   "execution_count": 2,
   "metadata": {
    "ExecuteTime": {
     "end_time": "2021-04-25T12:35:23.829688Z",
     "start_time": "2021-04-25T12:35:23.645571Z"
    }
   },
   "outputs": [],
   "source": [
    "pairs = pd.read_csv(\"data/ncbi_02/RAxML/pairs.csv\")\n",
    "sgenes = pd.read_csv(\"data/ncbi_02/ncbi_sgene_good_unique_aligned_cleaned.csv\")"
   ]
  },
  {
   "cell_type": "code",
   "execution_count": 3,
   "metadata": {
    "ExecuteTime": {
     "end_time": "2021-04-25T12:57:25.528455Z",
     "start_time": "2021-04-25T12:57:25.519843Z"
    }
   },
   "outputs": [
    {
     "name": "stdout",
     "output_type": "stream",
     "text": [
      "[name: \"/device:CPU:0\"\n",
      "device_type: \"CPU\"\n",
      "memory_limit: 268435456\n",
      "locality {\n",
      "}\n",
      "incarnation: 12744100742839663447\n",
      ", name: \"/device:GPU:0\"\n",
      "device_type: \"GPU\"\n",
      "memory_limit: 7025983488\n",
      "locality {\n",
      "  bus_id: 1\n",
      "  links {\n",
      "    link {\n",
      "      device_id: 1\n",
      "      type: \"StreamExecutor\"\n",
      "      strength: 1\n",
      "    }\n",
      "  }\n",
      "}\n",
      "incarnation: 4961111131365225367\n",
      "physical_device_desc: \"device: 0, name: NVIDIA GeForce GTX 1080, pci bus id: 0000:01:00.0, compute capability: 6.1\"\n",
      ", name: \"/device:GPU:1\"\n",
      "device_type: \"GPU\"\n",
      "memory_limit: 7739539456\n",
      "locality {\n",
      "  bus_id: 1\n",
      "  links {\n",
      "    link {\n",
      "      type: \"StreamExecutor\"\n",
      "      strength: 1\n",
      "    }\n",
      "  }\n",
      "}\n",
      "incarnation: 483087248850680332\n",
      "physical_device_desc: \"device: 1, name: NVIDIA GeForce GTX 1080, pci bus id: 0000:02:00.0, compute capability: 6.1\"\n",
      "]\n"
     ]
    }
   ],
   "source": [
    "from tensorflow.python.client import device_lib\n",
    "print(device_lib.list_local_devices())"
   ]
  },
  {
   "cell_type": "markdown",
   "metadata": {},
   "source": [
    "## Data prep"
   ]
  },
  {
   "cell_type": "code",
   "execution_count": 4,
   "metadata": {
    "ExecuteTime": {
     "end_time": "2021-04-25T12:37:29.776084Z",
     "start_time": "2021-04-25T12:37:29.768320Z"
    }
   },
   "outputs": [],
   "source": [
    "num_pairs = 100      # Number of samples to train on.\n",
    "num_pairs = len(pairs)"
   ]
  },
  {
   "cell_type": "code",
   "execution_count": 5,
   "metadata": {
    "ExecuteTime": {
     "end_time": "2021-04-25T12:55:33.473167Z",
     "start_time": "2021-04-25T12:55:33.469618Z"
    }
   },
   "outputs": [],
   "source": [
    "# Vectorize the data.\n",
    "input_texts = []\n",
    "target_texts = []\n",
    "input_characters = set()\n",
    "target_characters = set()"
   ]
  },
  {
   "cell_type": "code",
   "execution_count": 6,
   "metadata": {
    "ExecuteTime": {
     "end_time": "2021-04-25T12:55:39.954535Z",
     "start_time": "2021-04-25T12:55:39.803811Z"
    }
   },
   "outputs": [],
   "source": [
    "for index, pair in pairs.iterrows():\n",
    "    \n",
    "    if index == num_pairs:\n",
    "        break\n",
    "    \n",
    "    parent_sgene = sgenes[sgenes[\"accession\"]==pair[\"parent\"]][\"sgene_nucleotide\"].values[0]\n",
    "    child_sgene = sgenes[sgenes[\"accession\"]==pair[\"child\"]][\"sgene_nucleotide\"].values[0]\n",
    "    \n",
    "    input_texts.append(parent_sgene)\n",
    "    target_texts.append(child_sgene)\n",
    "\n",
    "input_characters = set(chain.from_iterable(input_texts))\n",
    "target_characters = set(chain.from_iterable(target_texts))"
   ]
  },
  {
   "cell_type": "code",
   "execution_count": 7,
   "metadata": {
    "ExecuteTime": {
     "end_time": "2021-04-25T12:56:04.610442Z",
     "start_time": "2021-04-25T12:56:04.598008Z"
    }
   },
   "outputs": [
    {
     "name": "stdout",
     "output_type": "stream",
     "text": [
      "input_texts  4368\n",
      "target_texts 4368\n",
      "input_characters 4 {'A', 'T', 'G', 'C'}\n",
      "target_characters 4 {'A', 'T', 'G', 'C'}\n"
     ]
    }
   ],
   "source": [
    "print(\"input_texts \", len(input_texts))\n",
    "print(\"target_texts\", len(target_texts))\n",
    "print(\"input_characters\", len(input_characters), input_characters)\n",
    "print(\"target_characters\", len(target_characters), target_characters)"
   ]
  },
  {
   "cell_type": "code",
   "execution_count": 8,
   "metadata": {
    "ExecuteTime": {
     "end_time": "2021-04-25T12:56:14.861645Z",
     "start_time": "2021-04-25T12:56:14.842728Z"
    }
   },
   "outputs": [
    {
     "name": "stdout",
     "output_type": "stream",
     "text": [
      "Number of samples: 4368\n",
      "Number of unique input tokens: 4\n",
      "Number of unique output tokens: 4\n",
      "Max sequence length for inputs: 3822\n",
      "Max sequence length for outputs: 3822\n"
     ]
    }
   ],
   "source": [
    "input_characters = sorted(list(input_characters))\n",
    "target_characters = sorted(list(target_characters))\n",
    "num_encoder_tokens = len(input_characters)\n",
    "num_decoder_tokens = len(target_characters)\n",
    "max_encoder_seq_length = max([len(txt) for txt in input_texts])\n",
    "max_decoder_seq_length = max([len(txt) for txt in target_texts])\n",
    "\n",
    "print(\"Number of samples:\", len(input_texts))\n",
    "print(\"Number of unique input tokens:\", num_encoder_tokens)\n",
    "print(\"Number of unique output tokens:\", num_decoder_tokens)\n",
    "print(\"Max sequence length for inputs:\", max_encoder_seq_length)\n",
    "print(\"Max sequence length for outputs:\", max_decoder_seq_length)"
   ]
  },
  {
   "cell_type": "code",
   "execution_count": 9,
   "metadata": {
    "ExecuteTime": {
     "end_time": "2021-04-25T12:56:25.784425Z",
     "start_time": "2021-04-25T12:56:25.780950Z"
    }
   },
   "outputs": [
    {
     "name": "stdout",
     "output_type": "stream",
     "text": [
      "input_token_index 4 {'A': 0, 'C': 1, 'G': 2, 'T': 3}\n",
      "target_token_index 4 {'A': 0, 'C': 1, 'G': 2, 'T': 3}\n"
     ]
    }
   ],
   "source": [
    "input_token_index = dict([(char, i) for i, char in enumerate(input_characters)])\n",
    "target_token_index = dict([(char, i) for i, char in enumerate(target_characters)])\n",
    "print(\"input_token_index\", len(input_token_index), input_token_index)\n",
    "print(\"target_token_index\", len(target_token_index), target_token_index)"
   ]
  },
  {
   "cell_type": "code",
   "execution_count": 10,
   "metadata": {
    "ExecuteTime": {
     "end_time": "2021-04-25T12:56:28.537863Z",
     "start_time": "2021-04-25T12:56:28.525583Z"
    }
   },
   "outputs": [
    {
     "name": "stdout",
     "output_type": "stream",
     "text": [
      "X.shape (4368, 3822)\n",
      "Y.shape (4368, 3822)\n"
     ]
    }
   ],
   "source": [
    "X = np.zeros(\n",
    "    (len(input_texts), max_encoder_seq_length), dtype=\"float32\"\n",
    ")\n",
    "Y = np.zeros(\n",
    "    (len(input_texts), max_decoder_seq_length), dtype=\"float32\"\n",
    ")\n",
    "\n",
    "print(\"X.shape\", X.shape)\n",
    "print(\"Y.shape\", Y.shape)"
   ]
  },
  {
   "cell_type": "code",
   "execution_count": 11,
   "metadata": {
    "ExecuteTime": {
     "end_time": "2021-04-25T12:57:16.488106Z",
     "start_time": "2021-04-25T12:57:15.892410Z"
    }
   },
   "outputs": [],
   "source": [
    "for i, (input_text, target_text) in enumerate(zip(input_texts, target_texts)):\n",
    "    \n",
    "    for t, char in enumerate(input_text):\n",
    "        X[i, t] = input_token_index[char] * 1.0\n",
    "    \n",
    "    for t, char in enumerate(target_text):\n",
    "        Y[i, t] = target_token_index[char] * 1.0\n",
    "        "
   ]
  },
  {
   "cell_type": "code",
   "execution_count": 12,
   "metadata": {},
   "outputs": [],
   "source": [
    "X_std = (X - np.min(X)) / (np.max(X) - np.min(X))\n",
    "Y_std = (Y - np.min(Y)) / (np.max(Y) - np.min(Y))"
   ]
  },
  {
   "cell_type": "code",
   "execution_count": 13,
   "metadata": {},
   "outputs": [
    {
     "data": {
      "text/plain": [
       "'ATGTTTGTTTTTCTTGTTTTATTGCCACTAGTCTCTAGTCAGTGTGTTAATCTTACAACCAGAACTCAATTACCCCCTGCATACACTAATTCTTTCACACGTGGTGTTTATTACCCTGACAAAGTTTTCAGATCCTCAGTTTTACATTCAACTCAGGACTTGTTCTTACCTTTCTTTTCCAATGTTACTTGGTTCCATGCTATACATGTCTCTGGGACCAATGGTACTAAGAGGTTTGATAACCCTGTCCTACCATTTAATGATGGTGTTTATTTTGCTTCCACTGAGAAGTCTAACATAATAAGAGGCTGGATTTTTGGTACTACTTTAGATTCGAAGACCCAGTCCCTACTTATTGTTAATAACGCTACTAATGTTGTTATTAAAGTCTGTGAATTTCAATTTTGTAATGATCCATTTTTGGGTGTTTATTACCACAAAAACAACAAAAGTTGGATGGAAAGTGAGTTCAGAGTTTATTCTAGTGCGAATAATTGCACTTTTGAATATGTCTCTCAGCCTTTTCTTATGGACCTTGAAGGAAAACAGGGTAATTTCAAAAATCTTAGGGAATTTGTGTTTAAGAATATTGATGGTTATTTTAAAATATATTCTAAGCACACGCCTATTAATTTAGTGCGTGATCTCCCTCAGGGTTTTTCGGCTTTAGAACCATTGGTAGATTTGCCAATAGGTATTAACATCACTAGGTTTCAAACTTTACTTGCTTTACATAGAAGTTATTTGACTCCTGGTGATTCTTCTTCAGGTTGGACAGCTGGTGCTGCAGCTTATTATGTGGGTTATCTTCAACCTAGGACTTTTCTATTAAAATATAATGAAAATGGAACCATTACAGATGCTGTAGACTGTGCACTTGACCCTCTCTCAGAAACAAAGTGTACGTTGAAATCCTTCACTGTAGAAAAAGGAATCTATCAAACTTCTAACTTTAGAGTCCAACCAACAGAATCTATTGTTAGATTTCCTAATATTACAAACTTGTGCCCTTTTGGTGAAGTTTTTAACGCCACCAGATTTGCATCTGTTTATGCTTGGAACAGGAAGAGAATCAGCAACTGTGTTGCTGATTATTCTGTCCTATATAATTCCGCATCATTTTCCACTTTTAAGTGTTATGGAGTGTCTCCTACTAAATTAAATGATCTCTGCTTTACTAATGTCTATGCAGATTCATTTGTAATTAGAGGTGATGAAGTCAGACAAATCGCTCCAGGGCAAACTGGAAAGATTGCTGATTATAATTATAAATTACCAGATGATTTTACAGGCTGCGTTATAGCTTGGAATTCTAACAATCTTGATTCTAAGGTTGGTGGTAATTATAATTACCTGTATAGATTGTTTAGGAAGTCTAATCTCAAACCTTTTGAGAGAGATATTTCAACTGAAATCTATCAGGCCGGTAGCACACCTTGTAATGGTGTTGAAGGTTTTAATTGTTACTTTCCTTTACAATCATATGGTTTCCAACCCACTAATGGTGTTGGTTACCAACCATACAGAGTAGTAGTACTTTCTTTTGAACTTCTACATGCACCAGCAACTGTTTGTGGACCTAAAAAGTCTACTAATTTGGTTAAAAACAAATGTGTCAATTTCAACTTCAATGGTTTAACAGGCACAGGTGTTCTTACTGAGTCTAACAAAAAGTTTCTGCCTTTCCAACAATTTGGCAGAGACATTGCTGACACTACTGATGCTGTCCGTGATCCACAGACACTTGAGATTCTTGACATTACACCATGTTCTTTTGGTGGTGTCAGTGTTATAACACCAGGAACAAATACTTCTAACCAGGTTGCTGTTCTTTATCAGGATGTTAACTGCACAGAAGTCCCTGTTGCTATTCATGCAGATCAACTTACTCCTACTTGGCGTGTTTATTCTACAGGTTCTAATGTTTTTCAAACACGTGCAGGCTGTTTAATAGGGGCTGAACATGTCAACAACTCATATGAGTGTGACATACCCATTGGTGCAGGTATATGCGCTAGTTATCAGACTCAGACTAATTCTCCTCGGCGGGCACGTAGTGTAGCTAGTCAATCCATCATTGCCTACACTATGTCACTTGGTGCAGAAAATTCAGTTGCTTACTCTAATAACTCTATTGCCATACCCACAAATTTTACTATTAGTGTTACCACAGAAATTCTACCAGTGTCTATGACCAAGACATCAGTAGATTGTACAATGTACATTTGTGGTGATTCAACTGAATGCAGCAATCTTTTGTTGCAATATGGCAGTTTTTGTACACAATTAAACCGTGCTTTAACTGGAATAGCTGTTGAACAAGACAAAAACACCCAAGAAGTTTTTGCACAAGTCAAACAAATTTACAAAACACCACCAATTAAAGATTTTGGTGGTTTTAATTTTTCACAAATATTACCAGATCCATCAAAACCAAGCAAGAGGTCATTTATTGAAGATCTACTTTTCAACAAAGTGACACTTGCAGATGCTGGCTTCATCAAACAATATGGTGATTGCCTTGGTGATATTGCTGCTAGAGACCTCATTTGTGCACAAAAGTTTAACGGCCTTACTGTTTTGCCACCTTTGCTCACAGATGAAATGATTGCTCAATACACTTCTGCACTGTTAGCGGGTACAATCACTTCTGGTTGGACCTTTGGTGCAGGTGCTGCATTACAAATACCATTTGCTATGCAAATGGCTTATAGGTTTAATGGTATTGGAGTTACACAGAATGTTCTCTATGAGAACCAAAAATTGATTGCCAACCAATTTAATAGTGCTATTGGCAAAATTCAAGACTCACTTTCTTCCACAGCAAGTGCACTTGGAAAACTTCAAGATGTGGTCAACCAAAATGCACAAGCTTTAAACACGCTTGTTAAACAACTTAGCTCCAATTTTGGTGCAATTTCAAGTGTTTTAAATGATATCCTTTCACGTCTTGACAAAGTTGAGGCTGAAGTGCAAATTGATAGGTTGATCACAGGCAGACTTCAAAGTTTGCAGACATATGTGACTCAACAATTAATTAGAGCTGCAGAAATCAGAGCTTCTGCTAATCTTGCTGCTACTAAAATGTCAGAGTGTGTACTTGGACAATCAAAAAGAGTTGATTTTTGTGGAAAGGGCTATCATCTTATGTCCTTCCCTCAGTCAGCACCTCATGGTGTAGTCTTCTTGCATGTGACTTATGTCCCTGCACAAGAAAAGAACTTCACAACTGCTCCTGCCATTTGTCATGATGGAAAAGCACACTTTCCTCGTGAAGGTGTCTTTGTTTCAAATGGCACACACTGGTTTGTAACACAAAGGAATTTTTATGAACCACAAATCATTACTACAGACAACACATTTGTGTCTGGTAACTGTGATGTTGTAATAGGAATTGTCAACAACACAGTTTATGATCCTTTGCAACCTGAATTAGACTCATTCAAGGAGGAGTTAGATAAATATTTTAAGAATCATACATCACCAGATGTTGATTTAGGTGACATCTCTGGCATTAATGCTTCAGTTGTAAACATTCAAAAAGAAATTGACCGCCTCAATGAGGTTGCCAAGAATTTAAATGAATCTCTCATCGATCTCCAAGAACTTGGAAAGTATGAGCAGTATATAAAATGGCCATGGTACATTTGGCTAGGTTTTATAGCTGGCTTGATTGCCATAGTAATGGTGACAATTATGCTTTGCTGTATGACCAGTTGCTGTAGTTGTCTCAAGGGCTGTTGTTCTTGTGGATCCTGCTGCAAATTTGATGAAGACGACTCTGAGCCAGTGCTCAAAGGAGTCAAATTACATTACACATAA'"
      ]
     },
     "execution_count": 13,
     "metadata": {},
     "output_type": "execute_result"
    }
   ],
   "source": [
    "target_texts[0]"
   ]
  },
  {
   "cell_type": "markdown",
   "metadata": {},
   "source": [
    "## Construct model"
   ]
  },
  {
   "cell_type": "code",
   "execution_count": 18,
   "metadata": {},
   "outputs": [],
   "source": [
    "batch_size = 32       # Batch size for training.\n",
    "epochs = 100000         # Number of epochs to train for."
   ]
  },
  {
   "cell_type": "code",
   "execution_count": 19,
   "metadata": {
    "ExecuteTime": {
     "end_time": "2021-04-25T12:57:18.047479Z",
     "start_time": "2021-04-25T12:57:17.620960Z"
    }
   },
   "outputs": [],
   "source": [
    "model = Sequential()\n",
    "\n",
    "model.add(Dense(2, input_dim = X.shape[1], activation = 'sigmoid'))\n",
    "model.add(Dropout(0.5))\n",
    "\n",
    "model.add(Dense(Y.shape[1], activation = 'sigmoid', name = 'output'))\n",
    "\n",
    "adam = optimizers.Adam()\n",
    "model.compile(optimizer = adam, loss = 'mse', metrics = ['mae'])"
   ]
  },
  {
   "cell_type": "code",
   "execution_count": 20,
   "metadata": {
    "ExecuteTime": {
     "end_time": "2021-04-25T12:57:21.687919Z",
     "start_time": "2021-04-25T12:57:21.675274Z"
    }
   },
   "outputs": [
    {
     "name": "stdout",
     "output_type": "stream",
     "text": [
      "Model: \"sequential\"\n",
      "_________________________________________________________________\n",
      "Layer (type)                 Output Shape              Param #   \n",
      "=================================================================\n",
      "dense (Dense)                (None, 2)                 7646      \n",
      "_________________________________________________________________\n",
      "dropout (Dropout)            (None, 2)                 0         \n",
      "_________________________________________________________________\n",
      "output (Dense)               (None, 3822)              11466     \n",
      "=================================================================\n",
      "Total params: 19,112\n",
      "Trainable params: 19,112\n",
      "Non-trainable params: 0\n",
      "_________________________________________________________________\n"
     ]
    }
   ],
   "source": [
    "#plot_model(model, to_file = 'model.png')\n",
    "model.summary()"
   ]
  },
  {
   "cell_type": "markdown",
   "metadata": {},
   "source": [
    "## Train model"
   ]
  },
  {
   "cell_type": "code",
   "execution_count": 21,
   "metadata": {
    "ExecuteTime": {
     "end_time": "2021-04-25T14:18:28.805676Z",
     "start_time": "2021-04-25T12:57:28.352846Z"
    },
    "scrolled": true
   },
   "outputs": [
    {
     "name": "stdout",
     "output_type": "stream",
     "text": [
      "Epoch 1/100000\n",
      "110/110 [==============================] - 6s 4ms/step - loss: 0.1493 - mae: 0.3503 - val_loss: 0.1102 - val_mae: 0.2912\n",
      "Epoch 2/100000\n",
      "110/110 [==============================] - 0s 2ms/step - loss: 0.1024 - mae: 0.2750 - val_loss: 0.0731 - val_mae: 0.2259\n",
      "Epoch 3/100000\n",
      "110/110 [==============================] - 0s 2ms/step - loss: 0.0711 - mae: 0.2227 - val_loss: 0.0474 - val_mae: 0.1815\n",
      "Epoch 4/100000\n",
      "110/110 [==============================] - 0s 2ms/step - loss: 0.0517 - mae: 0.1836 - val_loss: 0.0297 - val_mae: 0.1432\n",
      "Epoch 5/100000\n",
      "110/110 [==============================] - 0s 2ms/step - loss: 0.0377 - mae: 0.1489 - val_loss: 0.0181 - val_mae: 0.1106\n",
      "Epoch 6/100000\n",
      "110/110 [==============================] - 0s 2ms/step - loss: 0.0280 - mae: 0.1203 - val_loss: 0.0108 - val_mae: 0.0842\n",
      "Epoch 7/100000\n",
      "110/110 [==============================] - 0s 2ms/step - loss: 0.0224 - mae: 0.0993 - val_loss: 0.0064 - val_mae: 0.0637\n",
      "Epoch 8/100000\n",
      "110/110 [==============================] - 0s 2ms/step - loss: 0.0193 - mae: 0.0859 - val_loss: 0.0038 - val_mae: 0.0482\n",
      "Epoch 9/100000\n",
      "110/110 [==============================] - 0s 2ms/step - loss: 0.0155 - mae: 0.0715 - val_loss: 0.0023 - val_mae: 0.0369\n",
      "Epoch 10/100000\n",
      "110/110 [==============================] - 0s 2ms/step - loss: 0.0131 - mae: 0.0630 - val_loss: 0.0015 - val_mae: 0.0285\n",
      "Epoch 11/100000\n",
      "110/110 [==============================] - 0s 2ms/step - loss: 0.0105 - mae: 0.0535 - val_loss: 9.5943e-04 - val_mae: 0.0222\n",
      "Epoch 12/100000\n",
      "110/110 [==============================] - 0s 2ms/step - loss: 0.0087 - mae: 0.0462 - val_loss: 6.7505e-04 - val_mae: 0.0175\n",
      "Epoch 13/100000\n",
      "110/110 [==============================] - 0s 2ms/step - loss: 0.0077 - mae: 0.0427 - val_loss: 5.1245e-04 - val_mae: 0.0142\n",
      "Epoch 14/100000\n",
      "110/110 [==============================] - 0s 2ms/step - loss: 0.0066 - mae: 0.0387 - val_loss: 4.1397e-04 - val_mae: 0.0117\n",
      "Epoch 15/100000\n",
      "110/110 [==============================] - 0s 2ms/step - loss: 0.0054 - mae: 0.0342 - val_loss: 3.5346e-04 - val_mae: 0.0098\n",
      "Epoch 16/100000\n",
      "110/110 [==============================] - 0s 2ms/step - loss: 0.0047 - mae: 0.0313 - val_loss: 3.1446e-04 - val_mae: 0.0084\n",
      "Epoch 17/100000\n",
      "110/110 [==============================] - 0s 2ms/step - loss: 0.0043 - mae: 0.0303 - val_loss: 2.8913e-04 - val_mae: 0.0073\n",
      "Epoch 18/100000\n",
      "110/110 [==============================] - 0s 2ms/step - loss: 0.0033 - mae: 0.0256 - val_loss: 2.7145e-04 - val_mae: 0.0064\n",
      "Epoch 19/100000\n",
      "110/110 [==============================] - 0s 2ms/step - loss: 0.0029 - mae: 0.0238 - val_loss: 2.5887e-04 - val_mae: 0.0056\n",
      "Epoch 20/100000\n",
      "110/110 [==============================] - 0s 2ms/step - loss: 0.0023 - mae: 0.0201 - val_loss: 2.5017e-04 - val_mae: 0.0051\n",
      "Epoch 21/100000\n",
      "110/110 [==============================] - 0s 2ms/step - loss: 0.0021 - mae: 0.0197 - val_loss: 2.4325e-04 - val_mae: 0.0045\n",
      "Epoch 22/100000\n",
      "110/110 [==============================] - 0s 2ms/step - loss: 0.0019 - mae: 0.0188 - val_loss: 2.3830e-04 - val_mae: 0.0041\n",
      "Epoch 23/100000\n",
      "110/110 [==============================] - 0s 2ms/step - loss: 0.0016 - mae: 0.0171 - val_loss: 2.3456e-04 - val_mae: 0.0037\n",
      "Epoch 24/100000\n",
      "110/110 [==============================] - 0s 2ms/step - loss: 0.0013 - mae: 0.0151 - val_loss: 2.3137e-04 - val_mae: 0.0034\n",
      "Epoch 25/100000\n",
      "110/110 [==============================] - 0s 2ms/step - loss: 0.0013 - mae: 0.0150 - val_loss: 2.2903e-04 - val_mae: 0.0031\n",
      "Epoch 26/100000\n",
      "110/110 [==============================] - 0s 2ms/step - loss: 0.0010 - mae: 0.0132 - val_loss: 2.2710e-04 - val_mae: 0.0029\n",
      "Epoch 27/100000\n",
      "110/110 [==============================] - 0s 2ms/step - loss: 9.0421e-04 - mae: 0.0120 - val_loss: 2.2596e-04 - val_mae: 0.0027\n",
      "Epoch 28/100000\n",
      "110/110 [==============================] - 0s 2ms/step - loss: 8.5617e-04 - mae: 0.0119 - val_loss: 2.2474e-04 - val_mae: 0.0025\n",
      "Epoch 29/100000\n",
      "110/110 [==============================] - 0s 2ms/step - loss: 6.9996e-04 - mae: 0.0100 - val_loss: 2.2350e-04 - val_mae: 0.0023\n",
      "Epoch 30/100000\n",
      "110/110 [==============================] - 0s 2ms/step - loss: 6.4007e-04 - mae: 0.0094 - val_loss: 2.2297e-04 - val_mae: 0.0022\n",
      "Epoch 31/100000\n",
      "110/110 [==============================] - 0s 2ms/step - loss: 5.8703e-04 - mae: 0.0088 - val_loss: 2.2246e-04 - val_mae: 0.0021\n",
      "Epoch 32/100000\n",
      "110/110 [==============================] - 0s 2ms/step - loss: 5.5360e-04 - mae: 0.0086 - val_loss: 2.2210e-04 - val_mae: 0.0020\n",
      "Epoch 33/100000\n",
      "110/110 [==============================] - 0s 2ms/step - loss: 5.0569e-04 - mae: 0.0079 - val_loss: 2.2142e-04 - val_mae: 0.0019\n",
      "Epoch 34/100000\n",
      "110/110 [==============================] - 0s 2ms/step - loss: 4.8616e-04 - mae: 0.0077 - val_loss: 2.2086e-04 - val_mae: 0.0018\n",
      "Epoch 35/100000\n",
      "110/110 [==============================] - 0s 2ms/step - loss: 4.4146e-04 - mae: 0.0070 - val_loss: 2.2101e-04 - val_mae: 0.0017\n",
      "Epoch 36/100000\n",
      "110/110 [==============================] - 0s 2ms/step - loss: 4.0457e-04 - mae: 0.0063 - val_loss: 2.2082e-04 - val_mae: 0.0016\n",
      "Epoch 37/100000\n",
      "110/110 [==============================] - 0s 2ms/step - loss: 4.0041e-04 - mae: 0.0064 - val_loss: 2.2056e-04 - val_mae: 0.0016\n",
      "Epoch 38/100000\n",
      "110/110 [==============================] - 0s 2ms/step - loss: 3.7883e-04 - mae: 0.0060 - val_loss: 2.2046e-04 - val_mae: 0.0015\n",
      "Epoch 39/100000\n",
      "110/110 [==============================] - 0s 2ms/step - loss: 3.5288e-04 - mae: 0.0054 - val_loss: 2.2012e-04 - val_mae: 0.0014\n",
      "Epoch 40/100000\n",
      "110/110 [==============================] - 0s 2ms/step - loss: 3.4547e-04 - mae: 0.0054 - val_loss: 2.2014e-04 - val_mae: 0.0014\n",
      "Epoch 41/100000\n",
      "110/110 [==============================] - 0s 2ms/step - loss: 3.3615e-04 - mae: 0.0051 - val_loss: 2.2010e-04 - val_mae: 0.0013\n",
      "Epoch 42/100000\n",
      "110/110 [==============================] - 0s 2ms/step - loss: 3.2031e-04 - mae: 0.0047 - val_loss: 2.2006e-04 - val_mae: 0.0013\n",
      "Epoch 43/100000\n",
      "110/110 [==============================] - 0s 2ms/step - loss: 3.1604e-04 - mae: 0.0046 - val_loss: 2.2022e-04 - val_mae: 0.0013\n",
      "Epoch 44/100000\n",
      "110/110 [==============================] - 0s 2ms/step - loss: 3.0979e-04 - mae: 0.0045 - val_loss: 2.2005e-04 - val_mae: 0.0013\n",
      "Epoch 45/100000\n",
      "110/110 [==============================] - 0s 2ms/step - loss: 3.0366e-04 - mae: 0.0044 - val_loss: 2.2012e-04 - val_mae: 0.0012\n",
      "Epoch 46/100000\n",
      "110/110 [==============================] - 0s 2ms/step - loss: 3.0017e-04 - mae: 0.0044 - val_loss: 2.1992e-04 - val_mae: 0.0012\n",
      "Epoch 47/100000\n",
      "110/110 [==============================] - 0s 2ms/step - loss: 2.9492e-04 - mae: 0.0042 - val_loss: 2.1970e-04 - val_mae: 0.0012\n",
      "Epoch 48/100000\n",
      "110/110 [==============================] - 0s 2ms/step - loss: 2.9264e-04 - mae: 0.0042 - val_loss: 2.1960e-04 - val_mae: 0.0012\n",
      "Epoch 49/100000\n",
      "110/110 [==============================] - 0s 2ms/step - loss: 2.7988e-04 - mae: 0.0037 - val_loss: 2.1994e-04 - val_mae: 0.0011\n",
      "Epoch 50/100000\n",
      "110/110 [==============================] - 0s 2ms/step - loss: 2.7691e-04 - mae: 0.0037 - val_loss: 2.1951e-04 - val_mae: 0.0011\n",
      "Epoch 51/100000\n",
      "110/110 [==============================] - 0s 2ms/step - loss: 2.7451e-04 - mae: 0.0037 - val_loss: 2.1967e-04 - val_mae: 0.0011\n",
      "Epoch 52/100000\n",
      "110/110 [==============================] - 0s 2ms/step - loss: 2.6872e-04 - mae: 0.0035 - val_loss: 2.1943e-04 - val_mae: 0.0011\n",
      "Epoch 53/100000\n",
      "110/110 [==============================] - 0s 2ms/step - loss: 2.7117e-04 - mae: 0.0034 - val_loss: 2.1959e-04 - val_mae: 0.0010\n",
      "Epoch 54/100000\n",
      "110/110 [==============================] - 0s 2ms/step - loss: 2.6663e-04 - mae: 0.0032 - val_loss: 2.1960e-04 - val_mae: 0.0010\n",
      "Epoch 55/100000\n",
      "110/110 [==============================] - 0s 2ms/step - loss: 2.7181e-04 - mae: 0.0033 - val_loss: 2.1958e-04 - val_mae: 0.0010\n",
      "Epoch 56/100000\n",
      "110/110 [==============================] - 0s 2ms/step - loss: 2.6623e-04 - mae: 0.0032 - val_loss: 2.1967e-04 - val_mae: 0.0010\n",
      "Epoch 57/100000\n",
      "110/110 [==============================] - 0s 2ms/step - loss: 2.6245e-04 - mae: 0.0031 - val_loss: 2.1949e-04 - val_mae: 0.0010\n",
      "Epoch 58/100000\n"
     ]
    },
    {
     "name": "stdout",
     "output_type": "stream",
     "text": [
      "110/110 [==============================] - 0s 2ms/step - loss: 2.6606e-04 - mae: 0.0032 - val_loss: 2.1938e-04 - val_mae: 0.0010\n",
      "Epoch 59/100000\n",
      "110/110 [==============================] - 0s 2ms/step - loss: 2.6057e-04 - mae: 0.0030 - val_loss: 2.1967e-04 - val_mae: 9.8750e-04\n",
      "Epoch 60/100000\n",
      "110/110 [==============================] - 0s 2ms/step - loss: 2.5549e-04 - mae: 0.0030 - val_loss: 2.1957e-04 - val_mae: 9.8291e-04\n",
      "Epoch 61/100000\n",
      "110/110 [==============================] - 0s 2ms/step - loss: 2.5680e-04 - mae: 0.0029 - val_loss: 2.1973e-04 - val_mae: 9.7063e-04\n",
      "Epoch 62/100000\n",
      "110/110 [==============================] - 0s 2ms/step - loss: 2.5432e-04 - mae: 0.0029 - val_loss: 2.1964e-04 - val_mae: 9.6517e-04\n",
      "Epoch 63/100000\n",
      "110/110 [==============================] - 0s 2ms/step - loss: 2.5683e-04 - mae: 0.0030 - val_loss: 2.1963e-04 - val_mae: 9.5231e-04\n",
      "Epoch 64/100000\n",
      "110/110 [==============================] - 0s 2ms/step - loss: 2.5408e-04 - mae: 0.0028 - val_loss: 2.1953e-04 - val_mae: 9.4879e-04\n",
      "Epoch 65/100000\n",
      "110/110 [==============================] - 0s 2ms/step - loss: 2.5308e-04 - mae: 0.0029 - val_loss: 2.1955e-04 - val_mae: 9.4176e-04\n",
      "Epoch 66/100000\n",
      "110/110 [==============================] - 0s 2ms/step - loss: 2.5064e-04 - mae: 0.0027 - val_loss: 2.1966e-04 - val_mae: 9.3079e-04\n",
      "Epoch 67/100000\n",
      "110/110 [==============================] - 0s 2ms/step - loss: 2.5073e-04 - mae: 0.0028 - val_loss: 2.1938e-04 - val_mae: 9.2167e-04\n",
      "Epoch 68/100000\n",
      "110/110 [==============================] - 0s 2ms/step - loss: 2.5018e-04 - mae: 0.0026 - val_loss: 2.1944e-04 - val_mae: 9.1394e-04\n",
      "Epoch 69/100000\n",
      "110/110 [==============================] - 0s 2ms/step - loss: 2.5375e-04 - mae: 0.0027 - val_loss: 2.1955e-04 - val_mae: 9.1489e-04\n",
      "Epoch 70/100000\n",
      "110/110 [==============================] - 0s 2ms/step - loss: 2.4663e-04 - mae: 0.0025 - val_loss: 2.1934e-04 - val_mae: 8.9978e-04\n",
      "Epoch 71/100000\n",
      "110/110 [==============================] - 0s 2ms/step - loss: 2.4834e-04 - mae: 0.0025 - val_loss: 2.1958e-04 - val_mae: 9.0258e-04\n",
      "Epoch 72/100000\n",
      "110/110 [==============================] - 0s 2ms/step - loss: 2.4688e-04 - mae: 0.0024 - val_loss: 2.1958e-04 - val_mae: 8.9191e-04\n",
      "Epoch 73/100000\n",
      "110/110 [==============================] - 0s 2ms/step - loss: 2.4779e-04 - mae: 0.0025 - val_loss: 2.1970e-04 - val_mae: 8.9484e-04\n",
      "Epoch 74/100000\n",
      "110/110 [==============================] - 0s 2ms/step - loss: 2.4551e-04 - mae: 0.0025 - val_loss: 2.1959e-04 - val_mae: 8.7980e-04\n",
      "Epoch 75/100000\n",
      "110/110 [==============================] - 0s 2ms/step - loss: 2.4755e-04 - mae: 0.0024 - val_loss: 2.1971e-04 - val_mae: 8.8097e-04\n",
      "Epoch 76/100000\n",
      "110/110 [==============================] - 0s 2ms/step - loss: 2.4820e-04 - mae: 0.0024 - val_loss: 2.1947e-04 - val_mae: 8.7485e-04\n",
      "Epoch 77/100000\n",
      "110/110 [==============================] - 0s 2ms/step - loss: 2.4420e-04 - mae: 0.0024 - val_loss: 2.1950e-04 - val_mae: 8.7084e-04\n",
      "Epoch 78/100000\n",
      "110/110 [==============================] - 0s 2ms/step - loss: 2.4940e-04 - mae: 0.0024 - val_loss: 2.1958e-04 - val_mae: 8.6065e-04\n",
      "Epoch 79/100000\n",
      "110/110 [==============================] - 0s 2ms/step - loss: 2.4414e-04 - mae: 0.0024 - val_loss: 2.1967e-04 - val_mae: 8.6887e-04\n",
      "Epoch 80/100000\n",
      "110/110 [==============================] - 0s 2ms/step - loss: 2.4254e-04 - mae: 0.0024 - val_loss: 2.1947e-04 - val_mae: 8.5806e-04\n",
      "Epoch 81/100000\n",
      "110/110 [==============================] - 0s 2ms/step - loss: 2.4339e-04 - mae: 0.0023 - val_loss: 2.1939e-04 - val_mae: 8.5614e-04\n",
      "Epoch 82/100000\n",
      "110/110 [==============================] - 0s 2ms/step - loss: 2.4137e-04 - mae: 0.0023 - val_loss: 2.1934e-04 - val_mae: 8.5171e-04\n",
      "Epoch 83/100000\n",
      "110/110 [==============================] - 0s 2ms/step - loss: 2.4299e-04 - mae: 0.0023 - val_loss: 2.1973e-04 - val_mae: 8.4929e-04\n",
      "Epoch 84/100000\n",
      "110/110 [==============================] - 0s 2ms/step - loss: 2.4084e-04 - mae: 0.0022 - val_loss: 2.1955e-04 - val_mae: 8.4236e-04\n",
      "Epoch 85/100000\n",
      "110/110 [==============================] - 0s 2ms/step - loss: 2.3726e-04 - mae: 0.0022 - val_loss: 2.1942e-04 - val_mae: 8.3697e-04\n",
      "Epoch 86/100000\n",
      "110/110 [==============================] - 0s 2ms/step - loss: 2.4283e-04 - mae: 0.0023 - val_loss: 2.1928e-04 - val_mae: 8.3945e-04\n",
      "Epoch 87/100000\n",
      "110/110 [==============================] - 0s 2ms/step - loss: 2.4255e-04 - mae: 0.0021 - val_loss: 2.1917e-04 - val_mae: 8.3198e-04\n",
      "Epoch 88/100000\n",
      "110/110 [==============================] - 0s 2ms/step - loss: 2.4360e-04 - mae: 0.0022 - val_loss: 2.1935e-04 - val_mae: 8.2702e-04\n",
      "Epoch 89/100000\n",
      "110/110 [==============================] - 0s 2ms/step - loss: 2.3807e-04 - mae: 0.0022 - val_loss: 2.1926e-04 - val_mae: 8.2707e-04\n",
      "Epoch 90/100000\n",
      "110/110 [==============================] - 0s 2ms/step - loss: 2.4542e-04 - mae: 0.0022 - val_loss: 2.1930e-04 - val_mae: 8.1877e-04\n",
      "Epoch 91/100000\n",
      "110/110 [==============================] - 0s 2ms/step - loss: 2.4133e-04 - mae: 0.0022 - val_loss: 2.1963e-04 - val_mae: 8.2517e-04\n",
      "Epoch 92/100000\n",
      "110/110 [==============================] - 0s 2ms/step - loss: 2.4270e-04 - mae: 0.0022 - val_loss: 2.1924e-04 - val_mae: 8.1832e-04\n",
      "Epoch 93/100000\n",
      "110/110 [==============================] - 0s 2ms/step - loss: 2.3904e-04 - mae: 0.0020 - val_loss: 2.1949e-04 - val_mae: 8.1164e-04\n",
      "Epoch 94/100000\n",
      "110/110 [==============================] - 0s 2ms/step - loss: 2.4415e-04 - mae: 0.0021 - val_loss: 2.1945e-04 - val_mae: 8.1005e-04\n",
      "Epoch 95/100000\n",
      "110/110 [==============================] - 0s 2ms/step - loss: 2.3938e-04 - mae: 0.0020 - val_loss: 2.1947e-04 - val_mae: 8.0821e-04\n",
      "Epoch 96/100000\n",
      "110/110 [==============================] - 0s 2ms/step - loss: 2.4164e-04 - mae: 0.0020 - val_loss: 2.1933e-04 - val_mae: 8.1298e-04\n",
      "Epoch 97/100000\n",
      "110/110 [==============================] - 0s 2ms/step - loss: 2.4347e-04 - mae: 0.0021 - val_loss: 2.1926e-04 - val_mae: 8.0007e-04\n",
      "Epoch 98/100000\n",
      "110/110 [==============================] - 0s 2ms/step - loss: 2.3922e-04 - mae: 0.0020 - val_loss: 2.1943e-04 - val_mae: 8.1182e-04\n",
      "Epoch 99/100000\n",
      "110/110 [==============================] - 0s 2ms/step - loss: 2.4174e-04 - mae: 0.0020 - val_loss: 2.1945e-04 - val_mae: 7.9568e-04\n",
      "Epoch 100/100000\n",
      "110/110 [==============================] - 0s 2ms/step - loss: 2.3701e-04 - mae: 0.0020 - val_loss: 2.1955e-04 - val_mae: 7.9781e-04\n",
      "Epoch 101/100000\n",
      "110/110 [==============================] - 0s 2ms/step - loss: 2.4443e-04 - mae: 0.0021 - val_loss: 2.1914e-04 - val_mae: 7.9857e-04\n",
      "Epoch 102/100000\n",
      "110/110 [==============================] - 0s 2ms/step - loss: 2.4727e-04 - mae: 0.0019 - val_loss: 2.1921e-04 - val_mae: 7.9012e-04\n",
      "Epoch 103/100000\n",
      "110/110 [==============================] - 0s 2ms/step - loss: 2.3945e-04 - mae: 0.0020 - val_loss: 2.1930e-04 - val_mae: 7.9290e-04\n",
      "Epoch 104/100000\n",
      "110/110 [==============================] - 0s 2ms/step - loss: 2.4068e-04 - mae: 0.0019 - val_loss: 2.1949e-04 - val_mae: 7.9073e-04\n",
      "Epoch 105/100000\n",
      "110/110 [==============================] - 0s 2ms/step - loss: 2.3732e-04 - mae: 0.0020 - val_loss: 2.1965e-04 - val_mae: 7.8730e-04\n",
      "Epoch 106/100000\n",
      "110/110 [==============================] - 0s 2ms/step - loss: 2.3876e-04 - mae: 0.0019 - val_loss: 2.1928e-04 - val_mae: 7.8794e-04\n",
      "Epoch 107/100000\n",
      "110/110 [==============================] - 0s 2ms/step - loss: 2.3647e-04 - mae: 0.0019 - val_loss: 2.1940e-04 - val_mae: 7.9139e-04\n",
      "Epoch 108/100000\n",
      "110/110 [==============================] - 0s 2ms/step - loss: 2.3618e-04 - mae: 0.0019 - val_loss: 2.1938e-04 - val_mae: 7.8562e-04\n",
      "Epoch 109/100000\n",
      "110/110 [==============================] - 0s 2ms/step - loss: 2.3803e-04 - mae: 0.0019 - val_loss: 2.1954e-04 - val_mae: 7.8785e-04\n",
      "Epoch 110/100000\n",
      "110/110 [==============================] - 0s 2ms/step - loss: 2.3839e-04 - mae: 0.0020 - val_loss: 2.1952e-04 - val_mae: 7.7930e-04\n",
      "Epoch 111/100000\n",
      "110/110 [==============================] - 0s 2ms/step - loss: 2.3655e-04 - mae: 0.0019 - val_loss: 2.1945e-04 - val_mae: 7.7848e-04\n",
      "Epoch 112/100000\n",
      "110/110 [==============================] - 0s 2ms/step - loss: 2.3619e-04 - mae: 0.0018 - val_loss: 2.1928e-04 - val_mae: 7.7908e-04\n",
      "Epoch 113/100000\n"
     ]
    },
    {
     "name": "stdout",
     "output_type": "stream",
     "text": [
      "110/110 [==============================] - 0s 2ms/step - loss: 2.3542e-04 - mae: 0.0018 - val_loss: 2.1925e-04 - val_mae: 7.8237e-04\n",
      "Epoch 114/100000\n",
      "110/110 [==============================] - 0s 2ms/step - loss: 2.3869e-04 - mae: 0.0019 - val_loss: 2.1913e-04 - val_mae: 7.7423e-04\n",
      "Epoch 115/100000\n",
      "110/110 [==============================] - 0s 2ms/step - loss: 2.3793e-04 - mae: 0.0019 - val_loss: 2.1924e-04 - val_mae: 7.7482e-04\n",
      "Epoch 116/100000\n",
      "110/110 [==============================] - 0s 2ms/step - loss: 2.3948e-04 - mae: 0.0018 - val_loss: 2.1923e-04 - val_mae: 7.6986e-04\n",
      "Epoch 117/100000\n",
      "110/110 [==============================] - 0s 2ms/step - loss: 2.4120e-04 - mae: 0.0018 - val_loss: 2.1908e-04 - val_mae: 7.6898e-04\n",
      "Epoch 118/100000\n",
      "110/110 [==============================] - 0s 2ms/step - loss: 2.3770e-04 - mae: 0.0018 - val_loss: 2.1912e-04 - val_mae: 7.7029e-04\n",
      "Epoch 119/100000\n",
      "110/110 [==============================] - 0s 2ms/step - loss: 2.3929e-04 - mae: 0.0018 - val_loss: 2.1922e-04 - val_mae: 7.6342e-04\n",
      "Epoch 120/100000\n",
      "110/110 [==============================] - 0s 2ms/step - loss: 2.3932e-04 - mae: 0.0019 - val_loss: 2.1901e-04 - val_mae: 7.6016e-04\n",
      "Epoch 121/100000\n",
      "110/110 [==============================] - 0s 2ms/step - loss: 2.3679e-04 - mae: 0.0018 - val_loss: 2.1912e-04 - val_mae: 7.6806e-04\n",
      "Epoch 122/100000\n",
      "110/110 [==============================] - 0s 2ms/step - loss: 2.3679e-04 - mae: 0.0018 - val_loss: 2.1912e-04 - val_mae: 7.6072e-04\n",
      "Epoch 123/100000\n",
      "110/110 [==============================] - 0s 2ms/step - loss: 2.3678e-04 - mae: 0.0018 - val_loss: 2.1919e-04 - val_mae: 7.7054e-04\n",
      "Epoch 124/100000\n",
      "110/110 [==============================] - 0s 2ms/step - loss: 2.3209e-04 - mae: 0.0018 - val_loss: 2.1924e-04 - val_mae: 7.5706e-04\n",
      "Epoch 125/100000\n",
      "110/110 [==============================] - 0s 2ms/step - loss: 2.3787e-04 - mae: 0.0018 - val_loss: 2.1942e-04 - val_mae: 7.5970e-04\n",
      "Epoch 126/100000\n",
      "110/110 [==============================] - 0s 2ms/step - loss: 2.3437e-04 - mae: 0.0018 - val_loss: 2.1963e-04 - val_mae: 7.5687e-04\n",
      "Epoch 127/100000\n",
      "110/110 [==============================] - 0s 2ms/step - loss: 2.3650e-04 - mae: 0.0017 - val_loss: 2.1925e-04 - val_mae: 7.4826e-04\n",
      "Epoch 128/100000\n",
      "110/110 [==============================] - 0s 2ms/step - loss: 2.3849e-04 - mae: 0.0017 - val_loss: 2.1914e-04 - val_mae: 7.5222e-04\n",
      "Epoch 129/100000\n",
      "110/110 [==============================] - 0s 2ms/step - loss: 2.3522e-04 - mae: 0.0018 - val_loss: 2.1931e-04 - val_mae: 7.5498e-04\n",
      "Epoch 130/100000\n",
      "110/110 [==============================] - 0s 2ms/step - loss: 2.3539e-04 - mae: 0.0017 - val_loss: 2.1908e-04 - val_mae: 7.5410e-04\n",
      "Epoch 131/100000\n",
      "110/110 [==============================] - 0s 2ms/step - loss: 2.3136e-04 - mae: 0.0017 - val_loss: 2.1911e-04 - val_mae: 7.5035e-04\n",
      "Epoch 132/100000\n",
      "110/110 [==============================] - 0s 2ms/step - loss: 2.3564e-04 - mae: 0.0017 - val_loss: 2.1931e-04 - val_mae: 7.5136e-04\n",
      "Epoch 133/100000\n",
      "110/110 [==============================] - 0s 2ms/step - loss: 2.3630e-04 - mae: 0.0017 - val_loss: 2.1937e-04 - val_mae: 7.4526e-04\n",
      "Epoch 134/100000\n",
      "110/110 [==============================] - 0s 2ms/step - loss: 2.3513e-04 - mae: 0.0017 - val_loss: 2.1949e-04 - val_mae: 7.4908e-04\n",
      "Epoch 135/100000\n",
      "110/110 [==============================] - 0s 2ms/step - loss: 2.3176e-04 - mae: 0.0016 - val_loss: 2.1933e-04 - val_mae: 7.5153e-04\n",
      "Epoch 136/100000\n",
      "110/110 [==============================] - 0s 2ms/step - loss: 2.3714e-04 - mae: 0.0017 - val_loss: 2.1946e-04 - val_mae: 7.5048e-04\n",
      "Epoch 137/100000\n",
      "110/110 [==============================] - 0s 2ms/step - loss: 2.3307e-04 - mae: 0.0017 - val_loss: 2.1930e-04 - val_mae: 7.4393e-04\n",
      "Epoch 138/100000\n",
      "110/110 [==============================] - 0s 2ms/step - loss: 2.3011e-04 - mae: 0.0017 - val_loss: 2.1903e-04 - val_mae: 7.4941e-04\n",
      "Epoch 139/100000\n",
      "110/110 [==============================] - 0s 2ms/step - loss: 2.2954e-04 - mae: 0.0017 - val_loss: 2.1918e-04 - val_mae: 7.4512e-04\n",
      "Epoch 140/100000\n",
      "110/110 [==============================] - 0s 2ms/step - loss: 2.3572e-04 - mae: 0.0016 - val_loss: 2.1919e-04 - val_mae: 7.4116e-04\n",
      "Epoch 141/100000\n",
      "110/110 [==============================] - 0s 2ms/step - loss: 2.3535e-04 - mae: 0.0017 - val_loss: 2.1921e-04 - val_mae: 7.4412e-04\n",
      "Epoch 142/100000\n",
      "110/110 [==============================] - 0s 2ms/step - loss: 2.3461e-04 - mae: 0.0016 - val_loss: 2.1924e-04 - val_mae: 7.3593e-04\n",
      "Epoch 143/100000\n",
      "110/110 [==============================] - 0s 2ms/step - loss: 2.3603e-04 - mae: 0.0016 - val_loss: 2.1910e-04 - val_mae: 7.3579e-04\n",
      "Epoch 144/100000\n",
      "110/110 [==============================] - 0s 2ms/step - loss: 2.3428e-04 - mae: 0.0016 - val_loss: 2.1923e-04 - val_mae: 7.3967e-04\n",
      "Epoch 145/100000\n",
      "110/110 [==============================] - 0s 2ms/step - loss: 2.3282e-04 - mae: 0.0016 - val_loss: 2.1931e-04 - val_mae: 7.3772e-04\n",
      "Epoch 146/100000\n",
      "110/110 [==============================] - 0s 2ms/step - loss: 2.3775e-04 - mae: 0.0016 - val_loss: 2.1919e-04 - val_mae: 7.3455e-04\n",
      "Epoch 147/100000\n",
      "110/110 [==============================] - 0s 2ms/step - loss: 2.3440e-04 - mae: 0.0016 - val_loss: 2.1917e-04 - val_mae: 7.3963e-04\n",
      "Epoch 148/100000\n",
      "110/110 [==============================] - 0s 2ms/step - loss: 2.3447e-04 - mae: 0.0017 - val_loss: 2.1937e-04 - val_mae: 7.3314e-04\n",
      "Epoch 149/100000\n",
      "110/110 [==============================] - 0s 2ms/step - loss: 2.3079e-04 - mae: 0.0016 - val_loss: 2.1913e-04 - val_mae: 7.3557e-04\n",
      "Epoch 150/100000\n",
      "110/110 [==============================] - 0s 2ms/step - loss: 2.3419e-04 - mae: 0.0016 - val_loss: 2.1907e-04 - val_mae: 7.3479e-04\n",
      "Epoch 151/100000\n",
      "110/110 [==============================] - 0s 2ms/step - loss: 2.3325e-04 - mae: 0.0016 - val_loss: 2.1925e-04 - val_mae: 7.2887e-04\n",
      "Epoch 152/100000\n",
      "110/110 [==============================] - 0s 2ms/step - loss: 2.3036e-04 - mae: 0.0016 - val_loss: 2.1924e-04 - val_mae: 7.3337e-04\n",
      "Epoch 153/100000\n",
      "110/110 [==============================] - 0s 2ms/step - loss: 2.3667e-04 - mae: 0.0016 - val_loss: 2.1914e-04 - val_mae: 7.2724e-04\n",
      "Epoch 154/100000\n",
      "110/110 [==============================] - 0s 2ms/step - loss: 2.3510e-04 - mae: 0.0016 - val_loss: 2.1924e-04 - val_mae: 7.2444e-04\n",
      "Epoch 155/100000\n",
      "110/110 [==============================] - 0s 2ms/step - loss: 2.3906e-04 - mae: 0.0015 - val_loss: 2.1908e-04 - val_mae: 7.2587e-04\n",
      "Epoch 156/100000\n",
      "110/110 [==============================] - 0s 2ms/step - loss: 2.3362e-04 - mae: 0.0016 - val_loss: 2.1937e-04 - val_mae: 7.3021e-04\n",
      "Epoch 157/100000\n",
      "110/110 [==============================] - 0s 2ms/step - loss: 2.3518e-04 - mae: 0.0016 - val_loss: 2.1947e-04 - val_mae: 7.3036e-04\n",
      "Epoch 158/100000\n",
      "110/110 [==============================] - 0s 2ms/step - loss: 2.3568e-04 - mae: 0.0016 - val_loss: 2.1931e-04 - val_mae: 7.2616e-04\n",
      "Epoch 159/100000\n",
      "110/110 [==============================] - 0s 2ms/step - loss: 2.3224e-04 - mae: 0.0016 - val_loss: 2.1928e-04 - val_mae: 7.2100e-04\n",
      "Epoch 160/100000\n",
      "110/110 [==============================] - 0s 2ms/step - loss: 2.3647e-04 - mae: 0.0016 - val_loss: 2.1931e-04 - val_mae: 7.2489e-04\n",
      "Epoch 161/100000\n",
      "110/110 [==============================] - 0s 2ms/step - loss: 2.3479e-04 - mae: 0.0015 - val_loss: 2.1921e-04 - val_mae: 7.2285e-04\n",
      "Epoch 162/100000\n",
      "110/110 [==============================] - 0s 2ms/step - loss: 2.3504e-04 - mae: 0.0015 - val_loss: 2.1935e-04 - val_mae: 7.2304e-04\n",
      "Epoch 163/100000\n",
      "110/110 [==============================] - 0s 2ms/step - loss: 2.2843e-04 - mae: 0.0015 - val_loss: 2.1958e-04 - val_mae: 7.2352e-04\n",
      "Epoch 164/100000\n",
      "110/110 [==============================] - 0s 2ms/step - loss: 2.3408e-04 - mae: 0.0015 - val_loss: 2.1931e-04 - val_mae: 7.1923e-04\n",
      "Epoch 165/100000\n",
      "110/110 [==============================] - 0s 2ms/step - loss: 2.3287e-04 - mae: 0.0016 - val_loss: 2.1913e-04 - val_mae: 7.1561e-04\n",
      "Epoch 166/100000\n",
      "110/110 [==============================] - 0s 2ms/step - loss: 2.3333e-04 - mae: 0.0016 - val_loss: 2.1917e-04 - val_mae: 7.2096e-04\n",
      "Epoch 167/100000\n",
      "110/110 [==============================] - 0s 2ms/step - loss: 2.3593e-04 - mae: 0.0015 - val_loss: 2.1910e-04 - val_mae: 7.2009e-04\n"
     ]
    },
    {
     "name": "stdout",
     "output_type": "stream",
     "text": [
      "Epoch 168/100000\n",
      "110/110 [==============================] - 0s 2ms/step - loss: 2.3361e-04 - mae: 0.0015 - val_loss: 2.1907e-04 - val_mae: 7.2002e-04\n",
      "Epoch 169/100000\n",
      "110/110 [==============================] - 0s 2ms/step - loss: 2.3921e-04 - mae: 0.0015 - val_loss: 2.1914e-04 - val_mae: 7.1129e-04\n",
      "Epoch 170/100000\n",
      "110/110 [==============================] - 0s 2ms/step - loss: 2.3474e-04 - mae: 0.0015 - val_loss: 2.1912e-04 - val_mae: 7.1668e-04\n",
      "Epoch 171/100000\n",
      "110/110 [==============================] - 0s 2ms/step - loss: 2.3166e-04 - mae: 0.0015 - val_loss: 2.1898e-04 - val_mae: 7.1108e-04\n",
      "Epoch 172/100000\n",
      "110/110 [==============================] - 0s 2ms/step - loss: 2.2855e-04 - mae: 0.0015 - val_loss: 2.1920e-04 - val_mae: 7.1579e-04\n",
      "Epoch 173/100000\n",
      "110/110 [==============================] - 0s 2ms/step - loss: 2.3918e-04 - mae: 0.0016 - val_loss: 2.1939e-04 - val_mae: 7.1436e-04\n",
      "Epoch 174/100000\n",
      "110/110 [==============================] - 0s 2ms/step - loss: 2.3444e-04 - mae: 0.0015 - val_loss: 2.1930e-04 - val_mae: 7.1032e-04\n",
      "Epoch 175/100000\n",
      "110/110 [==============================] - 0s 2ms/step - loss: 2.3721e-04 - mae: 0.0016 - val_loss: 2.1931e-04 - val_mae: 7.1023e-04\n",
      "Epoch 176/100000\n",
      "110/110 [==============================] - 0s 2ms/step - loss: 2.3124e-04 - mae: 0.0015 - val_loss: 2.1920e-04 - val_mae: 7.1464e-04\n",
      "Epoch 177/100000\n",
      "110/110 [==============================] - 0s 2ms/step - loss: 2.3135e-04 - mae: 0.0015 - val_loss: 2.1946e-04 - val_mae: 7.1416e-04\n",
      "Epoch 178/100000\n",
      "110/110 [==============================] - 0s 2ms/step - loss: 2.3294e-04 - mae: 0.0015 - val_loss: 2.1926e-04 - val_mae: 7.0938e-04\n",
      "Epoch 179/100000\n",
      "110/110 [==============================] - 0s 2ms/step - loss: 2.3234e-04 - mae: 0.0014 - val_loss: 2.1927e-04 - val_mae: 7.1360e-04\n",
      "Epoch 180/100000\n",
      "110/110 [==============================] - 0s 2ms/step - loss: 2.3621e-04 - mae: 0.0015 - val_loss: 2.1905e-04 - val_mae: 7.0406e-04\n",
      "Epoch 181/100000\n",
      "110/110 [==============================] - 0s 2ms/step - loss: 2.3471e-04 - mae: 0.0015 - val_loss: 2.1884e-04 - val_mae: 7.0592e-04\n",
      "Epoch 182/100000\n",
      "110/110 [==============================] - 0s 2ms/step - loss: 2.3019e-04 - mae: 0.0015 - val_loss: 2.1918e-04 - val_mae: 7.1710e-04\n",
      "Epoch 183/100000\n",
      "110/110 [==============================] - 0s 2ms/step - loss: 2.3509e-04 - mae: 0.0015 - val_loss: 2.1914e-04 - val_mae: 7.0896e-04\n",
      "Epoch 184/100000\n",
      "110/110 [==============================] - 0s 2ms/step - loss: 2.3168e-04 - mae: 0.0015 - val_loss: 2.1924e-04 - val_mae: 7.0962e-04\n",
      "Epoch 185/100000\n",
      "110/110 [==============================] - 0s 2ms/step - loss: 2.3509e-04 - mae: 0.0015 - val_loss: 2.1903e-04 - val_mae: 7.0609e-04\n",
      "Epoch 186/100000\n",
      "110/110 [==============================] - 0s 2ms/step - loss: 2.3541e-04 - mae: 0.0015 - val_loss: 2.1902e-04 - val_mae: 7.0133e-04\n",
      "Epoch 187/100000\n",
      "110/110 [==============================] - 0s 2ms/step - loss: 2.2940e-04 - mae: 0.0015 - val_loss: 2.1919e-04 - val_mae: 7.0666e-04\n",
      "Epoch 188/100000\n",
      "110/110 [==============================] - 0s 2ms/step - loss: 2.3222e-04 - mae: 0.0014 - val_loss: 2.1910e-04 - val_mae: 7.0599e-04\n",
      "Epoch 189/100000\n",
      "110/110 [==============================] - 0s 2ms/step - loss: 2.3125e-04 - mae: 0.0015 - val_loss: 2.1914e-04 - val_mae: 7.0381e-04\n",
      "Epoch 190/100000\n",
      "110/110 [==============================] - 0s 2ms/step - loss: 2.3769e-04 - mae: 0.0015 - val_loss: 2.1923e-04 - val_mae: 7.0337e-04\n",
      "Epoch 191/100000\n",
      "110/110 [==============================] - 0s 2ms/step - loss: 2.3279e-04 - mae: 0.0014 - val_loss: 2.1916e-04 - val_mae: 7.0362e-04\n",
      "Epoch 192/100000\n",
      "110/110 [==============================] - 0s 2ms/step - loss: 2.3245e-04 - mae: 0.0015 - val_loss: 2.1900e-04 - val_mae: 7.0350e-04\n",
      "Epoch 193/100000\n",
      "110/110 [==============================] - 0s 2ms/step - loss: 2.3206e-04 - mae: 0.0015 - val_loss: 2.1916e-04 - val_mae: 7.1297e-04\n",
      "Epoch 194/100000\n",
      "110/110 [==============================] - 0s 2ms/step - loss: 2.3501e-04 - mae: 0.0014 - val_loss: 2.1928e-04 - val_mae: 7.0497e-04\n",
      "Epoch 195/100000\n",
      "110/110 [==============================] - 0s 2ms/step - loss: 2.3176e-04 - mae: 0.0014 - val_loss: 2.1924e-04 - val_mae: 7.0549e-04\n",
      "Epoch 196/100000\n",
      "110/110 [==============================] - 0s 2ms/step - loss: 2.3104e-04 - mae: 0.0014 - val_loss: 2.1918e-04 - val_mae: 7.0188e-04\n",
      "Epoch 197/100000\n",
      "110/110 [==============================] - 0s 2ms/step - loss: 2.3249e-04 - mae: 0.0015 - val_loss: 2.1904e-04 - val_mae: 6.9498e-04\n",
      "Epoch 198/100000\n",
      "110/110 [==============================] - 0s 2ms/step - loss: 2.2973e-04 - mae: 0.0015 - val_loss: 2.1934e-04 - val_mae: 6.9883e-04\n",
      "Epoch 199/100000\n",
      "110/110 [==============================] - 0s 2ms/step - loss: 2.3582e-04 - mae: 0.0015 - val_loss: 2.1919e-04 - val_mae: 6.9250e-04\n",
      "Epoch 200/100000\n",
      "110/110 [==============================] - 0s 2ms/step - loss: 2.3454e-04 - mae: 0.0014 - val_loss: 2.1936e-04 - val_mae: 6.9533e-04\n",
      "Epoch 201/100000\n",
      "110/110 [==============================] - 0s 2ms/step - loss: 2.3260e-04 - mae: 0.0014 - val_loss: 2.1897e-04 - val_mae: 6.9889e-04\n",
      "Epoch 202/100000\n",
      "110/110 [==============================] - 0s 2ms/step - loss: 2.3181e-04 - mae: 0.0014 - val_loss: 2.1921e-04 - val_mae: 7.0071e-04\n",
      "Epoch 203/100000\n",
      "110/110 [==============================] - 0s 2ms/step - loss: 2.3035e-04 - mae: 0.0014 - val_loss: 2.1925e-04 - val_mae: 7.0414e-04\n",
      "Epoch 204/100000\n",
      "110/110 [==============================] - 0s 2ms/step - loss: 2.2807e-04 - mae: 0.0014 - val_loss: 2.1928e-04 - val_mae: 7.0108e-04\n",
      "Epoch 205/100000\n",
      "110/110 [==============================] - 0s 2ms/step - loss: 2.3081e-04 - mae: 0.0014 - val_loss: 2.1945e-04 - val_mae: 7.0225e-04\n",
      "Epoch 206/100000\n",
      "110/110 [==============================] - 0s 2ms/step - loss: 2.3122e-04 - mae: 0.0014 - val_loss: 2.1899e-04 - val_mae: 6.9805e-04\n",
      "Epoch 207/100000\n",
      "110/110 [==============================] - 0s 2ms/step - loss: 2.3476e-04 - mae: 0.0015 - val_loss: 2.1935e-04 - val_mae: 6.8933e-04\n",
      "Epoch 208/100000\n",
      "110/110 [==============================] - 0s 2ms/step - loss: 2.3345e-04 - mae: 0.0014 - val_loss: 2.1917e-04 - val_mae: 6.9516e-04\n",
      "Epoch 209/100000\n",
      "110/110 [==============================] - 0s 2ms/step - loss: 2.2479e-04 - mae: 0.0014 - val_loss: 2.1907e-04 - val_mae: 6.8952e-04\n",
      "Epoch 210/100000\n",
      "110/110 [==============================] - 0s 2ms/step - loss: 2.3059e-04 - mae: 0.0014 - val_loss: 2.1904e-04 - val_mae: 6.9508e-04\n",
      "Epoch 211/100000\n",
      "110/110 [==============================] - 0s 2ms/step - loss: 2.2962e-04 - mae: 0.0014 - val_loss: 2.1884e-04 - val_mae: 6.9368e-04\n",
      "Epoch 212/100000\n",
      "110/110 [==============================] - 0s 2ms/step - loss: 2.3040e-04 - mae: 0.0014 - val_loss: 2.1912e-04 - val_mae: 6.9352e-04\n",
      "Epoch 213/100000\n",
      "110/110 [==============================] - 0s 2ms/step - loss: 2.3509e-04 - mae: 0.0014 - val_loss: 2.1893e-04 - val_mae: 6.8892e-04\n",
      "Epoch 214/100000\n",
      "110/110 [==============================] - 0s 2ms/step - loss: 2.3204e-04 - mae: 0.0014 - val_loss: 2.1920e-04 - val_mae: 6.9180e-04\n",
      "Epoch 215/100000\n",
      "110/110 [==============================] - 0s 2ms/step - loss: 2.3224e-04 - mae: 0.0014 - val_loss: 2.1943e-04 - val_mae: 6.9586e-04\n",
      "Epoch 216/100000\n",
      "110/110 [==============================] - 0s 2ms/step - loss: 2.3095e-04 - mae: 0.0013 - val_loss: 2.1946e-04 - val_mae: 6.9011e-04\n",
      "Epoch 217/100000\n",
      "110/110 [==============================] - 0s 2ms/step - loss: 2.2799e-04 - mae: 0.0014 - val_loss: 2.1925e-04 - val_mae: 7.0160e-04\n",
      "Epoch 218/100000\n",
      "110/110 [==============================] - 0s 2ms/step - loss: 2.3176e-04 - mae: 0.0014 - val_loss: 2.1921e-04 - val_mae: 6.9550e-04\n",
      "Epoch 219/100000\n",
      "110/110 [==============================] - 0s 2ms/step - loss: 2.3440e-04 - mae: 0.0014 - val_loss: 2.1917e-04 - val_mae: 6.9628e-04\n",
      "Epoch 220/100000\n",
      "110/110 [==============================] - 0s 2ms/step - loss: 2.2848e-04 - mae: 0.0014 - val_loss: 2.1915e-04 - val_mae: 6.8393e-04\n",
      "Epoch 221/100000\n",
      "110/110 [==============================] - 0s 2ms/step - loss: 2.3371e-04 - mae: 0.0014 - val_loss: 2.1914e-04 - val_mae: 6.9017e-04\n",
      "Epoch 222/100000\n"
     ]
    },
    {
     "name": "stdout",
     "output_type": "stream",
     "text": [
      "110/110 [==============================] - 0s 2ms/step - loss: 2.2915e-04 - mae: 0.0014 - val_loss: 2.1925e-04 - val_mae: 6.8978e-04\n",
      "Epoch 223/100000\n",
      "110/110 [==============================] - 0s 2ms/step - loss: 2.3282e-04 - mae: 0.0013 - val_loss: 2.1912e-04 - val_mae: 6.9817e-04\n",
      "Epoch 224/100000\n",
      "110/110 [==============================] - 0s 2ms/step - loss: 2.3151e-04 - mae: 0.0014 - val_loss: 2.1924e-04 - val_mae: 6.9100e-04\n",
      "Epoch 225/100000\n",
      "110/110 [==============================] - 0s 2ms/step - loss: 2.3257e-04 - mae: 0.0013 - val_loss: 2.1937e-04 - val_mae: 6.9108e-04\n",
      "Epoch 226/100000\n",
      "110/110 [==============================] - 0s 2ms/step - loss: 2.3447e-04 - mae: 0.0014 - val_loss: 2.1918e-04 - val_mae: 6.8756e-04\n",
      "Epoch 227/100000\n",
      "110/110 [==============================] - 0s 2ms/step - loss: 2.3210e-04 - mae: 0.0013 - val_loss: 2.1902e-04 - val_mae: 6.8852e-04\n",
      "Epoch 228/100000\n",
      "110/110 [==============================] - 0s 2ms/step - loss: 2.3245e-04 - mae: 0.0014 - val_loss: 2.1935e-04 - val_mae: 6.8463e-04\n",
      "Epoch 229/100000\n",
      "110/110 [==============================] - 0s 2ms/step - loss: 2.3134e-04 - mae: 0.0014 - val_loss: 2.1926e-04 - val_mae: 6.9094e-04\n",
      "Epoch 230/100000\n",
      "110/110 [==============================] - 0s 2ms/step - loss: 2.2848e-04 - mae: 0.0014 - val_loss: 2.1924e-04 - val_mae: 6.9451e-04\n",
      "Epoch 231/100000\n",
      "110/110 [==============================] - 0s 2ms/step - loss: 2.3615e-04 - mae: 0.0013 - val_loss: 2.1920e-04 - val_mae: 6.9143e-04\n",
      "Epoch 232/100000\n",
      "110/110 [==============================] - 0s 2ms/step - loss: 2.2922e-04 - mae: 0.0013 - val_loss: 2.1918e-04 - val_mae: 6.8887e-04\n",
      "Epoch 233/100000\n",
      "110/110 [==============================] - 0s 2ms/step - loss: 2.3051e-04 - mae: 0.0014 - val_loss: 2.1903e-04 - val_mae: 6.8437e-04\n",
      "Epoch 234/100000\n",
      "110/110 [==============================] - 0s 2ms/step - loss: 2.2954e-04 - mae: 0.0013 - val_loss: 2.1926e-04 - val_mae: 6.8720e-04\n",
      "Epoch 235/100000\n",
      "110/110 [==============================] - 0s 2ms/step - loss: 2.3053e-04 - mae: 0.0013 - val_loss: 2.1928e-04 - val_mae: 6.9147e-04\n",
      "Epoch 236/100000\n",
      "110/110 [==============================] - 0s 2ms/step - loss: 2.3629e-04 - mae: 0.0014 - val_loss: 2.1908e-04 - val_mae: 6.8053e-04\n",
      "Epoch 237/100000\n",
      "110/110 [==============================] - 0s 2ms/step - loss: 2.3382e-04 - mae: 0.0014 - val_loss: 2.1923e-04 - val_mae: 6.8627e-04\n",
      "Epoch 238/100000\n",
      "110/110 [==============================] - 0s 2ms/step - loss: 2.3212e-04 - mae: 0.0013 - val_loss: 2.1919e-04 - val_mae: 6.8773e-04\n",
      "Epoch 239/100000\n",
      "110/110 [==============================] - 0s 2ms/step - loss: 2.2422e-04 - mae: 0.0013 - val_loss: 2.1905e-04 - val_mae: 6.8740e-04\n",
      "Epoch 240/100000\n",
      "110/110 [==============================] - 0s 2ms/step - loss: 2.2929e-04 - mae: 0.0014 - val_loss: 2.1921e-04 - val_mae: 6.8574e-04\n",
      "Epoch 241/100000\n",
      "110/110 [==============================] - 0s 2ms/step - loss: 2.3040e-04 - mae: 0.0013 - val_loss: 2.1916e-04 - val_mae: 6.7724e-04\n",
      "Epoch 242/100000\n",
      "110/110 [==============================] - 0s 2ms/step - loss: 2.3314e-04 - mae: 0.0013 - val_loss: 2.1903e-04 - val_mae: 6.8159e-04\n",
      "Epoch 243/100000\n",
      "110/110 [==============================] - 0s 2ms/step - loss: 2.3207e-04 - mae: 0.0013 - val_loss: 2.1924e-04 - val_mae: 6.8508e-04\n",
      "Epoch 244/100000\n",
      "110/110 [==============================] - 0s 2ms/step - loss: 2.3077e-04 - mae: 0.0013 - val_loss: 2.1921e-04 - val_mae: 6.7785e-04\n",
      "Epoch 245/100000\n",
      "110/110 [==============================] - 0s 2ms/step - loss: 2.3135e-04 - mae: 0.0013 - val_loss: 2.1904e-04 - val_mae: 6.7705e-04\n",
      "Epoch 246/100000\n",
      "110/110 [==============================] - 0s 2ms/step - loss: 2.2989e-04 - mae: 0.0014 - val_loss: 2.1901e-04 - val_mae: 6.8185e-04\n",
      "Epoch 247/100000\n",
      "110/110 [==============================] - 0s 2ms/step - loss: 2.2878e-04 - mae: 0.0013 - val_loss: 2.1896e-04 - val_mae: 6.8536e-04\n",
      "Epoch 248/100000\n",
      "110/110 [==============================] - 0s 2ms/step - loss: 2.3377e-04 - mae: 0.0013 - val_loss: 2.1911e-04 - val_mae: 6.8216e-04\n",
      "Epoch 249/100000\n",
      "110/110 [==============================] - 0s 2ms/step - loss: 2.2913e-04 - mae: 0.0013 - val_loss: 2.1941e-04 - val_mae: 6.8848e-04\n",
      "Epoch 250/100000\n",
      "110/110 [==============================] - 0s 2ms/step - loss: 2.3355e-04 - mae: 0.0013 - val_loss: 2.1926e-04 - val_mae: 6.8359e-04\n",
      "Epoch 251/100000\n",
      "110/110 [==============================] - 0s 2ms/step - loss: 2.3101e-04 - mae: 0.0013 - val_loss: 2.1898e-04 - val_mae: 6.7737e-04\n",
      "Epoch 252/100000\n",
      "110/110 [==============================] - 0s 2ms/step - loss: 2.2642e-04 - mae: 0.0013 - val_loss: 2.1926e-04 - val_mae: 6.8461e-04\n",
      "Epoch 253/100000\n",
      "110/110 [==============================] - 0s 2ms/step - loss: 2.2922e-04 - mae: 0.0013 - val_loss: 2.1933e-04 - val_mae: 6.8406e-04\n",
      "Epoch 254/100000\n",
      "110/110 [==============================] - 0s 2ms/step - loss: 2.2950e-04 - mae: 0.0012 - val_loss: 2.1914e-04 - val_mae: 6.7962e-04\n",
      "Epoch 255/100000\n",
      "110/110 [==============================] - 0s 2ms/step - loss: 2.2931e-04 - mae: 0.0013 - val_loss: 2.1921e-04 - val_mae: 6.7753e-04\n",
      "Epoch 256/100000\n",
      "110/110 [==============================] - 0s 2ms/step - loss: 2.3192e-04 - mae: 0.0013 - val_loss: 2.1910e-04 - val_mae: 6.7853e-04\n",
      "Epoch 257/100000\n",
      "110/110 [==============================] - 0s 2ms/step - loss: 2.3229e-04 - mae: 0.0013 - val_loss: 2.1915e-04 - val_mae: 6.7435e-04\n",
      "Epoch 258/100000\n",
      "110/110 [==============================] - 0s 2ms/step - loss: 2.3637e-04 - mae: 0.0013 - val_loss: 2.1919e-04 - val_mae: 6.7313e-04\n",
      "Epoch 259/100000\n",
      "110/110 [==============================] - 0s 2ms/step - loss: 2.3483e-04 - mae: 0.0013 - val_loss: 2.1908e-04 - val_mae: 6.7755e-04\n",
      "Epoch 260/100000\n",
      "110/110 [==============================] - 0s 2ms/step - loss: 2.3327e-04 - mae: 0.0013 - val_loss: 2.1931e-04 - val_mae: 6.7864e-04\n",
      "Epoch 261/100000\n",
      "110/110 [==============================] - 0s 2ms/step - loss: 2.3218e-04 - mae: 0.0012 - val_loss: 2.1898e-04 - val_mae: 6.8064e-04\n",
      "Epoch 262/100000\n",
      "110/110 [==============================] - 0s 2ms/step - loss: 2.2862e-04 - mae: 0.0013 - val_loss: 2.1908e-04 - val_mae: 6.8090e-04\n",
      "Epoch 263/100000\n",
      "110/110 [==============================] - 0s 2ms/step - loss: 2.3066e-04 - mae: 0.0013 - val_loss: 2.1914e-04 - val_mae: 6.7381e-04\n",
      "Epoch 264/100000\n",
      "110/110 [==============================] - 0s 2ms/step - loss: 2.3275e-04 - mae: 0.0013 - val_loss: 2.1915e-04 - val_mae: 6.7230e-04\n",
      "Epoch 265/100000\n",
      "110/110 [==============================] - 0s 2ms/step - loss: 2.3008e-04 - mae: 0.0012 - val_loss: 2.1928e-04 - val_mae: 6.7708e-04\n",
      "Epoch 266/100000\n",
      "110/110 [==============================] - 0s 2ms/step - loss: 2.2829e-04 - mae: 0.0013 - val_loss: 2.1914e-04 - val_mae: 6.7445e-04\n",
      "Epoch 267/100000\n",
      "110/110 [==============================] - 0s 2ms/step - loss: 2.3284e-04 - mae: 0.0013 - val_loss: 2.1931e-04 - val_mae: 6.7232e-04\n",
      "Epoch 268/100000\n",
      "110/110 [==============================] - 0s 2ms/step - loss: 2.3113e-04 - mae: 0.0013 - val_loss: 2.1915e-04 - val_mae: 6.7368e-04\n",
      "Epoch 269/100000\n",
      "110/110 [==============================] - 0s 2ms/step - loss: 2.2512e-04 - mae: 0.0013 - val_loss: 2.1919e-04 - val_mae: 6.7087e-04\n",
      "Epoch 270/100000\n",
      "110/110 [==============================] - 0s 2ms/step - loss: 2.3028e-04 - mae: 0.0013 - val_loss: 2.1912e-04 - val_mae: 6.7155e-04\n",
      "Epoch 271/100000\n",
      "110/110 [==============================] - 0s 2ms/step - loss: 2.3208e-04 - mae: 0.0013 - val_loss: 2.1893e-04 - val_mae: 6.7480e-04\n",
      "Epoch 272/100000\n",
      "110/110 [==============================] - 0s 2ms/step - loss: 2.3009e-04 - mae: 0.0013 - val_loss: 2.1923e-04 - val_mae: 6.7394e-04\n",
      "Epoch 273/100000\n",
      "110/110 [==============================] - 0s 2ms/step - loss: 2.3366e-04 - mae: 0.0013 - val_loss: 2.1939e-04 - val_mae: 6.7866e-04\n",
      "Epoch 274/100000\n",
      "110/110 [==============================] - 0s 2ms/step - loss: 2.3248e-04 - mae: 0.0013 - val_loss: 2.1927e-04 - val_mae: 6.7105e-04\n",
      "Epoch 275/100000\n",
      "110/110 [==============================] - 0s 2ms/step - loss: 2.3191e-04 - mae: 0.0013 - val_loss: 2.1904e-04 - val_mae: 6.7552e-04\n",
      "Epoch 276/100000\n",
      "110/110 [==============================] - 0s 2ms/step - loss: 2.3285e-04 - mae: 0.0012 - val_loss: 2.1890e-04 - val_mae: 6.7281e-04\n"
     ]
    },
    {
     "name": "stdout",
     "output_type": "stream",
     "text": [
      "Epoch 277/100000\n",
      "110/110 [==============================] - 0s 2ms/step - loss: 2.2996e-04 - mae: 0.0013 - val_loss: 2.1913e-04 - val_mae: 6.6937e-04\n",
      "Epoch 278/100000\n",
      "110/110 [==============================] - 0s 2ms/step - loss: 2.2724e-04 - mae: 0.0012 - val_loss: 2.1915e-04 - val_mae: 6.7592e-04\n",
      "Epoch 279/100000\n",
      "110/110 [==============================] - 0s 2ms/step - loss: 2.3052e-04 - mae: 0.0012 - val_loss: 2.1914e-04 - val_mae: 6.7686e-04\n",
      "Epoch 280/100000\n",
      "110/110 [==============================] - 0s 2ms/step - loss: 2.3280e-04 - mae: 0.0013 - val_loss: 2.1906e-04 - val_mae: 6.7620e-04\n",
      "Epoch 281/100000\n",
      "110/110 [==============================] - 0s 2ms/step - loss: 2.3257e-04 - mae: 0.0013 - val_loss: 2.1912e-04 - val_mae: 6.6562e-04\n",
      "Restoring model weights from the end of the best epoch.\n",
      "Epoch 00281: early stopping\n"
     ]
    }
   ],
   "source": [
    "model.compile(\n",
    "    optimizer = \"rmsprop\", loss = \"mse\", metrics = [\"mae\"]\n",
    ")\n",
    "\n",
    "es = EarlyStopping(monitor='val_loss', min_delta = 0, patience = 100, verbose = 1, restore_best_weights = True)\n",
    "\n",
    "log = model.fit(\n",
    "    X_std,\n",
    "    Y_std,\n",
    "    batch_size = batch_size,\n",
    "    epochs = epochs,\n",
    "    callbacks = [ es ],\n",
    "    validation_split = 0.2,\n",
    ")"
   ]
  },
  {
   "cell_type": "code",
   "execution_count": 22,
   "metadata": {
    "ExecuteTime": {
     "end_time": "2021-04-25T14:44:02.441854Z",
     "start_time": "2021-04-25T14:44:02.061450Z"
    }
   },
   "outputs": [
    {
     "data": {
      "image/png": "[encoded data removed]",
      "text/plain": [
       "<Figure size 1152x576 with 1 Axes>"
      ]
     },
     "metadata": {
      "needs_background": "light"
     },
     "output_type": "display_data"
    },
    {
     "data": {
      "image/png": "[encoded data removed]",
      "text/plain": [
       "<Figure size 1152x576 with 1 Axes>"
      ]
     },
     "metadata": {
      "needs_background": "light"
     },
     "output_type": "display_data"
    }
   ],
   "source": [
    "plt.plot(log.history['mae'], label = 'mokymo')\n",
    "plt.plot(log.history['val_mae'], label = 'validavimo')\n",
    "plt.ylabel('mae')\n",
    "plt.xlabel('epocha')\n",
    "plt.legend()\n",
    "plt.show()\n",
    "\n",
    "plt.plot(log.history['loss'], '--', label = 'mokymo')\n",
    "plt.plot(log.history['val_loss'], '--', label = 'validavimo')\n",
    "plt.ylabel('netektis')\n",
    "plt.xlabel('epocha')\n",
    "plt.legend()\n",
    "plt.show()"
   ]
  },
  {
   "cell_type": "code",
   "execution_count": 150,
   "metadata": {},
   "outputs": [
    {
     "name": "stdout",
     "output_type": "stream",
     "text": [
      "INFO:tensorflow:Assets written to: cc_model/assets\n"
     ]
    }
   ],
   "source": [
    "# Save model\n",
    "model.save(\"cc_model\")"
   ]
  },
  {
   "cell_type": "code",
   "execution_count": 151,
   "metadata": {},
   "outputs": [],
   "source": [
    "del model"
   ]
  },
  {
   "cell_type": "markdown",
   "metadata": {},
   "source": [
    "## Inference"
   ]
  },
  {
   "cell_type": "code",
   "execution_count": 14,
   "metadata": {},
   "outputs": [],
   "source": [
    "model = keras.models.load_model(\"cc_model\")"
   ]
  },
  {
   "cell_type": "code",
   "execution_count": 15,
   "metadata": {
    "ExecuteTime": {
     "end_time": "2021-04-25T15:02:43.649357Z",
     "start_time": "2021-04-25T15:02:43.453271Z"
    }
   },
   "outputs": [
    {
     "data": {
      "text/plain": [
       "(4368, 3822)"
      ]
     },
     "execution_count": 15,
     "metadata": {},
     "output_type": "execute_result"
    }
   ],
   "source": [
    "Y_std_pred = model.predict(X_std)\n",
    "Y_std_pred.shape"
   ]
  },
  {
   "cell_type": "code",
   "execution_count": 16,
   "metadata": {},
   "outputs": [
    {
     "data": {
      "text/plain": [
       "(4368, 3822)"
      ]
     },
     "execution_count": 16,
     "metadata": {},
     "output_type": "execute_result"
    }
   ],
   "source": [
    "Y_pred = np.round((Y_std_pred + np.min(Y)) * (np.max(Y) - np.min(Y)))\n",
    "Y_pred.shape"
   ]
  },
  {
   "cell_type": "code",
   "execution_count": 17,
   "metadata": {
    "ExecuteTime": {
     "end_time": "2021-04-25T15:02:46.122326Z",
     "start_time": "2021-04-25T15:02:46.110383Z"
    }
   },
   "outputs": [
    {
     "data": {
      "text/plain": [
       "0.9993885409897804"
      ]
     },
     "execution_count": 17,
     "metadata": {},
     "output_type": "execute_result"
    }
   ],
   "source": [
    "acc = 0.\n",
    "for i in range(Y.shape[0]):\n",
    "    acc = acc + accuracy_score(Y[i], Y_pred[i])\n",
    "acc = acc / Y.shape[0]\n",
    "acc"
   ]
  },
  {
   "cell_type": "code",
   "execution_count": null,
   "metadata": {},
   "outputs": [],
   "source": []
  }
 ],
 "metadata": {
  "kernelspec": {
   "display_name": "covid-seq2seq",
   "language": "python",
   "name": "covid-seq2seq"
  },
  "language_info": {
   "codemirror_mode": {
    "name": "ipython",
    "version": 3
   },
   "file_extension": ".py",
   "mimetype": "text/x-python",
   "name": "python",
   "nbconvert_exporter": "python",
   "pygments_lexer": "ipython3",
   "version": "3.8.5"
  },
  "varInspector": {
   "cols": {
    "lenName": 16,
    "lenType": 16,
    "lenVar": 40
   },
   "kernels_config": {
    "python": {
     "delete_cmd_postfix": "",
     "delete_cmd_prefix": "del ",
     "library": "var_list.py",
     "varRefreshCmd": "print(var_dic_list())"
    },
    "r": {
     "delete_cmd_postfix": ") ",
     "delete_cmd_prefix": "rm(",
     "library": "var_list.r",
     "varRefreshCmd": "cat(var_dic_list()) "
    }
   },
   "types_to_exclude": [
    "module",
    "function",
    "builtin_function_or_method",
    "instance",
    "_Feature"
   ],
   "window_display": false
  }
 },
 "nbformat": 4,
 "nbformat_minor": 2
}
