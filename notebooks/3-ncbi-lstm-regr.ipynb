{
 "cells": [
  {
   "cell_type": "markdown",
   "metadata": {},
   "source": [
    "## Character-level recurrent sequence-to-sequence model"
   ]
  },
  {
   "cell_type": "markdown",
   "metadata": {},
   "source": [
    "Example from https://keras.io/examples/nlp/lstm_seq2seq/  \n",
    "Older post https://blog.keras.io/a-ten-minute-introduction-to-sequence-to-sequence-learning-in-keras.html"
   ]
  },
  {
   "cell_type": "code",
   "execution_count": 1,
   "metadata": {
    "ExecuteTime": {
     "end_time": "2021-04-25T12:55:38.244466Z",
     "start_time": "2021-04-25T12:55:38.237634Z"
    }
   },
   "outputs": [],
   "source": [
    "import numpy as np\n",
    "import pandas as pd\n",
    "from itertools import chain\n",
    "import tensorflow as tf\n",
    "from tensorflow import keras\n",
    "from tensorflow.keras.callbacks import EarlyStopping\n",
    "#from keras.utils import plot_model"
   ]
  },
  {
   "cell_type": "code",
   "execution_count": 2,
   "metadata": {
    "ExecuteTime": {
     "end_time": "2021-04-25T12:35:23.829688Z",
     "start_time": "2021-04-25T12:35:23.645571Z"
    }
   },
   "outputs": [],
   "source": [
    "pairs = pd.read_csv(\"data/ncbi_02/RAxML/pairs.csv\")\n",
    "sgenes = pd.read_csv(\"data/ncbi_02/ncbi_sgene_good_unique_aligned_cleaned.csv\")"
   ]
  },
  {
   "cell_type": "code",
   "execution_count": 3,
   "metadata": {
    "ExecuteTime": {
     "end_time": "2021-04-25T12:57:25.528455Z",
     "start_time": "2021-04-25T12:57:25.519843Z"
    }
   },
   "outputs": [
    {
     "name": "stdout",
     "output_type": "stream",
     "text": [
      "[name: \"/device:CPU:0\"\n",
      "device_type: \"CPU\"\n",
      "memory_limit: 268435456\n",
      "locality {\n",
      "}\n",
      "incarnation: 18443453671662371667\n",
      ", name: \"/device:GPU:0\"\n",
      "device_type: \"GPU\"\n",
      "memory_limit: 6823215104\n",
      "locality {\n",
      "  bus_id: 1\n",
      "  links {\n",
      "    link {\n",
      "      device_id: 1\n",
      "      type: \"StreamExecutor\"\n",
      "      strength: 1\n",
      "    }\n",
      "  }\n",
      "}\n",
      "incarnation: 16417287848321326972\n",
      "physical_device_desc: \"device: 0, name: NVIDIA GeForce GTX 1080, pci bus id: 0000:01:00.0, compute capability: 6.1\"\n",
      ", name: \"/device:GPU:1\"\n",
      "device_type: \"GPU\"\n",
      "memory_limit: 7503609856\n",
      "locality {\n",
      "  bus_id: 1\n",
      "  links {\n",
      "    link {\n",
      "      type: \"StreamExecutor\"\n",
      "      strength: 1\n",
      "    }\n",
      "  }\n",
      "}\n",
      "incarnation: 16272798151193327551\n",
      "physical_device_desc: \"device: 1, name: NVIDIA GeForce GTX 1080, pci bus id: 0000:02:00.0, compute capability: 6.1\"\n",
      "]\n"
     ]
    }
   ],
   "source": [
    "from tensorflow.python.client import device_lib\n",
    "print(device_lib.list_local_devices())"
   ]
  },
  {
   "cell_type": "markdown",
   "metadata": {},
   "source": [
    "## Data prep"
   ]
  },
  {
   "cell_type": "code",
   "execution_count": 5,
   "metadata": {
    "ExecuteTime": {
     "end_time": "2021-04-25T12:37:29.776084Z",
     "start_time": "2021-04-25T12:37:29.768320Z"
    }
   },
   "outputs": [
    {
     "data": {
      "text/plain": [
       "100"
      ]
     },
     "execution_count": 5,
     "metadata": {},
     "output_type": "execute_result"
    }
   ],
   "source": [
    "num_pairs = 100      # Number of samples to train on.\n",
    "#num_pairs = len(pairs)\n",
    "num_pairs"
   ]
  },
  {
   "cell_type": "code",
   "execution_count": 6,
   "metadata": {
    "ExecuteTime": {
     "end_time": "2021-04-25T12:55:33.473167Z",
     "start_time": "2021-04-25T12:55:33.469618Z"
    }
   },
   "outputs": [],
   "source": [
    "# Vectorize the data.\n",
    "input_texts = []\n",
    "target_texts = []\n",
    "input_characters = set()\n",
    "target_characters = set()"
   ]
  },
  {
   "cell_type": "code",
   "execution_count": 7,
   "metadata": {
    "ExecuteTime": {
     "end_time": "2021-04-25T12:55:39.954535Z",
     "start_time": "2021-04-25T12:55:39.803811Z"
    }
   },
   "outputs": [],
   "source": [
    "for index, pair in pairs.iterrows():\n",
    "    \n",
    "    #if index == num_pairs:\n",
    "    #    break\n",
    "    \n",
    "    parent_sgene = sgenes[sgenes[\"accession\"]==pair[\"parent\"]][\"sgene_nucleotide\"].values[0]\n",
    "    child_sgene = sgenes[sgenes[\"accession\"]==pair[\"child\"]][\"sgene_nucleotide\"].values[0]\n",
    "    \n",
    "    input_texts.append(parent_sgene)\n",
    "    target_texts.append(child_sgene)\n",
    "\n",
    "input_characters = set(chain.from_iterable(input_texts))\n",
    "target_characters = set(chain.from_iterable(target_texts))"
   ]
  },
  {
   "cell_type": "code",
   "execution_count": 8,
   "metadata": {
    "ExecuteTime": {
     "end_time": "2021-04-25T12:56:04.610442Z",
     "start_time": "2021-04-25T12:56:04.598008Z"
    }
   },
   "outputs": [
    {
     "name": "stdout",
     "output_type": "stream",
     "text": [
      "input_texts  4368\n",
      "target_texts 4368\n",
      "input_characters 4 {'A', 'T', 'G', 'C'}\n",
      "target_characters 4 {'A', 'T', 'G', 'C'}\n"
     ]
    }
   ],
   "source": [
    "print(\"input_texts \", len(input_texts))\n",
    "print(\"target_texts\", len(target_texts))\n",
    "print(\"input_characters\", len(input_characters), input_characters)\n",
    "print(\"target_characters\", len(target_characters), target_characters)"
   ]
  },
  {
   "cell_type": "code",
   "execution_count": 9,
   "metadata": {
    "ExecuteTime": {
     "end_time": "2021-04-25T12:56:14.861645Z",
     "start_time": "2021-04-25T12:56:14.842728Z"
    }
   },
   "outputs": [
    {
     "name": "stdout",
     "output_type": "stream",
     "text": [
      "Number of samples: 4368\n",
      "Number of unique input tokens: 4\n",
      "Number of unique output tokens: 4\n",
      "Max sequence length for inputs: 3822\n",
      "Max sequence length for outputs: 3822\n"
     ]
    }
   ],
   "source": [
    "input_characters = sorted(list(input_characters))\n",
    "target_characters = sorted(list(target_characters))\n",
    "num_encoder_tokens = len(input_characters)\n",
    "num_decoder_tokens = len(target_characters)\n",
    "max_encoder_seq_length = max([len(txt) for txt in input_texts])\n",
    "max_decoder_seq_length = max([len(txt) for txt in target_texts])\n",
    "\n",
    "print(\"Number of samples:\", len(input_texts))\n",
    "print(\"Number of unique input tokens:\", num_encoder_tokens)\n",
    "print(\"Number of unique output tokens:\", num_decoder_tokens)\n",
    "print(\"Max sequence length for inputs:\", max_encoder_seq_length)\n",
    "print(\"Max sequence length for outputs:\", max_decoder_seq_length)"
   ]
  },
  {
   "cell_type": "code",
   "execution_count": 10,
   "metadata": {
    "ExecuteTime": {
     "end_time": "2021-04-25T12:56:25.784425Z",
     "start_time": "2021-04-25T12:56:25.780950Z"
    }
   },
   "outputs": [
    {
     "name": "stdout",
     "output_type": "stream",
     "text": [
      "input_token_index 4 {'A': 0, 'C': 1, 'G': 2, 'T': 3}\n",
      "target_token_index 4 {'A': 0, 'C': 1, 'G': 2, 'T': 3}\n"
     ]
    }
   ],
   "source": [
    "input_token_index = dict([(char, i) for i, char in enumerate(input_characters)])\n",
    "target_token_index = dict([(char, i) for i, char in enumerate(target_characters)])\n",
    "print(\"input_token_index\", len(input_token_index), input_token_index)\n",
    "print(\"target_token_index\", len(target_token_index), target_token_index)"
   ]
  },
  {
   "cell_type": "code",
   "execution_count": 11,
   "metadata": {
    "ExecuteTime": {
     "end_time": "2021-04-25T12:56:28.537863Z",
     "start_time": "2021-04-25T12:56:28.525583Z"
    }
   },
   "outputs": [
    {
     "name": "stdout",
     "output_type": "stream",
     "text": [
      "encoder_input_data.shape (4368, 3822)\n",
      "decoder_input_data.shape (4368, 3822)\n",
      "decoder_target_data.shape (4368, 3822)\n"
     ]
    }
   ],
   "source": [
    "encoder_input_data = np.zeros(\n",
    "    (len(input_texts), max_encoder_seq_length), dtype=\"float32\"\n",
    ")\n",
    "decoder_input_data = np.zeros(\n",
    "    (len(input_texts), max_decoder_seq_length), dtype=\"float32\"\n",
    ")\n",
    "decoder_target_data = np.zeros(\n",
    "    (len(input_texts), max_decoder_seq_length), dtype=\"float32\"\n",
    ")\n",
    "print(\"encoder_input_data.shape\", encoder_input_data.shape)\n",
    "print(\"decoder_input_data.shape\", decoder_input_data.shape)\n",
    "print(\"decoder_target_data.shape\", decoder_target_data.shape)"
   ]
  },
  {
   "cell_type": "code",
   "execution_count": 14,
   "metadata": {
    "ExecuteTime": {
     "end_time": "2021-04-25T12:57:16.488106Z",
     "start_time": "2021-04-25T12:57:15.892410Z"
    }
   },
   "outputs": [],
   "source": [
    "for i, (input_text, target_text) in enumerate(zip(input_texts, target_texts)):\n",
    "    \n",
    "    for t, char in enumerate(input_text):\n",
    "        \n",
    "        denom = input_token_index[char] * 1.0\n",
    "        encoder_input_data[i, t] = 1.0 / denom if denom > 0. else 0.\n",
    "    \n",
    "    for t, char in enumerate(target_text):\n",
    "        \n",
    "        # decoder_target_data is ahead of decoder_input_data by one timestep\n",
    "        decoder_input_data[i, t] = 1.0 / denom if denom > 0. else 0.\n",
    "        \n",
    "        if t > 0:\n",
    "            # decoder_target_data will be ahead by one timestep\n",
    "            # and will not include the start character.\n",
    "            \n",
    "            denom = target_token_index[char] * 1.0\n",
    "            decoder_target_data[i, t - 1] = 1.0 / denom if denom > 0. else 0."
   ]
  },
  {
   "cell_type": "code",
   "execution_count": 15,
   "metadata": {},
   "outputs": [
    {
     "data": {
      "text/plain": [
       "'ATGTTTGTTTTTCTTGTTTTATTGCCACTAGTCTCTAGTCAGTGTGTTAATCTTACAACCAGAACTCAATTACCCCCTGCATACACTAATTCTTTCACACGTGGTGTTTATTACCCTGACAAAGTTTTCAGATCCTCAGTTTTACATTCAACTCAGGACTTGTTCTTACCTTTCTTTTCCAATGTTACTTGGTTCCATGCTATACATGTCTCTGGGACCAATGGTACTAAGAGGTTTGATAACCCTGTCCTACCATTTAATGATGGTGTTTATTTTGCTTCCACTGAGAAGTCTAACATAATAAGAGGCTGGATTTTTGGTACTACTTTAGATTCGAAGACCCAGTCCCTACTTATTGTTAATAACGCTACTAATGTTGTTATTAAAGTCTGTGAATTTCAATTTTGTAATGATCCATTTTTGGGTGTTTATTACCACAAAAACAACAAAAGTTGGATGGAAAGTGAGTTCAGAGTTTATTCTAGTGCGAATAATTGCACTTTTGAATATGTCTCTCAGCCTTTTCTTATGGACCTTGAAGGAAAACAGGGTAATTTCAAAAATCTTAGGGAATTTGTGTTTAAGAATATTGATGGTTATTTTAAAATATATTCTAAGCACACGCCTATTAATTTAGTGCGTGATCTCCCTCAGGGTTTTTCGGCTTTAGAACCATTGGTAGATTTGCCAATAGGTATTAACATCACTAGGTTTCAAACTTTACTTGCTTTACATAGAAGTTATTTGACTCCTGGTGATTCTTCTTCAGGTTGGACAGCTGGTGCTGCAGCTTATTATGTGGGTTATCTTCAACCTAGGACTTTTCTATTAAAATATAATGAAAATGGAACCATTACAGATGCTGTAGACTGTGCACTTGACCCTCTCTCAGAAACAAAGTGTACGTTGAAATCCTTCACTGTAGAAAAAGGAATCTATCAAACTTCTAACTTTAGAGTCCAACCAACAGAATCTATTGTTAGATTTCCTAATATTACAAACTTGTGCCCTTTTGGTGAAGTTTTTAACGCCACCAGATTTGCATCTGTTTATGCTTGGAACAGGAAGAGAATCAGCAACTGTGTTGCTGATTATTCTGTCCTATATAATTCCGCATCATTTTCCACTTTTAAGTGTTATGGAGTGTCTCCTACTAAATTAAATGATCTCTGCTTTACTAATGTCTATGCAGATTCATTTGTAATTAGAGGTGATGAAGTCAGACAAATCGCTCCAGGGCAAACTGGAAAGATTGCTGATTATAATTATAAATTACCAGATGATTTTACAGGCTGCGTTATAGCTTGGAATTCTAACAATCTTGATTCTAAGGTTGGTGGTAATTATAATTACCTGTATAGATTGTTTAGGAAGTCTAATCTCAAACCTTTTGAGAGAGATATTTCAACTGAAATCTATCAGGCCGGTAGCACACCTTGTAATGGTGTTGAAGGTTTTAATTGTTACTTTCCTTTACAATCATATGGTTTCCAACCCACTAATGGTGTTGGTTACCAACCATACAGAGTAGTAGTACTTTCTTTTGAACTTCTACATGCACCAGCAACTGTTTGTGGACCTAAAAAGTCTACTAATTTGGTTAAAAACAAATGTGTCAATTTCAACTTCAATGGTTTAACAGGCACAGGTGTTCTTACTGAGTCTAACAAAAAGTTTCTGCCTTTCCAACAATTTGGCAGAGACATTGCTGACACTACTGATGCTGTCCGTGATCCACAGACACTTGAGATTCTTGACATTACACCATGTTCTTTTGGTGGTGTCAGTGTTATAACACCAGGAACAAATACTTCTAACCAGGTTGCTGTTCTTTATCAGGATGTTAACTGCACAGAAGTCCCTGTTGCTATTCATGCAGATCAACTTACTCCTACTTGGCGTGTTTATTCTACAGGTTCTAATGTTTTTCAAACACGTGCAGGCTGTTTAATAGGGGCTGAACATGTCAACAACTCATATGAGTGTGACATACCCATTGGTGCAGGTATATGCGCTAGTTATCAGACTCAGACTAATTCTCCTCGGCGGGCACGTAGTGTAGCTAGTCAATCCATCATTGCCTACACTATGTCACTTGGTGCAGAAAATTCAGTTGCTTACTCTAATAACTCTATTGCCATACCCACAAATTTTACTATTAGTGTTACCACAGAAATTCTACCAGTGTCTATGACCAAGACATCAGTAGATTGTACAATGTACATTTGTGGTGATTCAACTGAATGCAGCAATCTTTTGTTGCAATATGGCAGTTTTTGTACACAATTAAACCGTGCTTTAACTGGAATAGCTGTTGAACAAGACAAAAACACCCAAGAAGTTTTTGCACAAGTCAAACAAATTTACAAAACACCACCAATTAAAGATTTTGGTGGTTTTAATTTTTCACAAATATTACCAGATCCATCAAAACCAAGCAAGAGGTCATTTATTGAAGATCTACTTTTCAACAAAGTGACACTTGCAGATGCTGGCTTCATCAAACAATATGGTGATTGCCTTGGTGATATTGCTGCTAGAGACCTCATTTGTGCACAAAAGTTTAACGGCCTTACTGTTTTGCCACCTTTGCTCACAGATGAAATGATTGCTCAATACACTTCTGCACTGTTAGCGGGTACAATCACTTCTGGTTGGACCTTTGGTGCAGGTGCTGCATTACAAATACCATTTGCTATGCAAATGGCTTATAGGTTTAATGGTATTGGAGTTACACAGAATGTTCTCTATGAGAACCAAAAATTGATTGCCAACCAATTTAATAGTGCTATTGGCAAAATTCAAGACTCACTTTCTTCCACAGCAAGTGCACTTGGAAAACTTCAAGATGTGGTCAACCAAAATGCACAAGCTTTAAACACGCTTGTTAAACAACTTAGCTCCAATTTTGGTGCAATTTCAAGTGTTTTAAATGATATCCTTTCACGTCTTGACAAAGTTGAGGCTGAAGTGCAAATTGATAGGTTGATCACAGGCAGACTTCAAAGTTTGCAGACATATGTGACTCAACAATTAATTAGAGCTGCAGAAATCAGAGCTTCTGCTAATCTTGCTGCTACTAAAATGTCAGAGTGTGTACTTGGACAATCAAAAAGAGTTGATTTTTGTGGAAAGGGCTATCATCTTATGTCCTTCCCTCAGTCAGCACCTCATGGTGTAGTCTTCTTGCATGTGACTTATGTCCCTGCACAAGAAAAGAACTTCACAACTGCTCCTGCCATTTGTCATGATGGAAAAGCACACTTTCCTCGTGAAGGTGTCTTTGTTTCAAATGGCACACACTGGTTTGTAACACAAAGGAATTTTTATGAACCACAAATCATTACTACAGACAACACATTTGTGTCTGGTAACTGTGATGTTGTAATAGGAATTGTCAACAACACAGTTTATGATCCTTTGCAACCTGAATTAGACTCATTCAAGGAGGAGTTAGATAAATATTTTAAGAATCATACATCACCAGATGTTGATTTAGGTGACATCTCTGGCATTAATGCTTCAGTTGTAAACATTCAAAAAGAAATTGACCGCCTCAATGAGGTTGCCAAGAATTTAAATGAATCTCTCATCGATCTCCAAGAACTTGGAAAGTATGAGCAGTATATAAAATGGCCATGGTACATTTGGCTAGGTTTTATAGCTGGCTTGATTGCCATAGTAATGGTGACAATTATGCTTTGCTGTATGACCAGTTGCTGTAGTTGTCTCAAGGGCTGTTGTTCTTGTGGATCCTGCTGCAAATTTGATGAAGACGACTCTGAGCCAGTGCTCAAAGGAGTCAAATTACATTACACATAA'"
      ]
     },
     "execution_count": 15,
     "metadata": {},
     "output_type": "execute_result"
    }
   ],
   "source": [
    "input_texts[0]"
   ]
  },
  {
   "cell_type": "code",
   "execution_count": 16,
   "metadata": {},
   "outputs": [
    {
     "data": {
      "text/plain": [
       "array([0.        , 0.33333334, 0.5       , ..., 0.33333334, 0.        ,\n",
       "       0.        ], dtype=float32)"
      ]
     },
     "execution_count": 16,
     "metadata": {},
     "output_type": "execute_result"
    }
   ],
   "source": [
    "y_true = encoder_input_data[0]\n",
    "y_true"
   ]
  },
  {
   "cell_type": "code",
   "execution_count": 17,
   "metadata": {},
   "outputs": [
    {
     "data": {
      "text/plain": [
       "array([0.        , 0.        , 0.33333334, ..., 0.        , 0.33333334,\n",
       "       0.        ], dtype=float32)"
      ]
     },
     "execution_count": 17,
     "metadata": {},
     "output_type": "execute_result"
    }
   ],
   "source": [
    "y_pred = decoder_input_data[0]\n",
    "y_pred"
   ]
  },
  {
   "cell_type": "code",
   "execution_count": 18,
   "metadata": {},
   "outputs": [
    {
     "data": {
      "text/plain": [
       "array([0.33333334, 0.5       , 0.33333334, ..., 0.        , 0.        ,\n",
       "       0.        ], dtype=float32)"
      ]
     },
     "execution_count": 18,
     "metadata": {},
     "output_type": "execute_result"
    }
   ],
   "source": [
    "decoder_target_data[0]"
   ]
  },
  {
   "cell_type": "code",
   "execution_count": 20,
   "metadata": {},
   "outputs": [
    {
     "data": {
      "text/plain": [
       "0.2570934"
      ]
     },
     "execution_count": 20,
     "metadata": {},
     "output_type": "execute_result"
    }
   ],
   "source": [
    "keras.losses.MeanSquaredError()(y_true, y_pred).numpy()"
   ]
  },
  {
   "cell_type": "markdown",
   "metadata": {},
   "source": [
    "## Construct model"
   ]
  },
  {
   "cell_type": "code",
   "execution_count": 21,
   "metadata": {},
   "outputs": [],
   "source": [
    "latent_dim = 64      # Latent dimensionality of the encoding space.\n",
    "batch_size = 32       # Batch size for training.\n",
    "epochs = 1000         # Number of epochs to train for."
   ]
  },
  {
   "cell_type": "code",
   "execution_count": 37,
   "metadata": {
    "ExecuteTime": {
     "end_time": "2021-04-25T12:57:18.047479Z",
     "start_time": "2021-04-25T12:57:17.620960Z"
    }
   },
   "outputs": [],
   "source": [
    "# Define an input sequence and process it.\n",
    "encoder_inputs = keras.Input(shape = (None, 1))\n",
    "encoder = keras.layers.LSTM(latent_dim, return_state = True, activation = \"tanh\")\n",
    "encoder_outputs, state_h, state_c = encoder(encoder_inputs)\n",
    "\n",
    "# We discard `encoder_outputs` and only keep the states.\n",
    "encoder_states = [state_h, state_c]\n",
    "\n",
    "# Set up the decoder, using `encoder_states` as initial state.\n",
    "decoder_inputs = keras.Input(shape = (None, 1))\n",
    "\n",
    "# We set up our decoder to return full output sequences,\n",
    "# and to return internal states as well. We don't use the\n",
    "# return states in the training model, but we will use them in inference.\n",
    "decoder_lstm = keras.layers.LSTM(latent_dim, return_sequences = True, return_state = True, activation = \"tanh\")\n",
    "decoder_outputs, _, _ = decoder_lstm(decoder_inputs, initial_state = encoder_states)\n",
    "decoder_dense = keras.layers.Dense(1, activation = \"sigmoid\")\n",
    "decoder_outputs = decoder_dense(decoder_outputs)\n",
    "\n",
    "# Define the model that will turn\n",
    "# `encoder_input_data` & `decoder_input_data` into `decoder_target_data`\n",
    "model = keras.Model([encoder_inputs, decoder_inputs], decoder_outputs)"
   ]
  },
  {
   "cell_type": "code",
   "execution_count": 38,
   "metadata": {
    "ExecuteTime": {
     "end_time": "2021-04-25T12:57:21.687919Z",
     "start_time": "2021-04-25T12:57:21.675274Z"
    }
   },
   "outputs": [
    {
     "name": "stdout",
     "output_type": "stream",
     "text": [
      "Model: \"model_5\"\n",
      "__________________________________________________________________________________________________\n",
      "Layer (type)                    Output Shape         Param #     Connected to                     \n",
      "==================================================================================================\n",
      "input_14 (InputLayer)           [(None, None, 1)]    0                                            \n",
      "__________________________________________________________________________________________________\n",
      "input_15 (InputLayer)           [(None, None, 1)]    0                                            \n",
      "__________________________________________________________________________________________________\n",
      "lstm_13 (LSTM)                  [(None, 64), (None,  16896       input_14[0][0]                   \n",
      "__________________________________________________________________________________________________\n",
      "lstm_14 (LSTM)                  [(None, None, 64), ( 16896       input_15[0][0]                   \n",
      "                                                                 lstm_13[0][1]                    \n",
      "                                                                 lstm_13[0][2]                    \n",
      "__________________________________________________________________________________________________\n",
      "dense_5 (Dense)                 (None, None, 1)      65          lstm_14[0][0]                    \n",
      "==================================================================================================\n",
      "Total params: 33,857\n",
      "Trainable params: 33,857\n",
      "Non-trainable params: 0\n",
      "__________________________________________________________________________________________________\n"
     ]
    }
   ],
   "source": [
    "#plot_model(model, to_file = 'model.png')\n",
    "model.summary()"
   ]
  },
  {
   "cell_type": "markdown",
   "metadata": {},
   "source": [
    "## Train model"
   ]
  },
  {
   "cell_type": "code",
   "execution_count": 40,
   "metadata": {
    "ExecuteTime": {
     "end_time": "2021-04-25T14:18:28.805676Z",
     "start_time": "2021-04-25T12:57:28.352846Z"
    },
    "scrolled": false
   },
   "outputs": [
    {
     "name": "stdout",
     "output_type": "stream",
     "text": [
      "Epoch 1/1000\n",
      "110/110 [==============================] - 22s 184ms/step - loss: 0.1182 - mae: 0.2693 - val_loss: 0.1182 - val_mae: 0.2709\n",
      "Epoch 2/1000\n",
      "110/110 [==============================] - 20s 179ms/step - loss: 0.1180 - mae: 0.2692 - val_loss: 0.1179 - val_mae: 0.2683\n",
      "Epoch 3/1000\n",
      "110/110 [==============================] - 20s 178ms/step - loss: 0.1178 - mae: 0.2687 - val_loss: 0.1175 - val_mae: 0.2690\n",
      "Epoch 4/1000\n",
      "110/110 [==============================] - 20s 179ms/step - loss: 0.1175 - mae: 0.2684 - val_loss: 0.1172 - val_mae: 0.2684\n",
      "Epoch 5/1000\n",
      "110/110 [==============================] - 20s 179ms/step - loss: 0.1172 - mae: 0.2680 - val_loss: 0.1169 - val_mae: 0.2679\n",
      "Epoch 6/1000\n",
      "110/110 [==============================] - 20s 179ms/step - loss: 0.1169 - mae: 0.2677 - val_loss: 0.1170 - val_mae: 0.2665\n",
      "Epoch 7/1000\n",
      "110/110 [==============================] - 20s 178ms/step - loss: 0.1167 - mae: 0.2674 - val_loss: 0.1168 - val_mae: 0.2680\n",
      "Epoch 8/1000\n",
      "110/110 [==============================] - 20s 179ms/step - loss: 0.1163 - mae: 0.2670 - val_loss: 0.1159 - val_mae: 0.2682\n",
      "Epoch 9/1000\n",
      "110/110 [==============================] - 20s 179ms/step - loss: 0.1162 - mae: 0.2670 - val_loss: 0.1158 - val_mae: 0.2684\n",
      "Epoch 10/1000\n",
      "110/110 [==============================] - 20s 179ms/step - loss: 0.1158 - mae: 0.2664 - val_loss: 0.1156 - val_mae: 0.2662\n",
      "Epoch 11/1000\n",
      "110/110 [==============================] - 20s 180ms/step - loss: 0.1156 - mae: 0.2662 - val_loss: 0.1149 - val_mae: 0.2658\n",
      "Epoch 12/1000\n",
      "110/110 [==============================] - 20s 180ms/step - loss: 0.1151 - mae: 0.2656 - val_loss: 0.1146 - val_mae: 0.2657\n",
      "Epoch 13/1000\n",
      "110/110 [==============================] - 20s 180ms/step - loss: 0.1153 - mae: 0.2660 - val_loss: 0.1152 - val_mae: 0.2648\n",
      "Epoch 14/1000\n",
      "110/110 [==============================] - 20s 179ms/step - loss: 0.1146 - mae: 0.2649 - val_loss: 0.1140 - val_mae: 0.2651\n",
      "Epoch 15/1000\n",
      "110/110 [==============================] - 20s 180ms/step - loss: 0.1141 - mae: 0.2644 - val_loss: 0.1148 - val_mae: 0.2631\n",
      "Epoch 16/1000\n",
      "110/110 [==============================] - 20s 181ms/step - loss: 0.1135 - mae: 0.2637 - val_loss: 0.1128 - val_mae: 0.2637\n",
      "Epoch 17/1000\n",
      "110/110 [==============================] - 20s 179ms/step - loss: 0.1133 - mae: 0.2635 - val_loss: 0.1137 - val_mae: 0.2645\n",
      "Epoch 18/1000\n",
      "110/110 [==============================] - 19s 177ms/step - loss: 0.1136 - mae: 0.2640 - val_loss: 0.1119 - val_mae: 0.2622\n",
      "Epoch 19/1000\n",
      "110/110 [==============================] - 20s 178ms/step - loss: 0.1122 - mae: 0.2622 - val_loss: 0.1111 - val_mae: 0.2615\n",
      "Epoch 20/1000\n",
      "110/110 [==============================] - 20s 178ms/step - loss: 0.1130 - mae: 0.2633 - val_loss: 0.1123 - val_mae: 0.2626\n",
      "Epoch 21/1000\n",
      "110/110 [==============================] - 20s 178ms/step - loss: 0.1122 - mae: 0.2625 - val_loss: 0.1128 - val_mae: 0.2634\n",
      "Epoch 22/1000\n",
      "110/110 [==============================] - 20s 178ms/step - loss: 0.1121 - mae: 0.2629 - val_loss: 0.1385 - val_mae: 0.3026\n",
      "Epoch 23/1000\n",
      "110/110 [==============================] - 20s 178ms/step - loss: 0.1322 - mae: 0.2903 - val_loss: 0.1251 - val_mae: 0.2802\n",
      "Epoch 24/1000\n",
      "110/110 [==============================] - 20s 178ms/step - loss: 0.1229 - mae: 0.2772 - val_loss: 0.1211 - val_mae: 0.2746\n",
      "Epoch 25/1000\n",
      "110/110 [==============================] - 20s 178ms/step - loss: 0.1188 - mae: 0.2700 - val_loss: 0.1174 - val_mae: 0.2675\n",
      "Epoch 26/1000\n",
      "110/110 [==============================] - 20s 178ms/step - loss: 0.1172 - mae: 0.2677 - val_loss: 0.1171 - val_mae: 0.2670\n",
      "Epoch 27/1000\n",
      "110/110 [==============================] - 20s 178ms/step - loss: 0.1169 - mae: 0.2673 - val_loss: 0.1167 - val_mae: 0.2666\n",
      "Epoch 28/1000\n",
      "110/110 [==============================] - 20s 178ms/step - loss: 0.1162 - mae: 0.2665 - val_loss: 0.1162 - val_mae: 0.2632\n",
      "Epoch 29/1000\n",
      "110/110 [==============================] - 20s 178ms/step - loss: 0.1158 - mae: 0.2658 - val_loss: 0.1152 - val_mae: 0.2622\n",
      "Epoch 30/1000\n",
      "110/110 [==============================] - 20s 178ms/step - loss: 0.1149 - mae: 0.2647 - val_loss: 0.1143 - val_mae: 0.2660\n",
      "Epoch 31/1000\n",
      "110/110 [==============================] - 20s 178ms/step - loss: 0.1137 - mae: 0.2633 - val_loss: 0.1128 - val_mae: 0.2619\n",
      "Epoch 32/1000\n",
      "110/110 [==============================] - 20s 178ms/step - loss: 0.1209 - mae: 0.2729 - val_loss: 0.1325 - val_mae: 0.2874\n",
      "Epoch 33/1000\n",
      "110/110 [==============================] - 20s 178ms/step - loss: 0.1293 - mae: 0.2832 - val_loss: 0.1259 - val_mae: 0.2788\n",
      "Epoch 34/1000\n",
      "110/110 [==============================] - 20s 178ms/step - loss: 0.1243 - mae: 0.2769 - val_loss: 0.1255 - val_mae: 0.2781\n",
      "Epoch 35/1000\n",
      "110/110 [==============================] - 20s 178ms/step - loss: 0.1276 - mae: 0.2830 - val_loss: 0.1250 - val_mae: 0.2787\n",
      "Epoch 36/1000\n",
      "110/110 [==============================] - 20s 178ms/step - loss: 0.1233 - mae: 0.2761 - val_loss: 0.1235 - val_mae: 0.2760\n",
      "Epoch 37/1000\n",
      "110/110 [==============================] - 20s 178ms/step - loss: 0.1215 - mae: 0.2728 - val_loss: 0.1199 - val_mae: 0.2708\n",
      "Epoch 38/1000\n",
      "110/110 [==============================] - 20s 178ms/step - loss: 0.1196 - mae: 0.2700 - val_loss: 0.1234 - val_mae: 0.2733\n",
      "Epoch 39/1000\n",
      "110/110 [==============================] - 20s 178ms/step - loss: 0.1201 - mae: 0.2698 - val_loss: 0.1192 - val_mae: 0.2698\n",
      "Epoch 40/1000\n",
      "110/110 [==============================] - 20s 178ms/step - loss: 0.1188 - mae: 0.2689 - val_loss: 0.1185 - val_mae: 0.2693\n",
      "Epoch 41/1000\n",
      "110/110 [==============================] - 20s 178ms/step - loss: 0.1183 - mae: 0.2687 - val_loss: 0.1181 - val_mae: 0.2692\n",
      "Epoch 42/1000\n",
      "110/110 [==============================] - 20s 178ms/step - loss: 0.1180 - mae: 0.2687 - val_loss: 0.1180 - val_mae: 0.2692\n",
      "Epoch 43/1000\n",
      "110/110 [==============================] - 20s 178ms/step - loss: 0.1179 - mae: 0.2687 - val_loss: 0.1179 - val_mae: 0.2693\n",
      "Epoch 44/1000\n",
      "110/110 [==============================] - 20s 178ms/step - loss: 0.1179 - mae: 0.2688 - val_loss: 0.1176 - val_mae: 0.2688\n",
      "Epoch 45/1000\n",
      "110/110 [==============================] - 20s 178ms/step - loss: 0.1180 - mae: 0.2689 - val_loss: 0.1182 - val_mae: 0.2701\n",
      "Epoch 46/1000\n",
      "110/110 [==============================] - 20s 178ms/step - loss: 0.1183 - mae: 0.2694 - val_loss: 0.1183 - val_mae: 0.2698\n",
      "Epoch 47/1000\n",
      "110/110 [==============================] - 20s 178ms/step - loss: 0.1183 - mae: 0.2695 - val_loss: 0.1180 - val_mae: 0.2693\n",
      "Epoch 48/1000\n",
      "110/110 [==============================] - 20s 178ms/step - loss: 0.1179 - mae: 0.2689 - val_loss: 0.1178 - val_mae: 0.2689\n",
      "Epoch 49/1000\n",
      "110/110 [==============================] - 20s 178ms/step - loss: 0.1178 - mae: 0.2687 - val_loss: 0.1179 - val_mae: 0.2686\n",
      "Epoch 50/1000\n",
      "110/110 [==============================] - 20s 178ms/step - loss: 0.1182 - mae: 0.2691 - val_loss: 0.1183 - val_mae: 0.2694\n",
      "Epoch 51/1000\n",
      "110/110 [==============================] - 20s 178ms/step - loss: 0.1183 - mae: 0.2693 - val_loss: 0.1184 - val_mae: 0.2693\n",
      "Epoch 52/1000\n",
      "110/110 [==============================] - 20s 178ms/step - loss: 0.1183 - mae: 0.2692 - val_loss: 0.1181 - val_mae: 0.2704\n",
      "Epoch 53/1000\n",
      "110/110 [==============================] - 20s 178ms/step - loss: 0.1179 - mae: 0.2689 - val_loss: 0.1179 - val_mae: 0.2661\n",
      "Epoch 54/1000\n",
      "110/110 [==============================] - 20s 178ms/step - loss: 0.1178 - mae: 0.2685 - val_loss: 0.1177 - val_mae: 0.2706\n",
      "Epoch 55/1000\n",
      "110/110 [==============================] - 20s 178ms/step - loss: 0.1177 - mae: 0.2684 - val_loss: 0.1176 - val_mae: 0.2705\n",
      "Epoch 56/1000\n",
      "110/110 [==============================] - 20s 178ms/step - loss: 0.1176 - mae: 0.2684 - val_loss: 0.1175 - val_mae: 0.2642\n",
      "Epoch 57/1000\n",
      "110/110 [==============================] - 20s 178ms/step - loss: 0.1173 - mae: 0.2678 - val_loss: 0.1170 - val_mae: 0.2651\n",
      "Epoch 58/1000\n",
      "110/110 [==============================] - 20s 178ms/step - loss: 0.1170 - mae: 0.2675 - val_loss: 0.1170 - val_mae: 0.2636\n",
      "Epoch 59/1000\n",
      "110/110 [==============================] - 20s 178ms/step - loss: 0.1170 - mae: 0.2674 - val_loss: 0.1164 - val_mae: 0.2648\n",
      "Epoch 60/1000\n"
     ]
    },
    {
     "name": "stdout",
     "output_type": "stream",
     "text": [
      "110/110 [==============================] - 20s 178ms/step - loss: 0.1183 - mae: 0.2687 - val_loss: 0.1198 - val_mae: 0.2700\n",
      "Epoch 61/1000\n",
      "110/110 [==============================] - 20s 178ms/step - loss: 0.1194 - mae: 0.2700 - val_loss: 0.1193 - val_mae: 0.2702\n",
      "Epoch 62/1000\n",
      "110/110 [==============================] - 20s 178ms/step - loss: 0.1184 - mae: 0.2686 - val_loss: 0.1179 - val_mae: 0.2686\n",
      "Epoch 63/1000\n",
      "110/110 [==============================] - 20s 178ms/step - loss: 0.1177 - mae: 0.2682 - val_loss: 0.1175 - val_mae: 0.2682\n",
      "Epoch 64/1000\n",
      "110/110 [==============================] - 20s 178ms/step - loss: 0.1176 - mae: 0.2681 - val_loss: 0.1176 - val_mae: 0.2680\n",
      "Epoch 65/1000\n",
      "110/110 [==============================] - 20s 178ms/step - loss: 0.1178 - mae: 0.2685 - val_loss: 0.1177 - val_mae: 0.2686\n",
      "Epoch 66/1000\n",
      "110/110 [==============================] - 20s 178ms/step - loss: 0.1177 - mae: 0.2686 - val_loss: 0.1177 - val_mae: 0.2678\n",
      "Epoch 67/1000\n",
      "110/110 [==============================] - 20s 178ms/step - loss: 0.1176 - mae: 0.2682 - val_loss: 0.1174 - val_mae: 0.2676\n",
      "Epoch 68/1000\n",
      "110/110 [==============================] - 20s 178ms/step - loss: 0.1172 - mae: 0.2678 - val_loss: 0.1172 - val_mae: 0.2671\n",
      "Epoch 69/1000\n",
      "110/110 [==============================] - 20s 178ms/step - loss: 0.1183 - mae: 0.2703 - val_loss: 0.1182 - val_mae: 0.2688\n",
      "Epoch 70/1000\n",
      "110/110 [==============================] - 20s 178ms/step - loss: 0.1179 - mae: 0.2687 - val_loss: 0.1179 - val_mae: 0.2686\n",
      "Epoch 71/1000\n",
      "110/110 [==============================] - 20s 178ms/step - loss: 0.1186 - mae: 0.2694 - val_loss: 0.1188 - val_mae: 0.2690\n",
      "Epoch 72/1000\n",
      "110/110 [==============================] - 20s 178ms/step - loss: 0.1181 - mae: 0.2689 - val_loss: 0.1178 - val_mae: 0.2683\n",
      "Epoch 73/1000\n",
      "110/110 [==============================] - 20s 178ms/step - loss: 0.1177 - mae: 0.2686 - val_loss: 0.1176 - val_mae: 0.2680\n",
      "Epoch 74/1000\n",
      "110/110 [==============================] - 20s 178ms/step - loss: 0.1176 - mae: 0.2685 - val_loss: 0.1175 - val_mae: 0.2680\n",
      "Epoch 75/1000\n",
      "110/110 [==============================] - 20s 178ms/step - loss: 0.1175 - mae: 0.2684 - val_loss: 0.1174 - val_mae: 0.2678\n",
      "Epoch 76/1000\n",
      "110/110 [==============================] - 20s 178ms/step - loss: 0.1175 - mae: 0.2683 - val_loss: 0.1176 - val_mae: 0.2674\n",
      "Epoch 77/1000\n",
      "110/110 [==============================] - 20s 178ms/step - loss: 0.1181 - mae: 0.2689 - val_loss: 0.1183 - val_mae: 0.2692\n",
      "Epoch 78/1000\n",
      "110/110 [==============================] - 20s 178ms/step - loss: 0.1180 - mae: 0.2691 - val_loss: 0.1190 - val_mae: 0.2678\n",
      "Epoch 79/1000\n",
      "110/110 [==============================] - 20s 178ms/step - loss: 0.1190 - mae: 0.2694 - val_loss: 0.1189 - val_mae: 0.2682\n",
      "Epoch 80/1000\n",
      "110/110 [==============================] - 20s 178ms/step - loss: 0.1186 - mae: 0.2690 - val_loss: 0.1183 - val_mae: 0.2680\n",
      "Epoch 81/1000\n",
      "110/110 [==============================] - 20s 178ms/step - loss: 0.1181 - mae: 0.2688 - val_loss: 0.1179 - val_mae: 0.2677\n",
      "Epoch 82/1000\n",
      "110/110 [==============================] - 20s 178ms/step - loss: 0.1179 - mae: 0.2686 - val_loss: 0.1180 - val_mae: 0.2677\n",
      "Epoch 83/1000\n",
      "110/110 [==============================] - 20s 178ms/step - loss: 0.1183 - mae: 0.2692 - val_loss: 0.1181 - val_mae: 0.2681\n",
      "Epoch 84/1000\n",
      "110/110 [==============================] - 20s 178ms/step - loss: 0.1180 - mae: 0.2690 - val_loss: 0.1178 - val_mae: 0.2678\n",
      "Epoch 85/1000\n",
      "110/110 [==============================] - 20s 178ms/step - loss: 0.1179 - mae: 0.2688 - val_loss: 0.1180 - val_mae: 0.2678\n",
      "Epoch 86/1000\n",
      "110/110 [==============================] - 20s 177ms/step - loss: 0.1179 - mae: 0.2689 - val_loss: 0.1178 - val_mae: 0.2688\n",
      "Epoch 87/1000\n",
      "110/110 [==============================] - 20s 178ms/step - loss: 0.1178 - mae: 0.2687 - val_loss: 0.1175 - val_mae: 0.2686\n",
      "Epoch 88/1000\n",
      "110/110 [==============================] - 20s 178ms/step - loss: 0.1175 - mae: 0.2679 - val_loss: 0.1174 - val_mae: 0.2657\n",
      "Epoch 89/1000\n",
      "110/110 [==============================] - 20s 178ms/step - loss: 0.1171 - mae: 0.2674 - val_loss: 0.1167 - val_mae: 0.2704\n",
      "Epoch 90/1000\n",
      "110/110 [==============================] - 20s 178ms/step - loss: 0.1168 - mae: 0.2670 - val_loss: 0.1171 - val_mae: 0.2608\n",
      "Epoch 91/1000\n",
      "110/110 [==============================] - 20s 178ms/step - loss: 0.1169 - mae: 0.2672 - val_loss: 0.1168 - val_mae: 0.2680\n",
      "Epoch 92/1000\n",
      "110/110 [==============================] - 20s 178ms/step - loss: 0.1167 - mae: 0.2670 - val_loss: 0.1166 - val_mae: 0.2683\n",
      "Epoch 93/1000\n",
      "110/110 [==============================] - 20s 178ms/step - loss: 0.1156 - mae: 0.2653 - val_loss: 0.1152 - val_mae: 0.2615\n",
      "Epoch 94/1000\n",
      "110/110 [==============================] - 20s 178ms/step - loss: 0.1144 - mae: 0.2639 - val_loss: 0.1143 - val_mae: 0.2691\n",
      "Epoch 95/1000\n",
      "110/110 [==============================] - 20s 178ms/step - loss: 0.1133 - mae: 0.2629 - val_loss: 0.1156 - val_mae: 0.2677\n",
      "Epoch 96/1000\n",
      "110/110 [==============================] - 20s 179ms/step - loss: 0.1123 - mae: 0.2622 - val_loss: 0.1149 - val_mae: 0.2628\n",
      "Epoch 97/1000\n",
      "110/110 [==============================] - 20s 178ms/step - loss: 0.1114 - mae: 0.2616 - val_loss: 0.1088 - val_mae: 0.2580\n",
      "Epoch 98/1000\n",
      "110/110 [==============================] - 20s 178ms/step - loss: 0.1098 - mae: 0.2605 - val_loss: 0.1099 - val_mae: 0.2641\n",
      "Epoch 99/1000\n",
      "110/110 [==============================] - 20s 178ms/step - loss: 0.1084 - mae: 0.2594 - val_loss: 0.1125 - val_mae: 0.2641\n",
      "Epoch 100/1000\n",
      "110/110 [==============================] - 20s 178ms/step - loss: 0.1073 - mae: 0.2585 - val_loss: 0.1058 - val_mae: 0.2580\n",
      "Epoch 101/1000\n",
      "110/110 [==============================] - 20s 177ms/step - loss: 0.1060 - mae: 0.2574 - val_loss: 0.1082 - val_mae: 0.2590\n",
      "Epoch 102/1000\n",
      "110/110 [==============================] - 20s 177ms/step - loss: 0.1045 - mae: 0.2562 - val_loss: 0.1019 - val_mae: 0.2542\n",
      "Epoch 103/1000\n",
      "110/110 [==============================] - 20s 177ms/step - loss: 0.1031 - mae: 0.2549 - val_loss: 0.1013 - val_mae: 0.2545\n",
      "Epoch 104/1000\n",
      "110/110 [==============================] - 20s 178ms/step - loss: 0.1012 - mae: 0.2532 - val_loss: 0.0993 - val_mae: 0.2501\n",
      "Epoch 105/1000\n",
      "110/110 [==============================] - 20s 177ms/step - loss: 0.0995 - mae: 0.2516 - val_loss: 0.1001 - val_mae: 0.2510\n",
      "Epoch 106/1000\n",
      "110/110 [==============================] - 19s 177ms/step - loss: 0.0985 - mae: 0.2505 - val_loss: 0.0978 - val_mae: 0.2494\n",
      "Epoch 107/1000\n",
      "110/110 [==============================] - 20s 177ms/step - loss: 0.1143 - mae: 0.2694 - val_loss: 0.1206 - val_mae: 0.2759\n",
      "Epoch 108/1000\n",
      "110/110 [==============================] - 20s 178ms/step - loss: 0.1224 - mae: 0.2764 - val_loss: 0.1207 - val_mae: 0.2733\n",
      "Epoch 109/1000\n",
      "110/110 [==============================] - 20s 178ms/step - loss: 0.1190 - mae: 0.2710 - val_loss: 0.1179 - val_mae: 0.2690\n",
      "Epoch 110/1000\n",
      "110/110 [==============================] - 20s 179ms/step - loss: 0.1171 - mae: 0.2682 - val_loss: 0.1166 - val_mae: 0.2675\n",
      "Epoch 111/1000\n",
      "110/110 [==============================] - 20s 178ms/step - loss: 0.1159 - mae: 0.2667 - val_loss: 0.1148 - val_mae: 0.2640\n",
      "Epoch 112/1000\n",
      "110/110 [==============================] - 20s 178ms/step - loss: 0.1200 - mae: 0.2711 - val_loss: 0.1196 - val_mae: 0.2702\n",
      "Epoch 113/1000\n",
      "110/110 [==============================] - 20s 178ms/step - loss: 0.1191 - mae: 0.2695 - val_loss: 0.1183 - val_mae: 0.2691\n",
      "Epoch 114/1000\n",
      "110/110 [==============================] - 19s 177ms/step - loss: 0.1180 - mae: 0.2685 - val_loss: 0.1178 - val_mae: 0.2685\n",
      "Epoch 115/1000\n",
      "110/110 [==============================] - 20s 178ms/step - loss: 0.1177 - mae: 0.2684 - val_loss: 0.1176 - val_mae: 0.2680\n",
      "Epoch 116/1000\n",
      "110/110 [==============================] - 20s 178ms/step - loss: 0.1175 - mae: 0.2684 - val_loss: 0.1175 - val_mae: 0.2680\n",
      "Epoch 117/1000\n",
      "110/110 [==============================] - 19s 177ms/step - loss: 0.1175 - mae: 0.2684 - val_loss: 0.1175 - val_mae: 0.2677\n",
      "Epoch 118/1000\n",
      "110/110 [==============================] - 19s 177ms/step - loss: 0.1174 - mae: 0.2684 - val_loss: 0.1174 - val_mae: 0.2677\n",
      "Epoch 119/1000\n"
     ]
    },
    {
     "name": "stdout",
     "output_type": "stream",
     "text": [
      "110/110 [==============================] - 20s 178ms/step - loss: 0.1174 - mae: 0.2684 - val_loss: 0.1174 - val_mae: 0.2682\n",
      "Epoch 120/1000\n",
      "110/110 [==============================] - 20s 177ms/step - loss: 0.1174 - mae: 0.2683 - val_loss: 0.1174 - val_mae: 0.2682\n",
      "Epoch 121/1000\n",
      "110/110 [==============================] - 19s 177ms/step - loss: 0.1174 - mae: 0.2683 - val_loss: 0.1174 - val_mae: 0.2685\n",
      "Epoch 122/1000\n",
      "110/110 [==============================] - 19s 177ms/step - loss: 0.1174 - mae: 0.2683 - val_loss: 0.1174 - val_mae: 0.2681\n",
      "Epoch 123/1000\n",
      "110/110 [==============================] - 20s 178ms/step - loss: 0.1174 - mae: 0.2683 - val_loss: 0.1174 - val_mae: 0.2683\n",
      "Epoch 124/1000\n",
      "110/110 [==============================] - 20s 178ms/step - loss: 0.1174 - mae: 0.2683 - val_loss: 0.1174 - val_mae: 0.2689\n",
      "Epoch 125/1000\n",
      "110/110 [==============================] - 20s 177ms/step - loss: 0.1174 - mae: 0.2683 - val_loss: 0.1174 - val_mae: 0.2685\n",
      "Epoch 126/1000\n",
      "110/110 [==============================] - 20s 178ms/step - loss: 0.1174 - mae: 0.2683 - val_loss: 0.1174 - val_mae: 0.2683\n",
      "Epoch 127/1000\n",
      "110/110 [==============================] - 20s 178ms/step - loss: 0.1174 - mae: 0.2683 - val_loss: 0.1174 - val_mae: 0.2678\n",
      "Epoch 128/1000\n",
      "110/110 [==============================] - 20s 178ms/step - loss: 0.1174 - mae: 0.2683 - val_loss: 0.1174 - val_mae: 0.2680\n",
      "Epoch 129/1000\n",
      "110/110 [==============================] - 19s 177ms/step - loss: 0.1174 - mae: 0.2682 - val_loss: 0.1174 - val_mae: 0.2678\n",
      "Epoch 130/1000\n",
      "110/110 [==============================] - 19s 177ms/step - loss: 0.1174 - mae: 0.2682 - val_loss: 0.1174 - val_mae: 0.2686\n",
      "Epoch 131/1000\n",
      "110/110 [==============================] - 20s 177ms/step - loss: 0.1174 - mae: 0.2683 - val_loss: 0.1174 - val_mae: 0.2690\n",
      "Epoch 132/1000\n",
      "110/110 [==============================] - 20s 178ms/step - loss: 0.1174 - mae: 0.2682 - val_loss: 0.1174 - val_mae: 0.2676\n",
      "Epoch 133/1000\n",
      "110/110 [==============================] - 19s 177ms/step - loss: 0.1174 - mae: 0.2682 - val_loss: 0.1174 - val_mae: 0.2677\n",
      "Epoch 134/1000\n",
      "110/110 [==============================] - 19s 177ms/step - loss: 0.1174 - mae: 0.2682 - val_loss: 0.1174 - val_mae: 0.2685\n",
      "Epoch 135/1000\n",
      "110/110 [==============================] - 20s 178ms/step - loss: 0.1174 - mae: 0.2682 - val_loss: 0.1174 - val_mae: 0.2681\n",
      "Epoch 136/1000\n",
      "110/110 [==============================] - 20s 178ms/step - loss: 0.1174 - mae: 0.2682 - val_loss: 0.1174 - val_mae: 0.2688\n",
      "Epoch 137/1000\n",
      "110/110 [==============================] - 20s 177ms/step - loss: 0.1174 - mae: 0.2682 - val_loss: 0.1174 - val_mae: 0.2679\n",
      "Epoch 138/1000\n",
      "110/110 [==============================] - 19s 177ms/step - loss: 0.1174 - mae: 0.2682 - val_loss: 0.1174 - val_mae: 0.2684\n",
      "Epoch 139/1000\n",
      "110/110 [==============================] - 19s 177ms/step - loss: 0.1174 - mae: 0.2682 - val_loss: 0.1174 - val_mae: 0.2678\n",
      "Epoch 140/1000\n",
      "110/110 [==============================] - 20s 178ms/step - loss: 0.1174 - mae: 0.2682 - val_loss: 0.1174 - val_mae: 0.2687\n",
      "Epoch 141/1000\n",
      "110/110 [==============================] - 20s 177ms/step - loss: 0.1174 - mae: 0.2682 - val_loss: 0.1174 - val_mae: 0.2682\n",
      "Epoch 142/1000\n",
      "110/110 [==============================] - 19s 177ms/step - loss: 0.1174 - mae: 0.2682 - val_loss: 0.1174 - val_mae: 0.2681\n",
      "Epoch 143/1000\n",
      "110/110 [==============================] - 20s 178ms/step - loss: 0.1174 - mae: 0.2682 - val_loss: 0.1174 - val_mae: 0.2677\n",
      "Epoch 144/1000\n",
      "110/110 [==============================] - 20s 178ms/step - loss: 0.1174 - mae: 0.2682 - val_loss: 0.1174 - val_mae: 0.2683\n",
      "Epoch 145/1000\n",
      "110/110 [==============================] - 20s 178ms/step - loss: 0.1174 - mae: 0.2682 - val_loss: 0.1174 - val_mae: 0.2689\n",
      "Epoch 146/1000\n",
      "110/110 [==============================] - 20s 178ms/step - loss: 0.1174 - mae: 0.2682 - val_loss: 0.1174 - val_mae: 0.2677\n",
      "Epoch 147/1000\n",
      "110/110 [==============================] - 20s 178ms/step - loss: 0.1174 - mae: 0.2682 - val_loss: 0.1174 - val_mae: 0.2685\n",
      "Epoch 148/1000\n",
      "110/110 [==============================] - 20s 178ms/step - loss: 0.1174 - mae: 0.2682 - val_loss: 0.1174 - val_mae: 0.2680\n",
      "Epoch 149/1000\n",
      "110/110 [==============================] - 20s 178ms/step - loss: 0.1174 - mae: 0.2682 - val_loss: 0.1174 - val_mae: 0.2681\n",
      "Epoch 150/1000\n",
      "110/110 [==============================] - 20s 178ms/step - loss: 0.1174 - mae: 0.2682 - val_loss: 0.1174 - val_mae: 0.2680\n",
      "Epoch 151/1000\n",
      "110/110 [==============================] - 20s 178ms/step - loss: 0.1174 - mae: 0.2682 - val_loss: 0.1174 - val_mae: 0.2683\n",
      "Epoch 152/1000\n",
      "110/110 [==============================] - 20s 178ms/step - loss: 0.1174 - mae: 0.2682 - val_loss: 0.1174 - val_mae: 0.2687\n",
      "Epoch 153/1000\n",
      "110/110 [==============================] - 20s 178ms/step - loss: 0.1174 - mae: 0.2682 - val_loss: 0.1174 - val_mae: 0.2688\n",
      "Epoch 154/1000\n",
      "110/110 [==============================] - 20s 178ms/step - loss: 0.1174 - mae: 0.2682 - val_loss: 0.1174 - val_mae: 0.2676\n",
      "Epoch 155/1000\n",
      "110/110 [==============================] - 20s 178ms/step - loss: 0.1174 - mae: 0.2682 - val_loss: 0.1174 - val_mae: 0.2678\n",
      "Epoch 156/1000\n",
      "110/110 [==============================] - 20s 178ms/step - loss: 0.1174 - mae: 0.2682 - val_loss: 0.1174 - val_mae: 0.2684\n",
      "Epoch 157/1000\n",
      "110/110 [==============================] - 20s 178ms/step - loss: 0.1174 - mae: 0.2682 - val_loss: 0.1174 - val_mae: 0.2684\n",
      "Epoch 158/1000\n",
      "110/110 [==============================] - 20s 177ms/step - loss: 0.1174 - mae: 0.2682 - val_loss: 0.1174 - val_mae: 0.2684\n",
      "Epoch 159/1000\n",
      "110/110 [==============================] - 20s 178ms/step - loss: 0.1174 - mae: 0.2682 - val_loss: 0.1174 - val_mae: 0.2681\n",
      "Epoch 160/1000\n",
      "110/110 [==============================] - 20s 178ms/step - loss: 0.1174 - mae: 0.2682 - val_loss: 0.1174 - val_mae: 0.2686\n",
      "Epoch 161/1000\n",
      "110/110 [==============================] - 20s 178ms/step - loss: 0.1174 - mae: 0.2682 - val_loss: 0.1174 - val_mae: 0.2686\n",
      "Epoch 162/1000\n",
      "110/110 [==============================] - 20s 178ms/step - loss: 0.1174 - mae: 0.2682 - val_loss: 0.1174 - val_mae: 0.2684\n",
      "Epoch 163/1000\n",
      "110/110 [==============================] - 20s 177ms/step - loss: 0.1174 - mae: 0.2682 - val_loss: 0.1174 - val_mae: 0.2681\n",
      "Epoch 164/1000\n",
      "110/110 [==============================] - 20s 178ms/step - loss: 0.1174 - mae: 0.2682 - val_loss: 0.1174 - val_mae: 0.2683\n",
      "Epoch 165/1000\n",
      "110/110 [==============================] - 20s 178ms/step - loss: 0.1174 - mae: 0.2682 - val_loss: 0.1174 - val_mae: 0.2677\n",
      "Epoch 166/1000\n",
      "110/110 [==============================] - 20s 177ms/step - loss: 0.1174 - mae: 0.2682 - val_loss: 0.1174 - val_mae: 0.2679\n",
      "Epoch 167/1000\n",
      "110/110 [==============================] - 20s 178ms/step - loss: 0.1174 - mae: 0.2682 - val_loss: 0.1174 - val_mae: 0.2690\n",
      "Epoch 168/1000\n",
      "110/110 [==============================] - 20s 178ms/step - loss: 0.1174 - mae: 0.2682 - val_loss: 0.1174 - val_mae: 0.2681\n",
      "Epoch 169/1000\n",
      "110/110 [==============================] - 20s 178ms/step - loss: 0.1174 - mae: 0.2682 - val_loss: 0.1174 - val_mae: 0.2684\n",
      "Epoch 170/1000\n",
      "110/110 [==============================] - 20s 177ms/step - loss: 0.1174 - mae: 0.2682 - val_loss: 0.1174 - val_mae: 0.2683\n",
      "Epoch 171/1000\n",
      "110/110 [==============================] - 20s 178ms/step - loss: 0.1174 - mae: 0.2682 - val_loss: 0.1174 - val_mae: 0.2683\n",
      "Epoch 172/1000\n",
      "110/110 [==============================] - 20s 178ms/step - loss: 0.1174 - mae: 0.2682 - val_loss: 0.1174 - val_mae: 0.2684\n",
      "Epoch 173/1000\n",
      "110/110 [==============================] - 20s 178ms/step - loss: 0.1174 - mae: 0.2682 - val_loss: 0.1174 - val_mae: 0.2684\n",
      "Epoch 174/1000\n",
      "110/110 [==============================] - 20s 178ms/step - loss: 0.1174 - mae: 0.2682 - val_loss: 0.1174 - val_mae: 0.2678\n",
      "Epoch 175/1000\n",
      "110/110 [==============================] - 20s 178ms/step - loss: 0.1174 - mae: 0.2682 - val_loss: 0.1174 - val_mae: 0.2687\n",
      "Epoch 176/1000\n",
      "110/110 [==============================] - 20s 178ms/step - loss: 0.1174 - mae: 0.2682 - val_loss: 0.1174 - val_mae: 0.2679\n",
      "Epoch 177/1000\n",
      "110/110 [==============================] - 20s 178ms/step - loss: 0.1174 - mae: 0.2682 - val_loss: 0.1174 - val_mae: 0.2685\n",
      "Epoch 178/1000\n"
     ]
    },
    {
     "name": "stdout",
     "output_type": "stream",
     "text": [
      "110/110 [==============================] - 20s 178ms/step - loss: 0.1174 - mae: 0.2682 - val_loss: 0.1174 - val_mae: 0.2675\n",
      "Epoch 179/1000\n",
      "110/110 [==============================] - 20s 178ms/step - loss: 0.1174 - mae: 0.2682 - val_loss: 0.1174 - val_mae: 0.2683\n",
      "Epoch 180/1000\n",
      "110/110 [==============================] - 20s 178ms/step - loss: 0.1174 - mae: 0.2682 - val_loss: 0.1174 - val_mae: 0.2686\n",
      "Epoch 181/1000\n",
      "110/110 [==============================] - 20s 178ms/step - loss: 0.1174 - mae: 0.2682 - val_loss: 0.1174 - val_mae: 0.2679\n",
      "Epoch 182/1000\n",
      "110/110 [==============================] - 20s 178ms/step - loss: 0.1174 - mae: 0.2682 - val_loss: 0.1174 - val_mae: 0.2681\n",
      "Epoch 183/1000\n",
      "110/110 [==============================] - 20s 178ms/step - loss: 0.1174 - mae: 0.2682 - val_loss: 0.1174 - val_mae: 0.2685\n",
      "Epoch 184/1000\n",
      "110/110 [==============================] - 20s 178ms/step - loss: 0.1174 - mae: 0.2682 - val_loss: 0.1174 - val_mae: 0.2683\n",
      "Epoch 185/1000\n",
      "110/110 [==============================] - 20s 178ms/step - loss: 0.1174 - mae: 0.2682 - val_loss: 0.1174 - val_mae: 0.2686\n",
      "Epoch 186/1000\n",
      "110/110 [==============================] - 19s 177ms/step - loss: 0.1174 - mae: 0.2682 - val_loss: 0.1174 - val_mae: 0.2679\n",
      "Epoch 187/1000\n",
      "110/110 [==============================] - 20s 178ms/step - loss: 0.1174 - mae: 0.2682 - val_loss: 0.1174 - val_mae: 0.2678\n",
      "Epoch 188/1000\n",
      "110/110 [==============================] - 20s 178ms/step - loss: 0.1174 - mae: 0.2682 - val_loss: 0.1174 - val_mae: 0.2678\n",
      "Epoch 189/1000\n",
      "110/110 [==============================] - 20s 178ms/step - loss: 0.1174 - mae: 0.2682 - val_loss: 0.1174 - val_mae: 0.2687\n",
      "Epoch 190/1000\n",
      "110/110 [==============================] - 20s 178ms/step - loss: 0.1174 - mae: 0.2682 - val_loss: 0.1174 - val_mae: 0.2677\n",
      "Epoch 191/1000\n",
      "110/110 [==============================] - 20s 178ms/step - loss: 0.1174 - mae: 0.2682 - val_loss: 0.1174 - val_mae: 0.2680\n",
      "Epoch 192/1000\n",
      "110/110 [==============================] - 20s 178ms/step - loss: 0.1174 - mae: 0.2682 - val_loss: 0.1174 - val_mae: 0.2684\n",
      "Epoch 193/1000\n",
      "110/110 [==============================] - 20s 178ms/step - loss: 0.1174 - mae: 0.2682 - val_loss: 0.1174 - val_mae: 0.2685\n",
      "Epoch 194/1000\n",
      "110/110 [==============================] - 19s 177ms/step - loss: 0.1174 - mae: 0.2682 - val_loss: 0.1174 - val_mae: 0.2677\n",
      "Epoch 195/1000\n",
      "110/110 [==============================] - 20s 178ms/step - loss: 0.1174 - mae: 0.2682 - val_loss: 0.1174 - val_mae: 0.2680\n",
      "Epoch 196/1000\n",
      "110/110 [==============================] - 20s 178ms/step - loss: 0.1174 - mae: 0.2682 - val_loss: 0.1174 - val_mae: 0.2678\n",
      "Epoch 197/1000\n",
      "110/110 [==============================] - 20s 178ms/step - loss: 0.1174 - mae: 0.2682 - val_loss: 0.1174 - val_mae: 0.2674\n",
      "Epoch 198/1000\n",
      "110/110 [==============================] - 20s 178ms/step - loss: 0.1174 - mae: 0.2682 - val_loss: 0.1174 - val_mae: 0.2682\n",
      "Epoch 199/1000\n",
      "110/110 [==============================] - 20s 178ms/step - loss: 0.1174 - mae: 0.2682 - val_loss: 0.1174 - val_mae: 0.2684\n",
      "Epoch 200/1000\n",
      "110/110 [==============================] - 20s 178ms/step - loss: 0.1174 - mae: 0.2682 - val_loss: 0.1174 - val_mae: 0.2690\n",
      "Epoch 201/1000\n",
      "110/110 [==============================] - 20s 178ms/step - loss: 0.1174 - mae: 0.2682 - val_loss: 0.1174 - val_mae: 0.2685\n",
      "Epoch 202/1000\n",
      "110/110 [==============================] - 20s 178ms/step - loss: 0.1174 - mae: 0.2682 - val_loss: 0.1174 - val_mae: 0.2686\n",
      "Epoch 203/1000\n",
      "110/110 [==============================] - 20s 178ms/step - loss: 0.1174 - mae: 0.2682 - val_loss: 0.1174 - val_mae: 0.2682\n",
      "Epoch 204/1000\n",
      "110/110 [==============================] - 20s 178ms/step - loss: 0.1174 - mae: 0.2682 - val_loss: 0.1174 - val_mae: 0.2686\n",
      "Epoch 205/1000\n",
      "110/110 [==============================] - 20s 178ms/step - loss: 0.1174 - mae: 0.2682 - val_loss: 0.1174 - val_mae: 0.2676\n",
      "Epoch 206/1000\n",
      "110/110 [==============================] - 20s 178ms/step - loss: 0.1174 - mae: 0.2682 - val_loss: 0.1174 - val_mae: 0.2677\n",
      "Restoring model weights from the end of the best epoch.\n",
      "Epoch 00206: early stopping\n"
     ]
    }
   ],
   "source": [
    "model.compile(\n",
    "    optimizer = \"rmsprop\", loss = \"mse\", metrics = [\"mae\"]\n",
    ")\n",
    "\n",
    "es = EarlyStopping(monitor='val_loss', min_delta = 0, patience = 100, verbose = 1, restore_best_weights = True)\n",
    "\n",
    "log = model.fit(\n",
    "    [ encoder_input_data, decoder_input_data ],\n",
    "    decoder_target_data,\n",
    "    batch_size = batch_size,\n",
    "    epochs = epochs,\n",
    "    callbacks = [ es ],\n",
    "    validation_split = 0.2,\n",
    ")"
   ]
  },
  {
   "cell_type": "code",
   "execution_count": 41,
   "metadata": {
    "ExecuteTime": {
     "end_time": "2021-04-25T14:43:14.871141Z",
     "start_time": "2021-04-25T14:43:08.655581Z"
    }
   },
   "outputs": [
    {
     "name": "stderr",
     "output_type": "stream",
     "text": [
      "WARNING:absl:Found untraced functions such as lstm_cell_13_layer_call_and_return_conditional_losses, lstm_cell_13_layer_call_fn, lstm_cell_14_layer_call_and_return_conditional_losses, lstm_cell_14_layer_call_fn, lstm_cell_13_layer_call_fn while saving (showing 5 of 10). These functions will not be directly callable after loading.\n"
     ]
    },
    {
     "name": "stdout",
     "output_type": "stream",
     "text": [
      "INFO:tensorflow:Assets written to: data/ncbi_02/regr_model/assets\n"
     ]
    },
    {
     "name": "stderr",
     "output_type": "stream",
     "text": [
      "INFO:tensorflow:Assets written to: data/ncbi_02/regr_model/assets\n"
     ]
    }
   ],
   "source": [
    "import matplotlib.pyplot as plt\n",
    "\n",
    "%matplotlib inline\n",
    "plt.rcParams['figure.figsize'] = (16, 8)\n",
    "\n",
    "# Save model\n",
    "model.save(\"data/ncbi_02/regr_model\")"
   ]
  },
  {
   "cell_type": "code",
   "execution_count": 43,
   "metadata": {
    "ExecuteTime": {
     "end_time": "2021-04-25T14:44:02.441854Z",
     "start_time": "2021-04-25T14:44:02.061450Z"
    }
   },
   "outputs": [
    {
     "data": {
      "image/png": "[encoded data removed]",
      "text/plain": [
       "<Figure size 1152x576 with 1 Axes>"
      ]
     },
     "metadata": {
      "needs_background": "light"
     },
     "output_type": "display_data"
    },
    {
     "data": {
      "image/png": "[encoded data removed]",
      "text/plain": [
       "<Figure size 1152x576 with 1 Axes>"
      ]
     },
     "metadata": {
      "needs_background": "light"
     },
     "output_type": "display_data"
    }
   ],
   "source": [
    "\n",
    "plt.plot(log.history['mae'], label = 'mokymo')\n",
    "plt.plot(log.history['val_mae'], label = 'validavimo')\n",
    "plt.ylabel('mae')\n",
    "plt.xlabel('epocha')\n",
    "plt.legend()\n",
    "plt.show()\n",
    "\n",
    "plt.plot(log.history['loss'], '--', label = 'mokymo')\n",
    "plt.plot(log.history['val_loss'], '--', label = 'validavimo')\n",
    "plt.ylabel('netektis')\n",
    "plt.xlabel('epocha')\n",
    "plt.legend()\n",
    "plt.show()\n"
   ]
  },
  {
   "cell_type": "markdown",
   "metadata": {},
   "source": [
    "## Inference"
   ]
  },
  {
   "cell_type": "code",
   "execution_count": null,
   "metadata": {
    "ExecuteTime": {
     "end_time": "2021-04-25T14:45:14.366061Z",
     "start_time": "2021-04-25T14:45:11.329936Z"
    }
   },
   "outputs": [],
   "source": [
    "# Define sampling models\n",
    "# Restore the model and construct the encoder and decoder.\n",
    "model = keras.models.load_model(\"data/ncbi/raxml\")"
   ]
  },
  {
   "cell_type": "code",
   "execution_count": null,
   "metadata": {
    "ExecuteTime": {
     "end_time": "2021-04-25T15:02:43.649357Z",
     "start_time": "2021-04-25T15:02:43.453271Z"
    }
   },
   "outputs": [],
   "source": [
    "encoder_inputs = model.input[0]  # input_1\n",
    "encoder_outputs, state_h_enc, state_c_enc = model.layers[2].output  # lstm_1\n",
    "encoder_states = [state_h_enc, state_c_enc]\n",
    "encoder_model = keras.Model(encoder_inputs, encoder_states)\n",
    "\n",
    "decoder_inputs = model.input[1]  # input_2\n",
    "decoder_state_input_h = keras.Input(shape=(latent_dim,))\n",
    "decoder_state_input_c = keras.Input(shape=(latent_dim,))\n",
    "decoder_states_inputs = [decoder_state_input_h, decoder_state_input_c]\n",
    "decoder_lstm = model.layers[3]\n",
    "decoder_outputs, state_h_dec, state_c_dec = decoder_lstm(\n",
    "    decoder_inputs, initial_state=decoder_states_inputs\n",
    ")\n",
    "decoder_states = [state_h_dec, state_c_dec]\n",
    "decoder_dense = model.layers[4]\n",
    "decoder_outputs = decoder_dense(decoder_outputs)\n",
    "decoder_model = keras.Model(\n",
    "    [decoder_inputs] + decoder_states_inputs, [decoder_outputs] + decoder_states\n",
    ")\n",
    "\n",
    "# Reverse-lookup token index to decode sequences back to\n",
    "# something readable.\n",
    "reverse_input_char_index = dict((i, char) for char, i in input_token_index.items())\n",
    "reverse_target_char_index = dict((i, char) for char, i in target_token_index.items())"
   ]
  },
  {
   "cell_type": "code",
   "execution_count": null,
   "metadata": {
    "ExecuteTime": {
     "end_time": "2021-04-25T15:02:46.122326Z",
     "start_time": "2021-04-25T15:02:46.110383Z"
    }
   },
   "outputs": [],
   "source": [
    "def decode_sequence(input_seq):\n",
    "    # Encode the input as state vectors.\n",
    "    states_value = encoder_model.predict(input_seq)\n",
    "\n",
    "    # Generate empty target sequence of length 1.\n",
    "    target_seq = np.zeros((1, 1, num_decoder_tokens))\n",
    "    # Populate the first character of target sequence with the start character.\n",
    "    target_seq[0, 0, target_token_index[\"\\t\"]] = 1.0\n",
    "\n",
    "    # Sampling loop for a batch of sequences\n",
    "    # (to simplify, here we assume a batch of size 1).\n",
    "    stop_condition = False\n",
    "    decoded_sentence = \"\"\n",
    "    while not stop_condition:\n",
    "        output_tokens, h, c = decoder_model.predict([target_seq] + states_value)\n",
    "\n",
    "        # Sample a token\n",
    "        sampled_token_index = np.argmax(output_tokens[0, -1, :])\n",
    "        sampled_char = reverse_target_char_index[sampled_token_index]\n",
    "        decoded_sentence += sampled_char\n",
    "\n",
    "        # Exit condition: either hit max length\n",
    "        # or find stop character.\n",
    "        if sampled_char == \"\\n\" or len(decoded_sentence) > max_decoder_seq_length:\n",
    "            stop_condition = True\n",
    "\n",
    "        # Update the target sequence (of length 1).\n",
    "        target_seq = np.zeros((1, 1, num_decoder_tokens))\n",
    "        target_seq[0, 0, sampled_token_index] = 1.0\n",
    "\n",
    "        # Update states\n",
    "        states_value = [h, c]\n",
    "    return decoded_sentence"
   ]
  },
  {
   "cell_type": "code",
   "execution_count": null,
   "metadata": {
    "ExecuteTime": {
     "end_time": "2021-04-25T15:02:56.164836Z",
     "start_time": "2021-04-25T15:02:56.159767Z"
    }
   },
   "outputs": [],
   "source": [
    "# for seq_index in range(20):\n",
    "#     # Take one sequence (part of the training set)\n",
    "#     # for trying out decoding.\n",
    "#     input_seq = encoder_input_data[seq_index : seq_index + 1]\n",
    "#     decoded_sentence = decode_sequence(input_seq)\n",
    "#     print(\"-\")\n",
    "#     print(\"Input sentence:\", input_texts[seq_index])\n",
    "#     print(\"Decoded sentence:\", decoded_sentence)"
   ]
  },
  {
   "cell_type": "code",
   "execution_count": null,
   "metadata": {},
   "outputs": [],
   "source": []
  }
 ],
 "metadata": {
  "kernelspec": {
   "display_name": "covid-seq2seq",
   "language": "python",
   "name": "covid-seq2seq"
  },
  "language_info": {
   "codemirror_mode": {
    "name": "ipython",
    "version": 3
   },
   "file_extension": ".py",
   "mimetype": "text/x-python",
   "name": "python",
   "nbconvert_exporter": "python",
   "pygments_lexer": "ipython3",
   "version": "3.8.5"
  },
  "varInspector": {
   "cols": {
    "lenName": 16,
    "lenType": 16,
    "lenVar": 40
   },
   "kernels_config": {
    "python": {
     "delete_cmd_postfix": "",
     "delete_cmd_prefix": "del ",
     "library": "var_list.py",
     "varRefreshCmd": "print(var_dic_list())"
    },
    "r": {
     "delete_cmd_postfix": ") ",
     "delete_cmd_prefix": "rm(",
     "library": "var_list.r",
     "varRefreshCmd": "cat(var_dic_list()) "
    }
   },
   "types_to_exclude": [
    "module",
    "function",
    "builtin_function_or_method",
    "instance",
    "_Feature"
   ],
   "window_display": false
  }
 },
 "nbformat": 4,
 "nbformat_minor": 2
}
