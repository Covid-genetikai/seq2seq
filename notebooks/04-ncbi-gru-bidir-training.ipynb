{
 "cells": [
  {
   "cell_type": "markdown",
   "metadata": {},
   "source": [
    "## Character-level recurrent sequence-to-sequence model"
   ]
  },
  {
   "cell_type": "markdown",
   "metadata": {},
   "source": [
    "Example from https://keras.io/examples/nlp/lstm_seq2seq/  \n",
    "Older post https://blog.keras.io/a-ten-minute-introduction-to-sequence-to-sequence-learning-in-keras.html"
   ]
  },
  {
   "cell_type": "code",
   "execution_count": 1,
   "metadata": {
    "ExecuteTime": {
     "end_time": "2021-04-25T12:55:38.244466Z",
     "start_time": "2021-04-25T12:55:38.237634Z"
    }
   },
   "outputs": [],
   "source": [
    "import numpy as np\n",
    "import pandas as pd\n",
    "from itertools import chain\n",
    "import tensorflow as tf\n",
    "from tensorflow import keras\n",
    "from tensorflow.keras.callbacks import EarlyStopping"
   ]
  },
  {
   "cell_type": "code",
   "execution_count": 2,
   "metadata": {},
   "outputs": [],
   "source": [
    "import matplotlib.pyplot as plt\n",
    "\n",
    "%matplotlib inline\n",
    "plt.rcParams['figure.figsize'] = (16, 8)"
   ]
  },
  {
   "cell_type": "code",
   "execution_count": 3,
   "metadata": {},
   "outputs": [],
   "source": [
    "with np.load('data/ncbi_02/dataset.npz', allow_pickle = True) as data:\n",
    "    encoder_input_data = data['encoder_input_data']\n",
    "    decoder_input_data = data['decoder_input_data']\n",
    "    decoder_target_data = data['decoder_target_data']\n",
    "    token_index = data['token_index'].tolist()"
   ]
  },
  {
   "cell_type": "code",
   "execution_count": 4,
   "metadata": {},
   "outputs": [
    {
     "name": "stdout",
     "output_type": "stream",
     "text": [
      "(4368, 3822, 4)\n",
      "(4368, 3822, 4)\n",
      "(4368, 3822, 4)\n",
      "{'A': 0, 'C': 1, 'G': 2, 'T': 3}\n"
     ]
    }
   ],
   "source": [
    "print(encoder_input_data.shape)\n",
    "print(decoder_input_data.shape)\n",
    "print(decoder_target_data.shape)\n",
    "print(token_index)"
   ]
  },
  {
   "cell_type": "code",
   "execution_count": 5,
   "metadata": {
    "ExecuteTime": {
     "end_time": "2021-04-25T12:57:25.528455Z",
     "start_time": "2021-04-25T12:57:25.519843Z"
    }
   },
   "outputs": [
    {
     "name": "stdout",
     "output_type": "stream",
     "text": [
      "[name: \"/device:CPU:0\"\n",
      "device_type: \"CPU\"\n",
      "memory_limit: 268435456\n",
      "locality {\n",
      "}\n",
      "incarnation: 18209037500104202880\n",
      ", name: \"/device:GPU:0\"\n",
      "device_type: \"GPU\"\n",
      "memory_limit: 6429081600\n",
      "locality {\n",
      "  bus_id: 1\n",
      "  links {\n",
      "    link {\n",
      "      device_id: 1\n",
      "      type: \"StreamExecutor\"\n",
      "      strength: 1\n",
      "    }\n",
      "  }\n",
      "}\n",
      "incarnation: 6576068942196486970\n",
      "physical_device_desc: \"device: 0, name: NVIDIA GeForce GTX 1080, pci bus id: 0000:01:00.0, compute capability: 6.1\"\n",
      ", name: \"/device:GPU:1\"\n",
      "device_type: \"GPU\"\n",
      "memory_limit: 7273971712\n",
      "locality {\n",
      "  bus_id: 1\n",
      "  links {\n",
      "    link {\n",
      "      type: \"StreamExecutor\"\n",
      "      strength: 1\n",
      "    }\n",
      "  }\n",
      "}\n",
      "incarnation: 14892810541861608822\n",
      "physical_device_desc: \"device: 1, name: NVIDIA GeForce GTX 1080, pci bus id: 0000:02:00.0, compute capability: 6.1\"\n",
      "]\n"
     ]
    },
    {
     "name": "stderr",
     "output_type": "stream",
     "text": [
      "2021-10-07 10:09:23.230418: I tensorflow/core/platform/cpu_feature_guard.cc:142] This TensorFlow binary is optimized with oneAPI Deep Neural Network Library (oneDNN) to use the following CPU instructions in performance-critical operations:  AVX2 FMA\n",
      "To enable them in other operations, rebuild TensorFlow with the appropriate compiler flags.\n",
      "2021-10-07 10:09:23.382324: I tensorflow/stream_executor/cuda/cuda_gpu_executor.cc:937] successful NUMA node read from SysFS had negative value (-1), but there must be at least one NUMA node, so returning NUMA node zero\n",
      "2021-10-07 10:09:23.382946: I tensorflow/stream_executor/cuda/cuda_gpu_executor.cc:937] successful NUMA node read from SysFS had negative value (-1), but there must be at least one NUMA node, so returning NUMA node zero\n",
      "2021-10-07 10:09:23.387822: I tensorflow/stream_executor/cuda/cuda_gpu_executor.cc:937] successful NUMA node read from SysFS had negative value (-1), but there must be at least one NUMA node, so returning NUMA node zero\n",
      "2021-10-07 10:09:23.388207: I tensorflow/stream_executor/cuda/cuda_gpu_executor.cc:937] successful NUMA node read from SysFS had negative value (-1), but there must be at least one NUMA node, so returning NUMA node zero\n",
      "2021-10-07 10:09:23.388525: I tensorflow/stream_executor/cuda/cuda_gpu_executor.cc:937] successful NUMA node read from SysFS had negative value (-1), but there must be at least one NUMA node, so returning NUMA node zero\n",
      "2021-10-07 10:09:23.388823: I tensorflow/stream_executor/cuda/cuda_gpu_executor.cc:937] successful NUMA node read from SysFS had negative value (-1), but there must be at least one NUMA node, so returning NUMA node zero\n",
      "2021-10-07 10:09:23.974046: I tensorflow/stream_executor/cuda/cuda_gpu_executor.cc:937] successful NUMA node read from SysFS had negative value (-1), but there must be at least one NUMA node, so returning NUMA node zero\n",
      "2021-10-07 10:09:23.974400: I tensorflow/stream_executor/cuda/cuda_gpu_executor.cc:937] successful NUMA node read from SysFS had negative value (-1), but there must be at least one NUMA node, so returning NUMA node zero\n",
      "2021-10-07 10:09:23.974705: I tensorflow/stream_executor/cuda/cuda_gpu_executor.cc:937] successful NUMA node read from SysFS had negative value (-1), but there must be at least one NUMA node, so returning NUMA node zero\n",
      "2021-10-07 10:09:23.975000: I tensorflow/stream_executor/cuda/cuda_gpu_executor.cc:937] successful NUMA node read from SysFS had negative value (-1), but there must be at least one NUMA node, so returning NUMA node zero\n",
      "2021-10-07 10:09:23.975297: I tensorflow/stream_executor/cuda/cuda_gpu_executor.cc:937] successful NUMA node read from SysFS had negative value (-1), but there must be at least one NUMA node, so returning NUMA node zero\n",
      "2021-10-07 10:09:23.975581: I tensorflow/core/common_runtime/gpu/gpu_device.cc:1510] Created device /device:GPU:0 with 6131 MB memory:  -> device: 0, name: NVIDIA GeForce GTX 1080, pci bus id: 0000:01:00.0, compute capability: 6.1\n",
      "2021-10-07 10:09:23.975871: I tensorflow/stream_executor/cuda/cuda_gpu_executor.cc:937] successful NUMA node read from SysFS had negative value (-1), but there must be at least one NUMA node, so returning NUMA node zero\n",
      "2021-10-07 10:09:23.976156: I tensorflow/core/common_runtime/gpu/gpu_device.cc:1510] Created device /device:GPU:1 with 6937 MB memory:  -> device: 1, name: NVIDIA GeForce GTX 1080, pci bus id: 0000:02:00.0, compute capability: 6.1\n"
     ]
    }
   ],
   "source": [
    "from tensorflow.python.client import device_lib\n",
    "print(device_lib.list_local_devices())"
   ]
  },
  {
   "cell_type": "markdown",
   "metadata": {},
   "source": [
    "## Construct model"
   ]
  },
  {
   "cell_type": "code",
   "execution_count": 6,
   "metadata": {},
   "outputs": [],
   "source": [
    "latent_dim = 256     # Latent dimensionality of the encoding space.\n",
    "batch_size = 32      # Batch size for training.\n",
    "patience = 10        # Patience for EarlyStop\n",
    "epochs = 1000        # Number of epochs to train for."
   ]
  },
  {
   "cell_type": "code",
   "execution_count": 8,
   "metadata": {
    "ExecuteTime": {
     "end_time": "2021-04-25T12:57:18.047479Z",
     "start_time": "2021-04-25T12:57:17.620960Z"
    }
   },
   "outputs": [],
   "source": [
    "encoder_inputs = keras.Input(shape = (None, encoder_input_data.shape[2]))\n",
    "encoder = keras.layers.Bidirectional(keras.layers.GRU(latent_dim, return_state = True))\n",
    "encoder_outputs, state_h1, state_h2 = encoder(encoder_inputs)\n",
    "\n",
    "# Set up the decoder, using `encoder_states` as initial state.\n",
    "decoder_inputs = keras.Input(shape = (None, decoder_input_data.shape[2]))\n",
    "\n",
    "# We set up our decoder to return full output sequences,\n",
    "# and to return internal states as well. We don't use the\n",
    "# return states in the training model, but we will use them in inference.\n",
    "decoder_gru = keras.layers.GRU(latent_dim, return_sequences = True, return_state = True)\n",
    "decoder_outputs, _ = decoder_gru(decoder_inputs, initial_state = [ state_h1 ])\n",
    "decoder_dense = keras.layers.Dense(decoder_target_data.shape[2], activation = \"softmax\")\n",
    "decoder_outputs = decoder_dense(decoder_outputs)\n",
    "\n",
    "# Define the model that will turn\n",
    "# `encoder_input_data` & `decoder_input_data` into `decoder_target_data`\n",
    "model = keras.Model([encoder_inputs, decoder_inputs], decoder_outputs)"
   ]
  },
  {
   "cell_type": "code",
   "execution_count": 9,
   "metadata": {},
   "outputs": [
    {
     "data": {
      "image/png": "[encoded data removed]",
      "text/plain": [
       "<IPython.core.display.Image object>"
      ]
     },
     "execution_count": 9,
     "metadata": {},
     "output_type": "execute_result"
    }
   ],
   "source": [
    "from keras.utils.vis_utils import plot_model\n",
    "plot_model(model, to_file = 'model.png')"
   ]
  },
  {
   "cell_type": "code",
   "execution_count": 10,
   "metadata": {
    "ExecuteTime": {
     "end_time": "2021-04-25T12:57:21.687919Z",
     "start_time": "2021-04-25T12:57:21.675274Z"
    }
   },
   "outputs": [
    {
     "name": "stdout",
     "output_type": "stream",
     "text": [
      "Model: \"model\"\n",
      "__________________________________________________________________________________________________\n",
      "Layer (type)                    Output Shape         Param #     Connected to                     \n",
      "==================================================================================================\n",
      "input_3 (InputLayer)            [(None, None, 4)]    0                                            \n",
      "__________________________________________________________________________________________________\n",
      "input_4 (InputLayer)            [(None, None, 4)]    0                                            \n",
      "__________________________________________________________________________________________________\n",
      "bidirectional_1 (Bidirectional) [(None, 512), (None, 402432      input_3[0][0]                    \n",
      "__________________________________________________________________________________________________\n",
      "gru_3 (GRU)                     [(None, None, 256),  201216      input_4[0][0]                    \n",
      "                                                                 bidirectional_1[0][1]            \n",
      "__________________________________________________________________________________________________\n",
      "dense (Dense)                   (None, None, 4)      1028        gru_3[0][0]                      \n",
      "==================================================================================================\n",
      "Total params: 604,676\n",
      "Trainable params: 604,676\n",
      "Non-trainable params: 0\n",
      "__________________________________________________________________________________________________\n"
     ]
    }
   ],
   "source": [
    "model.summary()"
   ]
  },
  {
   "cell_type": "markdown",
   "metadata": {},
   "source": [
    "## Train model"
   ]
  },
  {
   "cell_type": "code",
   "execution_count": 11,
   "metadata": {
    "ExecuteTime": {
     "end_time": "2021-04-25T14:18:28.805676Z",
     "start_time": "2021-04-25T12:57:28.352846Z"
    },
    "scrolled": false
   },
   "outputs": [
    {
     "name": "stderr",
     "output_type": "stream",
     "text": [
      "2021-10-07 10:10:30.669666: I tensorflow/compiler/mlir/mlir_graph_optimization_pass.cc:185] None of the MLIR Optimization Passes are enabled (registered 2)\n"
     ]
    },
    {
     "name": "stdout",
     "output_type": "stream",
     "text": [
      "Epoch 1/1000\n",
      "WARNING:tensorflow:Gradients do not exist for variables ['bidirectional_1/backward_gru_2/gru_cell_6/kernel:0', 'bidirectional_1/backward_gru_2/gru_cell_6/recurrent_kernel:0', 'bidirectional_1/backward_gru_2/gru_cell_6/bias:0'] when minimizing the loss.\n",
      "WARNING:tensorflow:Gradients do not exist for variables ['bidirectional_1/backward_gru_2/gru_cell_6/kernel:0', 'bidirectional_1/backward_gru_2/gru_cell_6/recurrent_kernel:0', 'bidirectional_1/backward_gru_2/gru_cell_6/bias:0'] when minimizing the loss.\n"
     ]
    },
    {
     "name": "stderr",
     "output_type": "stream",
     "text": [
      "2021-10-07 10:10:32.881646: I tensorflow/stream_executor/cuda/cuda_dnn.cc:369] Loaded cuDNN version 8204\n"
     ]
    },
    {
     "name": "stdout",
     "output_type": "stream",
     "text": [
      "110/110 [==============================] - 39s 332ms/step - loss: 1.3115 - accuracy: 0.3608 - val_loss: 1.2801 - val_accuracy: 0.3881\n",
      "Epoch 2/1000\n",
      "110/110 [==============================] - 36s 325ms/step - loss: 1.2369 - accuracy: 0.4262 - val_loss: 1.1786 - val_accuracy: 0.4701\n",
      "Epoch 3/1000\n",
      "110/110 [==============================] - 37s 332ms/step - loss: 1.1170 - accuracy: 0.5088 - val_loss: 1.0673 - val_accuracy: 0.5320\n",
      "Epoch 4/1000\n",
      "110/110 [==============================] - 35s 323ms/step - loss: 0.9710 - accuracy: 0.5917 - val_loss: 0.8600 - val_accuracy: 0.6534\n",
      "Epoch 5/1000\n",
      "110/110 [==============================] - 34s 312ms/step - loss: 0.7916 - accuracy: 0.6852 - val_loss: 0.7122 - val_accuracy: 0.7194\n",
      "Epoch 6/1000\n",
      "110/110 [==============================] - 34s 310ms/step - loss: 0.6001 - accuracy: 0.7772 - val_loss: 0.5424 - val_accuracy: 0.7987\n",
      "Epoch 7/1000\n",
      "110/110 [==============================] - 34s 311ms/step - loss: 0.4147 - accuracy: 0.8636 - val_loss: 0.3372 - val_accuracy: 0.8994\n",
      "Epoch 8/1000\n",
      "110/110 [==============================] - 35s 315ms/step - loss: 0.2659 - accuracy: 0.9300 - val_loss: 0.2815 - val_accuracy: 0.9092\n",
      "Epoch 9/1000\n",
      "110/110 [==============================] - 34s 309ms/step - loss: 0.1712 - accuracy: 0.9638 - val_loss: 0.0877 - val_accuracy: 0.9938\n",
      "Epoch 10/1000\n",
      "110/110 [==============================] - 34s 309ms/step - loss: 0.1200 - accuracy: 0.9746 - val_loss: 0.0962 - val_accuracy: 0.9865\n",
      "Epoch 11/1000\n",
      "110/110 [==============================] - 34s 311ms/step - loss: 0.0856 - accuracy: 0.9822 - val_loss: 0.0448 - val_accuracy: 0.9956\n",
      "Epoch 12/1000\n",
      "110/110 [==============================] - 34s 310ms/step - loss: 0.0605 - accuracy: 0.9873 - val_loss: 0.0278 - val_accuracy: 0.9965\n",
      "Epoch 13/1000\n",
      "110/110 [==============================] - 34s 308ms/step - loss: 0.0506 - accuracy: 0.9886 - val_loss: 0.0218 - val_accuracy: 0.9973\n",
      "Epoch 14/1000\n",
      "110/110 [==============================] - 34s 309ms/step - loss: 0.0381 - accuracy: 0.9915 - val_loss: 0.0192 - val_accuracy: 0.9975\n",
      "Epoch 15/1000\n",
      "110/110 [==============================] - 34s 307ms/step - loss: 0.0340 - accuracy: 0.9923 - val_loss: 0.0162 - val_accuracy: 0.9978\n",
      "Epoch 16/1000\n",
      "110/110 [==============================] - 34s 311ms/step - loss: 0.0495 - accuracy: 0.9896 - val_loss: 0.0154 - val_accuracy: 0.9978\n",
      "Epoch 17/1000\n",
      "110/110 [==============================] - 34s 310ms/step - loss: 0.0260 - accuracy: 0.9945 - val_loss: 0.0149 - val_accuracy: 0.9974\n",
      "Epoch 18/1000\n",
      "110/110 [==============================] - 34s 310ms/step - loss: 0.0322 - accuracy: 0.9929 - val_loss: 0.0129 - val_accuracy: 0.9979\n",
      "Epoch 19/1000\n",
      "110/110 [==============================] - 34s 309ms/step - loss: 0.0276 - accuracy: 0.9942 - val_loss: 0.0123 - val_accuracy: 0.9980\n",
      "Epoch 20/1000\n",
      "110/110 [==============================] - 35s 316ms/step - loss: 0.0232 - accuracy: 0.9946 - val_loss: 0.0116 - val_accuracy: 0.9983\n",
      "Epoch 21/1000\n",
      "110/110 [==============================] - 34s 313ms/step - loss: 0.0170 - accuracy: 0.9965 - val_loss: 0.0101 - val_accuracy: 0.9986\n",
      "Epoch 22/1000\n",
      "110/110 [==============================] - 34s 312ms/step - loss: 0.0202 - accuracy: 0.9954 - val_loss: 0.0126 - val_accuracy: 0.9982\n",
      "Epoch 23/1000\n",
      "110/110 [==============================] - 34s 308ms/step - loss: 0.0136 - accuracy: 0.9972 - val_loss: 0.0093 - val_accuracy: 0.9984\n",
      "Epoch 24/1000\n",
      "110/110 [==============================] - 34s 310ms/step - loss: 0.0176 - accuracy: 0.9965 - val_loss: 0.0094 - val_accuracy: 0.9987\n",
      "Epoch 25/1000\n",
      "110/110 [==============================] - 34s 310ms/step - loss: 0.0184 - accuracy: 0.9960 - val_loss: 0.0103 - val_accuracy: 0.9986\n",
      "Epoch 26/1000\n",
      "110/110 [==============================] - 35s 316ms/step - loss: 0.0122 - accuracy: 0.9976 - val_loss: 0.0098 - val_accuracy: 0.9981\n",
      "Epoch 27/1000\n",
      "110/110 [==============================] - 34s 311ms/step - loss: 0.0191 - accuracy: 0.9964 - val_loss: 0.0104 - val_accuracy: 0.9983\n",
      "Epoch 28/1000\n",
      "110/110 [==============================] - 34s 310ms/step - loss: 0.0104 - accuracy: 0.9980 - val_loss: 0.0082 - val_accuracy: 0.9989\n",
      "Epoch 29/1000\n",
      "110/110 [==============================] - 34s 312ms/step - loss: 0.0110 - accuracy: 0.9978 - val_loss: 0.0106 - val_accuracy: 0.9985\n",
      "Epoch 30/1000\n",
      "110/110 [==============================] - 34s 310ms/step - loss: 0.0082 - accuracy: 0.9984 - val_loss: 0.0088 - val_accuracy: 0.9985\n",
      "Epoch 31/1000\n",
      "110/110 [==============================] - 34s 308ms/step - loss: 0.0101 - accuracy: 0.9979 - val_loss: 0.0077 - val_accuracy: 0.9988\n",
      "Epoch 32/1000\n",
      "110/110 [==============================] - 34s 310ms/step - loss: 0.0183 - accuracy: 0.9965 - val_loss: 0.0079 - val_accuracy: 0.9988\n",
      "Epoch 33/1000\n",
      "110/110 [==============================] - 34s 311ms/step - loss: 0.0094 - accuracy: 0.9982 - val_loss: 0.0251 - val_accuracy: 0.9929\n",
      "Epoch 34/1000\n",
      "110/110 [==============================] - 34s 310ms/step - loss: 0.0078 - accuracy: 0.9984 - val_loss: 0.0080 - val_accuracy: 0.9988\n",
      "Epoch 35/1000\n",
      "110/110 [==============================] - 34s 312ms/step - loss: 0.0113 - accuracy: 0.9978 - val_loss: 0.0420 - val_accuracy: 0.9927\n",
      "Epoch 36/1000\n",
      "110/110 [==============================] - 34s 309ms/step - loss: 0.0075 - accuracy: 0.9986 - val_loss: 0.0074 - val_accuracy: 0.9991\n",
      "Epoch 37/1000\n",
      "110/110 [==============================] - 34s 309ms/step - loss: 0.0087 - accuracy: 0.9985 - val_loss: 0.0079 - val_accuracy: 0.9988\n",
      "Epoch 38/1000\n",
      "110/110 [==============================] - 34s 312ms/step - loss: 0.0072 - accuracy: 0.9987 - val_loss: 0.0133 - val_accuracy: 0.9969\n",
      "Epoch 39/1000\n",
      "110/110 [==============================] - 34s 314ms/step - loss: 0.0086 - accuracy: 0.9985 - val_loss: 0.0074 - val_accuracy: 0.9988\n",
      "Epoch 40/1000\n",
      "110/110 [==============================] - 35s 319ms/step - loss: 0.0071 - accuracy: 0.9986 - val_loss: 0.0075 - val_accuracy: 0.9986\n",
      "Epoch 41/1000\n",
      "110/110 [==============================] - 35s 323ms/step - loss: 0.0075 - accuracy: 0.9984 - val_loss: 0.0080 - val_accuracy: 0.9991\n",
      "Epoch 42/1000\n",
      "110/110 [==============================] - 35s 316ms/step - loss: 0.0067 - accuracy: 0.9987 - val_loss: 0.0070 - val_accuracy: 0.9989\n",
      "Epoch 43/1000\n",
      "110/110 [==============================] - 35s 315ms/step - loss: 0.0060 - accuracy: 0.9990 - val_loss: 0.0103 - val_accuracy: 0.9979\n",
      "Epoch 44/1000\n",
      "110/110 [==============================] - 35s 317ms/step - loss: 0.0084 - accuracy: 0.9986 - val_loss: 0.0070 - val_accuracy: 0.9989\n",
      "Epoch 45/1000\n",
      "110/110 [==============================] - 35s 318ms/step - loss: 0.0242 - accuracy: 0.9960 - val_loss: 0.0075 - val_accuracy: 0.9988\n",
      "Epoch 46/1000\n",
      "110/110 [==============================] - 35s 316ms/step - loss: 0.0075 - accuracy: 0.9986 - val_loss: 0.0071 - val_accuracy: 0.9991\n",
      "Epoch 47/1000\n",
      "110/110 [==============================] - 34s 314ms/step - loss: 0.0060 - accuracy: 0.9990 - val_loss: 0.0069 - val_accuracy: 0.9992\n",
      "Epoch 48/1000\n",
      "110/110 [==============================] - 34s 314ms/step - loss: 0.0070 - accuracy: 0.9987 - val_loss: 0.0069 - val_accuracy: 0.9989\n",
      "Epoch 49/1000\n",
      "110/110 [==============================] - 35s 315ms/step - loss: 0.0061 - accuracy: 0.9988 - val_loss: 0.0093 - val_accuracy: 0.9979\n",
      "Epoch 50/1000\n",
      "110/110 [==============================] - 34s 313ms/step - loss: 0.0065 - accuracy: 0.9987 - val_loss: 0.0067 - val_accuracy: 0.9989\n",
      "Epoch 51/1000\n",
      "110/110 [==============================] - 34s 313ms/step - loss: 0.0066 - accuracy: 0.9987 - val_loss: 0.0065 - val_accuracy: 0.9989\n",
      "Epoch 52/1000\n",
      "110/110 [==============================] - 34s 311ms/step - loss: 0.0056 - accuracy: 0.9989 - val_loss: 0.0108 - val_accuracy: 0.9969\n",
      "Epoch 53/1000\n",
      "110/110 [==============================] - 34s 307ms/step - loss: 0.0061 - accuracy: 0.9988 - val_loss: 0.0081 - val_accuracy: 0.9982\n",
      "Epoch 54/1000\n",
      "110/110 [==============================] - 34s 313ms/step - loss: 0.0056 - accuracy: 0.9989 - val_loss: 0.0079 - val_accuracy: 0.9984\n",
      "Epoch 55/1000\n",
      "110/110 [==============================] - 35s 314ms/step - loss: 0.0056 - accuracy: 0.9989 - val_loss: 0.0125 - val_accuracy: 0.9971\n",
      "Epoch 56/1000\n"
     ]
    },
    {
     "name": "stdout",
     "output_type": "stream",
     "text": [
      "110/110 [==============================] - 35s 319ms/step - loss: 0.0062 - accuracy: 0.9989 - val_loss: 0.0078 - val_accuracy: 0.9984\n",
      "Epoch 57/1000\n",
      "110/110 [==============================] - 34s 314ms/step - loss: 0.0069 - accuracy: 0.9987 - val_loss: 0.0068 - val_accuracy: 0.9990\n",
      "Epoch 58/1000\n",
      "110/110 [==============================] - 35s 318ms/step - loss: 0.0063 - accuracy: 0.9989 - val_loss: 0.0067 - val_accuracy: 0.9987\n",
      "Epoch 59/1000\n",
      "110/110 [==============================] - 35s 314ms/step - loss: 0.0079 - accuracy: 0.9985 - val_loss: 0.0062 - val_accuracy: 0.9990\n",
      "Epoch 60/1000\n",
      "110/110 [==============================] - 34s 314ms/step - loss: 0.0089 - accuracy: 0.9984 - val_loss: 0.0064 - val_accuracy: 0.9990\n",
      "Epoch 61/1000\n",
      "110/110 [==============================] - 34s 311ms/step - loss: 0.0048 - accuracy: 0.9990 - val_loss: 0.0132 - val_accuracy: 0.9961\n",
      "Epoch 62/1000\n",
      "110/110 [==============================] - 34s 313ms/step - loss: 0.0059 - accuracy: 0.9989 - val_loss: 0.0067 - val_accuracy: 0.9992\n",
      "Epoch 63/1000\n",
      "110/110 [==============================] - 35s 314ms/step - loss: 0.0049 - accuracy: 0.9992 - val_loss: 0.0092 - val_accuracy: 0.9979\n",
      "Epoch 64/1000\n",
      "110/110 [==============================] - 34s 312ms/step - loss: 0.0054 - accuracy: 0.9989 - val_loss: 0.0062 - val_accuracy: 0.9990\n",
      "Epoch 65/1000\n",
      "110/110 [==============================] - 35s 315ms/step - loss: 0.0154 - accuracy: 0.9974 - val_loss: 0.0063 - val_accuracy: 0.9992\n",
      "Epoch 66/1000\n",
      "110/110 [==============================] - 35s 315ms/step - loss: 0.0052 - accuracy: 0.9992 - val_loss: 0.0100 - val_accuracy: 0.9980\n",
      "Epoch 67/1000\n",
      "110/110 [==============================] - 34s 312ms/step - loss: 0.0076 - accuracy: 0.9985 - val_loss: 0.0079 - val_accuracy: 0.9990\n",
      "Epoch 68/1000\n",
      "110/110 [==============================] - 34s 309ms/step - loss: 0.0047 - accuracy: 0.9992 - val_loss: 0.0103 - val_accuracy: 0.9972\n",
      "Epoch 69/1000\n",
      "110/110 [==============================] - 35s 317ms/step - loss: 0.0078 - accuracy: 0.9985 - val_loss: 0.0065 - val_accuracy: 0.9990\n",
      "Epoch 70/1000\n",
      "110/110 [==============================] - 35s 319ms/step - loss: 0.0049 - accuracy: 0.9990 - val_loss: 0.0061 - val_accuracy: 0.9990\n",
      "Epoch 71/1000\n",
      "110/110 [==============================] - 34s 311ms/step - loss: 0.0112 - accuracy: 0.9979 - val_loss: 0.0087 - val_accuracy: 0.9990\n",
      "Epoch 72/1000\n",
      "110/110 [==============================] - 37s 335ms/step - loss: 0.0050 - accuracy: 0.9991 - val_loss: 0.0062 - val_accuracy: 0.9990\n",
      "Epoch 73/1000\n",
      "110/110 [==============================] - 36s 330ms/step - loss: 0.0256 - accuracy: 0.9949 - val_loss: 0.0125 - val_accuracy: 0.9971\n",
      "Epoch 74/1000\n",
      "110/110 [==============================] - 36s 329ms/step - loss: 0.0496 - accuracy: 0.9881 - val_loss: 0.0238 - val_accuracy: 0.9935\n",
      "Epoch 75/1000\n",
      "110/110 [==============================] - 36s 328ms/step - loss: 0.0170 - accuracy: 0.9955 - val_loss: 0.0116 - val_accuracy: 0.9976\n",
      "Epoch 76/1000\n",
      "110/110 [==============================] - 36s 331ms/step - loss: 0.0285 - accuracy: 0.9920 - val_loss: 0.0078 - val_accuracy: 0.9987\n",
      "Epoch 77/1000\n",
      "110/110 [==============================] - 37s 334ms/step - loss: 0.0066 - accuracy: 0.9986 - val_loss: 0.0065 - val_accuracy: 0.9989\n",
      "Epoch 78/1000\n",
      "110/110 [==============================] - 35s 315ms/step - loss: 0.0054 - accuracy: 0.9989 - val_loss: 0.0067 - val_accuracy: 0.9990\n",
      "Epoch 79/1000\n",
      "110/110 [==============================] - 34s 313ms/step - loss: 0.0057 - accuracy: 0.9988 - val_loss: 0.0078 - val_accuracy: 0.9985\n",
      "Epoch 80/1000\n",
      "110/110 [==============================] - 34s 311ms/step - loss: 0.0055 - accuracy: 0.9988 - val_loss: 0.0068 - val_accuracy: 0.9987\n",
      "Restoring model weights from the end of the best epoch.\n",
      "Epoch 00080: early stopping\n"
     ]
    }
   ],
   "source": [
    "model.compile(\n",
    "    optimizer = \"rmsprop\", loss = \"categorical_crossentropy\", metrics = [\"accuracy\"]\n",
    ")\n",
    "\n",
    "es = EarlyStopping(monitor='val_loss', min_delta = 0, patience = patience, \n",
    "                   verbose = 1, restore_best_weights = True)\n",
    "\n",
    "log = model.fit(\n",
    "    [ encoder_input_data, decoder_input_data ],\n",
    "    decoder_target_data,\n",
    "    batch_size = batch_size,\n",
    "    epochs = epochs,\n",
    "    callbacks = [ es ],\n",
    "    validation_split = 0.2,\n",
    ")"
   ]
  },
  {
   "cell_type": "code",
   "execution_count": 12,
   "metadata": {
    "ExecuteTime": {
     "end_time": "2021-04-25T14:44:02.441854Z",
     "start_time": "2021-04-25T14:44:02.061450Z"
    }
   },
   "outputs": [
    {
     "data": {
      "image/png": "[encoded data removed]",
      "text/plain": [
       "<Figure size 1152x576 with 1 Axes>"
      ]
     },
     "metadata": {
      "needs_background": "light"
     },
     "output_type": "display_data"
    }
   ],
   "source": [
    "plt.plot(log.history['accuracy'], label = 'mokymo')\n",
    "plt.plot(log.history['val_accuracy'], label = 'validavimo')\n",
    "plt.ylabel('tikslumas')\n",
    "plt.xlabel('epocha')\n",
    "plt.legend()\n",
    "plt.show()"
   ]
  },
  {
   "cell_type": "code",
   "execution_count": 13,
   "metadata": {},
   "outputs": [
    {
     "data": {
      "image/png": "[encoded data removed]",
      "text/plain": [
       "<Figure size 1152x576 with 1 Axes>"
      ]
     },
     "metadata": {
      "needs_background": "light"
     },
     "output_type": "display_data"
    }
   ],
   "source": [
    "plt.plot(log.history['loss'], '--', label = 'mokymo')\n",
    "plt.plot(log.history['val_loss'], '--', label = 'validavimo')\n",
    "plt.ylabel('netektis')\n",
    "plt.xlabel('epocha')\n",
    "plt.legend()\n",
    "plt.show()"
   ]
  },
  {
   "cell_type": "code",
   "execution_count": 14,
   "metadata": {
    "ExecuteTime": {
     "end_time": "2021-04-25T14:43:14.871141Z",
     "start_time": "2021-04-25T14:43:08.655581Z"
    }
   },
   "outputs": [
    {
     "name": "stderr",
     "output_type": "stream",
     "text": [
      "2021-10-07 10:59:42.345759: W tensorflow/python/util/util.cc:348] Sets are not currently considered sequences, but this may change in the future, so consider avoiding using them.\n",
      "WARNING:absl:Found untraced functions such as gru_cell_7_layer_call_fn, gru_cell_7_layer_call_and_return_conditional_losses, gru_cell_5_layer_call_fn, gru_cell_5_layer_call_and_return_conditional_losses, gru_cell_6_layer_call_fn while saving (showing 5 of 15). These functions will not be directly callable after loading.\n"
     ]
    },
    {
     "name": "stdout",
     "output_type": "stream",
     "text": [
      "INFO:tensorflow:Assets written to: data/ncbi_02/model_gru_bi_256/assets\n"
     ]
    },
    {
     "name": "stderr",
     "output_type": "stream",
     "text": [
      "INFO:tensorflow:Assets written to: data/ncbi_02/model_gru_bi_256/assets\n"
     ]
    }
   ],
   "source": [
    "model.save(\"data/ncbi_02/model_gru_bi_256\")"
   ]
  },
  {
   "cell_type": "code",
   "execution_count": null,
   "metadata": {},
   "outputs": [],
   "source": []
  }
 ],
 "metadata": {
  "kernelspec": {
   "display_name": "seq2seq",
   "language": "python",
   "name": "seq2seq"
  },
  "language_info": {
   "codemirror_mode": {
    "name": "ipython",
    "version": 3
   },
   "file_extension": ".py",
   "mimetype": "text/x-python",
   "name": "python",
   "nbconvert_exporter": "python",
   "pygments_lexer": "ipython3",
   "version": "3.8.10"
  },
  "varInspector": {
   "cols": {
    "lenName": 16,
    "lenType": 16,
    "lenVar": 40
   },
   "kernels_config": {
    "python": {
     "delete_cmd_postfix": "",
     "delete_cmd_prefix": "del ",
     "library": "var_list.py",
     "varRefreshCmd": "print(var_dic_list())"
    },
    "r": {
     "delete_cmd_postfix": ") ",
     "delete_cmd_prefix": "rm(",
     "library": "var_list.r",
     "varRefreshCmd": "cat(var_dic_list()) "
    }
   },
   "types_to_exclude": [
    "module",
    "function",
    "builtin_function_or_method",
    "instance",
    "_Feature"
   ],
   "window_display": false
  }
 },
 "nbformat": 4,
 "nbformat_minor": 2
}
