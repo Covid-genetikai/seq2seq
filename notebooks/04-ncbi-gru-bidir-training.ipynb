{
 "cells": [
  {
   "cell_type": "markdown",
   "metadata": {},
   "source": [
    "## Character-level recurrent sequence-to-sequence model"
   ]
  },
  {
   "cell_type": "markdown",
   "metadata": {},
   "source": [
    "Example from https://keras.io/examples/nlp/lstm_seq2seq/  \n",
    "Older post https://blog.keras.io/a-ten-minute-introduction-to-sequence-to-sequence-learning-in-keras.html"
   ]
  },
  {
   "cell_type": "code",
   "execution_count": 1,
   "metadata": {
    "ExecuteTime": {
     "end_time": "2021-04-25T12:55:38.244466Z",
     "start_time": "2021-04-25T12:55:38.237634Z"
    }
   },
   "outputs": [],
   "source": [
    "import numpy as np\n",
    "import pandas as pd\n",
    "from itertools import chain\n",
    "import tensorflow as tf\n",
    "from tensorflow import keras\n",
    "from tensorflow.keras.callbacks import EarlyStopping"
   ]
  },
  {
   "cell_type": "code",
   "execution_count": 2,
   "metadata": {},
   "outputs": [],
   "source": [
    "import matplotlib.pyplot as plt\n",
    "\n",
    "%matplotlib inline\n",
    "plt.rcParams['figure.figsize'] = (16, 8)"
   ]
  },
  {
   "cell_type": "code",
   "execution_count": 3,
   "metadata": {},
   "outputs": [],
   "source": [
    "with np.load('data/ncbi_02/dataset.npz', allow_pickle = True) as data:\n",
    "    encoder_input_data = data['encoder_input_data']\n",
    "    decoder_input_data = data['decoder_input_data']\n",
    "    decoder_target_data = data['decoder_target_data']\n",
    "    token_index = data['token_index'].tolist()"
   ]
  },
  {
   "cell_type": "code",
   "execution_count": 4,
   "metadata": {},
   "outputs": [
    {
     "name": "stdout",
     "output_type": "stream",
     "text": [
      "(4368, 3822, 4)\n",
      "(4368, 3822, 4)\n",
      "(4368, 3822, 4)\n",
      "{'A': 0, 'C': 1, 'G': 2, 'T': 3}\n"
     ]
    }
   ],
   "source": [
    "print(encoder_input_data.shape)\n",
    "print(decoder_input_data.shape)\n",
    "print(decoder_target_data.shape)\n",
    "print(token_index)"
   ]
  },
  {
   "cell_type": "code",
   "execution_count": 5,
   "metadata": {
    "ExecuteTime": {
     "end_time": "2021-04-25T12:57:25.528455Z",
     "start_time": "2021-04-25T12:57:25.519843Z"
    }
   },
   "outputs": [
    {
     "name": "stdout",
     "output_type": "stream",
     "text": [
      "[name: \"/device:CPU:0\"\n",
      "device_type: \"CPU\"\n",
      "memory_limit: 268435456\n",
      "locality {\n",
      "}\n",
      "incarnation: 8296855349062910599\n",
      "xla_global_id: -1\n",
      ", name: \"/device:GPU:0\"\n",
      "device_type: \"GPU\"\n",
      "memory_limit: 7178420224\n",
      "locality {\n",
      "  bus_id: 1\n",
      "  links {\n",
      "    link {\n",
      "      device_id: 1\n",
      "      type: \"StreamExecutor\"\n",
      "      strength: 1\n",
      "    }\n",
      "  }\n",
      "}\n",
      "incarnation: 339410863426624959\n",
      "physical_device_desc: \"device: 0, name: NVIDIA GeForce GTX 1080, pci bus id: 0000:01:00.0, compute capability: 6.1\"\n",
      "xla_global_id: 416903419\n",
      ", name: \"/device:GPU:1\"\n",
      "device_type: \"GPU\"\n",
      "memory_limit: 7737507840\n",
      "locality {\n",
      "  bus_id: 1\n",
      "  links {\n",
      "    link {\n",
      "      type: \"StreamExecutor\"\n",
      "      strength: 1\n",
      "    }\n",
      "  }\n",
      "}\n",
      "incarnation: 3294104956409528206\n",
      "physical_device_desc: \"device: 1, name: NVIDIA GeForce GTX 1080, pci bus id: 0000:02:00.0, compute capability: 6.1\"\n",
      "xla_global_id: 2144165316\n",
      "]\n"
     ]
    },
    {
     "name": "stderr",
     "output_type": "stream",
     "text": [
      "2022-03-01 15:36:49.163871: I tensorflow/core/platform/cpu_feature_guard.cc:151] This TensorFlow binary is optimized with oneAPI Deep Neural Network Library (oneDNN) to use the following CPU instructions in performance-critical operations:  AVX2 FMA\n",
      "To enable them in other operations, rebuild TensorFlow with the appropriate compiler flags.\n",
      "2022-03-01 15:36:49.400776: I tensorflow/stream_executor/cuda/cuda_gpu_executor.cc:936] successful NUMA node read from SysFS had negative value (-1), but there must be at least one NUMA node, so returning NUMA node zero\n",
      "2022-03-01 15:36:49.401120: I tensorflow/stream_executor/cuda/cuda_gpu_executor.cc:936] successful NUMA node read from SysFS had negative value (-1), but there must be at least one NUMA node, so returning NUMA node zero\n",
      "2022-03-01 15:36:49.405315: I tensorflow/stream_executor/cuda/cuda_gpu_executor.cc:936] successful NUMA node read from SysFS had negative value (-1), but there must be at least one NUMA node, so returning NUMA node zero\n",
      "2022-03-01 15:36:49.406745: I tensorflow/stream_executor/cuda/cuda_gpu_executor.cc:936] successful NUMA node read from SysFS had negative value (-1), but there must be at least one NUMA node, so returning NUMA node zero\n",
      "2022-03-01 15:36:49.407048: I tensorflow/stream_executor/cuda/cuda_gpu_executor.cc:936] successful NUMA node read from SysFS had negative value (-1), but there must be at least one NUMA node, so returning NUMA node zero\n",
      "2022-03-01 15:36:49.407341: I tensorflow/stream_executor/cuda/cuda_gpu_executor.cc:936] successful NUMA node read from SysFS had negative value (-1), but there must be at least one NUMA node, so returning NUMA node zero\n",
      "2022-03-01 15:36:49.978470: I tensorflow/stream_executor/cuda/cuda_gpu_executor.cc:936] successful NUMA node read from SysFS had negative value (-1), but there must be at least one NUMA node, so returning NUMA node zero\n",
      "2022-03-01 15:36:49.978821: I tensorflow/stream_executor/cuda/cuda_gpu_executor.cc:936] successful NUMA node read from SysFS had negative value (-1), but there must be at least one NUMA node, so returning NUMA node zero\n",
      "2022-03-01 15:36:49.979131: I tensorflow/stream_executor/cuda/cuda_gpu_executor.cc:936] successful NUMA node read from SysFS had negative value (-1), but there must be at least one NUMA node, so returning NUMA node zero\n",
      "2022-03-01 15:36:49.979432: I tensorflow/stream_executor/cuda/cuda_gpu_executor.cc:936] successful NUMA node read from SysFS had negative value (-1), but there must be at least one NUMA node, so returning NUMA node zero\n",
      "2022-03-01 15:36:49.979733: I tensorflow/stream_executor/cuda/cuda_gpu_executor.cc:936] successful NUMA node read from SysFS had negative value (-1), but there must be at least one NUMA node, so returning NUMA node zero\n",
      "2022-03-01 15:36:49.980018: I tensorflow/core/common_runtime/gpu/gpu_device.cc:1525] Created device /device:GPU:0 with 6845 MB memory:  -> device: 0, name: NVIDIA GeForce GTX 1080, pci bus id: 0000:01:00.0, compute capability: 6.1\n",
      "2022-03-01 15:36:49.980324: I tensorflow/stream_executor/cuda/cuda_gpu_executor.cc:936] successful NUMA node read from SysFS had negative value (-1), but there must be at least one NUMA node, so returning NUMA node zero\n",
      "2022-03-01 15:36:49.980615: I tensorflow/core/common_runtime/gpu/gpu_device.cc:1525] Created device /device:GPU:1 with 7379 MB memory:  -> device: 1, name: NVIDIA GeForce GTX 1080, pci bus id: 0000:02:00.0, compute capability: 6.1\n"
     ]
    }
   ],
   "source": [
    "from tensorflow.python.client import device_lib\n",
    "print(device_lib.list_local_devices())"
   ]
  },
  {
   "cell_type": "markdown",
   "metadata": {},
   "source": [
    "## Construct model"
   ]
  },
  {
   "cell_type": "code",
   "execution_count": 6,
   "metadata": {},
   "outputs": [],
   "source": [
    "latent_dim = 256     # Latent dimensionality of the encoding space.\n",
    "batch_size = 32      # Batch size for training.\n",
    "patience = 10        # Patience for EarlyStop\n",
    "epochs = 1000        # Number of epochs to train for."
   ]
  },
  {
   "cell_type": "code",
   "execution_count": 7,
   "metadata": {
    "ExecuteTime": {
     "end_time": "2021-04-25T12:57:18.047479Z",
     "start_time": "2021-04-25T12:57:17.620960Z"
    }
   },
   "outputs": [
    {
     "name": "stderr",
     "output_type": "stream",
     "text": [
      "2022-03-01 15:36:51.951342: I tensorflow/stream_executor/cuda/cuda_gpu_executor.cc:936] successful NUMA node read from SysFS had negative value (-1), but there must be at least one NUMA node, so returning NUMA node zero\n",
      "2022-03-01 15:36:51.951701: I tensorflow/stream_executor/cuda/cuda_gpu_executor.cc:936] successful NUMA node read from SysFS had negative value (-1), but there must be at least one NUMA node, so returning NUMA node zero\n",
      "2022-03-01 15:36:51.952012: I tensorflow/stream_executor/cuda/cuda_gpu_executor.cc:936] successful NUMA node read from SysFS had negative value (-1), but there must be at least one NUMA node, so returning NUMA node zero\n",
      "2022-03-01 15:36:51.952303: I tensorflow/stream_executor/cuda/cuda_gpu_executor.cc:936] successful NUMA node read from SysFS had negative value (-1), but there must be at least one NUMA node, so returning NUMA node zero\n",
      "2022-03-01 15:36:51.952598: I tensorflow/stream_executor/cuda/cuda_gpu_executor.cc:936] successful NUMA node read from SysFS had negative value (-1), but there must be at least one NUMA node, so returning NUMA node zero\n",
      "2022-03-01 15:36:51.952888: I tensorflow/stream_executor/cuda/cuda_gpu_executor.cc:936] successful NUMA node read from SysFS had negative value (-1), but there must be at least one NUMA node, so returning NUMA node zero\n",
      "2022-03-01 15:36:51.953335: I tensorflow/stream_executor/cuda/cuda_gpu_executor.cc:936] successful NUMA node read from SysFS had negative value (-1), but there must be at least one NUMA node, so returning NUMA node zero\n",
      "2022-03-01 15:36:51.953634: I tensorflow/stream_executor/cuda/cuda_gpu_executor.cc:936] successful NUMA node read from SysFS had negative value (-1), but there must be at least one NUMA node, so returning NUMA node zero\n",
      "2022-03-01 15:36:51.953931: I tensorflow/stream_executor/cuda/cuda_gpu_executor.cc:936] successful NUMA node read from SysFS had negative value (-1), but there must be at least one NUMA node, so returning NUMA node zero\n",
      "2022-03-01 15:36:51.954224: I tensorflow/stream_executor/cuda/cuda_gpu_executor.cc:936] successful NUMA node read from SysFS had negative value (-1), but there must be at least one NUMA node, so returning NUMA node zero\n",
      "2022-03-01 15:36:51.954554: I tensorflow/stream_executor/cuda/cuda_gpu_executor.cc:936] successful NUMA node read from SysFS had negative value (-1), but there must be at least one NUMA node, so returning NUMA node zero\n",
      "2022-03-01 15:36:51.954841: I tensorflow/stream_executor/cuda/cuda_gpu_executor.cc:936] successful NUMA node read from SysFS had negative value (-1), but there must be at least one NUMA node, so returning NUMA node zero\n",
      "2022-03-01 15:36:51.955184: I tensorflow/stream_executor/cuda/cuda_gpu_executor.cc:936] successful NUMA node read from SysFS had negative value (-1), but there must be at least one NUMA node, so returning NUMA node zero\n",
      "2022-03-01 15:36:51.955479: I tensorflow/stream_executor/cuda/cuda_gpu_executor.cc:936] successful NUMA node read from SysFS had negative value (-1), but there must be at least one NUMA node, so returning NUMA node zero\n",
      "2022-03-01 15:36:51.955777: I tensorflow/stream_executor/cuda/cuda_gpu_executor.cc:936] successful NUMA node read from SysFS had negative value (-1), but there must be at least one NUMA node, so returning NUMA node zero\n",
      "2022-03-01 15:36:51.956043: I tensorflow/core/common_runtime/gpu/gpu_device.cc:1525] Created device /job:localhost/replica:0/task:0/device:GPU:0 with 6845 MB memory:  -> device: 0, name: NVIDIA GeForce GTX 1080, pci bus id: 0000:01:00.0, compute capability: 6.1\n",
      "2022-03-01 15:36:51.956087: I tensorflow/stream_executor/cuda/cuda_gpu_executor.cc:936] successful NUMA node read from SysFS had negative value (-1), but there must be at least one NUMA node, so returning NUMA node zero\n",
      "2022-03-01 15:36:51.956357: I tensorflow/core/common_runtime/gpu/gpu_device.cc:1525] Created device /job:localhost/replica:0/task:0/device:GPU:1 with 7379 MB memory:  -> device: 1, name: NVIDIA GeForce GTX 1080, pci bus id: 0000:02:00.0, compute capability: 6.1\n"
     ]
    }
   ],
   "source": [
    "encoder_inputs = keras.Input(shape = (None, encoder_input_data.shape[2]))\n",
    "encoder = keras.layers.Bidirectional(keras.layers.GRU(latent_dim, return_state = True))\n",
    "encoder_outputs, state_h1, state_h2 = encoder(encoder_inputs)\n",
    "\n",
    "# Set up the decoder, using `encoder_states` as initial state.\n",
    "decoder_inputs = keras.Input(shape = (None, decoder_input_data.shape[2]))\n",
    "\n",
    "# We set up our decoder to return full output sequences,\n",
    "# and to return internal states as well. We don't use the\n",
    "# return states in the training model, but we will use them in inference.\n",
    "decoder_gru = keras.layers.GRU(latent_dim, return_sequences = True, return_state = True)\n",
    "decoder_outputs, _ = decoder_gru(decoder_inputs, initial_state = [ state_h1 ])\n",
    "decoder_dense = keras.layers.Dense(decoder_target_data.shape[2], activation = \"softmax\")\n",
    "decoder_outputs = decoder_dense(decoder_outputs)\n",
    "\n",
    "# Define the model that will turn\n",
    "# `encoder_input_data` & `decoder_input_data` into `decoder_target_data`\n",
    "model = keras.Model([encoder_inputs, decoder_inputs], decoder_outputs)"
   ]
  },
  {
   "cell_type": "code",
   "execution_count": 8,
   "metadata": {},
   "outputs": [
    {
     "data": {
      "image/png": "[encoded data removed]",
      "text/plain": [
       "<IPython.core.display.Image object>"
      ]
     },
     "execution_count": 8,
     "metadata": {},
     "output_type": "execute_result"
    }
   ],
   "source": [
    "from keras.utils.vis_utils import plot_model\n",
    "plot_model(model, to_file = 'model.png')"
   ]
  },
  {
   "cell_type": "code",
   "execution_count": 9,
   "metadata": {
    "ExecuteTime": {
     "end_time": "2021-04-25T12:57:21.687919Z",
     "start_time": "2021-04-25T12:57:21.675274Z"
    }
   },
   "outputs": [
    {
     "name": "stdout",
     "output_type": "stream",
     "text": [
      "Model: \"model\"\n",
      "__________________________________________________________________________________________________\n",
      " Layer (type)                   Output Shape         Param #     Connected to                     \n",
      "==================================================================================================\n",
      " input_1 (InputLayer)           [(None, None, 4)]    0           []                               \n",
      "                                                                                                  \n",
      " input_2 (InputLayer)           [(None, None, 4)]    0           []                               \n",
      "                                                                                                  \n",
      " bidirectional (Bidirectional)  [(None, 512),        402432      ['input_1[0][0]']                \n",
      "                                 (None, 256),                                                     \n",
      "                                 (None, 256)]                                                     \n",
      "                                                                                                  \n",
      " gru_1 (GRU)                    [(None, None, 256),  201216      ['input_2[0][0]',                \n",
      "                                 (None, 256)]                     'bidirectional[0][1]']          \n",
      "                                                                                                  \n",
      " dense (Dense)                  (None, None, 4)      1028        ['gru_1[0][0]']                  \n",
      "                                                                                                  \n",
      "==================================================================================================\n",
      "Total params: 604,676\n",
      "Trainable params: 604,676\n",
      "Non-trainable params: 0\n",
      "__________________________________________________________________________________________________\n"
     ]
    }
   ],
   "source": [
    "model.summary()"
   ]
  },
  {
   "cell_type": "markdown",
   "metadata": {},
   "source": [
    "## Train model"
   ]
  },
  {
   "cell_type": "code",
   "execution_count": 10,
   "metadata": {
    "ExecuteTime": {
     "end_time": "2021-04-25T14:18:28.805676Z",
     "start_time": "2021-04-25T12:57:28.352846Z"
    },
    "scrolled": false
   },
   "outputs": [
    {
     "name": "stdout",
     "output_type": "stream",
     "text": [
      "Epoch 1/1000\n",
      "WARNING:tensorflow:Gradients do not exist for variables ['bidirectional/backward_gru/gru_cell_2/kernel:0', 'bidirectional/backward_gru/gru_cell_2/recurrent_kernel:0', 'bidirectional/backward_gru/gru_cell_2/bias:0'] when minimizing the loss. If you're using `model.compile()`, did you forget to provide a `loss`argument?\n",
      "WARNING:tensorflow:Gradients do not exist for variables ['bidirectional/backward_gru/gru_cell_2/kernel:0', 'bidirectional/backward_gru/gru_cell_2/recurrent_kernel:0', 'bidirectional/backward_gru/gru_cell_2/bias:0'] when minimizing the loss. If you're using `model.compile()`, did you forget to provide a `loss`argument?\n"
     ]
    },
    {
     "name": "stderr",
     "output_type": "stream",
     "text": [
      "2022-03-01 15:36:59.300322: I tensorflow/stream_executor/cuda/cuda_dnn.cc:368] Loaded cuDNN version 8300\n"
     ]
    },
    {
     "name": "stdout",
     "output_type": "stream",
     "text": [
      "110/110 [==============================] - 37s 313ms/step - loss: 1.3071 - accuracy: 0.3659 - val_loss: 1.2799 - val_accuracy: 0.3927\n",
      "Epoch 2/1000\n",
      "110/110 [==============================] - 34s 306ms/step - loss: 1.2414 - accuracy: 0.4186 - val_loss: 1.1939 - val_accuracy: 0.4437\n",
      "Epoch 3/1000\n",
      "110/110 [==============================] - 34s 307ms/step - loss: 1.1344 - accuracy: 0.4911 - val_loss: 1.0613 - val_accuracy: 0.5381\n",
      "Epoch 4/1000\n",
      "110/110 [==============================] - 34s 308ms/step - loss: 0.9774 - accuracy: 0.5827 - val_loss: 0.8754 - val_accuracy: 0.6352\n",
      "Epoch 5/1000\n",
      "110/110 [==============================] - 34s 309ms/step - loss: 0.7872 - accuracy: 0.6831 - val_loss: 0.6828 - val_accuracy: 0.7327\n",
      "Epoch 6/1000\n",
      "110/110 [==============================] - 34s 308ms/step - loss: 0.5879 - accuracy: 0.7819 - val_loss: 0.4998 - val_accuracy: 0.8235\n",
      "Epoch 7/1000\n",
      "110/110 [==============================] - 34s 312ms/step - loss: 0.4078 - accuracy: 0.8650 - val_loss: 0.3312 - val_accuracy: 0.9002\n",
      "Epoch 8/1000\n",
      "110/110 [==============================] - 35s 318ms/step - loss: 0.2635 - accuracy: 0.9287 - val_loss: 0.1848 - val_accuracy: 0.9618\n",
      "Epoch 9/1000\n",
      "110/110 [==============================] - 34s 309ms/step - loss: 0.1730 - accuracy: 0.9601 - val_loss: 0.0933 - val_accuracy: 0.9926\n",
      "Epoch 10/1000\n",
      "110/110 [==============================] - 34s 308ms/step - loss: 0.1078 - accuracy: 0.9783 - val_loss: 0.0905 - val_accuracy: 0.9867\n",
      "Epoch 11/1000\n",
      "110/110 [==============================] - 34s 308ms/step - loss: 0.0740 - accuracy: 0.9853 - val_loss: 0.0376 - val_accuracy: 0.9961\n",
      "Epoch 12/1000\n",
      "110/110 [==============================] - 34s 308ms/step - loss: 0.0602 - accuracy: 0.9866 - val_loss: 0.0285 - val_accuracy: 0.9963\n",
      "Epoch 13/1000\n",
      "110/110 [==============================] - 35s 315ms/step - loss: 0.0448 - accuracy: 0.9904 - val_loss: 0.0221 - val_accuracy: 0.9970\n",
      "Epoch 14/1000\n",
      "110/110 [==============================] - 35s 317ms/step - loss: 0.0392 - accuracy: 0.9918 - val_loss: 0.0201 - val_accuracy: 0.9970\n",
      "Epoch 15/1000\n",
      "110/110 [==============================] - 34s 311ms/step - loss: 0.0330 - accuracy: 0.9930 - val_loss: 0.0168 - val_accuracy: 0.9973\n",
      "Epoch 16/1000\n",
      "110/110 [==============================] - 34s 308ms/step - loss: 0.0281 - accuracy: 0.9937 - val_loss: 0.0148 - val_accuracy: 0.9975\n",
      "Epoch 17/1000\n",
      "110/110 [==============================] - 34s 308ms/step - loss: 0.0284 - accuracy: 0.9935 - val_loss: 0.0148 - val_accuracy: 0.9976\n",
      "Epoch 18/1000\n",
      "110/110 [==============================] - 34s 308ms/step - loss: 0.0158 - accuracy: 0.9968 - val_loss: 0.0144 - val_accuracy: 0.9973\n",
      "Epoch 19/1000\n",
      "110/110 [==============================] - 34s 308ms/step - loss: 0.0204 - accuracy: 0.9953 - val_loss: 0.0114 - val_accuracy: 0.9980\n",
      "Epoch 20/1000\n",
      "110/110 [==============================] - 34s 312ms/step - loss: 0.0179 - accuracy: 0.9959 - val_loss: 0.0111 - val_accuracy: 0.9981\n",
      "Epoch 21/1000\n",
      "110/110 [==============================] - 35s 319ms/step - loss: 0.0167 - accuracy: 0.9962 - val_loss: 0.0110 - val_accuracy: 0.9981\n",
      "Epoch 22/1000\n",
      "110/110 [==============================] - 35s 316ms/step - loss: 0.0171 - accuracy: 0.9967 - val_loss: 0.0105 - val_accuracy: 0.9982\n",
      "Epoch 23/1000\n",
      "110/110 [==============================] - 34s 308ms/step - loss: 0.0139 - accuracy: 0.9971 - val_loss: 0.0094 - val_accuracy: 0.9986\n",
      "Epoch 24/1000\n",
      "110/110 [==============================] - 34s 312ms/step - loss: 0.0138 - accuracy: 0.9974 - val_loss: 0.2229 - val_accuracy: 0.9520\n",
      "Epoch 25/1000\n",
      "110/110 [==============================] - 34s 309ms/step - loss: 0.0145 - accuracy: 0.9971 - val_loss: 0.0093 - val_accuracy: 0.9984\n",
      "Epoch 26/1000\n",
      "110/110 [==============================] - 34s 310ms/step - loss: 0.0091 - accuracy: 0.9983 - val_loss: 0.0091 - val_accuracy: 0.9985\n",
      "Epoch 27/1000\n",
      "110/110 [==============================] - 35s 315ms/step - loss: 0.0146 - accuracy: 0.9970 - val_loss: 0.0087 - val_accuracy: 0.9988\n",
      "Epoch 28/1000\n",
      "110/110 [==============================] - 34s 312ms/step - loss: 0.0105 - accuracy: 0.9981 - val_loss: 0.0088 - val_accuracy: 0.9985\n",
      "Epoch 29/1000\n",
      "110/110 [==============================] - 34s 308ms/step - loss: 0.0121 - accuracy: 0.9976 - val_loss: 0.0085 - val_accuracy: 0.9988\n",
      "Epoch 30/1000\n",
      "110/110 [==============================] - 34s 308ms/step - loss: 0.0084 - accuracy: 0.9984 - val_loss: 0.0099 - val_accuracy: 0.9985\n",
      "Epoch 31/1000\n",
      "110/110 [==============================] - 34s 308ms/step - loss: 0.0075 - accuracy: 0.9986 - val_loss: 0.0138 - val_accuracy: 0.9968\n",
      "Epoch 32/1000\n",
      "110/110 [==============================] - 34s 308ms/step - loss: 0.0102 - accuracy: 0.9980 - val_loss: 0.0079 - val_accuracy: 0.9986\n",
      "Epoch 33/1000\n",
      "110/110 [==============================] - 34s 309ms/step - loss: 0.0084 - accuracy: 0.9983 - val_loss: 0.0082 - val_accuracy: 0.9984\n",
      "Epoch 34/1000\n",
      "110/110 [==============================] - 34s 310ms/step - loss: 0.0085 - accuracy: 0.9985 - val_loss: 0.0075 - val_accuracy: 0.9990\n",
      "Epoch 35/1000\n",
      "110/110 [==============================] - 35s 319ms/step - loss: 0.0069 - accuracy: 0.9987 - val_loss: 0.0268 - val_accuracy: 0.9940\n",
      "Epoch 36/1000\n",
      "110/110 [==============================] - 34s 313ms/step - loss: 0.0393 - accuracy: 0.9919 - val_loss: 0.0094 - val_accuracy: 0.9985\n",
      "Epoch 37/1000\n",
      "110/110 [==============================] - 34s 307ms/step - loss: 0.0071 - accuracy: 0.9986 - val_loss: 0.0075 - val_accuracy: 0.9987\n",
      "Epoch 38/1000\n",
      "110/110 [==============================] - 34s 308ms/step - loss: 0.0076 - accuracy: 0.9986 - val_loss: 0.0073 - val_accuracy: 0.9991\n",
      "Epoch 39/1000\n",
      "110/110 [==============================] - 34s 308ms/step - loss: 0.0154 - accuracy: 0.9972 - val_loss: 0.2058 - val_accuracy: 0.9705\n",
      "Epoch 40/1000\n",
      "110/110 [==============================] - 34s 308ms/step - loss: 0.0406 - accuracy: 0.9930 - val_loss: 0.0074 - val_accuracy: 0.9988\n",
      "Epoch 41/1000\n",
      "110/110 [==============================] - 34s 308ms/step - loss: 0.0077 - accuracy: 0.9985 - val_loss: 0.0074 - val_accuracy: 0.9988\n",
      "Epoch 42/1000\n",
      "110/110 [==============================] - 34s 308ms/step - loss: 0.0072 - accuracy: 0.9986 - val_loss: 0.0072 - val_accuracy: 0.9991\n",
      "Epoch 43/1000\n",
      "110/110 [==============================] - 34s 308ms/step - loss: 0.0073 - accuracy: 0.9986 - val_loss: 0.0123 - val_accuracy: 0.9965\n",
      "Epoch 44/1000\n",
      "110/110 [==============================] - 34s 308ms/step - loss: 0.0107 - accuracy: 0.9980 - val_loss: 0.0070 - val_accuracy: 0.9988\n",
      "Epoch 45/1000\n",
      "110/110 [==============================] - 34s 310ms/step - loss: 0.0059 - accuracy: 0.9989 - val_loss: 0.0148 - val_accuracy: 0.9959\n",
      "Epoch 46/1000\n",
      "110/110 [==============================] - 34s 308ms/step - loss: 0.0106 - accuracy: 0.9980 - val_loss: 0.0082 - val_accuracy: 0.9983\n",
      "Epoch 47/1000\n",
      "110/110 [==============================] - 34s 306ms/step - loss: 0.0072 - accuracy: 0.9986 - val_loss: 0.0090 - val_accuracy: 0.9975\n",
      "Epoch 48/1000\n",
      "110/110 [==============================] - 34s 306ms/step - loss: 0.0072 - accuracy: 0.9986 - val_loss: 0.0270 - val_accuracy: 0.9953\n",
      "Epoch 49/1000\n",
      "110/110 [==============================] - 34s 310ms/step - loss: 0.0107 - accuracy: 0.9981 - val_loss: 0.0069 - val_accuracy: 0.9989\n",
      "Epoch 50/1000\n",
      "110/110 [==============================] - 35s 315ms/step - loss: 0.0063 - accuracy: 0.9988 - val_loss: 0.0142 - val_accuracy: 0.9973\n",
      "Epoch 51/1000\n",
      "110/110 [==============================] - 34s 313ms/step - loss: 0.0062 - accuracy: 0.9988 - val_loss: 0.0085 - val_accuracy: 0.9981\n",
      "Epoch 52/1000\n",
      "110/110 [==============================] - 35s 315ms/step - loss: 0.0075 - accuracy: 0.9985 - val_loss: 0.0133 - val_accuracy: 0.9968\n",
      "Epoch 53/1000\n",
      "110/110 [==============================] - 35s 319ms/step - loss: 0.0069 - accuracy: 0.9986 - val_loss: 0.0085 - val_accuracy: 0.9983\n",
      "Epoch 54/1000\n",
      "110/110 [==============================] - 34s 311ms/step - loss: 0.0057 - accuracy: 0.9989 - val_loss: 0.0065 - val_accuracy: 0.9989\n",
      "Epoch 55/1000\n",
      "110/110 [==============================] - 34s 312ms/step - loss: 0.0054 - accuracy: 0.9990 - val_loss: 0.0119 - val_accuracy: 0.9970\n",
      "Epoch 56/1000\n"
     ]
    },
    {
     "name": "stdout",
     "output_type": "stream",
     "text": [
      "110/110 [==============================] - 34s 312ms/step - loss: 0.0071 - accuracy: 0.9988 - val_loss: 0.0066 - val_accuracy: 0.9992\n",
      "Epoch 57/1000\n",
      "110/110 [==============================] - 34s 307ms/step - loss: 0.0054 - accuracy: 0.9989 - val_loss: 0.0128 - val_accuracy: 0.9968\n",
      "Epoch 58/1000\n",
      "110/110 [==============================] - 34s 308ms/step - loss: 0.0055 - accuracy: 0.9990 - val_loss: 0.0099 - val_accuracy: 0.9976\n",
      "Epoch 59/1000\n",
      "110/110 [==============================] - 34s 313ms/step - loss: 0.0052 - accuracy: 0.9990 - val_loss: 0.0155 - val_accuracy: 0.9969\n",
      "Epoch 60/1000\n",
      "110/110 [==============================] - 34s 309ms/step - loss: 0.0057 - accuracy: 0.9989 - val_loss: 0.0127 - val_accuracy: 0.9966\n",
      "Epoch 61/1000\n",
      "110/110 [==============================] - 34s 310ms/step - loss: 0.0052 - accuracy: 0.9991 - val_loss: 0.0117 - val_accuracy: 0.9969\n",
      "Epoch 62/1000\n",
      "110/110 [==============================] - 34s 309ms/step - loss: 0.0084 - accuracy: 0.9984 - val_loss: 0.0063 - val_accuracy: 0.9989\n",
      "Epoch 63/1000\n",
      "110/110 [==============================] - 34s 311ms/step - loss: 0.0054 - accuracy: 0.9990 - val_loss: 0.0065 - val_accuracy: 0.9990\n",
      "Epoch 64/1000\n",
      "110/110 [==============================] - 34s 309ms/step - loss: 0.0057 - accuracy: 0.9990 - val_loss: 0.0067 - val_accuracy: 0.9990\n",
      "Epoch 65/1000\n",
      "110/110 [==============================] - 34s 308ms/step - loss: 0.0052 - accuracy: 0.9990 - val_loss: 0.0065 - val_accuracy: 0.9989\n",
      "Epoch 66/1000\n",
      "110/110 [==============================] - 34s 308ms/step - loss: 0.0049 - accuracy: 0.9991 - val_loss: 0.0121 - val_accuracy: 0.9969\n",
      "Epoch 67/1000\n",
      "110/110 [==============================] - 35s 314ms/step - loss: 0.0061 - accuracy: 0.9987 - val_loss: 0.0114 - val_accuracy: 0.9969\n",
      "Epoch 68/1000\n",
      "110/110 [==============================] - 35s 314ms/step - loss: 0.0050 - accuracy: 0.9990 - val_loss: 0.0154 - val_accuracy: 0.9969\n",
      "Epoch 69/1000\n",
      "110/110 [==============================] - 35s 317ms/step - loss: 0.0052 - accuracy: 0.9990 - val_loss: 0.0130 - val_accuracy: 0.9974\n",
      "Epoch 70/1000\n",
      "110/110 [==============================] - 35s 314ms/step - loss: 0.0048 - accuracy: 0.9991 - val_loss: 0.0094 - val_accuracy: 0.9974\n",
      "Epoch 71/1000\n",
      "110/110 [==============================] - 35s 314ms/step - loss: 0.0066 - accuracy: 0.9986 - val_loss: 0.0079 - val_accuracy: 0.9977\n",
      "Epoch 72/1000\n",
      "110/110 [==============================] - ETA: 0s - loss: 0.0126 - accuracy: 0.9976Restoring model weights from the end of the best epoch: 62.\n",
      "110/110 [==============================] - 34s 313ms/step - loss: 0.0126 - accuracy: 0.9976 - val_loss: 0.0077 - val_accuracy: 0.9989\n",
      "Epoch 72: early stopping\n"
     ]
    }
   ],
   "source": [
    "model.compile(\n",
    "    optimizer = \"rmsprop\", loss = \"categorical_crossentropy\", metrics = [\"accuracy\"]\n",
    ")\n",
    "\n",
    "es = EarlyStopping(monitor='val_loss', min_delta = 0, patience = patience, \n",
    "                   verbose = 1, restore_best_weights = True)\n",
    "\n",
    "log = model.fit(\n",
    "    [ encoder_input_data, decoder_input_data ],\n",
    "    decoder_target_data,\n",
    "    batch_size = batch_size,\n",
    "    epochs = epochs,\n",
    "    callbacks = [ es ],\n",
    "    validation_split = 0.2,\n",
    ")"
   ]
  },
  {
   "cell_type": "code",
   "execution_count": 11,
   "metadata": {
    "ExecuteTime": {
     "end_time": "2021-04-25T14:44:02.441854Z",
     "start_time": "2021-04-25T14:44:02.061450Z"
    }
   },
   "outputs": [
    {
     "data": {
      "image/png": "[encoded data removed]",
      "text/plain": [
       "<Figure size 1152x576 with 1 Axes>"
      ]
     },
     "metadata": {
      "needs_background": "light"
     },
     "output_type": "display_data"
    }
   ],
   "source": [
    "plt.plot(log.history['accuracy'], label = 'mokymo')\n",
    "plt.plot(log.history['val_accuracy'], label = 'validavimo')\n",
    "plt.ylabel('tikslumas')\n",
    "plt.xlabel('epocha')\n",
    "plt.legend()\n",
    "plt.show()"
   ]
  },
  {
   "cell_type": "code",
   "execution_count": 12,
   "metadata": {},
   "outputs": [
    {
     "data": {
      "image/png": "[encoded data removed]",
      "text/plain": [
       "<Figure size 1152x576 with 1 Axes>"
      ]
     },
     "metadata": {
      "needs_background": "light"
     },
     "output_type": "display_data"
    }
   ],
   "source": [
    "plt.plot(log.history['loss'], '--', label = 'mokymo')\n",
    "plt.plot(log.history['val_loss'], '--', label = 'validavimo')\n",
    "plt.ylabel('netektis')\n",
    "plt.xlabel('epocha')\n",
    "plt.legend()\n",
    "plt.show()"
   ]
  },
  {
   "cell_type": "code",
   "execution_count": 13,
   "metadata": {
    "ExecuteTime": {
     "end_time": "2021-04-25T14:43:14.871141Z",
     "start_time": "2021-04-25T14:43:08.655581Z"
    }
   },
   "outputs": [
    {
     "name": "stderr",
     "output_type": "stream",
     "text": [
      "2022-03-01 16:29:08.781244: W tensorflow/python/util/util.cc:368] Sets are not currently considered sequences, but this may change in the future, so consider avoiding using them.\n",
      "WARNING:absl:Found untraced functions such as gru_cell_3_layer_call_fn, gru_cell_3_layer_call_and_return_conditional_losses, gru_cell_1_layer_call_fn, gru_cell_1_layer_call_and_return_conditional_losses, gru_cell_2_layer_call_fn while saving (showing 5 of 6). These functions will not be directly callable after loading.\n"
     ]
    },
    {
     "name": "stdout",
     "output_type": "stream",
     "text": [
      "INFO:tensorflow:Assets written to: data/ncbi_02/model_gru_bi_256/assets\n"
     ]
    },
    {
     "name": "stderr",
     "output_type": "stream",
     "text": [
      "INFO:tensorflow:Assets written to: data/ncbi_02/model_gru_bi_256/assets\n",
      "WARNING:absl:<keras.layers.recurrent.GRUCell object at 0x7f7d34790400> has the same name 'GRUCell' as a built-in Keras object. Consider renaming <class 'keras.layers.recurrent.GRUCell'> to avoid naming conflicts when loading with `tf.keras.models.load_model`. If renaming is not possible, pass the object in the `custom_objects` parameter of the load function.\n",
      "WARNING:absl:<keras.layers.recurrent.GRUCell object at 0x7f7d347cbb20> has the same name 'GRUCell' as a built-in Keras object. Consider renaming <class 'keras.layers.recurrent.GRUCell'> to avoid naming conflicts when loading with `tf.keras.models.load_model`. If renaming is not possible, pass the object in the `custom_objects` parameter of the load function.\n",
      "WARNING:absl:<keras.layers.recurrent.GRUCell object at 0x7f7d34765340> has the same name 'GRUCell' as a built-in Keras object. Consider renaming <class 'keras.layers.recurrent.GRUCell'> to avoid naming conflicts when loading with `tf.keras.models.load_model`. If renaming is not possible, pass the object in the `custom_objects` parameter of the load function.\n"
     ]
    }
   ],
   "source": [
    "model.save(\"data/ncbi_02/model_gru_bi_256\")"
   ]
  },
  {
   "cell_type": "code",
   "execution_count": null,
   "metadata": {},
   "outputs": [],
   "source": []
  }
 ],
 "metadata": {
  "kernelspec": {
   "display_name": "seq2seq",
   "language": "python",
   "name": "seq2seq"
  },
  "language_info": {
   "codemirror_mode": {
    "name": "ipython",
    "version": 3
   },
   "file_extension": ".py",
   "mimetype": "text/x-python",
   "name": "python",
   "nbconvert_exporter": "python",
   "pygments_lexer": "ipython3",
   "version": "3.8.10"
  },
  "varInspector": {
   "cols": {
    "lenName": 16,
    "lenType": 16,
    "lenVar": 40
   },
   "kernels_config": {
    "python": {
     "delete_cmd_postfix": "",
     "delete_cmd_prefix": "del ",
     "library": "var_list.py",
     "varRefreshCmd": "print(var_dic_list())"
    },
    "r": {
     "delete_cmd_postfix": ") ",
     "delete_cmd_prefix": "rm(",
     "library": "var_list.r",
     "varRefreshCmd": "cat(var_dic_list()) "
    }
   },
   "types_to_exclude": [
    "module",
    "function",
    "builtin_function_or_method",
    "instance",
    "_Feature"
   ],
   "window_display": false
  }
 },
 "nbformat": 4,
 "nbformat_minor": 2
}
