{
 "cells": [
  {
   "cell_type": "markdown",
   "metadata": {},
   "source": [
    "## Character-level recurrent sequence-to-sequence model"
   ]
  },
  {
   "cell_type": "markdown",
   "metadata": {},
   "source": [
    "Example from https://keras.io/examples/nlp/lstm_seq2seq/  \n",
    "Older post https://blog.keras.io/a-ten-minute-introduction-to-sequence-to-sequence-learning-in-keras.html"
   ]
  },
  {
   "cell_type": "code",
   "execution_count": 17,
   "metadata": {
    "ExecuteTime": {
     "end_time": "2021-04-25T12:55:38.244466Z",
     "start_time": "2021-04-25T12:55:38.237634Z"
    }
   },
   "outputs": [],
   "source": [
    "import numpy as np\n",
    "import pandas as pd\n",
    "from itertools import chain\n",
    "import tensorflow as tf\n",
    "from tensorflow import keras\n",
    "from tensorflow.keras.callbacks import EarlyStopping\n",
    "#from keras.utils import plot_model"
   ]
  },
  {
   "cell_type": "code",
   "execution_count": 18,
   "metadata": {
    "ExecuteTime": {
     "end_time": "2021-04-25T12:35:23.829688Z",
     "start_time": "2021-04-25T12:35:23.645571Z"
    }
   },
   "outputs": [],
   "source": [
    "pairs = pd.read_csv(\"data/ncbi_02/RAxML/pairs.csv\")\n",
    "sgenes = pd.read_csv(\"data/ncbi_02/ncbi_sgene_good_unique_aligned_cleaned.csv\")"
   ]
  },
  {
   "cell_type": "code",
   "execution_count": 19,
   "metadata": {
    "ExecuteTime": {
     "end_time": "2021-04-25T12:57:25.528455Z",
     "start_time": "2021-04-25T12:57:25.519843Z"
    }
   },
   "outputs": [
    {
     "name": "stdout",
     "output_type": "stream",
     "text": [
      "[name: \"/device:CPU:0\"\n",
      "device_type: \"CPU\"\n",
      "memory_limit: 268435456\n",
      "locality {\n",
      "}\n",
      "incarnation: 7802918581414943739\n",
      ", name: \"/device:GPU:0\"\n",
      "device_type: \"GPU\"\n",
      "memory_limit: 6933643264\n",
      "locality {\n",
      "  bus_id: 1\n",
      "  links {\n",
      "    link {\n",
      "      device_id: 1\n",
      "      type: \"StreamExecutor\"\n",
      "      strength: 1\n",
      "    }\n",
      "  }\n",
      "}\n",
      "incarnation: 12579307344766307459\n",
      "physical_device_desc: \"device: 0, name: NVIDIA GeForce GTX 1080, pci bus id: 0000:01:00.0, compute capability: 6.1\"\n",
      ", name: \"/device:GPU:1\"\n",
      "device_type: \"GPU\"\n",
      "memory_limit: 7739539456\n",
      "locality {\n",
      "  bus_id: 1\n",
      "  links {\n",
      "    link {\n",
      "      type: \"StreamExecutor\"\n",
      "      strength: 1\n",
      "    }\n",
      "  }\n",
      "}\n",
      "incarnation: 13388465388075535205\n",
      "physical_device_desc: \"device: 1, name: NVIDIA GeForce GTX 1080, pci bus id: 0000:02:00.0, compute capability: 6.1\"\n",
      "]\n"
     ]
    }
   ],
   "source": [
    "from tensorflow.python.client import device_lib\n",
    "print(device_lib.list_local_devices())"
   ]
  },
  {
   "cell_type": "markdown",
   "metadata": {},
   "source": [
    "## Data prep"
   ]
  },
  {
   "cell_type": "code",
   "execution_count": 20,
   "metadata": {
    "ExecuteTime": {
     "end_time": "2021-04-25T12:37:29.776084Z",
     "start_time": "2021-04-25T12:37:29.768320Z"
    }
   },
   "outputs": [
    {
     "data": {
      "text/plain": [
       "4368"
      ]
     },
     "execution_count": 20,
     "metadata": {},
     "output_type": "execute_result"
    }
   ],
   "source": [
    "num_pairs = 100      # Number of samples to train on.\n",
    "num_pairs = len(pairs)\n",
    "num_pairs"
   ]
  },
  {
   "cell_type": "code",
   "execution_count": 21,
   "metadata": {
    "ExecuteTime": {
     "end_time": "2021-04-25T12:55:33.473167Z",
     "start_time": "2021-04-25T12:55:33.469618Z"
    }
   },
   "outputs": [],
   "source": [
    "# Vectorize the data.\n",
    "input_texts = []\n",
    "target_texts = []\n",
    "input_characters = set()\n",
    "target_characters = set()"
   ]
  },
  {
   "cell_type": "code",
   "execution_count": 22,
   "metadata": {
    "ExecuteTime": {
     "end_time": "2021-04-25T12:55:39.954535Z",
     "start_time": "2021-04-25T12:55:39.803811Z"
    }
   },
   "outputs": [],
   "source": [
    "for index, pair in pairs.iterrows():\n",
    "    \n",
    "    #if index == num_pairs:\n",
    "    #    break\n",
    "    \n",
    "    parent_sgene = sgenes[sgenes[\"accession\"]==pair[\"parent\"]][\"sgene_nucleotide\"].values[0]\n",
    "    child_sgene = sgenes[sgenes[\"accession\"]==pair[\"child\"]][\"sgene_nucleotide\"].values[0]\n",
    "    \n",
    "    input_texts.append(parent_sgene)\n",
    "    target_texts.append(child_sgene)\n",
    "\n",
    "input_characters = set(chain.from_iterable(input_texts))\n",
    "target_characters = set(chain.from_iterable(target_texts))"
   ]
  },
  {
   "cell_type": "code",
   "execution_count": 23,
   "metadata": {
    "ExecuteTime": {
     "end_time": "2021-04-25T12:56:04.610442Z",
     "start_time": "2021-04-25T12:56:04.598008Z"
    }
   },
   "outputs": [
    {
     "name": "stdout",
     "output_type": "stream",
     "text": [
      "input_texts  4368\n",
      "target_texts 4368\n",
      "input_characters 4 {'T', 'C', 'G', 'A'}\n",
      "target_characters 4 {'T', 'C', 'G', 'A'}\n"
     ]
    }
   ],
   "source": [
    "print(\"input_texts \", len(input_texts))\n",
    "print(\"target_texts\", len(target_texts))\n",
    "print(\"input_characters\", len(input_characters), input_characters)\n",
    "print(\"target_characters\", len(target_characters), target_characters)"
   ]
  },
  {
   "cell_type": "code",
   "execution_count": 24,
   "metadata": {
    "ExecuteTime": {
     "end_time": "2021-04-25T12:56:14.861645Z",
     "start_time": "2021-04-25T12:56:14.842728Z"
    }
   },
   "outputs": [
    {
     "name": "stdout",
     "output_type": "stream",
     "text": [
      "Number of samples: 4368\n",
      "Number of unique input tokens: 4\n",
      "Number of unique output tokens: 4\n",
      "Max sequence length for inputs: 3822\n",
      "Max sequence length for outputs: 3822\n"
     ]
    }
   ],
   "source": [
    "input_characters = sorted(list(input_characters))\n",
    "target_characters = sorted(list(target_characters))\n",
    "num_encoder_tokens = len(input_characters)\n",
    "num_decoder_tokens = len(target_characters)\n",
    "max_encoder_seq_length = max([len(txt) for txt in input_texts])\n",
    "max_decoder_seq_length = max([len(txt) for txt in target_texts])\n",
    "\n",
    "print(\"Number of samples:\", len(input_texts))\n",
    "print(\"Number of unique input tokens:\", num_encoder_tokens)\n",
    "print(\"Number of unique output tokens:\", num_decoder_tokens)\n",
    "print(\"Max sequence length for inputs:\", max_encoder_seq_length)\n",
    "print(\"Max sequence length for outputs:\", max_decoder_seq_length)"
   ]
  },
  {
   "cell_type": "code",
   "execution_count": 25,
   "metadata": {
    "ExecuteTime": {
     "end_time": "2021-04-25T12:56:25.784425Z",
     "start_time": "2021-04-25T12:56:25.780950Z"
    }
   },
   "outputs": [
    {
     "name": "stdout",
     "output_type": "stream",
     "text": [
      "input_token_index 4 {'A': 0, 'C': 1, 'G': 2, 'T': 3}\n",
      "target_token_index 4 {'A': 0, 'C': 1, 'G': 2, 'T': 3}\n"
     ]
    }
   ],
   "source": [
    "input_token_index = dict([(char, i) for i, char in enumerate(input_characters)])\n",
    "target_token_index = dict([(char, i) for i, char in enumerate(target_characters)])\n",
    "print(\"input_token_index\", len(input_token_index), input_token_index)\n",
    "print(\"target_token_index\", len(target_token_index), target_token_index)"
   ]
  },
  {
   "cell_type": "code",
   "execution_count": 26,
   "metadata": {
    "ExecuteTime": {
     "end_time": "2021-04-25T12:56:28.537863Z",
     "start_time": "2021-04-25T12:56:28.525583Z"
    }
   },
   "outputs": [
    {
     "name": "stdout",
     "output_type": "stream",
     "text": [
      "encoder_input_data.shape (4368, 3822, 4)\n",
      "decoder_input_data.shape (4368, 3822, 4)\n",
      "decoder_target_data.shape (4368, 3822, 4)\n"
     ]
    }
   ],
   "source": [
    "encoder_input_data = np.zeros(\n",
    "    (len(input_texts), max_encoder_seq_length, num_encoder_tokens), dtype=\"float32\"\n",
    ")\n",
    "decoder_input_data = np.zeros(\n",
    "    (len(input_texts), max_decoder_seq_length, num_decoder_tokens), dtype=\"float32\"\n",
    ")\n",
    "decoder_target_data = np.zeros(\n",
    "    (len(input_texts), max_decoder_seq_length, num_decoder_tokens), dtype=\"float32\"\n",
    ")\n",
    "print(\"encoder_input_data.shape\", encoder_input_data.shape)\n",
    "print(\"decoder_input_data.shape\", decoder_input_data.shape)\n",
    "print(\"decoder_target_data.shape\", decoder_target_data.shape)"
   ]
  },
  {
   "cell_type": "code",
   "execution_count": 27,
   "metadata": {
    "ExecuteTime": {
     "end_time": "2021-04-25T12:57:16.488106Z",
     "start_time": "2021-04-25T12:57:15.892410Z"
    }
   },
   "outputs": [],
   "source": [
    "for i, (input_text, target_text) in enumerate(zip(input_texts, target_texts)):\n",
    "    \n",
    "    for t, char in enumerate(input_text):\n",
    "        encoder_input_data[i, t, input_token_index[char]] = 1.0\n",
    "    \n",
    "    for t, char in enumerate(target_text):\n",
    "        \n",
    "        # decoder_target_data is ahead of decoder_input_data by one timestep\n",
    "        decoder_input_data[i, t, target_token_index[char]] = 1.0\n",
    "        \n",
    "        if t > 0:\n",
    "            # decoder_target_data will be ahead by one timestep\n",
    "            # and will not include the start character.\n",
    "            decoder_target_data[i, t - 1, target_token_index[char]] = 1.0"
   ]
  },
  {
   "cell_type": "code",
   "execution_count": 28,
   "metadata": {},
   "outputs": [
    {
     "data": {
      "text/plain": [
       "'ATGTTTGTTTTTCTTGTTTTATTGCCACTAGTCTCTAGTCAGTGTGTTAATCTTACAACCAGAACTCAATTACCCCCTGCATACACTAATTCTTTCACACGTGGTGTTTATTACCCTGACAAAGTTTTCAGATCCTCAGTTTTACATTCAACTCAGGACTTGTTCTTACCTTTCTTTTCCAATGTTACTTGGTTCCATGCTATACATGTCTCTGGGACCAATGGTACTAAGAGGTTTGATAACCCTGTCCTACCATTTAATGATGGTGTTTATTTTGCTTCCACTGAGAAGTCTAACATAATAAGAGGCTGGATTTTTGGTACTACTTTAGATTCGAAGACCCAGTCCCTACTTATTGTTAATAACGCTACTAATGTTGTTATTAAAGTCTGTGAATTTCAATTTTGTAATGATCCATTTTTGGGTGTTTATTACCACAAAAACAACAAAAGTTGGATGGAAAGTGAGTTCAGAGTTTATTCTAGTGCGAATAATTGCACTTTTGAATATGTCTCTCAGCCTTTTCTTATGGACCTTGAAGGAAAACAGGGTAATTTCAAAAATCTTAGGGAATTTGTGTTTAAGAATATTGATGGTTATTTTAAAATATATTCTAAGCACACGCCTATTAATTTAGTGCGTGATCTCCCTCAGGGTTTTTCGGCTTTAGAACCATTGGTAGATTTGCCAATAGGTATTAACATCACTAGGTTTCAAACTTTACTTGCTTTACATAGAAGTTATTTGACTCCTGGTGATTCTTCTTCAGGTTGGACAGCTGGTGCTGCAGCTTATTATGTGGGTTATCTTCAACCTAGGACTTTTCTATTAAAATATAATGAAAATGGAACCATTACAGATGCTGTAGACTGTGCACTTGACCCTCTCTCAGAAACAAAGTGTACGTTGAAATCCTTCACTGTAGAAAAAGGAATCTATCAAACTTCTAACTTTAGAGTCCAACCAACAGAATCTATTGTTAGATTTCCTAATATTACAAACTTGTGCCCTTTTGGTGAAGTTTTTAACGCCACCAGATTTGCATCTGTTTATGCTTGGAACAGGAAGAGAATCAGCAACTGTGTTGCTGATTATTCTGTCCTATATAATTCCGCATCATTTTCCACTTTTAAGTGTTATGGAGTGTCTCCTACTAAATTAAATGATCTCTGCTTTACTAATGTCTATGCAGATTCATTTGTAATTAGAGGTGATGAAGTCAGACAAATCGCTCCAGGGCAAACTGGAAAGATTGCTGATTATAATTATAAATTACCAGATGATTTTACAGGCTGCGTTATAGCTTGGAATTCTAACAATCTTGATTCTAAGGTTGGTGGTAATTATAATTACCTGTATAGATTGTTTAGGAAGTCTAATCTCAAACCTTTTGAGAGAGATATTTCAACTGAAATCTATCAGGCCGGTAGCACACCTTGTAATGGTGTTGAAGGTTTTAATTGTTACTTTCCTTTACAATCATATGGTTTCCAACCCACTAATGGTGTTGGTTACCAACCATACAGAGTAGTAGTACTTTCTTTTGAACTTCTACATGCACCAGCAACTGTTTGTGGACCTAAAAAGTCTACTAATTTGGTTAAAAACAAATGTGTCAATTTCAACTTCAATGGTTTAACAGGCACAGGTGTTCTTACTGAGTCTAACAAAAAGTTTCTGCCTTTCCAACAATTTGGCAGAGACATTGCTGACACTACTGATGCTGTCCGTGATCCACAGACACTTGAGATTCTTGACATTACACCATGTTCTTTTGGTGGTGTCAGTGTTATAACACCAGGAACAAATACTTCTAACCAGGTTGCTGTTCTTTATCAGGATGTTAACTGCACAGAAGTCCCTGTTGCTATTCATGCAGATCAACTTACTCCTACTTGGCGTGTTTATTCTACAGGTTCTAATGTTTTTCAAACACGTGCAGGCTGTTTAATAGGGGCTGAACATGTCAACAACTCATATGAGTGTGACATACCCATTGGTGCAGGTATATGCGCTAGTTATCAGACTCAGACTAATTCTCCTCGGCGGGCACGTAGTGTAGCTAGTCAATCCATCATTGCCTACACTATGTCACTTGGTGCAGAAAATTCAGTTGCTTACTCTAATAACTCTATTGCCATACCCACAAATTTTACTATTAGTGTTACCACAGAAATTCTACCAGTGTCTATGACCAAGACATCAGTAGATTGTACAATGTACATTTGTGGTGATTCAACTGAATGCAGCAATCTTTTGTTGCAATATGGCAGTTTTTGTACACAATTAAACCGTGCTTTAACTGGAATAGCTGTTGAACAAGACAAAAACACCCAAGAAGTTTTTGCACAAGTCAAACAAATTTACAAAACACCACCAATTAAAGATTTTGGTGGTTTTAATTTTTCACAAATATTACCAGATCCATCAAAACCAAGCAAGAGGTCATTTATTGAAGATCTACTTTTCAACAAAGTGACACTTGCAGATGCTGGCTTCATCAAACAATATGGTGATTGCCTTGGTGATATTGCTGCTAGAGACCTCATTTGTGCACAAAAGTTTAACGGCCTTACTGTTTTGCCACCTTTGCTCACAGATGAAATGATTGCTCAATACACTTCTGCACTGTTAGCGGGTACAATCACTTCTGGTTGGACCTTTGGTGCAGGTGCTGCATTACAAATACCATTTGCTATGCAAATGGCTTATAGGTTTAATGGTATTGGAGTTACACAGAATGTTCTCTATGAGAACCAAAAATTGATTGCCAACCAATTTAATAGTGCTATTGGCAAAATTCAAGACTCACTTTCTTCCACAGCAAGTGCACTTGGAAAACTTCAAGATGTGGTCAACCAAAATGCACAAGCTTTAAACACGCTTGTTAAACAACTTAGCTCCAATTTTGGTGCAATTTCAAGTGTTTTAAATGATATCCTTTCACGTCTTGACAAAGTTGAGGCTGAAGTGCAAATTGATAGGTTGATCACAGGCAGACTTCAAAGTTTGCAGACATATGTGACTCAACAATTAATTAGAGCTGCAGAAATCAGAGCTTCTGCTAATCTTGCTGCTACTAAAATGTCAGAGTGTGTACTTGGACAATCAAAAAGAGTTGATTTTTGTGGAAAGGGCTATCATCTTATGTCCTTCCCTCAGTCAGCACCTCATGGTGTAGTCTTCTTGCATGTGACTTATGTCCCTGCACAAGAAAAGAACTTCACAACTGCTCCTGCCATTTGTCATGATGGAAAAGCACACTTTCCTCGTGAAGGTGTCTTTGTTTCAAATGGCACACACTGGTTTGTAACACAAAGGAATTTTTATGAACCACAAATCATTACTACAGACAACACATTTGTGTCTGGTAACTGTGATGTTGTAATAGGAATTGTCAACAACACAGTTTATGATCCTTTGCAACCTGAATTAGACTCATTCAAGGAGGAGTTAGATAAATATTTTAAGAATCATACATCACCAGATGTTGATTTAGGTGACATCTCTGGCATTAATGCTTCAGTTGTAAACATTCAAAAAGAAATTGACCGCCTCAATGAGGTTGCCAAGAATTTAAATGAATCTCTCATCGATCTCCAAGAACTTGGAAAGTATGAGCAGTATATAAAATGGCCATGGTACATTTGGCTAGGTTTTATAGCTGGCTTGATTGCCATAGTAATGGTGACAATTATGCTTTGCTGTATGACCAGTTGCTGTAGTTGTCTCAAGGGCTGTTGTTCTTGTGGATCCTGCTGCAAATTTGATGAAGACGACTCTGAGCCAGTGCTCAAAGGAGTCAAATTACATTACACATAA'"
      ]
     },
     "execution_count": 28,
     "metadata": {},
     "output_type": "execute_result"
    }
   ],
   "source": [
    "input_texts[0]"
   ]
  },
  {
   "cell_type": "code",
   "execution_count": 29,
   "metadata": {},
   "outputs": [
    {
     "data": {
      "text/plain": [
       "array([[1., 0., 0., 0.],\n",
       "       [0., 0., 0., 1.],\n",
       "       [0., 0., 1., 0.],\n",
       "       ...,\n",
       "       [0., 0., 0., 1.],\n",
       "       [1., 0., 0., 0.],\n",
       "       [1., 0., 0., 0.]], dtype=float32)"
      ]
     },
     "execution_count": 29,
     "metadata": {},
     "output_type": "execute_result"
    }
   ],
   "source": [
    "y_true = encoder_input_data[0]\n",
    "y_true"
   ]
  },
  {
   "cell_type": "code",
   "execution_count": 30,
   "metadata": {},
   "outputs": [
    {
     "data": {
      "text/plain": [
       "array([[1., 0., 0., 0.],\n",
       "       [0., 0., 0., 1.],\n",
       "       [0., 0., 1., 0.],\n",
       "       ...,\n",
       "       [0., 0., 0., 1.],\n",
       "       [1., 0., 0., 0.],\n",
       "       [1., 0., 0., 0.]], dtype=float32)"
      ]
     },
     "execution_count": 30,
     "metadata": {},
     "output_type": "execute_result"
    }
   ],
   "source": [
    "y_pred = decoder_input_data[0]\n",
    "y_pred"
   ]
  },
  {
   "cell_type": "code",
   "execution_count": 31,
   "metadata": {},
   "outputs": [
    {
     "data": {
      "text/plain": [
       "array([[0., 0., 0., 1.],\n",
       "       [0., 0., 1., 0.],\n",
       "       [0., 0., 0., 1.],\n",
       "       ...,\n",
       "       [1., 0., 0., 0.],\n",
       "       [1., 0., 0., 0.],\n",
       "       [0., 0., 0., 0.]], dtype=float32)"
      ]
     },
     "execution_count": 31,
     "metadata": {},
     "output_type": "execute_result"
    }
   ],
   "source": [
    "decoder_target_data[0]"
   ]
  },
  {
   "cell_type": "code",
   "execution_count": 32,
   "metadata": {},
   "outputs": [
    {
     "data": {
      "text/plain": [
       "1.192093e-07"
      ]
     },
     "execution_count": 32,
     "metadata": {},
     "output_type": "execute_result"
    }
   ],
   "source": [
    "keras.losses.CategoricalCrossentropy()(y_true, y_pred).numpy()"
   ]
  },
  {
   "cell_type": "markdown",
   "metadata": {},
   "source": [
    "## Construct model"
   ]
  },
  {
   "cell_type": "code",
   "execution_count": 33,
   "metadata": {},
   "outputs": [],
   "source": [
    "latent_dim = 64      # Latent dimensionality of the encoding space.\n",
    "batch_size = 32       # Batch size for training.\n",
    "epochs = 1000         # Number of epochs to train for."
   ]
  },
  {
   "cell_type": "code",
   "execution_count": 37,
   "metadata": {
    "ExecuteTime": {
     "end_time": "2021-04-25T12:57:18.047479Z",
     "start_time": "2021-04-25T12:57:17.620960Z"
    }
   },
   "outputs": [],
   "source": [
    "# Define an input sequence and process it.\n",
    "encoder_inputs = keras.Input(shape = (None, num_encoder_tokens))\n",
    "encoder = keras.layers.LSTM(latent_dim, return_state = True)\n",
    "encoder_outputs, state_h, state_c = encoder(encoder_inputs)\n",
    "\n",
    "# We discard `encoder_outputs` and only keep the states.\n",
    "encoder_states = [state_h, state_c]\n",
    "\n",
    "# Set up the decoder, using `encoder_states` as initial state.\n",
    "decoder_inputs = keras.Input(shape = (None, num_decoder_tokens))\n",
    "\n",
    "# We set up our decoder to return full output sequences,\n",
    "# and to return internal states as well. We don't use the\n",
    "# return states in the training model, but we will use them in inference.\n",
    "decoder_lstm = keras.layers.LSTM(latent_dim, return_sequences = True, return_state = True)\n",
    "decoder_outputs, _, _ = decoder_lstm(decoder_inputs, initial_state = encoder_states)\n",
    "decoder_dense = keras.layers.Dense(num_decoder_tokens, activation = \"softmax\")\n",
    "decoder_outputs = decoder_dense(decoder_outputs)\n",
    "\n",
    "# Define the model that will turn\n",
    "# `encoder_input_data` & `decoder_input_data` into `decoder_target_data`\n",
    "model = keras.Model([encoder_inputs, decoder_inputs], decoder_outputs)"
   ]
  },
  {
   "cell_type": "code",
   "execution_count": 38,
   "metadata": {
    "ExecuteTime": {
     "end_time": "2021-04-25T12:57:21.687919Z",
     "start_time": "2021-04-25T12:57:21.675274Z"
    }
   },
   "outputs": [
    {
     "name": "stdout",
     "output_type": "stream",
     "text": [
      "Model: \"model_1\"\n",
      "__________________________________________________________________________________________________\n",
      "Layer (type)                    Output Shape         Param #     Connected to                     \n",
      "==================================================================================================\n",
      "input_3 (InputLayer)            [(None, None, 4)]    0                                            \n",
      "__________________________________________________________________________________________________\n",
      "input_4 (InputLayer)            [(None, None, 4)]    0                                            \n",
      "__________________________________________________________________________________________________\n",
      "lstm_2 (LSTM)                   [(None, 64), (None,  17664       input_3[0][0]                    \n",
      "__________________________________________________________________________________________________\n",
      "lstm_3 (LSTM)                   [(None, None, 64), ( 17664       input_4[0][0]                    \n",
      "                                                                 lstm_2[0][1]                     \n",
      "                                                                 lstm_2[0][2]                     \n",
      "__________________________________________________________________________________________________\n",
      "dense_1 (Dense)                 (None, None, 4)      260         lstm_3[0][0]                     \n",
      "==================================================================================================\n",
      "Total params: 35,588\n",
      "Trainable params: 35,588\n",
      "Non-trainable params: 0\n",
      "__________________________________________________________________________________________________\n"
     ]
    }
   ],
   "source": [
    "#plot_model(model, to_file = 'model.png')\n",
    "model.summary()"
   ]
  },
  {
   "cell_type": "markdown",
   "metadata": {},
   "source": [
    "## Train model"
   ]
  },
  {
   "cell_type": "code",
   "execution_count": 39,
   "metadata": {
    "ExecuteTime": {
     "end_time": "2021-04-25T14:18:28.805676Z",
     "start_time": "2021-04-25T12:57:28.352846Z"
    },
    "scrolled": true
   },
   "outputs": [
    {
     "name": "stdout",
     "output_type": "stream",
     "text": [
      "Epoch 1/1000\n",
      "110/110 [==============================] - 23s 192ms/step - loss: 1.3299 - accuracy: 0.3552 - val_loss: 1.3122 - val_accuracy: 0.3640\n",
      "Epoch 2/1000\n",
      "110/110 [==============================] - 20s 185ms/step - loss: 1.3006 - accuracy: 0.3717 - val_loss: 1.2879 - val_accuracy: 0.3862\n",
      "Epoch 3/1000\n",
      "110/110 [==============================] - 20s 179ms/step - loss: 1.2791 - accuracy: 0.3915 - val_loss: 1.2658 - val_accuracy: 0.4092\n",
      "Epoch 4/1000\n",
      "110/110 [==============================] - 20s 179ms/step - loss: 1.2621 - accuracy: 0.4066 - val_loss: 1.2416 - val_accuracy: 0.4182\n",
      "Epoch 5/1000\n",
      "110/110 [==============================] - 20s 178ms/step - loss: 1.2419 - accuracy: 0.4214 - val_loss: 1.2243 - val_accuracy: 0.4332\n",
      "Epoch 6/1000\n",
      "110/110 [==============================] - 20s 179ms/step - loss: 1.2167 - accuracy: 0.4388 - val_loss: 1.1958 - val_accuracy: 0.4580\n",
      "Epoch 7/1000\n",
      "110/110 [==============================] - 20s 179ms/step - loss: 1.1945 - accuracy: 0.4557 - val_loss: 1.1705 - val_accuracy: 0.4710\n",
      "Epoch 8/1000\n",
      "110/110 [==============================] - 20s 179ms/step - loss: 1.1649 - accuracy: 0.4785 - val_loss: 1.1682 - val_accuracy: 0.4690\n",
      "Epoch 9/1000\n",
      "110/110 [==============================] - 20s 179ms/step - loss: 1.1378 - accuracy: 0.4953 - val_loss: 1.1048 - val_accuracy: 0.5180\n",
      "Epoch 10/1000\n",
      "110/110 [==============================] - 20s 179ms/step - loss: 1.1116 - accuracy: 0.5118 - val_loss: 1.0740 - val_accuracy: 0.5367\n",
      "Epoch 11/1000\n",
      "110/110 [==============================] - 20s 179ms/step - loss: 1.0807 - accuracy: 0.5288 - val_loss: 1.0574 - val_accuracy: 0.5335\n",
      "Epoch 12/1000\n",
      "110/110 [==============================] - 20s 179ms/step - loss: 1.0509 - accuracy: 0.5445 - val_loss: 1.0138 - val_accuracy: 0.5639\n",
      "Epoch 13/1000\n",
      "110/110 [==============================] - 20s 180ms/step - loss: 1.0225 - accuracy: 0.5601 - val_loss: 0.9944 - val_accuracy: 0.5782\n",
      "Epoch 14/1000\n",
      "110/110 [==============================] - 20s 179ms/step - loss: 0.9921 - accuracy: 0.5762 - val_loss: 0.9484 - val_accuracy: 0.6070\n",
      "Epoch 15/1000\n",
      "110/110 [==============================] - 20s 179ms/step - loss: 0.9589 - accuracy: 0.5947 - val_loss: 0.9640 - val_accuracy: 0.5893\n",
      "Epoch 16/1000\n",
      "110/110 [==============================] - 20s 179ms/step - loss: 1.0402 - accuracy: 0.5815 - val_loss: 1.9241 - val_accuracy: 0.3235\n",
      "Epoch 17/1000\n",
      "110/110 [==============================] - 20s 179ms/step - loss: 1.4084 - accuracy: 0.4328 - val_loss: 0.9377 - val_accuracy: 0.6068\n",
      "Epoch 18/1000\n",
      "110/110 [==============================] - 20s 180ms/step - loss: 0.9079 - accuracy: 0.6253 - val_loss: 0.9353 - val_accuracy: 0.6053\n",
      "Epoch 19/1000\n",
      "110/110 [==============================] - 20s 180ms/step - loss: 0.9005 - accuracy: 0.6307 - val_loss: 0.8499 - val_accuracy: 0.6571\n",
      "Epoch 20/1000\n",
      "110/110 [==============================] - 20s 179ms/step - loss: 0.8799 - accuracy: 0.6442 - val_loss: 0.8361 - val_accuracy: 0.6588\n",
      "Epoch 21/1000\n",
      "110/110 [==============================] - 20s 179ms/step - loss: 0.8333 - accuracy: 0.6610 - val_loss: 0.8785 - val_accuracy: 0.6357\n",
      "Epoch 22/1000\n",
      "110/110 [==============================] - 20s 179ms/step - loss: 0.8176 - accuracy: 0.6751 - val_loss: 0.8649 - val_accuracy: 0.6449\n",
      "Epoch 23/1000\n",
      "110/110 [==============================] - 20s 179ms/step - loss: 0.7773 - accuracy: 0.6873 - val_loss: 0.7432 - val_accuracy: 0.7052\n",
      "Epoch 24/1000\n",
      "110/110 [==============================] - 20s 179ms/step - loss: 0.7497 - accuracy: 0.7015 - val_loss: 0.7334 - val_accuracy: 0.7047\n",
      "Epoch 25/1000\n",
      "110/110 [==============================] - 20s 179ms/step - loss: 0.7137 - accuracy: 0.7186 - val_loss: 0.6861 - val_accuracy: 0.7315\n",
      "Epoch 26/1000\n",
      "110/110 [==============================] - 20s 179ms/step - loss: 1.6279 - accuracy: 0.5298 - val_loss: 2.3623 - val_accuracy: 0.3490\n",
      "Epoch 27/1000\n",
      "110/110 [==============================] - 20s 179ms/step - loss: 2.1862 - accuracy: 0.3496 - val_loss: 1.9833 - val_accuracy: 0.3560\n",
      "Epoch 28/1000\n",
      "110/110 [==============================] - 20s 179ms/step - loss: 1.9228 - accuracy: 0.3459 - val_loss: 1.8667 - val_accuracy: 0.3109\n",
      "Epoch 29/1000\n",
      "110/110 [==============================] - 20s 179ms/step - loss: 1.7169 - accuracy: 0.3179 - val_loss: 1.5701 - val_accuracy: 0.3225\n",
      "Epoch 30/1000\n",
      "110/110 [==============================] - 20s 179ms/step - loss: 1.4618 - accuracy: 0.3273 - val_loss: 1.3866 - val_accuracy: 0.3293\n",
      "Epoch 31/1000\n",
      "110/110 [==============================] - 20s 179ms/step - loss: 1.3158 - accuracy: 0.3623 - val_loss: 1.2196 - val_accuracy: 0.4315\n",
      "Epoch 32/1000\n",
      "110/110 [==============================] - 20s 179ms/step - loss: 1.1422 - accuracy: 0.4874 - val_loss: 1.0658 - val_accuracy: 0.5346\n",
      "Epoch 33/1000\n",
      "110/110 [==============================] - 20s 180ms/step - loss: 1.0282 - accuracy: 0.5584 - val_loss: 0.9949 - val_accuracy: 0.5770\n",
      "Epoch 34/1000\n",
      "110/110 [==============================] - 20s 179ms/step - loss: 0.9512 - accuracy: 0.6031 - val_loss: 0.9713 - val_accuracy: 0.5819\n",
      "Epoch 35/1000\n",
      "110/110 [==============================] - 20s 179ms/step - loss: 0.8882 - accuracy: 0.6375 - val_loss: 0.8364 - val_accuracy: 0.6673\n",
      "Restoring model weights from the end of the best epoch.\n",
      "Epoch 00035: early stopping\n"
     ]
    }
   ],
   "source": [
    "model.compile(\n",
    "    optimizer = \"rmsprop\", loss = \"categorical_crossentropy\", metrics = [\"accuracy\"]\n",
    ")\n",
    "\n",
    "es = EarlyStopping(monitor='val_loss', min_delta = 0, patience = 10, verbose = 1, restore_best_weights = True)\n",
    "\n",
    "log = model.fit(\n",
    "    [ encoder_input_data, decoder_input_data ],\n",
    "    decoder_target_data,\n",
    "    batch_size = batch_size,\n",
    "    epochs = epochs,\n",
    "    callbacks = [ es ],\n",
    "    validation_split = 0.2,\n",
    ")"
   ]
  },
  {
   "cell_type": "code",
   "execution_count": 30,
   "metadata": {
    "ExecuteTime": {
     "end_time": "2021-04-25T14:43:14.871141Z",
     "start_time": "2021-04-25T14:43:08.655581Z"
    }
   },
   "outputs": [
    {
     "name": "stderr",
     "output_type": "stream",
     "text": [
      "WARNING:absl:Found untraced functions such as lstm_cell_layer_call_and_return_conditional_losses, lstm_cell_layer_call_fn, lstm_cell_1_layer_call_and_return_conditional_losses, lstm_cell_1_layer_call_fn, lstm_cell_layer_call_fn while saving (showing 5 of 10). These functions will not be directly callable after loading.\n"
     ]
    },
    {
     "name": "stdout",
     "output_type": "stream",
     "text": [
      "INFO:tensorflow:Assets written to: data/ncbi_02/model/assets\n"
     ]
    },
    {
     "name": "stderr",
     "output_type": "stream",
     "text": [
      "INFO:tensorflow:Assets written to: data/ncbi_02/model/assets\n"
     ]
    }
   ],
   "source": [
    "import matplotlib.pyplot as plt\n",
    "\n",
    "%matplotlib inline\n",
    "plt.rcParams['figure.figsize'] = (16, 8)\n",
    "\n",
    "# Save model\n",
    "model.save(\"data/ncbi_02/model\")"
   ]
  },
  {
   "cell_type": "code",
   "execution_count": 31,
   "metadata": {
    "ExecuteTime": {
     "end_time": "2021-04-25T14:44:02.441854Z",
     "start_time": "2021-04-25T14:44:02.061450Z"
    }
   },
   "outputs": [
    {
     "data": {
      "image/png": "[encoded data removed]",
      "text/plain": [
       "<Figure size 1152x576 with 1 Axes>"
      ]
     },
     "metadata": {
      "needs_background": "light"
     },
     "output_type": "display_data"
    },
    {
     "data": {
      "image/png": "[encoded data removed]",
      "text/plain": [
       "<Figure size 1152x576 with 2 Axes>"
      ]
     },
     "metadata": {
      "needs_background": "light"
     },
     "output_type": "display_data"
    }
   ],
   "source": [
    "\n",
    "plt.plot(log.history['accuracy'], label = 'mokymo')\n",
    "plt.plot(log.history['val_accuracy'], label = 'validavimo')\n",
    "plt.ylabel('tikslumas')\n",
    "plt.xlabel('epocha')\n",
    "plt.legend()\n",
    "plt.show()\n",
    "\n",
    "plt.plot(log.history['loss'], '--', label = 'mokymo')\n",
    "plt.plot(log.history['val_loss'], '--', label = 'validavimo')\n",
    "plt.ylabel('netektis')\n",
    "plt.xlabel('epocha')\n",
    "plt.legend()\n",
    "plt.show()\n"
   ]
  },
  {
   "cell_type": "markdown",
   "metadata": {},
   "source": [
    "## Inference"
   ]
  },
  {
   "cell_type": "code",
   "execution_count": null,
   "metadata": {
    "ExecuteTime": {
     "end_time": "2021-04-25T14:45:14.366061Z",
     "start_time": "2021-04-25T14:45:11.329936Z"
    }
   },
   "outputs": [],
   "source": [
    "# Define sampling models\n",
    "# Restore the model and construct the encoder and decoder.\n",
    "model = keras.models.load_model(\"data/ncbi/raxml\")"
   ]
  },
  {
   "cell_type": "code",
   "execution_count": null,
   "metadata": {
    "ExecuteTime": {
     "end_time": "2021-04-25T15:02:43.649357Z",
     "start_time": "2021-04-25T15:02:43.453271Z"
    }
   },
   "outputs": [],
   "source": [
    "encoder_inputs = model.input[0]  # input_1\n",
    "encoder_outputs, state_h_enc, state_c_enc = model.layers[2].output  # lstm_1\n",
    "encoder_states = [state_h_enc, state_c_enc]\n",
    "encoder_model = keras.Model(encoder_inputs, encoder_states)\n",
    "\n",
    "decoder_inputs = model.input[1]  # input_2\n",
    "decoder_state_input_h = keras.Input(shape=(latent_dim,))\n",
    "decoder_state_input_c = keras.Input(shape=(latent_dim,))\n",
    "decoder_states_inputs = [decoder_state_input_h, decoder_state_input_c]\n",
    "decoder_lstm = model.layers[3]\n",
    "decoder_outputs, state_h_dec, state_c_dec = decoder_lstm(\n",
    "    decoder_inputs, initial_state=decoder_states_inputs\n",
    ")\n",
    "decoder_states = [state_h_dec, state_c_dec]\n",
    "decoder_dense = model.layers[4]\n",
    "decoder_outputs = decoder_dense(decoder_outputs)\n",
    "decoder_model = keras.Model(\n",
    "    [decoder_inputs] + decoder_states_inputs, [decoder_outputs] + decoder_states\n",
    ")\n",
    "\n",
    "# Reverse-lookup token index to decode sequences back to\n",
    "# something readable.\n",
    "reverse_input_char_index = dict((i, char) for char, i in input_token_index.items())\n",
    "reverse_target_char_index = dict((i, char) for char, i in target_token_index.items())"
   ]
  },
  {
   "cell_type": "code",
   "execution_count": null,
   "metadata": {
    "ExecuteTime": {
     "end_time": "2021-04-25T15:02:46.122326Z",
     "start_time": "2021-04-25T15:02:46.110383Z"
    }
   },
   "outputs": [],
   "source": [
    "def decode_sequence(input_seq):\n",
    "    # Encode the input as state vectors.\n",
    "    states_value = encoder_model.predict(input_seq)\n",
    "\n",
    "    # Generate empty target sequence of length 1.\n",
    "    target_seq = np.zeros((1, 1, num_decoder_tokens))\n",
    "    # Populate the first character of target sequence with the start character.\n",
    "    target_seq[0, 0, target_token_index[\"\\t\"]] = 1.0\n",
    "\n",
    "    # Sampling loop for a batch of sequences\n",
    "    # (to simplify, here we assume a batch of size 1).\n",
    "    stop_condition = False\n",
    "    decoded_sentence = \"\"\n",
    "    while not stop_condition:\n",
    "        output_tokens, h, c = decoder_model.predict([target_seq] + states_value)\n",
    "\n",
    "        # Sample a token\n",
    "        sampled_token_index = np.argmax(output_tokens[0, -1, :])\n",
    "        sampled_char = reverse_target_char_index[sampled_token_index]\n",
    "        decoded_sentence += sampled_char\n",
    "\n",
    "        # Exit condition: either hit max length\n",
    "        # or find stop character.\n",
    "        if sampled_char == \"\\n\" or len(decoded_sentence) > max_decoder_seq_length:\n",
    "            stop_condition = True\n",
    "\n",
    "        # Update the target sequence (of length 1).\n",
    "        target_seq = np.zeros((1, 1, num_decoder_tokens))\n",
    "        target_seq[0, 0, sampled_token_index] = 1.0\n",
    "\n",
    "        # Update states\n",
    "        states_value = [h, c]\n",
    "    return decoded_sentence"
   ]
  },
  {
   "cell_type": "code",
   "execution_count": null,
   "metadata": {
    "ExecuteTime": {
     "end_time": "2021-04-25T15:02:56.164836Z",
     "start_time": "2021-04-25T15:02:56.159767Z"
    }
   },
   "outputs": [],
   "source": [
    "# for seq_index in range(20):\n",
    "#     # Take one sequence (part of the training set)\n",
    "#     # for trying out decoding.\n",
    "#     input_seq = encoder_input_data[seq_index : seq_index + 1]\n",
    "#     decoded_sentence = decode_sequence(input_seq)\n",
    "#     print(\"-\")\n",
    "#     print(\"Input sentence:\", input_texts[seq_index])\n",
    "#     print(\"Decoded sentence:\", decoded_sentence)"
   ]
  },
  {
   "cell_type": "code",
   "execution_count": null,
   "metadata": {},
   "outputs": [],
   "source": []
  }
 ],
 "metadata": {
  "kernelspec": {
   "display_name": "covid-seq2seq",
   "language": "python",
   "name": "covid-seq2seq"
  },
  "language_info": {
   "codemirror_mode": {
    "name": "ipython",
    "version": 3
   },
   "file_extension": ".py",
   "mimetype": "text/x-python",
   "name": "python",
   "nbconvert_exporter": "python",
   "pygments_lexer": "ipython3",
   "version": "3.8.5"
  },
  "varInspector": {
   "cols": {
    "lenName": 16,
    "lenType": 16,
    "lenVar": 40
   },
   "kernels_config": {
    "python": {
     "delete_cmd_postfix": "",
     "delete_cmd_prefix": "del ",
     "library": "var_list.py",
     "varRefreshCmd": "print(var_dic_list())"
    },
    "r": {
     "delete_cmd_postfix": ") ",
     "delete_cmd_prefix": "rm(",
     "library": "var_list.r",
     "varRefreshCmd": "cat(var_dic_list()) "
    }
   },
   "types_to_exclude": [
    "module",
    "function",
    "builtin_function_or_method",
    "instance",
    "_Feature"
   ],
   "window_display": false
  }
 },
 "nbformat": 4,
 "nbformat_minor": 2
}
