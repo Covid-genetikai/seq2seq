{
 "cells": [
  {
   "cell_type": "markdown",
   "metadata": {},
   "source": [
    "## Character-level recurrent sequence-to-sequence model"
   ]
  },
  {
   "cell_type": "markdown",
   "metadata": {},
   "source": [
    "Example from https://keras.io/examples/nlp/lstm_seq2seq/  \n",
    "Older post https://blog.keras.io/a-ten-minute-introduction-to-sequence-to-sequence-learning-in-keras.html"
   ]
  },
  {
   "cell_type": "code",
   "execution_count": 27,
   "metadata": {
    "ExecuteTime": {
     "end_time": "2021-04-25T12:55:38.244466Z",
     "start_time": "2021-04-25T12:55:38.237634Z"
    }
   },
   "outputs": [],
   "source": [
    "import numpy as np\n",
    "import pandas as pd\n",
    "from itertools import chain\n",
    "import tensorflow as tf\n",
    "from tensorflow import keras\n",
    "from tensorflow.keras.callbacks import EarlyStopping"
   ]
  },
  {
   "cell_type": "code",
   "execution_count": 8,
   "metadata": {
    "ExecuteTime": {
     "end_time": "2021-04-25T12:35:23.829688Z",
     "start_time": "2021-04-25T12:35:23.645571Z"
    }
   },
   "outputs": [],
   "source": [
    "pairs = pd.read_csv(\"data/ncbi/raxml/pairs.csv\")\n",
    "sgenes = pd.read_csv(\"data/ncbi/ncbi_sgene_good_unique_aligned.csv\")"
   ]
  },
  {
   "cell_type": "code",
   "execution_count": 10,
   "metadata": {
    "ExecuteTime": {
     "end_time": "2021-04-25T12:37:29.776084Z",
     "start_time": "2021-04-25T12:37:29.768320Z"
    }
   },
   "outputs": [],
   "source": [
    "batch_size = 64      # Batch size for training.\n",
    "epochs = 100         # Number of epochs to train for.\n",
    "latent_dim = 256     # Latent dimensionality of the encoding space.\n",
    "num_pairs = 100  # Number of samples to train on."
   ]
  },
  {
   "cell_type": "markdown",
   "metadata": {},
   "source": [
    "## Data prep"
   ]
  },
  {
   "cell_type": "code",
   "execution_count": 25,
   "metadata": {
    "ExecuteTime": {
     "end_time": "2021-04-25T12:55:33.473167Z",
     "start_time": "2021-04-25T12:55:33.469618Z"
    }
   },
   "outputs": [],
   "source": [
    "# Vectorize the data.\n",
    "input_texts = []\n",
    "target_texts = []\n",
    "input_characters = set()\n",
    "target_characters = set()"
   ]
  },
  {
   "cell_type": "code",
   "execution_count": 28,
   "metadata": {
    "ExecuteTime": {
     "end_time": "2021-04-25T12:55:39.954535Z",
     "start_time": "2021-04-25T12:55:39.803811Z"
    }
   },
   "outputs": [],
   "source": [
    "for index, pair in pairs.iterrows():\n",
    "    if index == num_pairs:\n",
    "        break\n",
    "    \n",
    "    parent_sgene = sgenes[sgenes[\"accession\"]==pair[\"parent\"]][\"sgene_nucleotide\"].values[0]\n",
    "    child_sgene = sgenes[sgenes[\"accession\"]==pair[\"child\"]][\"sgene_nucleotide\"].values[0]\n",
    "    \n",
    "    input_texts.append(parent_sgene)\n",
    "    target_texts.append(child_sgene)\n",
    "\n",
    "input_characters = set(chain.from_iterable(input_texts))\n",
    "target_characters = set(chain.from_iterable(target_texts))"
   ]
  },
  {
   "cell_type": "code",
   "execution_count": 29,
   "metadata": {
    "ExecuteTime": {
     "end_time": "2021-04-25T12:55:48.139382Z",
     "start_time": "2021-04-25T12:55:48.133789Z"
    }
   },
   "outputs": [
    {
     "data": {
      "text/plain": [
       "{'-', 'A', 'C', 'G', 'T'}"
      ]
     },
     "execution_count": 29,
     "metadata": {},
     "output_type": "execute_result"
    }
   ],
   "source": [
    "input_characters"
   ]
  },
  {
   "cell_type": "code",
   "execution_count": 30,
   "metadata": {
    "ExecuteTime": {
     "end_time": "2021-04-25T12:55:51.775098Z",
     "start_time": "2021-04-25T12:55:51.769588Z"
    }
   },
   "outputs": [
    {
     "data": {
      "text/plain": [
       "{'-', 'A', 'C', 'G', 'T'}"
      ]
     },
     "execution_count": 30,
     "metadata": {},
     "output_type": "execute_result"
    }
   ],
   "source": [
    "target_characters"
   ]
  },
  {
   "cell_type": "code",
   "execution_count": 31,
   "metadata": {
    "ExecuteTime": {
     "end_time": "2021-04-25T12:56:04.610442Z",
     "start_time": "2021-04-25T12:56:04.598008Z"
    }
   },
   "outputs": [
    {
     "name": "stdout",
     "output_type": "stream",
     "text": [
      "input_texts  200\n",
      "target_texts 200\n",
      "input_characters 5\n",
      "target_characters 5\n"
     ]
    }
   ],
   "source": [
    "print(\"input_texts \", len(input_texts))\n",
    "print(\"target_texts\", len(target_texts))\n",
    "print(\"input_characters\", len(input_characters))\n",
    "print(\"target_characters\", len(target_characters))"
   ]
  },
  {
   "cell_type": "code",
   "execution_count": 32,
   "metadata": {
    "ExecuteTime": {
     "end_time": "2021-04-25T12:56:14.861645Z",
     "start_time": "2021-04-25T12:56:14.842728Z"
    }
   },
   "outputs": [
    {
     "name": "stdout",
     "output_type": "stream",
     "text": [
      "Number of samples: 200\n",
      "Number of unique input tokens: 5\n",
      "Number of unique output tokens: 5\n",
      "Max sequence length for inputs: 3873\n",
      "Max sequence length for outputs: 3873\n"
     ]
    }
   ],
   "source": [
    "input_characters = sorted(list(input_characters))\n",
    "target_characters = sorted(list(target_characters))\n",
    "num_encoder_tokens = len(input_characters)\n",
    "num_decoder_tokens = len(target_characters)\n",
    "max_encoder_seq_length = max([len(txt) for txt in input_texts])\n",
    "max_decoder_seq_length = max([len(txt) for txt in target_texts])\n",
    "\n",
    "print(\"Number of samples:\", len(input_texts))\n",
    "print(\"Number of unique input tokens:\", num_encoder_tokens)\n",
    "print(\"Number of unique output tokens:\", num_decoder_tokens)\n",
    "print(\"Max sequence length for inputs:\", max_encoder_seq_length)\n",
    "print(\"Max sequence length for outputs:\", max_decoder_seq_length)"
   ]
  },
  {
   "cell_type": "code",
   "execution_count": 33,
   "metadata": {
    "ExecuteTime": {
     "end_time": "2021-04-25T12:56:25.784425Z",
     "start_time": "2021-04-25T12:56:25.780950Z"
    }
   },
   "outputs": [
    {
     "name": "stdout",
     "output_type": "stream",
     "text": [
      "input_token_index 5\n",
      "target_token_index 5\n"
     ]
    }
   ],
   "source": [
    "input_token_index = dict([(char, i) for i, char in enumerate(input_characters)])\n",
    "target_token_index = dict([(char, i) for i, char in enumerate(target_characters)])\n",
    "print(\"input_token_index\", len(input_token_index))\n",
    "print(\"target_token_index\", len(target_token_index))"
   ]
  },
  {
   "cell_type": "code",
   "execution_count": 34,
   "metadata": {
    "ExecuteTime": {
     "end_time": "2021-04-25T12:56:28.537863Z",
     "start_time": "2021-04-25T12:56:28.525583Z"
    }
   },
   "outputs": [
    {
     "name": "stdout",
     "output_type": "stream",
     "text": [
      "encoder_input_data.shape (200, 3873, 5)\n",
      "decoder_input_data.shape (200, 3873, 5)\n",
      "decoder_target_data.shape (200, 3873, 5)\n"
     ]
    }
   ],
   "source": [
    "encoder_input_data = np.zeros(\n",
    "    (len(input_texts), max_encoder_seq_length, num_encoder_tokens), dtype=\"float32\"\n",
    ")\n",
    "decoder_input_data = np.zeros(\n",
    "    (len(input_texts), max_decoder_seq_length, num_decoder_tokens), dtype=\"float32\"\n",
    ")\n",
    "decoder_target_data = np.zeros(\n",
    "    (len(input_texts), max_decoder_seq_length, num_decoder_tokens), dtype=\"float32\"\n",
    ")\n",
    "print(\"encoder_input_data.shape\", encoder_input_data.shape)\n",
    "print(\"decoder_input_data.shape\", decoder_input_data.shape)\n",
    "print(\"decoder_target_data.shape\", decoder_target_data.shape)"
   ]
  },
  {
   "cell_type": "code",
   "execution_count": 39,
   "metadata": {
    "ExecuteTime": {
     "end_time": "2021-04-25T12:57:16.488106Z",
     "start_time": "2021-04-25T12:57:15.892410Z"
    }
   },
   "outputs": [],
   "source": [
    "for i, (input_text, target_text) in enumerate(zip(input_texts, target_texts)):\n",
    "    \n",
    "    for t, char in enumerate(input_text):\n",
    "        encoder_input_data[i, t, input_token_index[char]] = 1.0\n",
    "#     encoder_input_data[i, t + 1 :, input_token_index[\" \"]] = 1.0 # for spaces\n",
    "    \n",
    "    for t, char in enumerate(target_text):\n",
    "        \n",
    "        # decoder_target_data is ahead of decoder_input_data by one timestep\n",
    "        decoder_input_data[i, t, target_token_index[char]] = 1.0\n",
    "        \n",
    "        if t > 0:\n",
    "            # decoder_target_data will be ahead by one timestep\n",
    "            # and will not include the start character.\n",
    "            decoder_target_data[i, t - 1, target_token_index[char]] = 1.0\n",
    "            \n",
    "#     decoder_input_data[i, t + 1 :, target_token_index[\" \"]] = 1.0 # for spaces\n",
    "#     decoder_target_data[i, t:, target_token_index[\" \"]] = 1.0 # for spaces\n",
    "    "
   ]
  },
  {
   "cell_type": "markdown",
   "metadata": {},
   "source": [
    "## Construct model"
   ]
  },
  {
   "cell_type": "code",
   "execution_count": 40,
   "metadata": {
    "ExecuteTime": {
     "end_time": "2021-04-25T12:57:18.047479Z",
     "start_time": "2021-04-25T12:57:17.620960Z"
    }
   },
   "outputs": [],
   "source": [
    "# Define an input sequence and process it.\n",
    "encoder_inputs = keras.Input(shape = (None, num_encoder_tokens))\n",
    "encoder = keras.layers.LSTM(latent_dim, return_state = True)\n",
    "encoder_outputs, state_h, state_c = encoder(encoder_inputs)\n",
    "\n",
    "# We discard `encoder_outputs` and only keep the states.\n",
    "encoder_states = [state_h, state_c]\n",
    "\n",
    "# Set up the decoder, using `encoder_states` as initial state.\n",
    "decoder_inputs = keras.Input(shape = (None, num_decoder_tokens))\n",
    "\n",
    "# We set up our decoder to return full output sequences,\n",
    "# and to return internal states as well. We don't use the\n",
    "# return states in the training model, but we will use them in inference.\n",
    "decoder_lstm = keras.layers.LSTM(latent_dim, return_sequences = True, return_state = True)\n",
    "decoder_outputs, _, _ = decoder_lstm(decoder_inputs, initial_state = encoder_states)\n",
    "decoder_dense = keras.layers.Dense(num_decoder_tokens, activation = \"softmax\")\n",
    "decoder_outputs = decoder_dense(decoder_outputs)\n",
    "\n",
    "# Define the model that will turn\n",
    "# `encoder_input_data` & `decoder_input_data` into `decoder_target_data`\n",
    "model = keras.Model([encoder_inputs, decoder_inputs], decoder_outputs)"
   ]
  },
  {
   "cell_type": "code",
   "execution_count": 41,
   "metadata": {
    "ExecuteTime": {
     "end_time": "2021-04-25T12:57:21.687919Z",
     "start_time": "2021-04-25T12:57:21.675274Z"
    }
   },
   "outputs": [
    {
     "name": "stdout",
     "output_type": "stream",
     "text": [
      "Model: \"model_1\"\n",
      "__________________________________________________________________________________________________\n",
      "Layer (type)                    Output Shape         Param #     Connected to                     \n",
      "==================================================================================================\n",
      "input_3 (InputLayer)            [(None, None, 5)]    0                                            \n",
      "__________________________________________________________________________________________________\n",
      "input_4 (InputLayer)            [(None, None, 5)]    0                                            \n",
      "__________________________________________________________________________________________________\n",
      "lstm_2 (LSTM)                   [(None, 256), (None, 268288      input_3[0][0]                    \n",
      "__________________________________________________________________________________________________\n",
      "lstm_3 (LSTM)                   [(None, None, 256),  268288      input_4[0][0]                    \n",
      "                                                                 lstm_2[0][1]                     \n",
      "                                                                 lstm_2[0][2]                     \n",
      "__________________________________________________________________________________________________\n",
      "dense_1 (Dense)                 (None, None, 5)      1285        lstm_3[0][0]                     \n",
      "==================================================================================================\n",
      "Total params: 537,861\n",
      "Trainable params: 537,861\n",
      "Non-trainable params: 0\n",
      "__________________________________________________________________________________________________\n"
     ]
    }
   ],
   "source": [
    "model.summary()"
   ]
  },
  {
   "cell_type": "code",
   "execution_count": 42,
   "metadata": {
    "ExecuteTime": {
     "end_time": "2021-04-25T12:57:25.528455Z",
     "start_time": "2021-04-25T12:57:25.519843Z"
    }
   },
   "outputs": [
    {
     "name": "stdout",
     "output_type": "stream",
     "text": [
      "[name: \"/device:CPU:0\"\n",
      "device_type: \"CPU\"\n",
      "memory_limit: 268435456\n",
      "locality {\n",
      "}\n",
      "incarnation: 619015318314263561\n",
      "]\n"
     ]
    }
   ],
   "source": [
    "from tensorflow.python.client import device_lib\n",
    "print(device_lib.list_local_devices())"
   ]
  },
  {
   "cell_type": "markdown",
   "metadata": {},
   "source": [
    "## Train model"
   ]
  },
  {
   "cell_type": "code",
   "execution_count": 43,
   "metadata": {
    "ExecuteTime": {
     "end_time": "2021-04-25T14:18:28.805676Z",
     "start_time": "2021-04-25T12:57:28.352846Z"
    },
    "scrolled": false
   },
   "outputs": [
    {
     "name": "stdout",
     "output_type": "stream",
     "text": [
      "Epoch 1/100\n",
      "3/3 [==============================] - 37s 11s/step - loss: 1.5877 - accuracy: 0.2836 - val_loss: 1.6222 - val_accuracy: 0.1941\n",
      "Epoch 2/100\n",
      "3/3 [==============================] - 38s 13s/step - loss: 1.5318 - accuracy: 0.2491 - val_loss: 1.4060 - val_accuracy: 0.3333\n",
      "Epoch 3/100\n",
      "3/3 [==============================] - 36s 12s/step - loss: 1.4013 - accuracy: 0.3217 - val_loss: 1.3708 - val_accuracy: 0.3323\n",
      "Epoch 4/100\n",
      "3/3 [==============================] - 37s 12s/step - loss: 1.3713 - accuracy: 0.3330 - val_loss: 1.3677 - val_accuracy: 0.3339\n",
      "Epoch 5/100\n",
      "3/3 [==============================] - 37s 13s/step - loss: 1.3694 - accuracy: 0.3366 - val_loss: 1.3695 - val_accuracy: 0.3339\n",
      "Epoch 6/100\n",
      "3/3 [==============================] - 43s 15s/step - loss: 1.3720 - accuracy: 0.3226 - val_loss: 1.3705 - val_accuracy: 0.3004\n",
      "Epoch 7/100\n",
      "3/3 [==============================] - 50s 16s/step - loss: 1.3708 - accuracy: 0.3111 - val_loss: 1.3705 - val_accuracy: 0.3339\n",
      "Epoch 8/100\n",
      "3/3 [==============================] - 49s 17s/step - loss: 1.3720 - accuracy: 0.3227 - val_loss: 1.3659 - val_accuracy: 0.3603\n",
      "Epoch 9/100\n",
      "3/3 [==============================] - 47s 16s/step - loss: 1.3673 - accuracy: 0.3504 - val_loss: 1.3624 - val_accuracy: 0.3346\n",
      "Epoch 10/100\n",
      "3/3 [==============================] - 44s 14s/step - loss: 1.3628 - accuracy: 0.3369 - val_loss: 1.3607 - val_accuracy: 0.3341\n",
      "Epoch 11/100\n",
      "3/3 [==============================] - 46s 15s/step - loss: 1.3642 - accuracy: 0.3286 - val_loss: 1.3810 - val_accuracy: 0.3007\n",
      "Epoch 12/100\n",
      "3/3 [==============================] - 48s 16s/step - loss: 1.3765 - accuracy: 0.3168 - val_loss: 1.3550 - val_accuracy: 0.3395\n",
      "Epoch 13/100\n",
      "3/3 [==============================] - 49s 16s/step - loss: 1.3565 - accuracy: 0.3471 - val_loss: 1.3599 - val_accuracy: 0.3233\n",
      "Epoch 14/100\n",
      "3/3 [==============================] - 43s 14s/step - loss: 1.3612 - accuracy: 0.3286 - val_loss: 1.3554 - val_accuracy: 0.3344\n",
      "Epoch 15/100\n",
      "3/3 [==============================] - 46s 15s/step - loss: 1.3553 - accuracy: 0.3432 - val_loss: 1.3552 - val_accuracy: 0.3199\n",
      "Epoch 16/100\n",
      "3/3 [==============================] - 44s 15s/step - loss: 1.3588 - accuracy: 0.3227 - val_loss: 1.3512 - val_accuracy: 0.3447\n",
      "Epoch 17/100\n",
      "3/3 [==============================] - 61s 21s/step - loss: 1.3524 - accuracy: 0.3502 - val_loss: 1.3467 - val_accuracy: 0.3644\n",
      "Epoch 18/100\n",
      "3/3 [==============================] - 55s 19s/step - loss: 1.3483 - accuracy: 0.3547 - val_loss: 1.3641 - val_accuracy: 0.3357\n",
      "Epoch 19/100\n",
      "3/3 [==============================] - 55s 18s/step - loss: 1.3594 - accuracy: 0.3471 - val_loss: 1.3464 - val_accuracy: 0.3594\n",
      "Epoch 20/100\n",
      "3/3 [==============================] - 48s 15s/step - loss: 1.3454 - accuracy: 0.3598 - val_loss: 1.3433 - val_accuracy: 0.3586\n",
      "Epoch 21/100\n",
      "3/3 [==============================] - 50s 18s/step - loss: 1.3459 - accuracy: 0.3607 - val_loss: 1.3517 - val_accuracy: 0.3658\n",
      "Epoch 22/100\n",
      "3/3 [==============================] - 48s 16s/step - loss: 1.3493 - accuracy: 0.3604 - val_loss: 1.3440 - val_accuracy: 0.3352\n",
      "Epoch 23/100\n",
      "3/3 [==============================] - 48s 16s/step - loss: 1.3472 - accuracy: 0.3280 - val_loss: 1.3363 - val_accuracy: 0.3683\n",
      "Epoch 24/100\n",
      "3/3 [==============================] - 50s 16s/step - loss: 1.3369 - accuracy: 0.3619 - val_loss: 1.3378 - val_accuracy: 0.3468\n",
      "Epoch 25/100\n",
      "3/3 [==============================] - 45s 14s/step - loss: 1.3387 - accuracy: 0.3536 - val_loss: 1.3371 - val_accuracy: 0.3652\n",
      "Epoch 26/100\n",
      "3/3 [==============================] - 47s 16s/step - loss: 1.3366 - accuracy: 0.3633 - val_loss: 1.3430 - val_accuracy: 0.3402\n",
      "Epoch 27/100\n",
      "3/3 [==============================] - 61s 23s/step - loss: 1.3448 - accuracy: 0.3461 - val_loss: 1.3286 - val_accuracy: 0.3628\n",
      "Epoch 28/100\n",
      "3/3 [==============================] - 69s 23s/step - loss: 1.3292 - accuracy: 0.3635 - val_loss: 1.3306 - val_accuracy: 0.3614\n",
      "Epoch 29/100\n",
      "3/3 [==============================] - 69s 23s/step - loss: 1.3281 - accuracy: 0.3618 - val_loss: 1.3360 - val_accuracy: 0.3433\n",
      "Epoch 30/100\n",
      "3/3 [==============================] - 69s 24s/step - loss: 1.3349 - accuracy: 0.3439 - val_loss: 1.3192 - val_accuracy: 0.3593\n",
      "Epoch 31/100\n",
      "3/3 [==============================] - 61s 19s/step - loss: 1.3220 - accuracy: 0.3615 - val_loss: 1.3223 - val_accuracy: 0.3625\n",
      "Epoch 32/100\n",
      "3/3 [==============================] - 55s 18s/step - loss: 1.3220 - accuracy: 0.3623 - val_loss: 1.3272 - val_accuracy: 0.3654\n",
      "Epoch 33/100\n",
      "3/3 [==============================] - 46s 15s/step - loss: 1.3235 - accuracy: 0.3635 - val_loss: 1.3188 - val_accuracy: 0.3546\n",
      "Epoch 34/100\n",
      "3/3 [==============================] - 46s 15s/step - loss: 1.3197 - accuracy: 0.3551 - val_loss: 1.3197 - val_accuracy: 0.3699\n",
      "Epoch 35/100\n",
      "3/3 [==============================] - 47s 16s/step - loss: 1.3193 - accuracy: 0.3684 - val_loss: 1.3140 - val_accuracy: 0.3665\n",
      "Epoch 36/100\n",
      "3/3 [==============================] - 48s 17s/step - loss: 1.3124 - accuracy: 0.3650 - val_loss: 1.3413 - val_accuracy: 0.3347\n",
      "Epoch 37/100\n",
      "3/3 [==============================] - 44s 15s/step - loss: 1.3312 - accuracy: 0.3470 - val_loss: 1.3166 - val_accuracy: 0.3641\n",
      "Epoch 38/100\n",
      "3/3 [==============================] - 46s 15s/step - loss: 1.3163 - accuracy: 0.3633 - val_loss: 1.3143 - val_accuracy: 0.3618\n",
      "Epoch 39/100\n",
      "3/3 [==============================] - 52s 15s/step - loss: 1.3164 - accuracy: 0.3630 - val_loss: 1.3143 - val_accuracy: 0.3676\n",
      "Epoch 40/100\n",
      "3/3 [==============================] - 46s 14s/step - loss: 1.3129 - accuracy: 0.3665 - val_loss: 1.3092 - val_accuracy: 0.3660\n",
      "Epoch 41/100\n",
      "3/3 [==============================] - 44s 15s/step - loss: 1.3100 - accuracy: 0.3653 - val_loss: 1.3167 - val_accuracy: 0.3533\n",
      "Epoch 42/100\n",
      "3/3 [==============================] - 46s 16s/step - loss: 1.3145 - accuracy: 0.3585 - val_loss: 1.3077 - val_accuracy: 0.3669\n",
      "Epoch 43/100\n",
      "3/3 [==============================] - 48s 16s/step - loss: 1.3095 - accuracy: 0.3674 - val_loss: 1.3103 - val_accuracy: 0.3623\n",
      "Epoch 44/100\n",
      "3/3 [==============================] - 45s 14s/step - loss: 1.3096 - accuracy: 0.3635 - val_loss: 1.3089 - val_accuracy: 0.3617\n",
      "Epoch 45/100\n",
      "3/3 [==============================] - 46s 14s/step - loss: 1.3084 - accuracy: 0.3642 - val_loss: 1.3035 - val_accuracy: 0.3678\n",
      "Epoch 46/100\n",
      "3/3 [==============================] - 44s 15s/step - loss: 1.3056 - accuracy: 0.3672 - val_loss: 1.3014 - val_accuracy: 0.3650\n",
      "Epoch 47/100\n",
      "3/3 [==============================] - 45s 15s/step - loss: 1.3036 - accuracy: 0.3665 - val_loss: 1.3105 - val_accuracy: 0.3591\n",
      "Epoch 48/100\n",
      "3/3 [==============================] - 55s 17s/step - loss: 1.3066 - accuracy: 0.3627 - val_loss: 1.3105 - val_accuracy: 0.3631\n",
      "Epoch 49/100\n",
      "3/3 [==============================] - 44s 14s/step - loss: 1.3085 - accuracy: 0.3622 - val_loss: 1.3070 - val_accuracy: 0.3656\n",
      "Epoch 50/100\n",
      "3/3 [==============================] - 51s 16s/step - loss: 1.3070 - accuracy: 0.3671 - val_loss: 1.2997 - val_accuracy: 0.3629\n",
      "Epoch 51/100\n",
      "3/3 [==============================] - 50s 18s/step - loss: 1.2985 - accuracy: 0.3638 - val_loss: 1.2987 - val_accuracy: 0.3661\n",
      "Epoch 52/100\n",
      "3/3 [==============================] - 55s 19s/step - loss: 1.3004 - accuracy: 0.3673 - val_loss: 1.3056 - val_accuracy: 0.3642\n",
      "Epoch 53/100\n",
      "3/3 [==============================] - 47s 15s/step - loss: 1.3017 - accuracy: 0.3658 - val_loss: 1.2997 - val_accuracy: 0.3688\n",
      "Epoch 54/100\n",
      "3/3 [==============================] - 49s 13s/step - loss: 1.2983 - accuracy: 0.3694 - val_loss: 1.3035 - val_accuracy: 0.3685\n",
      "Epoch 55/100\n",
      "3/3 [==============================] - 44s 15s/step - loss: 1.3046 - accuracy: 0.3695 - val_loss: 1.2964 - val_accuracy: 0.3750\n",
      "Epoch 56/100\n",
      "3/3 [==============================] - 40s 13s/step - loss: 1.2972 - accuracy: 0.3721 - val_loss: 1.2978 - val_accuracy: 0.3675\n",
      "Epoch 57/100\n",
      "3/3 [==============================] - 43s 13s/step - loss: 1.2975 - accuracy: 0.3705 - val_loss: 1.2968 - val_accuracy: 0.3749\n",
      "Epoch 58/100\n",
      "3/3 [==============================] - 42s 13s/step - loss: 1.2963 - accuracy: 0.3713 - val_loss: 1.2931 - val_accuracy: 0.3732\n",
      "Epoch 59/100\n"
     ]
    },
    {
     "name": "stdout",
     "output_type": "stream",
     "text": [
      "3/3 [==============================] - 40s 13s/step - loss: 1.2948 - accuracy: 0.3722 - val_loss: 1.2912 - val_accuracy: 0.3748\n",
      "Epoch 60/100\n",
      "3/3 [==============================] - 40s 13s/step - loss: 1.2936 - accuracy: 0.3743 - val_loss: 1.3029 - val_accuracy: 0.3695\n",
      "Epoch 61/100\n",
      "3/3 [==============================] - 40s 13s/step - loss: 1.3055 - accuracy: 0.3683 - val_loss: 1.2952 - val_accuracy: 0.3689\n",
      "Epoch 62/100\n",
      "3/3 [==============================] - 40s 13s/step - loss: 1.2937 - accuracy: 0.3686 - val_loss: 1.2869 - val_accuracy: 0.3751\n",
      "Epoch 63/100\n",
      "3/3 [==============================] - 40s 13s/step - loss: 1.2875 - accuracy: 0.3776 - val_loss: 1.2984 - val_accuracy: 0.3684\n",
      "Epoch 64/100\n",
      "3/3 [==============================] - 43s 15s/step - loss: 1.2950 - accuracy: 0.3720 - val_loss: 1.2815 - val_accuracy: 0.3798\n",
      "Epoch 65/100\n",
      "3/3 [==============================] - 41s 14s/step - loss: 1.2839 - accuracy: 0.3800 - val_loss: 1.2848 - val_accuracy: 0.3831\n",
      "Epoch 66/100\n",
      "3/3 [==============================] - 41s 13s/step - loss: 1.2881 - accuracy: 0.3790 - val_loss: 1.2817 - val_accuracy: 0.3792\n",
      "Epoch 67/100\n",
      "3/3 [==============================] - 41s 14s/step - loss: 1.2814 - accuracy: 0.3802 - val_loss: 1.2976 - val_accuracy: 0.3639\n",
      "Epoch 68/100\n",
      "3/3 [==============================] - 55s 19s/step - loss: 1.2943 - accuracy: 0.3683 - val_loss: 1.2809 - val_accuracy: 0.3876\n",
      "Epoch 69/100\n",
      "3/3 [==============================] - 45s 15s/step - loss: 1.2845 - accuracy: 0.3840 - val_loss: 1.2820 - val_accuracy: 0.3810\n",
      "Epoch 70/100\n",
      "3/3 [==============================] - 47s 16s/step - loss: 1.2801 - accuracy: 0.3831 - val_loss: 1.2846 - val_accuracy: 0.3779\n",
      "Epoch 71/100\n",
      "3/3 [==============================] - 54s 19s/step - loss: 1.2818 - accuracy: 0.3830 - val_loss: 1.2858 - val_accuracy: 0.3833\n",
      "Epoch 72/100\n",
      "3/3 [==============================] - 54s 15s/step - loss: 1.2876 - accuracy: 0.3812 - val_loss: 1.2765 - val_accuracy: 0.3819\n",
      "Epoch 73/100\n",
      "3/3 [==============================] - 61s 21s/step - loss: 1.2766 - accuracy: 0.3853 - val_loss: 1.2805 - val_accuracy: 0.3818\n",
      "Epoch 74/100\n",
      "3/3 [==============================] - 55s 17s/step - loss: 1.2796 - accuracy: 0.3841 - val_loss: 1.2860 - val_accuracy: 0.3719\n",
      "Epoch 75/100\n",
      "3/3 [==============================] - 46s 15s/step - loss: 1.2807 - accuracy: 0.3796 - val_loss: 1.2759 - val_accuracy: 0.3801\n",
      "Epoch 76/100\n",
      "3/3 [==============================] - 46s 15s/step - loss: 1.2758 - accuracy: 0.3857 - val_loss: 1.2792 - val_accuracy: 0.3825\n",
      "Epoch 77/100\n",
      "3/3 [==============================] - 50s 14s/step - loss: 1.2755 - accuracy: 0.3874 - val_loss: 1.2755 - val_accuracy: 0.3963\n",
      "Epoch 78/100\n",
      "3/3 [==============================] - 41s 13s/step - loss: 1.2735 - accuracy: 0.3949 - val_loss: 1.2689 - val_accuracy: 0.3984\n",
      "Epoch 79/100\n",
      "3/3 [==============================] - 39s 13s/step - loss: 1.2698 - accuracy: 0.3988 - val_loss: 1.2660 - val_accuracy: 0.4020\n",
      "Epoch 80/100\n",
      "3/3 [==============================] - 43s 14s/step - loss: 1.2672 - accuracy: 0.3980 - val_loss: 1.2625 - val_accuracy: 0.3921\n",
      "Epoch 81/100\n",
      "3/3 [==============================] - 42s 14s/step - loss: 1.2698 - accuracy: 0.3870 - val_loss: 1.2608 - val_accuracy: 0.4044\n",
      "Epoch 82/100\n",
      "3/3 [==============================] - 40s 13s/step - loss: 1.2618 - accuracy: 0.4027 - val_loss: 1.2636 - val_accuracy: 0.4015\n",
      "Epoch 83/100\n",
      "3/3 [==============================] - 42s 14s/step - loss: 1.2610 - accuracy: 0.4004 - val_loss: 1.2731 - val_accuracy: 0.3800\n",
      "Epoch 84/100\n",
      "3/3 [==============================] - 43s 14s/step - loss: 1.2687 - accuracy: 0.3880 - val_loss: 1.2417 - val_accuracy: 0.4231\n",
      "Epoch 85/100\n",
      "3/3 [==============================] - 39s 13s/step - loss: 1.2537 - accuracy: 0.4113 - val_loss: 1.2489 - val_accuracy: 0.4084\n",
      "Epoch 86/100\n",
      "3/3 [==============================] - 40s 13s/step - loss: 1.2495 - accuracy: 0.4087 - val_loss: 1.2634 - val_accuracy: 0.3932\n",
      "Epoch 87/100\n",
      "3/3 [==============================] - 43s 15s/step - loss: 1.2623 - accuracy: 0.3972 - val_loss: 1.2502 - val_accuracy: 0.4074\n",
      "Epoch 88/100\n",
      "3/3 [==============================] - 48s 15s/step - loss: 1.2503 - accuracy: 0.4094 - val_loss: 1.2431 - val_accuracy: 0.4099\n",
      "Epoch 89/100\n",
      "3/3 [==============================] - 54s 16s/step - loss: 1.2479 - accuracy: 0.4100 - val_loss: 1.2704 - val_accuracy: 0.3915\n",
      "Epoch 90/100\n",
      "3/3 [==============================] - 51s 16s/step - loss: 1.2618 - accuracy: 0.3984 - val_loss: 1.2418 - val_accuracy: 0.4144\n",
      "Epoch 91/100\n",
      "3/3 [==============================] - 62s 23s/step - loss: 1.2463 - accuracy: 0.4114 - val_loss: 1.2400 - val_accuracy: 0.4242\n",
      "Epoch 92/100\n",
      "3/3 [==============================] - 80s 25s/step - loss: 1.2400 - accuracy: 0.4208 - val_loss: 1.2309 - val_accuracy: 0.4273\n",
      "Epoch 93/100\n",
      "3/3 [==============================] - 79s 24s/step - loss: 1.2372 - accuracy: 0.4195 - val_loss: 1.2495 - val_accuracy: 0.4093\n",
      "Epoch 94/100\n",
      "3/3 [==============================] - 81s 27s/step - loss: 1.2469 - accuracy: 0.4138 - val_loss: 1.2295 - val_accuracy: 0.4230\n",
      "Epoch 95/100\n",
      "3/3 [==============================] - 70s 22s/step - loss: 1.2360 - accuracy: 0.4237 - val_loss: 1.2219 - val_accuracy: 0.4370\n",
      "Epoch 96/100\n",
      "3/3 [==============================] - 56s 15s/step - loss: 1.2285 - accuracy: 0.4316 - val_loss: 1.2289 - val_accuracy: 0.4305\n",
      "Epoch 97/100\n",
      "3/3 [==============================] - 43s 14s/step - loss: 1.2323 - accuracy: 0.4241 - val_loss: 1.2271 - val_accuracy: 0.4273\n",
      "Epoch 98/100\n",
      "3/3 [==============================] - 46s 15s/step - loss: 1.2224 - accuracy: 0.4325 - val_loss: 1.2197 - val_accuracy: 0.4402\n",
      "Epoch 99/100\n",
      "3/3 [==============================] - 49s 17s/step - loss: 1.2196 - accuracy: 0.4377 - val_loss: 1.2310 - val_accuracy: 0.4234\n",
      "Epoch 100/100\n",
      "3/3 [==============================] - 52s 17s/step - loss: 1.2211 - accuracy: 0.4343 - val_loss: 1.2601 - val_accuracy: 0.4039\n"
     ]
    }
   ],
   "source": [
    "model.compile(\n",
    "    optimizer = \"rmsprop\", loss = \"categorical_crossentropy\", metrics = [\"accuracy\"]\n",
    ")\n",
    "\n",
    "es = EarlyStopping(monitor='val_loss', min_delta = 0, patience = 10, verbose = 1, restore_best_weights = True)\n",
    "\n",
    "log = model.fit(\n",
    "    [ encoder_input_data, decoder_input_data ],\n",
    "    decoder_target_data,\n",
    "    batch_size = batch_size,\n",
    "    epochs = epochs,\n",
    "    callbacks = [ es ],\n",
    "    validation_split = 0.2,\n",
    ")"
   ]
  },
  {
   "cell_type": "code",
   "execution_count": 44,
   "metadata": {
    "ExecuteTime": {
     "end_time": "2021-04-25T14:43:14.871141Z",
     "start_time": "2021-04-25T14:43:08.655581Z"
    }
   },
   "outputs": [
    {
     "name": "stderr",
     "output_type": "stream",
     "text": [
      "WARNING:absl:Found untraced functions such as lstm_cell_2_layer_call_fn, lstm_cell_2_layer_call_and_return_conditional_losses, lstm_cell_3_layer_call_fn, lstm_cell_3_layer_call_and_return_conditional_losses, lstm_cell_2_layer_call_fn while saving (showing 5 of 10). These functions will not be directly callable after loading.\n",
      "WARNING:absl:Found untraced functions such as lstm_cell_2_layer_call_fn, lstm_cell_2_layer_call_and_return_conditional_losses, lstm_cell_3_layer_call_fn, lstm_cell_3_layer_call_and_return_conditional_losses, lstm_cell_2_layer_call_fn while saving (showing 5 of 10). These functions will not be directly callable after loading.\n"
     ]
    },
    {
     "name": "stdout",
     "output_type": "stream",
     "text": [
      "INFO:tensorflow:Assets written to: data/ncbi/raxml/assets\n"
     ]
    },
    {
     "name": "stderr",
     "output_type": "stream",
     "text": [
      "INFO:tensorflow:Assets written to: data/ncbi/raxml/assets\n"
     ]
    }
   ],
   "source": [
    "import matplotlib.pyplot as plt\n",
    "\n",
    "%matplotlib inline\n",
    "plt.rcParams['figure.figsize'] = (16, 8)\n",
    "\n",
    "# Save model\n",
    "model.save(\"data/ncbi/raxml\")"
   ]
  },
  {
   "cell_type": "code",
   "execution_count": 46,
   "metadata": {
    "ExecuteTime": {
     "end_time": "2021-04-25T14:44:02.441854Z",
     "start_time": "2021-04-25T14:44:02.061450Z"
    }
   },
   "outputs": [
    {
     "data": {
      "image/png": "[encoded data removed]",
      "text/plain": [
       "<Figure size 1152x576 with 1 Axes>"
      ]
     },
     "metadata": {
      "needs_background": "light"
     },
     "output_type": "display_data"
    },
    {
     "data": {
      "image/png": "[encoded data removed]",
      "text/plain": [
       "<Figure size 1152x576 with 2 Axes>"
      ]
     },
     "metadata": {
      "needs_background": "light"
     },
     "output_type": "display_data"
    }
   ],
   "source": [
    "plt.plot(log.history['accuracy'], label = 'mokymo')\n",
    "plt.plot(log.history['val_accuracy'], label = 'validavimo')\n",
    "plt.ylabel('tikslumas')\n",
    "plt.xlabel('epocha')\n",
    "plt.legend(loc='right') #['mokymo', 'testavimo'])\n",
    "plt.show()\n",
    "ax2 = plt.twinx()\n",
    "ax2.plot(log.history['loss'], '--', label = 'mokymo')\n",
    "ax2.plot(log.history['val_loss'], '--', label = 'validavimo')\n",
    "ax2.set_ylabel('netektis')\n",
    "#plt.title('model accuracy')\n",
    "plt.show()"
   ]
  },
  {
   "cell_type": "markdown",
   "metadata": {},
   "source": [
    "## Inference"
   ]
  },
  {
   "cell_type": "code",
   "execution_count": 47,
   "metadata": {
    "ExecuteTime": {
     "end_time": "2021-04-25T14:45:14.366061Z",
     "start_time": "2021-04-25T14:45:11.329936Z"
    }
   },
   "outputs": [],
   "source": [
    "# Define sampling models\n",
    "# Restore the model and construct the encoder and decoder.\n",
    "model = keras.models.load_model(\"data/ncbi/raxml\")"
   ]
  },
  {
   "cell_type": "code",
   "execution_count": 49,
   "metadata": {
    "ExecuteTime": {
     "end_time": "2021-04-25T15:02:43.649357Z",
     "start_time": "2021-04-25T15:02:43.453271Z"
    }
   },
   "outputs": [],
   "source": [
    "encoder_inputs = model.input[0]  # input_1\n",
    "encoder_outputs, state_h_enc, state_c_enc = model.layers[2].output  # lstm_1\n",
    "encoder_states = [state_h_enc, state_c_enc]\n",
    "encoder_model = keras.Model(encoder_inputs, encoder_states)\n",
    "\n",
    "decoder_inputs = model.input[1]  # input_2\n",
    "decoder_state_input_h = keras.Input(shape=(latent_dim,))\n",
    "decoder_state_input_c = keras.Input(shape=(latent_dim,))\n",
    "decoder_states_inputs = [decoder_state_input_h, decoder_state_input_c]\n",
    "decoder_lstm = model.layers[3]\n",
    "decoder_outputs, state_h_dec, state_c_dec = decoder_lstm(\n",
    "    decoder_inputs, initial_state=decoder_states_inputs\n",
    ")\n",
    "decoder_states = [state_h_dec, state_c_dec]\n",
    "decoder_dense = model.layers[4]\n",
    "decoder_outputs = decoder_dense(decoder_outputs)\n",
    "decoder_model = keras.Model(\n",
    "    [decoder_inputs] + decoder_states_inputs, [decoder_outputs] + decoder_states\n",
    ")\n",
    "\n",
    "# Reverse-lookup token index to decode sequences back to\n",
    "# something readable.\n",
    "reverse_input_char_index = dict((i, char) for char, i in input_token_index.items())\n",
    "reverse_target_char_index = dict((i, char) for char, i in target_token_index.items())"
   ]
  },
  {
   "cell_type": "code",
   "execution_count": 50,
   "metadata": {
    "ExecuteTime": {
     "end_time": "2021-04-25T15:02:46.122326Z",
     "start_time": "2021-04-25T15:02:46.110383Z"
    }
   },
   "outputs": [],
   "source": [
    "def decode_sequence(input_seq):\n",
    "    # Encode the input as state vectors.\n",
    "    states_value = encoder_model.predict(input_seq)\n",
    "\n",
    "    # Generate empty target sequence of length 1.\n",
    "    target_seq = np.zeros((1, 1, num_decoder_tokens))\n",
    "    # Populate the first character of target sequence with the start character.\n",
    "    target_seq[0, 0, target_token_index[\"\\t\"]] = 1.0\n",
    "\n",
    "    # Sampling loop for a batch of sequences\n",
    "    # (to simplify, here we assume a batch of size 1).\n",
    "    stop_condition = False\n",
    "    decoded_sentence = \"\"\n",
    "    while not stop_condition:\n",
    "        output_tokens, h, c = decoder_model.predict([target_seq] + states_value)\n",
    "\n",
    "        # Sample a token\n",
    "        sampled_token_index = np.argmax(output_tokens[0, -1, :])\n",
    "        sampled_char = reverse_target_char_index[sampled_token_index]\n",
    "        decoded_sentence += sampled_char\n",
    "\n",
    "        # Exit condition: either hit max length\n",
    "        # or find stop character.\n",
    "        if sampled_char == \"\\n\" or len(decoded_sentence) > max_decoder_seq_length:\n",
    "            stop_condition = True\n",
    "\n",
    "        # Update the target sequence (of length 1).\n",
    "        target_seq = np.zeros((1, 1, num_decoder_tokens))\n",
    "        target_seq[0, 0, sampled_token_index] = 1.0\n",
    "\n",
    "        # Update states\n",
    "        states_value = [h, c]\n",
    "    return decoded_sentence"
   ]
  },
  {
   "cell_type": "code",
   "execution_count": 52,
   "metadata": {
    "ExecuteTime": {
     "end_time": "2021-04-25T15:02:56.164836Z",
     "start_time": "2021-04-25T15:02:56.159767Z"
    }
   },
   "outputs": [],
   "source": [
    "# for seq_index in range(20):\n",
    "#     # Take one sequence (part of the training set)\n",
    "#     # for trying out decoding.\n",
    "#     input_seq = encoder_input_data[seq_index : seq_index + 1]\n",
    "#     decoded_sentence = decode_sequence(input_seq)\n",
    "#     print(\"-\")\n",
    "#     print(\"Input sentence:\", input_texts[seq_index])\n",
    "#     print(\"Decoded sentence:\", decoded_sentence)"
   ]
  },
  {
   "cell_type": "code",
   "execution_count": null,
   "metadata": {},
   "outputs": [],
   "source": []
  }
 ],
 "metadata": {
  "kernelspec": {
   "display_name": "Python 3",
   "language": "python",
   "name": "python3"
  },
  "language_info": {
   "codemirror_mode": {
    "name": "ipython",
    "version": 3
   },
   "file_extension": ".py",
   "mimetype": "text/x-python",
   "name": "python",
   "nbconvert_exporter": "python",
   "pygments_lexer": "ipython3",
   "version": "3.8.5"
  },
  "varInspector": {
   "cols": {
    "lenName": 16,
    "lenType": 16,
    "lenVar": 40
   },
   "kernels_config": {
    "python": {
     "delete_cmd_postfix": "",
     "delete_cmd_prefix": "del ",
     "library": "var_list.py",
     "varRefreshCmd": "print(var_dic_list())"
    },
    "r": {
     "delete_cmd_postfix": ") ",
     "delete_cmd_prefix": "rm(",
     "library": "var_list.r",
     "varRefreshCmd": "cat(var_dic_list()) "
    }
   },
   "types_to_exclude": [
    "module",
    "function",
    "builtin_function_or_method",
    "instance",
    "_Feature"
   ],
   "window_display": false
  }
 },
 "nbformat": 4,
 "nbformat_minor": 2
}
