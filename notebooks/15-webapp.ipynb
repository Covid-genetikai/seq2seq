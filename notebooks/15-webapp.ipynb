{
 "cells": [
  {
   "cell_type": "markdown",
   "id": "75ef07c2",
   "metadata": {},
   "source": [
    "## SARS-CoV-2 Genome Mutator"
   ]
  },
  {
   "cell_type": "code",
   "execution_count": 5,
   "id": "dba15f33",
   "metadata": {},
   "outputs": [],
   "source": [
    "import io\n",
    "import os\n",
    "import sys\n",
    "import pandas as pd\n",
    "import numpy as np\n",
    "\n",
    "from webapp import *\n",
    "from webapp1 import mut_generate, translate\n",
    "\n",
    "from Levenshtein import distance, ratio, hamming\n",
    "import ipywidgets as widgets\n",
    "from IPython.display import Javascript, display\n",
    "\n",
    "import matplotlib.pyplot as plt\n",
    "\n",
    "%matplotlib inline\n",
    "plt.rcParams['figure.figsize'] = (16, 8)"
   ]
  },
  {
   "cell_type": "code",
   "execution_count": 6,
   "id": "2e116f21",
   "metadata": {},
   "outputs": [],
   "source": [
    "MODEL_PATH = \"data/ncbi_03/model_gru_32_41\"\n",
    "model = keras.models.load_model(MODEL_PATH)"
   ]
  },
  {
   "cell_type": "code",
   "execution_count": 7,
   "id": "7e6a0589",
   "metadata": {},
   "outputs": [],
   "source": [
    "def run_next_cell(ev=None):\n",
    "    display(Javascript('IPython.notebook.execute_cell_range(IPython.notebook.get_selected_index()+1, IPython.notebook.get_selected_index()+2)'))"
   ]
  },
  {
   "cell_type": "code",
   "execution_count": 8,
   "id": "3e0a5db0",
   "metadata": {},
   "outputs": [
    {
     "data": {
      "application/vnd.jupyter.widget-view+json": {
       "model_id": "8fab19f0da4b47858bded5c8a925b22a",
       "version_major": 2,
       "version_minor": 0
      },
      "text/plain": [
       "FileUpload(value={}, accept='.txt', description='Upload')"
      ]
     },
     "metadata": {},
     "output_type": "display_data"
    }
   ],
   "source": [
    "file_upload = widgets.FileUpload(accept='.txt', multiple=False, )\n",
    "display(file_upload)\n",
    "\n",
    "def on_upload(change):\n",
    "    run_next_cell()\n",
    "\n",
    "file_upload.observe(on_upload, names='_counter')"
   ]
  },
  {
   "cell_type": "code",
   "execution_count": 9,
   "id": "a5e30ae2",
   "metadata": {},
   "outputs": [
    {
     "data": {
      "application/javascript": [
       "IPython.notebook.execute_cell_range(IPython.notebook.get_selected_index()+1, IPython.notebook.get_selected_index()+2)"
      ],
      "text/plain": [
       "<IPython.core.display.Javascript object>"
      ]
     },
     "metadata": {},
     "output_type": "display_data"
    }
   ],
   "source": [
    "if len(file_upload.value) > 0:\n",
    "    file = list(file_upload.value.values())[0]\n",
    "    data = pd.read_csv(io.BytesIO(file['content']), names=['seq'])\n",
    "    data['seq_len'] = data.seq.str.len()\n",
    "else:\n",
    "    data = None\n",
    "run_next_cell()\n",
    "data"
   ]
  },
  {
   "cell_type": "code",
   "execution_count": 12,
   "id": "81ab46cc",
   "metadata": {},
   "outputs": [
    {
     "data": {
      "application/vnd.jupyter.widget-view+json": {
       "model_id": "c3538fb029ee4678b7d7c5d8cf50c329",
       "version_major": 2,
       "version_minor": 0
      },
      "text/plain": [
       "HBox(children=(IntSlider(value=1, description='Generations', layout=Layout(width='600px'), max=1000, min=1), B…"
      ]
     },
     "metadata": {},
     "output_type": "display_data"
    }
   ],
   "source": [
    "if data is not None:\n",
    "\n",
    "    btn_mutate = widgets.Button(description='Mutate', icon='check')\n",
    "    gen_slider = widgets.IntSlider(value=1, min=1, max=1000, step=1, \n",
    "                                   description='Generations', \n",
    "                                   layout=widgets.Layout(width='600px'))\n",
    "\n",
    "    layout = widgets.HBox([\n",
    "        gen_slider,\n",
    "        btn_mutate\n",
    "    ])\n",
    "    display(layout)\n",
    "\n",
    "    def on_mutate(change):\n",
    "        run_next_cell()\n",
    "\n",
    "    btn_mutate.on_click(on_mutate)"
   ]
  },
  {
   "cell_type": "code",
   "execution_count": 10,
   "id": "252fa763",
   "metadata": {},
   "outputs": [
    {
     "ename": "IndentationError",
     "evalue": "expected an indented block (3140018188.py, line 32)",
     "output_type": "error",
     "traceback": [
      "\u001b[0;36m  Input \u001b[0;32mIn [10]\u001b[0;36m\u001b[0m\n\u001b[0;31m    run_next_cell()\u001b[0m\n\u001b[0m    ^\u001b[0m\n\u001b[0;31mIndentationError\u001b[0m\u001b[0;31m:\u001b[0m expected an indented block\n"
     ]
    }
   ],
   "source": [
    "if data is not None:\n",
    "\n",
    "    gen_label = widgets.Label(value='0/0')\n",
    "    gen_progress = widgets.IntProgress(min=1, max=SEQ_LEN)\n",
    "\n",
    "    layout = widgets.HBox([ \n",
    "        gen_progress, \n",
    "        gen_label \n",
    "    ])\n",
    "    display(layout)\n",
    "\n",
    "    if 'mut' in data.columns:\n",
    "        mut_vector = data.mut\n",
    "    else:\n",
    "        mut_vector = data.seq\n",
    "        \n",
    "    seq_vector = encode_seq(mut_vector)\n",
    "\n",
    "    if 'gen' in data.columns:\n",
    "        gen_vector = data.gen\n",
    "    else:\n",
    "        gen_vector = np.zeros((len(seq_vector)), dtype=int)\n",
    "        \n",
    "    for i in range(gen_slider.value):\n",
    "\n",
    "        gen_label.value = f'{i + 1}/{gen_slider.value}'\n",
    "        seq_vector = mut_generate(a=seq_vector)\n",
    "        \n",
    "        for i in range(len(seq_vector)):\n",
    "            \n",
    "\n",
    "    run_next_cell()"
   ]
  },
  {
   "cell_type": "code",
   "execution_count": 8,
   "id": "b7d261c3",
   "metadata": {},
   "outputs": [],
   "source": [
    "if data is not None:\n",
    "\n",
    "    data['mut'] = decode_seq(seq_vector)\n",
    "    data['mut_len'] = data.mut.str.len()\n",
    "\n",
    "    data['lev_distance'] = [ distance(x,y) for x,y in zip(data.seq, data.mut) ]\n",
    "    data['lev_ratio'] = [ ratio(x,y) for x,y in zip(data.seq, data.mut) ]\n",
    "    data['hamming'] = [ hamming(x,y) for x,y in zip(data.seq, data.mut) ]\n",
    "\n",
    "    run_next_cell()\n",
    "    \n",
    "data"
   ]
  },
  {
   "cell_type": "code",
   "execution_count": 9,
   "id": "9ebe2915",
   "metadata": {},
   "outputs": [],
   "source": [
    "if data is not None:\n",
    "    freq = None\n",
    "    for i in range(len(data)):\n",
    "        d = np.where(~(np.array(list(data.seq[i])) == np.array(list(data.mut[i]))))[0]\n",
    "        freq = d if freq is None else np.append(freq, d)\n",
    "\n",
    "    plt.hist(freq, bins=250)\n",
    "    plt.show()"
   ]
  },
  {
   "cell_type": "code",
   "execution_count": null,
   "id": "ec7af820",
   "metadata": {},
   "outputs": [],
   "source": []
  }
 ],
 "metadata": {
  "hide_input": false,
  "kernelspec": {
   "display_name": "seq2seq",
   "language": "python",
   "name": "seq2seq"
  },
  "language_info": {
   "codemirror_mode": {
    "name": "ipython",
    "version": 3
   },
   "file_extension": ".py",
   "mimetype": "text/x-python",
   "name": "python",
   "nbconvert_exporter": "python",
   "pygments_lexer": "ipython3",
   "version": "3.8.10"
  },
  "varInspector": {
   "cols": {
    "lenName": 16,
    "lenType": 16,
    "lenVar": 40
   },
   "kernels_config": {
    "python": {
     "delete_cmd_postfix": "",
     "delete_cmd_prefix": "del ",
     "library": "var_list.py",
     "varRefreshCmd": "print(var_dic_list())"
    },
    "r": {
     "delete_cmd_postfix": ") ",
     "delete_cmd_prefix": "rm(",
     "library": "var_list.r",
     "varRefreshCmd": "cat(var_dic_list()) "
    }
   },
   "types_to_exclude": [
    "module",
    "function",
    "builtin_function_or_method",
    "instance",
    "_Feature"
   ],
   "window_display": false
  }
 },
 "nbformat": 4,
 "nbformat_minor": 5
}
