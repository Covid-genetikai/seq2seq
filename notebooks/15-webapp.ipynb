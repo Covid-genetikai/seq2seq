{
 "cells": [
  {
   "cell_type": "markdown",
   "id": "75ef07c2",
   "metadata": {},
   "source": [
    "## SARS-CoV-2 Genome Mutator"
   ]
  },
  {
   "cell_type": "code",
   "execution_count": 1,
   "id": "dba15f33",
   "metadata": {},
   "outputs": [],
   "source": [
    "import io\n",
    "import os\n",
    "import sys\n",
    "import pandas as pd\n",
    "import numpy as np\n",
    "import tqdm.notebook as tqdm\n",
    "import base64\n",
    "\n",
    "from webapp import *\n",
    "from webapp1 import mut_generate, translate\n",
    "\n",
    "from Levenshtein import distance, ratio, hamming\n",
    "import ipywidgets as widgets\n",
    "from IPython.display import Javascript, display\n",
    "from ipywidgets import HTML\n",
    "\n",
    "import matplotlib.pyplot as plt\n",
    "\n",
    "%matplotlib inline\n",
    "plt.rcParams['figure.figsize'] = (16, 8)"
   ]
  },
  {
   "cell_type": "code",
   "execution_count": 2,
   "id": "2e116f21",
   "metadata": {},
   "outputs": [],
   "source": [
    "MODEL_PATH = \"data/ncbi_03/model_gru_32_41\"\n",
    "model = keras.models.load_model(MODEL_PATH)"
   ]
  },
  {
   "cell_type": "code",
   "execution_count": 3,
   "id": "7e6a0589",
   "metadata": {},
   "outputs": [],
   "source": [
    "def run_next_cell(ev=None):\n",
    "    display(Javascript('IPython.notebook.execute_cell_range(IPython.notebook.get_selected_index()+1, IPython.notebook.get_selected_index()+2)'))"
   ]
  },
  {
   "cell_type": "code",
   "execution_count": 4,
   "id": "3e0a5db0",
   "metadata": {},
   "outputs": [
    {
     "data": {
      "application/vnd.jupyter.widget-view+json": {
       "model_id": "32aaeb7245a848ba9a7e0425bdbd1046",
       "version_major": 2,
       "version_minor": 0
      },
      "text/plain": [
       "FileUpload(value={}, accept='.txt', description='Upload')"
      ]
     },
     "metadata": {},
     "output_type": "display_data"
    },
    {
     "data": {
      "application/javascript": [
       "IPython.notebook.execute_cell_range(IPython.notebook.get_selected_index()+1, IPython.notebook.get_selected_index()+2)"
      ],
      "text/plain": [
       "<IPython.core.display.Javascript object>"
      ]
     },
     "metadata": {},
     "output_type": "display_data"
    }
   ],
   "source": [
    "file_upload = widgets.FileUpload(accept='.txt', multiple=False, )\n",
    "display(file_upload)\n",
    "\n",
    "def on_upload(change):\n",
    "    run_next_cell()\n",
    "\n",
    "file_upload.observe(on_upload, names='_counter')"
   ]
  },
  {
   "cell_type": "code",
   "execution_count": 12,
   "id": "a5e30ae2",
   "metadata": {},
   "outputs": [
    {
     "data": {
      "application/javascript": [
       "IPython.notebook.execute_cell_range(IPython.notebook.get_selected_index()+1, IPython.notebook.get_selected_index()+2)"
      ],
      "text/plain": [
       "<IPython.core.display.Javascript object>"
      ]
     },
     "metadata": {},
     "output_type": "display_data"
    },
    {
     "data": {
      "text/html": [
       "<div>\n",
       "<style scoped>\n",
       "    .dataframe tbody tr th:only-of-type {\n",
       "        vertical-align: middle;\n",
       "    }\n",
       "\n",
       "    .dataframe tbody tr th {\n",
       "        vertical-align: top;\n",
       "    }\n",
       "\n",
       "    .dataframe thead th {\n",
       "        text-align: right;\n",
       "    }\n",
       "</style>\n",
       "<table border=\"1\" class=\"dataframe\">\n",
       "  <thead>\n",
       "    <tr style=\"text-align: right;\">\n",
       "      <th></th>\n",
       "      <th>seq</th>\n",
       "      <th>seq_len</th>\n",
       "    </tr>\n",
       "  </thead>\n",
       "  <tbody>\n",
       "    <tr>\n",
       "      <th>0</th>\n",
       "      <td>ATGTTTGTTTTTCTTGTTTTATTGCCACTAGTCTCTAGTCAGTGTG...</td>\n",
       "      <td>3813</td>\n",
       "    </tr>\n",
       "    <tr>\n",
       "      <th>1</th>\n",
       "      <td>ATGTTTGTTTTTCTTGTTTTATTGCCACTAGTCTCTAGTCAGTGTG...</td>\n",
       "      <td>3813</td>\n",
       "    </tr>\n",
       "    <tr>\n",
       "      <th>2</th>\n",
       "      <td>ATGTTTGTTTTTCTTGTTTTATTGCCACTAGTCTCTAGTCAGTGTG...</td>\n",
       "      <td>3813</td>\n",
       "    </tr>\n",
       "    <tr>\n",
       "      <th>3</th>\n",
       "      <td>ATGTTTGTTTTTCTTGTTTTATTGCCACTAGTCTCTAGTCAGTGTG...</td>\n",
       "      <td>3813</td>\n",
       "    </tr>\n",
       "  </tbody>\n",
       "</table>\n",
       "</div>"
      ],
      "text/plain": [
       "                                                 seq  seq_len\n",
       "0  ATGTTTGTTTTTCTTGTTTTATTGCCACTAGTCTCTAGTCAGTGTG...     3813\n",
       "1  ATGTTTGTTTTTCTTGTTTTATTGCCACTAGTCTCTAGTCAGTGTG...     3813\n",
       "2  ATGTTTGTTTTTCTTGTTTTATTGCCACTAGTCTCTAGTCAGTGTG...     3813\n",
       "3  ATGTTTGTTTTTCTTGTTTTATTGCCACTAGTCTCTAGTCAGTGTG...     3813"
      ]
     },
     "execution_count": 12,
     "metadata": {},
     "output_type": "execute_result"
    }
   ],
   "source": [
    "if len(file_upload.value) > 0:\n",
    "    file = list(file_upload.value.values())[0]\n",
    "    data = pd.read_csv(io.BytesIO(file['content']), names=['seq'])\n",
    "    data['seq_len'] = data.seq.str.len()\n",
    "else:\n",
    "    data = None\n",
    "run_next_cell()\n",
    "data"
   ]
  },
  {
   "cell_type": "code",
   "execution_count": 13,
   "id": "81ab46cc",
   "metadata": {},
   "outputs": [
    {
     "data": {
      "application/vnd.jupyter.widget-view+json": {
       "model_id": "37888f66fec044a7976f3286c1620706",
       "version_major": 2,
       "version_minor": 0
      },
      "text/plain": [
       "VBox(children=(BoundedIntText(value=1, description='Generations', max=10000, min=1), BoundedIntText(value=1, d…"
      ]
     },
     "metadata": {},
     "output_type": "display_data"
    },
    {
     "data": {
      "application/javascript": [
       "IPython.notebook.execute_cell_range(IPython.notebook.get_selected_index()+1, IPython.notebook.get_selected_index()+2)"
      ],
      "text/plain": [
       "<IPython.core.display.Javascript object>"
      ]
     },
     "metadata": {},
     "output_type": "display_data"
    },
    {
     "data": {
      "application/javascript": [
       "IPython.notebook.execute_cell_range(IPython.notebook.get_selected_index()+1, IPython.notebook.get_selected_index()+2)"
      ],
      "text/plain": [
       "<IPython.core.display.Javascript object>"
      ]
     },
     "metadata": {},
     "output_type": "display_data"
    },
    {
     "data": {
      "application/javascript": [
       "IPython.notebook.execute_cell_range(IPython.notebook.get_selected_index()+1, IPython.notebook.get_selected_index()+2)"
      ],
      "text/plain": [
       "<IPython.core.display.Javascript object>"
      ]
     },
     "metadata": {},
     "output_type": "display_data"
    }
   ],
   "source": [
    "generations_value = 1\n",
    "siblings_value = 1\n",
    "epsilon_value = 0.1645178355510165\n",
    "\n",
    "if data is not None:\n",
    "\n",
    "    generations = widgets.BoundedIntText(\n",
    "        value=generations_value, min=1, max=10000, step=1, \n",
    "        description='Generations', disabled=False\n",
    "    )\n",
    "    siblings = widgets.BoundedIntText(\n",
    "        value=siblings_value, min=1, max=100, step=1, \n",
    "        description='Siblings', disabled=False\n",
    "    )\n",
    "    epsilon = widgets.BoundedFloatText(\n",
    "        value=epsilon_value, min=0., max=100., step=0.01, \n",
    "        description=r'\\(\\epsilon\\)', disabled=False\n",
    "    )\n",
    "    btn_mutate = widgets.Button(\n",
    "        description='Mutate', icon='check')\n",
    "    btn_reset = widgets.Button(\n",
    "        description='Reset', icon='')\n",
    "\n",
    "    layout = widgets.VBox([\n",
    "        generations,\n",
    "        siblings,\n",
    "        epsilon,\n",
    "        widgets.HBox([ btn_mutate, btn_reset ])\n",
    "    ])\n",
    "    display(layout)\n",
    "\n",
    "    def on_mutate(change):\n",
    "        run_next_cell()\n",
    "        \n",
    "    def on_reset(change):\n",
    "        generations.value = generations_value\n",
    "        siblings.value = siblings_value\n",
    "        epsilon.value = epsilon_value\n",
    "\n",
    "    btn_mutate.on_click(on_mutate)\n",
    "    btn_reset.on_click(on_reset)"
   ]
  },
  {
   "cell_type": "code",
   "execution_count": 24,
   "id": "252fa763",
   "metadata": {},
   "outputs": [
    {
     "data": {
      "application/vnd.jupyter.widget-view+json": {
       "model_id": "0ea63cbdc708407b8dde70f030cf2121",
       "version_major": 2,
       "version_minor": 0
      },
      "text/plain": [
       "HBox(children=(IntProgress(value=0, bar_style='info', description='Mutating 0/15', max=15, style=ProgressStyle…"
      ]
     },
     "metadata": {},
     "output_type": "display_data"
    },
    {
     "data": {
      "application/javascript": [
       "IPython.notebook.execute_cell_range(IPython.notebook.get_selected_index()+1, IPython.notebook.get_selected_index()+2)"
      ],
      "text/plain": [
       "<IPython.core.display.Javascript object>"
      ]
     },
     "metadata": {},
     "output_type": "display_data"
    }
   ],
   "source": [
    "mut_ids = None\n",
    "\n",
    "if data is not None:\n",
    "\n",
    "    steps = generations.value * siblings.value\n",
    "    \n",
    "    progress = widgets.IntProgress(\n",
    "        min=0, max=steps,\n",
    "        description = f'Mutating 0/{steps}',\n",
    "        bar_style='info',\n",
    "        style={'bar_color': 'maroon', 'description_width': 'initial'}\n",
    "    )\n",
    "    \n",
    "    label = widgets.Label(value=\"\")\n",
    "\n",
    "    layout = widgets.HBox([ progress, label ])\n",
    "    display(layout)\n",
    "\n",
    "    mut_ids = data.index.values\n",
    "    mut_ref = np.full_like(mut_ids, -1)\n",
    "    \n",
    "    sib_ref = mut_ids\n",
    "    \n",
    "    inp_vector = encode_seq(data.seq)\n",
    "    mut_data = decode_seq(inp_vector)\n",
    "\n",
    "    for g in range(generations.value):\n",
    "\n",
    "        sib_vector = None\n",
    "        \n",
    "        for s in range(siblings.value):\n",
    "            i = siblings.value * g + s\n",
    "            \n",
    "            v = model.predict([ inp_vector, np.full((len(inp_vector)), epsilon.value)])\n",
    "            if sib_vector is None:\n",
    "                sib_vector = v\n",
    "            else:\n",
    "                sib_vector = np.append(sib_vector, v, axis=0)\n",
    "\n",
    "            progress.description = f'Mutating {i + 1}/{steps}'\n",
    "            progress.value = i + 1\n",
    "\n",
    "        mut_ref = np.append(mut_ref, np.tile(sib_ref, siblings.value))\n",
    "        \n",
    "        next_id = max(mut_ids) + 1\n",
    "        sib_ref = range(next_id, next_id + len(sib_vector))\n",
    "        \n",
    "        mut_ids = np.append(mut_ids, sib_ref)\n",
    "        mut_data = np.append(mut_data, decode_seq(sib_vector))\n",
    "                \n",
    "        inp_vector = sib_vector\n",
    "        label.value = f'#children {len(mut_data) - len(data)}'\n",
    "        \n",
    "    run_next_cell()"
   ]
  },
  {
   "cell_type": "code",
   "execution_count": 25,
   "id": "e3d0ddb3",
   "metadata": {},
   "outputs": [
    {
     "data": {
      "application/javascript": [
       "IPython.notebook.execute_cell_range(IPython.notebook.get_selected_index()+1, IPython.notebook.get_selected_index()+2)"
      ],
      "text/plain": [
       "<IPython.core.display.Javascript object>"
      ]
     },
     "metadata": {},
     "output_type": "display_data"
    }
   ],
   "source": [
    "mutations = None\n",
    "\n",
    "if mut_ids is not None:\n",
    "    \n",
    "    mutations = pd.DataFrame({'id': mut_ids, 'ref': mut_ref, 'seq': mut_data})\n",
    "    mutations = mutations.astype({\"id\": int, \"ref\": int})\n",
    "    mutations.index = mutations.id\n",
    "    mutations = mutations.drop(columns=['id'])\n",
    "    mutations.loc[mutations.ref < 0,'ref'] = None\n",
    "    \n",
    "    run_next_cell()"
   ]
  },
  {
   "cell_type": "code",
   "execution_count": null,
   "id": "b7d261c3",
   "metadata": {},
   "outputs": [
    {
     "data": {
      "application/vnd.jupyter.widget-view+json": {
       "model_id": "c11466c7684c480d87619cbb52c86af2",
       "version_major": 2,
       "version_minor": 0
      },
      "text/plain": [
       "  0%|          | 0/1452 [00:00<?, ?it/s]"
      ]
     },
     "metadata": {},
     "output_type": "display_data"
    }
   ],
   "source": [
    "if mutations is not None:\n",
    "\n",
    "    mutations['ce'] = None\n",
    "    mutations['lev'] = None\n",
    "    mutations['lev_ratio'] = None\n",
    "    mutations['ham'] = None\n",
    "    \n",
    "    for i in tqdm.tqdm(mutations[~pd.isna(mutations.ref)].index):\n",
    "        \n",
    "        p = int(mutations[mutations.index == i].ref.values[0])\n",
    "        x = mutations[mutations.index == i].seq.values[0]\n",
    "        y = mutations[mutations.index == p].seq.values[0]\n",
    "        \n",
    "        mutations.at[i, 'ce'] = keras.losses.CategoricalCrossentropy()(encode_seq([x]), encode_seq([y])).numpy()\n",
    "        mutations.at[i, 'lev'] = distance(x,y)\n",
    "        mutations.at[i, 'lev_ratio'] = ratio(x,y)\n",
    "        mutations.at[i, 'ham'] = hamming(x,y)\n",
    "    \n",
    "    mutations\n",
    "    run_next_cell()"
   ]
  },
  {
   "cell_type": "code",
   "execution_count": 22,
   "id": "35923507",
   "metadata": {},
   "outputs": [
    {
     "data": {
      "image/png": "[encoded data removed]",
      "text/plain": [
       "<Figure size 1152x576 with 4 Axes>"
      ]
     },
     "metadata": {
      "needs_background": "light"
     },
     "output_type": "display_data"
    },
    {
     "data": {
      "application/javascript": [
       "IPython.notebook.execute_cell_range(IPython.notebook.get_selected_index()+1, IPython.notebook.get_selected_index()+2)"
      ],
      "text/plain": [
       "<IPython.core.display.Javascript object>"
      ]
     },
     "metadata": {},
     "output_type": "display_data"
    }
   ],
   "source": [
    "if mutations is not None:\n",
    "\n",
    "    fig, ax = plt.subplots(2, 2)\n",
    "\n",
    "    ax[0,0].hist(mutations[~pd.isna(mutations.ref)].lev, bins=20)\n",
    "    ax[0,0].set_title(\"Levenšteino atstumo histograma\")\n",
    "    ax[0,0].set_ylabel(\"atvejų skaičius\")\n",
    "\n",
    "    ax[0,1].hist(mutations[~pd.isna(mutations.ref)].lev_ratio, bins=20)\n",
    "    ax[0,1].set_title(\"Normalizuota Levenšteino (atstumo panašumo) histograma\")\n",
    "    ax[0,1].set_ylabel(\"atvejų skaičius\")\n",
    "\n",
    "    ax[1,0].hist(mutations[~pd.isna(mutations.ref)].ham, bins=20)\n",
    "    ax[1,0].set_title(\"Hammingo metrikos histograma\")\n",
    "    ax[1,0].set_ylabel(\"atvejų skaičius\")\n",
    "\n",
    "    ax[1,1].hist(mutations[~pd.isna(mutations.ref)].ce, bins=20)\n",
    "    ax[1,1].set_title(\"Kryžminės kategorinės entropijos histograma\")\n",
    "    ax[1,1].set_ylabel(\"atvejų skaičius\")\n",
    "\n",
    "    plt.show()\n",
    "    \n",
    "    run_next_cell()"
   ]
  },
  {
   "cell_type": "code",
   "execution_count": 23,
   "id": "18f04c49",
   "metadata": {},
   "outputs": [
    {
     "data": {
      "application/vnd.jupyter.widget-view+json": {
       "model_id": "45b3187df0a346e8aec2bf737365b6ee",
       "version_major": 2,
       "version_minor": 0
      },
      "text/plain": [
       "HTML(value='<html>\\n    <head>\\n    <meta name=\"viewport\" content=\"width=device-width, initial-scale=1\">\\n    …"
      ]
     },
     "metadata": {},
     "output_type": "display_data"
    }
   ],
   "source": [
    "if mutations is not None:\n",
    "\n",
    "    filename = 'mutations.csv'\n",
    "    b64 = base64.b64encode(mutations.to_csv().encode())\n",
    "    payload = b64.decode()\n",
    "\n",
    "    html_buttons = '''<html>\n",
    "    <head>\n",
    "    <meta name=\"viewport\" content=\"width=device-width, initial-scale=1\">\n",
    "    </head>\n",
    "    <body>\n",
    "    <a download=\"{filename}\" href=\"data:text/csv;base64,{payload}\" download>\n",
    "    <button class=\"p-Widget jupyter-widgets jupyter-button widget-button mod-warning\">Download File</button>\n",
    "    </a>\n",
    "    </body>\n",
    "    </html>\n",
    "    '''\n",
    "\n",
    "    html_button = html_buttons.format(payload=payload,filename=filename)\n",
    "    display(HTML(html_button))"
   ]
  },
  {
   "cell_type": "code",
   "execution_count": null,
   "id": "b6e807dc",
   "metadata": {},
   "outputs": [],
   "source": []
  }
 ],
 "metadata": {
  "hide_input": true,
  "kernelspec": {
   "display_name": "seq2seq",
   "language": "python",
   "name": "seq2seq"
  },
  "language_info": {
   "codemirror_mode": {
    "name": "ipython",
    "version": 3
   },
   "file_extension": ".py",
   "mimetype": "text/x-python",
   "name": "python",
   "nbconvert_exporter": "python",
   "pygments_lexer": "ipython3",
   "version": "3.8.10"
  },
  "varInspector": {
   "cols": {
    "lenName": 16,
    "lenType": 16,
    "lenVar": 40
   },
   "kernels_config": {
    "python": {
     "delete_cmd_postfix": "",
     "delete_cmd_prefix": "del ",
     "library": "var_list.py",
     "varRefreshCmd": "print(var_dic_list())"
    },
    "r": {
     "delete_cmd_postfix": ") ",
     "delete_cmd_prefix": "rm(",
     "library": "var_list.r",
     "varRefreshCmd": "cat(var_dic_list()) "
    }
   },
   "types_to_exclude": [
    "module",
    "function",
    "builtin_function_or_method",
    "instance",
    "_Feature"
   ],
   "window_display": false
  }
 },
 "nbformat": 4,
 "nbformat_minor": 5
}
