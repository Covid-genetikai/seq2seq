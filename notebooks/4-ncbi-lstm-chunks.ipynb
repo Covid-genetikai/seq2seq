{
 "cells": [
  {
   "cell_type": "markdown",
   "metadata": {},
   "source": [
    "## Character-level recurrent sequence-to-sequence model"
   ]
  },
  {
   "cell_type": "markdown",
   "metadata": {},
   "source": [
    "Example from https://keras.io/examples/nlp/lstm_seq2seq/  \n",
    "Older post https://blog.keras.io/a-ten-minute-introduction-to-sequence-to-sequence-learning-in-keras.html"
   ]
  },
  {
   "cell_type": "code",
   "execution_count": 1,
   "metadata": {
    "ExecuteTime": {
     "end_time": "2021-04-25T12:55:38.244466Z",
     "start_time": "2021-04-25T12:55:38.237634Z"
    }
   },
   "outputs": [],
   "source": [
    "import numpy as np\n",
    "import pandas as pd\n",
    "from itertools import chain\n",
    "import tensorflow as tf\n",
    "from tensorflow import keras\n",
    "from tensorflow.keras.callbacks import EarlyStopping\n",
    "#from keras.utils import plot_model"
   ]
  },
  {
   "cell_type": "code",
   "execution_count": 2,
   "metadata": {
    "ExecuteTime": {
     "end_time": "2021-04-25T12:35:23.829688Z",
     "start_time": "2021-04-25T12:35:23.645571Z"
    }
   },
   "outputs": [],
   "source": [
    "pairs = pd.read_csv(\"data/ncbi_02/RAxML/pairs.csv\")\n",
    "sgenes = pd.read_csv(\"data/ncbi_02/ncbi_sgene_good_unique_aligned_cleaned.csv\")"
   ]
  },
  {
   "cell_type": "code",
   "execution_count": 3,
   "metadata": {
    "ExecuteTime": {
     "end_time": "2021-04-25T12:57:25.528455Z",
     "start_time": "2021-04-25T12:57:25.519843Z"
    }
   },
   "outputs": [
    {
     "name": "stdout",
     "output_type": "stream",
     "text": [
      "[name: \"/device:CPU:0\"\n",
      "device_type: \"CPU\"\n",
      "memory_limit: 268435456\n",
      "locality {\n",
      "}\n",
      "incarnation: 8076518382553540246\n",
      "]\n"
     ]
    }
   ],
   "source": [
    "from tensorflow.python.client import device_lib\n",
    "print(device_lib.list_local_devices())"
   ]
  },
  {
   "cell_type": "markdown",
   "metadata": {},
   "source": [
    "## Data prep"
   ]
  },
  {
   "cell_type": "code",
   "execution_count": 28,
   "metadata": {},
   "outputs": [
    {
     "data": {
      "text/plain": [
       "4368"
      ]
     },
     "execution_count": 28,
     "metadata": {},
     "output_type": "execute_result"
    }
   ],
   "source": [
    "len(pairs)"
   ]
  },
  {
   "cell_type": "code",
   "execution_count": 6,
   "metadata": {
    "ExecuteTime": {
     "end_time": "2021-04-25T12:37:29.776084Z",
     "start_time": "2021-04-25T12:37:29.768320Z"
    }
   },
   "outputs": [
    {
     "data": {
      "text/plain": [
       "100"
      ]
     },
     "execution_count": 6,
     "metadata": {},
     "output_type": "execute_result"
    }
   ],
   "source": [
    "num_pairs = 100      # Number of samples to train on.\n",
    "# num_pairs = len(pairs)\n",
    "num_pairs"
   ]
  },
  {
   "cell_type": "code",
   "execution_count": 7,
   "metadata": {
    "ExecuteTime": {
     "end_time": "2021-04-25T12:55:33.473167Z",
     "start_time": "2021-04-25T12:55:33.469618Z"
    }
   },
   "outputs": [],
   "source": [
    "# Vectorize the data.\n",
    "input_texts = []\n",
    "target_texts = []\n",
    "input_characters = set()\n",
    "target_characters = set()"
   ]
  },
  {
   "cell_type": "code",
   "execution_count": 8,
   "metadata": {
    "ExecuteTime": {
     "end_time": "2021-04-25T12:55:39.954535Z",
     "start_time": "2021-04-25T12:55:39.803811Z"
    }
   },
   "outputs": [],
   "source": [
    "for index, pair in pairs.iterrows():\n",
    "    \n",
    "    if index == num_pairs:\n",
    "        break\n",
    "    \n",
    "    parent_sgene = sgenes[sgenes[\"accession\"]==pair[\"parent\"]][\"sgene_nucleotide\"].values[0]\n",
    "    child_sgene = sgenes[sgenes[\"accession\"]==pair[\"child\"]][\"sgene_nucleotide\"].values[0]\n",
    "    \n",
    "    input_texts.append(parent_sgene)\n",
    "    target_texts.append(child_sgene)\n",
    "\n",
    "input_characters = set(chain.from_iterable(input_texts))\n",
    "target_characters = set(chain.from_iterable(target_texts))"
   ]
  },
  {
   "cell_type": "code",
   "execution_count": 9,
   "metadata": {
    "ExecuteTime": {
     "end_time": "2021-04-25T12:56:04.610442Z",
     "start_time": "2021-04-25T12:56:04.598008Z"
    }
   },
   "outputs": [
    {
     "name": "stdout",
     "output_type": "stream",
     "text": [
      "input_texts  100\n",
      "target_texts 100\n",
      "input_characters 4 {'T', 'A', 'G', 'C'}\n",
      "target_characters 4 {'T', 'A', 'G', 'C'}\n"
     ]
    }
   ],
   "source": [
    "print(\"input_texts \", len(input_texts))\n",
    "print(\"target_texts\", len(target_texts))\n",
    "print(\"input_characters\", len(input_characters), input_characters)\n",
    "print(\"target_characters\", len(target_characters), target_characters)"
   ]
  },
  {
   "cell_type": "code",
   "execution_count": 10,
   "metadata": {
    "ExecuteTime": {
     "end_time": "2021-04-25T12:56:14.861645Z",
     "start_time": "2021-04-25T12:56:14.842728Z"
    }
   },
   "outputs": [
    {
     "name": "stdout",
     "output_type": "stream",
     "text": [
      "Number of samples: 100\n",
      "Number of unique input tokens: 4\n",
      "Number of unique output tokens: 4\n",
      "Max sequence length for inputs: 3822\n",
      "Max sequence length for outputs: 3822\n"
     ]
    }
   ],
   "source": [
    "input_characters = sorted(list(input_characters))\n",
    "target_characters = sorted(list(target_characters))\n",
    "num_encoder_tokens = len(input_characters)\n",
    "num_decoder_tokens = len(target_characters)\n",
    "max_encoder_seq_length = max([len(txt) for txt in input_texts])\n",
    "max_decoder_seq_length = max([len(txt) for txt in target_texts])\n",
    "\n",
    "print(\"Number of samples:\", len(input_texts))\n",
    "print(\"Number of unique input tokens:\", num_encoder_tokens)\n",
    "print(\"Number of unique output tokens:\", num_decoder_tokens)\n",
    "print(\"Max sequence length for inputs:\", max_encoder_seq_length)\n",
    "print(\"Max sequence length for outputs:\", max_decoder_seq_length)"
   ]
  },
  {
   "cell_type": "code",
   "execution_count": 11,
   "metadata": {
    "ExecuteTime": {
     "end_time": "2021-04-25T12:56:25.784425Z",
     "start_time": "2021-04-25T12:56:25.780950Z"
    }
   },
   "outputs": [
    {
     "name": "stdout",
     "output_type": "stream",
     "text": [
      "input_token_index 4 {'A': 0, 'C': 1, 'G': 2, 'T': 3}\n",
      "target_token_index 4 {'A': 0, 'C': 1, 'G': 2, 'T': 3}\n"
     ]
    }
   ],
   "source": [
    "input_token_index = dict([(char, i) for i, char in enumerate(input_characters)])\n",
    "target_token_index = dict([(char, i) for i, char in enumerate(target_characters)])\n",
    "print(\"input_token_index\", len(input_token_index), input_token_index)\n",
    "print(\"target_token_index\", len(target_token_index), target_token_index)"
   ]
  },
  {
   "cell_type": "code",
   "execution_count": 12,
   "metadata": {
    "ExecuteTime": {
     "end_time": "2021-04-25T12:56:28.537863Z",
     "start_time": "2021-04-25T12:56:28.525583Z"
    }
   },
   "outputs": [
    {
     "name": "stdout",
     "output_type": "stream",
     "text": [
      "encoder_input_data.shape (100, 3822, 4)\n",
      "decoder_input_data.shape (100, 3822, 4)\n",
      "decoder_target_data.shape (100, 3822, 4)\n"
     ]
    }
   ],
   "source": [
    "encoder_input_data = np.zeros(\n",
    "    (len(input_texts), max_encoder_seq_length, num_encoder_tokens), dtype=\"float32\"\n",
    ")\n",
    "decoder_input_data = np.zeros(\n",
    "    (len(input_texts), max_decoder_seq_length, num_decoder_tokens), dtype=\"float32\"\n",
    ")\n",
    "decoder_target_data = np.zeros(\n",
    "    (len(input_texts), max_decoder_seq_length, num_decoder_tokens), dtype=\"float32\"\n",
    ")\n",
    "print(\"encoder_input_data.shape\", encoder_input_data.shape)\n",
    "print(\"decoder_input_data.shape\", decoder_input_data.shape)\n",
    "print(\"decoder_target_data.shape\", decoder_target_data.shape)"
   ]
  },
  {
   "cell_type": "code",
   "execution_count": 13,
   "metadata": {
    "ExecuteTime": {
     "end_time": "2021-04-25T12:57:16.488106Z",
     "start_time": "2021-04-25T12:57:15.892410Z"
    }
   },
   "outputs": [],
   "source": [
    "for i, (input_text, target_text) in enumerate(zip(input_texts, target_texts)):\n",
    "    \n",
    "    for t, char in enumerate(input_text):\n",
    "        encoder_input_data[i, t, input_token_index[char]] = 1.0\n",
    "    \n",
    "    for t, char in enumerate(target_text):\n",
    "        \n",
    "        # decoder_target_data is ahead of decoder_input_data by one timestep\n",
    "        decoder_input_data[i, t, target_token_index[char]] = 1.0\n",
    "        \n",
    "        if t > 0:\n",
    "            # decoder_target_data will be ahead by one timestep\n",
    "            # and will not include the start character.\n",
    "            decoder_target_data[i, t - 1, target_token_index[char]] = 1.0"
   ]
  },
  {
   "cell_type": "code",
   "execution_count": 14,
   "metadata": {},
   "outputs": [
    {
     "data": {
      "text/plain": [
       "'ATGTTTGTTTTTCTTGTTTTATTGCCACTAGTCTCTAGTCAGTGTGTTAATCTTACAACCAGAACTCAATTACCCCCTGCATACACTAATTCTTTCACACGTGGTGTTTATTACCCTGACAAAGTTTTCAGATCCTCAGTTTTACATTCAACTCAGGACTTGTTCTTACCTTTCTTTTCCAATGTTACTTGGTTCCATGCTATACATGTCTCTGGGACCAATGGTACTAAGAGGTTTGATAACCCTGTCCTACCATTTAATGATGGTGTTTATTTTGCTTCCACTGAGAAGTCTAACATAATAAGAGGCTGGATTTTTGGTACTACTTTAGATTCGAAGACCCAGTCCCTACTTATTGTTAATAACGCTACTAATGTTGTTATTAAAGTCTGTGAATTTCAATTTTGTAATGATCCATTTTTGGGTGTTTATTACCACAAAAACAACAAAAGTTGGATGGAAAGTGAGTTCAGAGTTTATTCTAGTGCGAATAATTGCACTTTTGAATATGTCTCTCAGCCTTTTCTTATGGACCTTGAAGGAAAACAGGGTAATTTCAAAAATCTTAGGGAATTTGTGTTTAAGAATATTGATGGTTATTTTAAAATATATTCTAAGCACACGCCTATTAATTTAGTGCGTGATCTCCCTCAGGGTTTTTCGGCTTTAGAACCATTGGTAGATTTGCCAATAGGTATTAACATCACTAGGTTTCAAACTTTACTTGCTTTACATAGAAGTTATTTGACTCCTGGTGATTCTTCTTCAGGTTGGACAGCTGGTGCTGCAGCTTATTATGTGGGTTATCTTCAACCTAGGACTTTTCTATTAAAATATAATGAAAATGGAACCATTACAGATGCTGTAGACTGTGCACTTGACCCTCTCTCAGAAACAAAGTGTACGTTGAAATCCTTCACTGTAGAAAAAGGAATCTATCAAACTTCTAACTTTAGAGTCCAACCAACAGAATCTATTGTTAGATTTCCTAATATTACAAACTTGTGCCCTTTTGGTGAAGTTTTTAACGCCACCAGATTTGCATCTGTTTATGCTTGGAACAGGAAGAGAATCAGCAACTGTGTTGCTGATTATTCTGTCCTATATAATTCCGCATCATTTTCCACTTTTAAGTGTTATGGAGTGTCTCCTACTAAATTAAATGATCTCTGCTTTACTAATGTCTATGCAGATTCATTTGTAATTAGAGGTGATGAAGTCAGACAAATCGCTCCAGGGCAAACTGGAAAGATTGCTGATTATAATTATAAATTACCAGATGATTTTACAGGCTGCGTTATAGCTTGGAATTCTAACAATCTTGATTCTAAGGTTGGTGGTAATTATAATTACCTGTATAGATTGTTTAGGAAGTCTAATCTCAAACCTTTTGAGAGAGATATTTCAACTGAAATCTATCAGGCCGGTAGCACACCTTGTAATGGTGTTGAAGGTTTTAATTGTTACTTTCCTTTACAATCATATGGTTTCCAACCCACTAATGGTGTTGGTTACCAACCATACAGAGTAGTAGTACTTTCTTTTGAACTTCTACATGCACCAGCAACTGTTTGTGGACCTAAAAAGTCTACTAATTTGGTTAAAAACAAATGTGTCAATTTCAACTTCAATGGTTTAACAGGCACAGGTGTTCTTACTGAGTCTAACAAAAAGTTTCTGCCTTTCCAACAATTTGGCAGAGACATTGCTGACACTACTGATGCTGTCCGTGATCCACAGACACTTGAGATTCTTGACATTACACCATGTTCTTTTGGTGGTGTCAGTGTTATAACACCAGGAACAAATACTTCTAACCAGGTTGCTGTTCTTTATCAGGATGTTAACTGCACAGAAGTCCCTGTTGCTATTCATGCAGATCAACTTACTCCTACTTGGCGTGTTTATTCTACAGGTTCTAATGTTTTTCAAACACGTGCAGGCTGTTTAATAGGGGCTGAACATGTCAACAACTCATATGAGTGTGACATACCCATTGGTGCAGGTATATGCGCTAGTTATCAGACTCAGACTAATTCTCCTCGGCGGGCACGTAGTGTAGCTAGTCAATCCATCATTGCCTACACTATGTCACTTGGTGCAGAAAATTCAGTTGCTTACTCTAATAACTCTATTGCCATACCCACAAATTTTACTATTAGTGTTACCACAGAAATTCTACCAGTGTCTATGACCAAGACATCAGTAGATTGTACAATGTACATTTGTGGTGATTCAACTGAATGCAGCAATCTTTTGTTGCAATATGGCAGTTTTTGTACACAATTAAACCGTGCTTTAACTGGAATAGCTGTTGAACAAGACAAAAACACCCAAGAAGTTTTTGCACAAGTCAAACAAATTTACAAAACACCACCAATTAAAGATTTTGGTGGTTTTAATTTTTCACAAATATTACCAGATCCATCAAAACCAAGCAAGAGGTCATTTATTGAAGATCTACTTTTCAACAAAGTGACACTTGCAGATGCTGGCTTCATCAAACAATATGGTGATTGCCTTGGTGATATTGCTGCTAGAGACCTCATTTGTGCACAAAAGTTTAACGGCCTTACTGTTTTGCCACCTTTGCTCACAGATGAAATGATTGCTCAATACACTTCTGCACTGTTAGCGGGTACAATCACTTCTGGTTGGACCTTTGGTGCAGGTGCTGCATTACAAATACCATTTGCTATGCAAATGGCTTATAGGTTTAATGGTATTGGAGTTACACAGAATGTTCTCTATGAGAACCAAAAATTGATTGCCAACCAATTTAATAGTGCTATTGGCAAAATTCAAGACTCACTTTCTTCCACAGCAAGTGCACTTGGAAAACTTCAAGATGTGGTCAACCAAAATGCACAAGCTTTAAACACGCTTGTTAAACAACTTAGCTCCAATTTTGGTGCAATTTCAAGTGTTTTAAATGATATCCTTTCACGTCTTGACAAAGTTGAGGCTGAAGTGCAAATTGATAGGTTGATCACAGGCAGACTTCAAAGTTTGCAGACATATGTGACTCAACAATTAATTAGAGCTGCAGAAATCAGAGCTTCTGCTAATCTTGCTGCTACTAAAATGTCAGAGTGTGTACTTGGACAATCAAAAAGAGTTGATTTTTGTGGAAAGGGCTATCATCTTATGTCCTTCCCTCAGTCAGCACCTCATGGTGTAGTCTTCTTGCATGTGACTTATGTCCCTGCACAAGAAAAGAACTTCACAACTGCTCCTGCCATTTGTCATGATGGAAAAGCACACTTTCCTCGTGAAGGTGTCTTTGTTTCAAATGGCACACACTGGTTTGTAACACAAAGGAATTTTTATGAACCACAAATCATTACTACAGACAACACATTTGTGTCTGGTAACTGTGATGTTGTAATAGGAATTGTCAACAACACAGTTTATGATCCTTTGCAACCTGAATTAGACTCATTCAAGGAGGAGTTAGATAAATATTTTAAGAATCATACATCACCAGATGTTGATTTAGGTGACATCTCTGGCATTAATGCTTCAGTTGTAAACATTCAAAAAGAAATTGACCGCCTCAATGAGGTTGCCAAGAATTTAAATGAATCTCTCATCGATCTCCAAGAACTTGGAAAGTATGAGCAGTATATAAAATGGCCATGGTACATTTGGCTAGGTTTTATAGCTGGCTTGATTGCCATAGTAATGGTGACAATTATGCTTTGCTGTATGACCAGTTGCTGTAGTTGTCTCAAGGGCTGTTGTTCTTGTGGATCCTGCTGCAAATTTGATGAAGACGACTCTGAGCCAGTGCTCAAAGGAGTCAAATTACATTACACATAA'"
      ]
     },
     "execution_count": 14,
     "metadata": {},
     "output_type": "execute_result"
    }
   ],
   "source": [
    "input_texts[0]"
   ]
  },
  {
   "cell_type": "code",
   "execution_count": 15,
   "metadata": {},
   "outputs": [
    {
     "data": {
      "text/plain": [
       "array([[1., 0., 0., 0.],\n",
       "       [0., 0., 0., 1.],\n",
       "       [0., 0., 1., 0.],\n",
       "       ...,\n",
       "       [0., 0., 0., 1.],\n",
       "       [1., 0., 0., 0.],\n",
       "       [1., 0., 0., 0.]], dtype=float32)"
      ]
     },
     "execution_count": 15,
     "metadata": {},
     "output_type": "execute_result"
    }
   ],
   "source": [
    "y_true = encoder_input_data[0]\n",
    "y_true"
   ]
  },
  {
   "cell_type": "code",
   "execution_count": 16,
   "metadata": {},
   "outputs": [
    {
     "data": {
      "text/plain": [
       "array([[1., 0., 0., 0.],\n",
       "       [0., 0., 0., 1.],\n",
       "       [0., 0., 1., 0.],\n",
       "       ...,\n",
       "       [0., 0., 0., 1.],\n",
       "       [1., 0., 0., 0.],\n",
       "       [1., 0., 0., 0.]], dtype=float32)"
      ]
     },
     "execution_count": 16,
     "metadata": {},
     "output_type": "execute_result"
    }
   ],
   "source": [
    "y_pred = decoder_input_data[0]\n",
    "y_pred"
   ]
  },
  {
   "cell_type": "code",
   "execution_count": 17,
   "metadata": {},
   "outputs": [
    {
     "data": {
      "text/plain": [
       "array([[0., 0., 0., 1.],\n",
       "       [0., 0., 1., 0.],\n",
       "       [0., 0., 0., 1.],\n",
       "       ...,\n",
       "       [1., 0., 0., 0.],\n",
       "       [1., 0., 0., 0.],\n",
       "       [0., 0., 0., 0.]], dtype=float32)"
      ]
     },
     "execution_count": 17,
     "metadata": {},
     "output_type": "execute_result"
    }
   ],
   "source": [
    "decoder_target_data[0]"
   ]
  },
  {
   "cell_type": "code",
   "execution_count": 18,
   "metadata": {},
   "outputs": [
    {
     "data": {
      "text/plain": [
       "1.192093e-07"
      ]
     },
     "execution_count": 18,
     "metadata": {},
     "output_type": "execute_result"
    }
   ],
   "source": [
    "keras.losses.CategoricalCrossentropy()(y_true, y_pred).numpy()"
   ]
  },
  {
   "cell_type": "markdown",
   "metadata": {},
   "source": [
    "## Construct model"
   ]
  },
  {
   "cell_type": "code",
   "execution_count": 19,
   "metadata": {},
   "outputs": [],
   "source": [
    "latent_dim = 64      # Latent dimensionality of the encoding space.\n",
    "batch_size = 32       # Batch size for training.\n",
    "epochs = 1000         # Number of epochs to train for."
   ]
  },
  {
   "cell_type": "code",
   "execution_count": 22,
   "metadata": {
    "ExecuteTime": {
     "end_time": "2021-04-25T12:57:18.047479Z",
     "start_time": "2021-04-25T12:57:17.620960Z"
    }
   },
   "outputs": [],
   "source": [
    "# Define an input sequence and process it.\n",
    "encoder_inputs = keras.Input(shape = (None, num_encoder_tokens))\n",
    "encoder = keras.layers.LSTM(latent_dim, return_state = True)\n",
    "encoder_outputs, state_h, state_c = encoder(encoder_inputs)\n",
    "\n",
    "# We discard `encoder_outputs` and only keep the states.\n",
    "encoder_states = [state_h, state_c]\n",
    "\n",
    "# Set up the decoder, using `encoder_states` as initial state.\n",
    "decoder_inputs = keras.Input(shape = (None, num_decoder_tokens))\n",
    "\n",
    "# We set up our decoder to return full output sequences,\n",
    "# and to return internal states as well. We don't use the\n",
    "# return states in the training model, but we will use them in inference.\n",
    "decoder_lstm = keras.layers.LSTM(latent_dim, return_sequences = True, return_state = True)\n",
    "decoder_outputs, _, _ = decoder_lstm(decoder_inputs, initial_state = encoder_states)\n",
    "decoder_dense = keras.layers.Dense(num_decoder_tokens, activation = \"softmax\")\n",
    "decoder_outputs = decoder_dense(decoder_outputs)\n",
    "\n",
    "# Define the model that will turn\n",
    "# `encoder_input_data` & `decoder_input_data` into `decoder_target_data`\n",
    "model = keras.Model([encoder_inputs, decoder_inputs], decoder_outputs)"
   ]
  },
  {
   "cell_type": "code",
   "execution_count": 23,
   "metadata": {
    "ExecuteTime": {
     "end_time": "2021-04-25T12:57:21.687919Z",
     "start_time": "2021-04-25T12:57:21.675274Z"
    }
   },
   "outputs": [
    {
     "name": "stdout",
     "output_type": "stream",
     "text": [
      "Model: \"model_1\"\n",
      "__________________________________________________________________________________________________\n",
      "Layer (type)                    Output Shape         Param #     Connected to                     \n",
      "==================================================================================================\n",
      "input_3 (InputLayer)            [(None, None, 4)]    0                                            \n",
      "__________________________________________________________________________________________________\n",
      "input_4 (InputLayer)            [(None, None, 4)]    0                                            \n",
      "__________________________________________________________________________________________________\n",
      "lstm_2 (LSTM)                   [(None, 64), (None,  17664       input_3[0][0]                    \n",
      "__________________________________________________________________________________________________\n",
      "lstm_3 (LSTM)                   [(None, None, 64), ( 17664       input_4[0][0]                    \n",
      "                                                                 lstm_2[0][1]                     \n",
      "                                                                 lstm_2[0][2]                     \n",
      "__________________________________________________________________________________________________\n",
      "dense_1 (Dense)                 (None, None, 4)      260         lstm_3[0][0]                     \n",
      "==================================================================================================\n",
      "Total params: 35,588\n",
      "Trainable params: 35,588\n",
      "Non-trainable params: 0\n",
      "__________________________________________________________________________________________________\n"
     ]
    }
   ],
   "source": [
    "#plot_model(model, to_file = 'model.png')\n",
    "model.summary()"
   ]
  },
  {
   "cell_type": "markdown",
   "metadata": {},
   "source": [
    "## Train model"
   ]
  },
  {
   "cell_type": "code",
   "execution_count": 24,
   "metadata": {
    "ExecuteTime": {
     "end_time": "2021-04-25T14:18:28.805676Z",
     "start_time": "2021-04-25T12:57:28.352846Z"
    },
    "scrolled": true
   },
   "outputs": [
    {
     "name": "stdout",
     "output_type": "stream",
     "text": [
      "Epoch 1/1000\n",
      "3/3 [==============================] - 9s 2s/step - loss: 1.3828 - accuracy: 0.2810 - val_loss: 1.3600 - val_accuracy: 0.3328\n",
      "Epoch 2/1000\n",
      "3/3 [==============================] - 6s 2s/step - loss: 1.3558 - accuracy: 0.3327 - val_loss: 1.3499 - val_accuracy: 0.3321\n",
      "Epoch 3/1000\n",
      "3/3 [==============================] - 6s 2s/step - loss: 1.3503 - accuracy: 0.3344 - val_loss: 1.3474 - val_accuracy: 0.3328\n",
      "Epoch 4/1000\n",
      "3/3 [==============================] - 6s 2s/step - loss: 1.3469 - accuracy: 0.3332 - val_loss: 1.3453 - val_accuracy: 0.3372\n",
      "Epoch 5/1000\n",
      "3/3 [==============================] - 6s 2s/step - loss: 1.3449 - accuracy: 0.3368 - val_loss: 1.3440 - val_accuracy: 0.3334\n",
      "Epoch 6/1000\n",
      "3/3 [==============================] - 6s 2s/step - loss: 1.3445 - accuracy: 0.3407 - val_loss: 1.3451 - val_accuracy: 0.3547\n",
      "Epoch 7/1000\n",
      "3/3 [==============================] - 6s 2s/step - loss: 1.3430 - accuracy: 0.3479 - val_loss: 1.3407 - val_accuracy: 0.3484\n",
      "Epoch 8/1000\n",
      "3/3 [==============================] - 6s 2s/step - loss: 1.3406 - accuracy: 0.3498 - val_loss: 1.3416 - val_accuracy: 0.3414\n",
      "Epoch 9/1000\n",
      "3/3 [==============================] - 6s 2s/step - loss: 1.3399 - accuracy: 0.3510 - val_loss: 1.3384 - val_accuracy: 0.3437\n",
      "Epoch 10/1000\n",
      "3/3 [==============================] - 6s 2s/step - loss: 1.3392 - accuracy: 0.3455 - val_loss: 1.3393 - val_accuracy: 0.3546\n",
      "Epoch 11/1000\n",
      "3/3 [==============================] - 6s 2s/step - loss: 1.3377 - accuracy: 0.3507 - val_loss: 1.3356 - val_accuracy: 0.3495\n",
      "Epoch 12/1000\n",
      "3/3 [==============================] - 5s 2s/step - loss: 1.3356 - accuracy: 0.3526 - val_loss: 1.3347 - val_accuracy: 0.3550\n",
      "Epoch 13/1000\n",
      "3/3 [==============================] - 6s 2s/step - loss: 1.3348 - accuracy: 0.3558 - val_loss: 1.3345 - val_accuracy: 0.3542\n",
      "Epoch 14/1000\n",
      "3/3 [==============================] - 6s 2s/step - loss: 1.3341 - accuracy: 0.3544 - val_loss: 1.3345 - val_accuracy: 0.3459\n",
      "Epoch 15/1000\n",
      "3/3 [==============================] - 6s 2s/step - loss: 1.3352 - accuracy: 0.3517 - val_loss: 1.3309 - val_accuracy: 0.3559\n",
      "Epoch 16/1000\n",
      "3/3 [==============================] - 6s 2s/step - loss: 1.3307 - accuracy: 0.3567 - val_loss: 1.3306 - val_accuracy: 0.3569\n",
      "Epoch 17/1000\n",
      "3/3 [==============================] - 6s 2s/step - loss: 1.3311 - accuracy: 0.3563 - val_loss: 1.3316 - val_accuracy: 0.3536\n",
      "Epoch 18/1000\n",
      "3/3 [==============================] - 6s 2s/step - loss: 1.3300 - accuracy: 0.3557 - val_loss: 1.3277 - val_accuracy: 0.3571\n",
      "Epoch 19/1000\n",
      "3/3 [==============================] - 6s 2s/step - loss: 1.3280 - accuracy: 0.3554 - val_loss: 1.3363 - val_accuracy: 0.3441\n",
      "Epoch 20/1000\n",
      "3/3 [==============================] - 6s 2s/step - loss: 1.3323 - accuracy: 0.3490 - val_loss: 1.3264 - val_accuracy: 0.3608\n",
      "Epoch 21/1000\n",
      "3/3 [==============================] - 6s 2s/step - loss: 1.3262 - accuracy: 0.3584 - val_loss: 1.3261 - val_accuracy: 0.3558\n",
      "Epoch 22/1000\n",
      "3/3 [==============================] - 6s 2s/step - loss: 1.3266 - accuracy: 0.3572 - val_loss: 1.3255 - val_accuracy: 0.3597\n",
      "Epoch 23/1000\n",
      "3/3 [==============================] - 6s 2s/step - loss: 1.3248 - accuracy: 0.3586 - val_loss: 1.3240 - val_accuracy: 0.3597\n",
      "Epoch 24/1000\n",
      "3/3 [==============================] - 6s 2s/step - loss: 1.3254 - accuracy: 0.3586 - val_loss: 1.3287 - val_accuracy: 0.3429\n",
      "Epoch 25/1000\n",
      "3/3 [==============================] - 6s 2s/step - loss: 1.3258 - accuracy: 0.3515 - val_loss: 1.3219 - val_accuracy: 0.3597\n",
      "Epoch 26/1000\n",
      "3/3 [==============================] - 6s 2s/step - loss: 1.3217 - accuracy: 0.3594 - val_loss: 1.3211 - val_accuracy: 0.3612\n",
      "Epoch 27/1000\n",
      "3/3 [==============================] - 6s 2s/step - loss: 1.3211 - accuracy: 0.3598 - val_loss: 1.3207 - val_accuracy: 0.3540\n",
      "Epoch 28/1000\n",
      "3/3 [==============================] - 6s 2s/step - loss: 1.3206 - accuracy: 0.3574 - val_loss: 1.3226 - val_accuracy: 0.3583\n",
      "Epoch 29/1000\n",
      "3/3 [==============================] - 6s 2s/step - loss: 1.3227 - accuracy: 0.3579 - val_loss: 1.3196 - val_accuracy: 0.3581\n",
      "Epoch 30/1000\n",
      "3/3 [==============================] - 6s 2s/step - loss: 1.3188 - accuracy: 0.3573 - val_loss: 1.3173 - val_accuracy: 0.3577\n",
      "Epoch 31/1000\n",
      "3/3 [==============================] - 6s 2s/step - loss: 1.3174 - accuracy: 0.3593 - val_loss: 1.3190 - val_accuracy: 0.3584\n",
      "Epoch 32/1000\n",
      "3/3 [==============================] - 6s 2s/step - loss: 1.3196 - accuracy: 0.3584 - val_loss: 1.3214 - val_accuracy: 0.3612\n",
      "Epoch 33/1000\n",
      "3/3 [==============================] - 6s 2s/step - loss: 1.3186 - accuracy: 0.3622 - val_loss: 1.3154 - val_accuracy: 0.3586\n",
      "Epoch 34/1000\n",
      "3/3 [==============================] - 6s 2s/step - loss: 1.3155 - accuracy: 0.3584 - val_loss: 1.3152 - val_accuracy: 0.3581\n",
      "Epoch 35/1000\n",
      "3/3 [==============================] - 6s 2s/step - loss: 1.3150 - accuracy: 0.3563 - val_loss: 1.3143 - val_accuracy: 0.3537\n",
      "Epoch 36/1000\n",
      "3/3 [==============================] - 6s 2s/step - loss: 1.3141 - accuracy: 0.3570 - val_loss: 1.3139 - val_accuracy: 0.3638\n",
      "Epoch 37/1000\n",
      "3/3 [==============================] - 6s 2s/step - loss: 1.3152 - accuracy: 0.3624 - val_loss: 1.3168 - val_accuracy: 0.3570\n",
      "Epoch 38/1000\n",
      "3/3 [==============================] - 6s 2s/step - loss: 1.3174 - accuracy: 0.3575 - val_loss: 1.3128 - val_accuracy: 0.3586\n",
      "Epoch 39/1000\n",
      "3/3 [==============================] - 6s 2s/step - loss: 1.3121 - accuracy: 0.3598 - val_loss: 1.3109 - val_accuracy: 0.3614\n",
      "Epoch 40/1000\n",
      "3/3 [==============================] - 6s 2s/step - loss: 1.3115 - accuracy: 0.3611 - val_loss: 1.3153 - val_accuracy: 0.3589\n",
      "Epoch 41/1000\n",
      "3/3 [==============================] - 6s 2s/step - loss: 1.3129 - accuracy: 0.3625 - val_loss: 1.3108 - val_accuracy: 0.3654\n",
      "Epoch 42/1000\n",
      "3/3 [==============================] - 6s 2s/step - loss: 1.3113 - accuracy: 0.3640 - val_loss: 1.3103 - val_accuracy: 0.3597\n",
      "Epoch 43/1000\n",
      "3/3 [==============================] - 6s 2s/step - loss: 1.3094 - accuracy: 0.3597 - val_loss: 1.3097 - val_accuracy: 0.3597\n",
      "Epoch 44/1000\n",
      "3/3 [==============================] - 6s 2s/step - loss: 1.3094 - accuracy: 0.3631 - val_loss: 1.3088 - val_accuracy: 0.3646\n",
      "Epoch 45/1000\n",
      "3/3 [==============================] - 6s 2s/step - loss: 1.3094 - accuracy: 0.3619 - val_loss: 1.3106 - val_accuracy: 0.3636\n",
      "Epoch 46/1000\n",
      "3/3 [==============================] - 6s 2s/step - loss: 1.3101 - accuracy: 0.3620 - val_loss: 1.3129 - val_accuracy: 0.3590\n",
      "Epoch 47/1000\n",
      "3/3 [==============================] - 6s 2s/step - loss: 1.3107 - accuracy: 0.3626 - val_loss: 1.3064 - val_accuracy: 0.3657\n",
      "Epoch 48/1000\n",
      "3/3 [==============================] - 6s 2s/step - loss: 1.3058 - accuracy: 0.3637 - val_loss: 1.3047 - val_accuracy: 0.3634\n",
      "Epoch 49/1000\n",
      "3/3 [==============================] - 6s 2s/step - loss: 1.3052 - accuracy: 0.3624 - val_loss: 1.3066 - val_accuracy: 0.3622\n",
      "Epoch 50/1000\n",
      "3/3 [==============================] - 6s 2s/step - loss: 1.3065 - accuracy: 0.3632 - val_loss: 1.3034 - val_accuracy: 0.3669\n",
      "Epoch 51/1000\n",
      "3/3 [==============================] - 6s 2s/step - loss: 1.3032 - accuracy: 0.3672 - val_loss: 1.3050 - val_accuracy: 0.3632\n",
      "Epoch 52/1000\n",
      "3/3 [==============================] - 6s 2s/step - loss: 1.3067 - accuracy: 0.3651 - val_loss: 1.3041 - val_accuracy: 0.3670\n",
      "Epoch 53/1000\n",
      "3/3 [==============================] - 6s 2s/step - loss: 1.3030 - accuracy: 0.3675 - val_loss: 1.3022 - val_accuracy: 0.3692\n",
      "Epoch 54/1000\n",
      "3/3 [==============================] - 6s 2s/step - loss: 1.3030 - accuracy: 0.3672 - val_loss: 1.3030 - val_accuracy: 0.3685\n",
      "Epoch 55/1000\n",
      "3/3 [==============================] - 6s 2s/step - loss: 1.3018 - accuracy: 0.3672 - val_loss: 1.3019 - val_accuracy: 0.3672\n",
      "Epoch 56/1000\n",
      "3/3 [==============================] - 5s 2s/step - loss: 1.3021 - accuracy: 0.3675 - val_loss: 1.2994 - val_accuracy: 0.3740\n",
      "Epoch 57/1000\n",
      "3/3 [==============================] - 6s 2s/step - loss: 1.2996 - accuracy: 0.3714 - val_loss: 1.3002 - val_accuracy: 0.3664\n",
      "Epoch 58/1000\n",
      "3/3 [==============================] - 6s 2s/step - loss: 1.3011 - accuracy: 0.3684 - val_loss: 1.2984 - val_accuracy: 0.3724\n",
      "Epoch 59/1000\n"
     ]
    },
    {
     "name": "stdout",
     "output_type": "stream",
     "text": [
      "3/3 [==============================] - 6s 2s/step - loss: 1.2989 - accuracy: 0.3751 - val_loss: 1.3061 - val_accuracy: 0.3742\n",
      "Epoch 60/1000\n",
      "3/3 [==============================] - 6s 2s/step - loss: 1.3011 - accuracy: 0.3724 - val_loss: 1.2961 - val_accuracy: 0.3712\n",
      "Epoch 61/1000\n",
      "3/3 [==============================] - 6s 2s/step - loss: 1.2963 - accuracy: 0.3735 - val_loss: 1.2964 - val_accuracy: 0.3760\n",
      "Epoch 62/1000\n",
      "3/3 [==============================] - 6s 2s/step - loss: 1.2976 - accuracy: 0.3721 - val_loss: 1.2959 - val_accuracy: 0.3726\n",
      "Epoch 63/1000\n",
      "3/3 [==============================] - 6s 2s/step - loss: 1.2960 - accuracy: 0.3725 - val_loss: 1.2993 - val_accuracy: 0.3703\n",
      "Epoch 64/1000\n",
      "3/3 [==============================] - 6s 2s/step - loss: 1.2955 - accuracy: 0.3762 - val_loss: 1.2916 - val_accuracy: 0.3743\n",
      "Epoch 65/1000\n",
      "3/3 [==============================] - 6s 2s/step - loss: 1.2925 - accuracy: 0.3757 - val_loss: 1.3021 - val_accuracy: 0.3723\n",
      "Epoch 66/1000\n",
      "3/3 [==============================] - 6s 2s/step - loss: 1.2992 - accuracy: 0.3705 - val_loss: 1.2928 - val_accuracy: 0.3706\n",
      "Epoch 67/1000\n",
      "3/3 [==============================] - 6s 2s/step - loss: 1.2936 - accuracy: 0.3744 - val_loss: 1.2952 - val_accuracy: 0.3753\n",
      "Epoch 68/1000\n",
      "3/3 [==============================] - 6s 2s/step - loss: 1.2924 - accuracy: 0.3765 - val_loss: 1.2939 - val_accuracy: 0.3695\n",
      "Epoch 69/1000\n",
      "3/3 [==============================] - 6s 2s/step - loss: 1.2949 - accuracy: 0.3686 - val_loss: 1.2920 - val_accuracy: 0.3726\n",
      "Epoch 70/1000\n",
      "3/3 [==============================] - 6s 2s/step - loss: 1.2937 - accuracy: 0.3748 - val_loss: 1.2895 - val_accuracy: 0.3828\n",
      "Epoch 71/1000\n",
      "3/3 [==============================] - 6s 2s/step - loss: 1.2917 - accuracy: 0.3776 - val_loss: 1.2883 - val_accuracy: 0.3782\n",
      "Epoch 72/1000\n",
      "3/3 [==============================] - 6s 2s/step - loss: 1.2884 - accuracy: 0.3787 - val_loss: 1.2963 - val_accuracy: 0.3735\n",
      "Epoch 73/1000\n",
      "3/3 [==============================] - 6s 2s/step - loss: 1.2916 - accuracy: 0.3779 - val_loss: 1.2881 - val_accuracy: 0.3785\n",
      "Epoch 74/1000\n",
      "3/3 [==============================] - 6s 2s/step - loss: 1.2892 - accuracy: 0.3789 - val_loss: 1.2903 - val_accuracy: 0.3786\n",
      "Epoch 75/1000\n",
      "3/3 [==============================] - 6s 2s/step - loss: 1.2919 - accuracy: 0.3755 - val_loss: 1.2876 - val_accuracy: 0.3800\n",
      "Epoch 76/1000\n",
      "3/3 [==============================] - 6s 2s/step - loss: 1.2888 - accuracy: 0.3812 - val_loss: 1.2876 - val_accuracy: 0.3761\n",
      "Epoch 77/1000\n",
      "3/3 [==============================] - 6s 2s/step - loss: 1.2891 - accuracy: 0.3777 - val_loss: 1.2898 - val_accuracy: 0.3767\n",
      "Epoch 78/1000\n",
      "3/3 [==============================] - 6s 2s/step - loss: 1.2880 - accuracy: 0.3775 - val_loss: 1.2836 - val_accuracy: 0.3798\n",
      "Epoch 79/1000\n",
      "3/3 [==============================] - 6s 2s/step - loss: 1.2850 - accuracy: 0.3810 - val_loss: 1.2862 - val_accuracy: 0.3841\n",
      "Epoch 80/1000\n",
      "3/3 [==============================] - 5s 2s/step - loss: 1.2862 - accuracy: 0.3823 - val_loss: 1.2815 - val_accuracy: 0.3848\n",
      "Epoch 81/1000\n",
      "3/3 [==============================] - 6s 2s/step - loss: 1.2811 - accuracy: 0.3863 - val_loss: 1.2907 - val_accuracy: 0.3766\n",
      "Epoch 82/1000\n",
      "3/3 [==============================] - 5s 2s/step - loss: 1.2870 - accuracy: 0.3789 - val_loss: 1.2924 - val_accuracy: 0.3794\n",
      "Epoch 83/1000\n",
      "3/3 [==============================] - 6s 2s/step - loss: 1.2883 - accuracy: 0.3806 - val_loss: 1.2818 - val_accuracy: 0.3813\n",
      "Epoch 84/1000\n",
      "3/3 [==============================] - 6s 2s/step - loss: 1.2829 - accuracy: 0.3838 - val_loss: 1.2807 - val_accuracy: 0.3918\n",
      "Epoch 85/1000\n",
      "3/3 [==============================] - 5s 2s/step - loss: 1.2833 - accuracy: 0.3813 - val_loss: 1.2791 - val_accuracy: 0.3846\n",
      "Epoch 86/1000\n",
      "3/3 [==============================] - 5s 2s/step - loss: 1.2814 - accuracy: 0.3843 - val_loss: 1.2829 - val_accuracy: 0.3848\n",
      "Epoch 87/1000\n",
      "3/3 [==============================] - 6s 2s/step - loss: 1.2826 - accuracy: 0.3832 - val_loss: 1.2791 - val_accuracy: 0.3849\n",
      "Epoch 88/1000\n",
      "3/3 [==============================] - 6s 2s/step - loss: 1.2813 - accuracy: 0.3871 - val_loss: 1.2777 - val_accuracy: 0.3880\n",
      "Epoch 89/1000\n",
      "3/3 [==============================] - 6s 2s/step - loss: 1.2800 - accuracy: 0.3897 - val_loss: 1.2833 - val_accuracy: 0.3878\n",
      "Epoch 90/1000\n",
      "3/3 [==============================] - 6s 2s/step - loss: 1.2791 - accuracy: 0.3885 - val_loss: 1.2756 - val_accuracy: 0.3871\n",
      "Epoch 91/1000\n",
      "3/3 [==============================] - 6s 2s/step - loss: 1.2777 - accuracy: 0.3881 - val_loss: 1.2760 - val_accuracy: 0.3847\n",
      "Epoch 92/1000\n",
      "3/3 [==============================] - 6s 2s/step - loss: 1.2789 - accuracy: 0.3862 - val_loss: 1.2741 - val_accuracy: 0.3941\n",
      "Epoch 93/1000\n",
      "3/3 [==============================] - 6s 2s/step - loss: 1.2760 - accuracy: 0.3911 - val_loss: 1.2763 - val_accuracy: 0.3842\n",
      "Epoch 94/1000\n",
      "3/3 [==============================] - 6s 2s/step - loss: 1.2772 - accuracy: 0.3876 - val_loss: 1.2764 - val_accuracy: 0.3985\n",
      "Epoch 95/1000\n",
      "3/3 [==============================] - 6s 2s/step - loss: 1.2763 - accuracy: 0.3931 - val_loss: 1.2707 - val_accuracy: 0.3945\n",
      "Epoch 96/1000\n",
      "3/3 [==============================] - 6s 2s/step - loss: 1.2721 - accuracy: 0.3942 - val_loss: 1.2783 - val_accuracy: 0.3876\n",
      "Epoch 97/1000\n",
      "3/3 [==============================] - 6s 2s/step - loss: 1.2756 - accuracy: 0.3882 - val_loss: 1.2731 - val_accuracy: 0.3903\n",
      "Epoch 98/1000\n",
      "3/3 [==============================] - 6s 2s/step - loss: 1.2751 - accuracy: 0.3896 - val_loss: 1.2695 - val_accuracy: 0.3955\n",
      "Epoch 99/1000\n",
      "3/3 [==============================] - 6s 2s/step - loss: 1.2716 - accuracy: 0.3918 - val_loss: 1.2703 - val_accuracy: 0.3899\n",
      "Epoch 100/1000\n",
      "3/3 [==============================] - 6s 2s/step - loss: 1.2710 - accuracy: 0.3938 - val_loss: 1.2713 - val_accuracy: 0.4016\n",
      "Epoch 101/1000\n",
      "3/3 [==============================] - 6s 2s/step - loss: 1.2736 - accuracy: 0.3968 - val_loss: 1.2704 - val_accuracy: 0.4006\n",
      "Epoch 102/1000\n",
      "3/3 [==============================] - 6s 2s/step - loss: 1.2740 - accuracy: 0.3940 - val_loss: 1.2660 - val_accuracy: 0.4010\n",
      "Epoch 103/1000\n",
      "3/3 [==============================] - 6s 2s/step - loss: 1.2666 - accuracy: 0.4016 - val_loss: 1.2697 - val_accuracy: 0.4028\n",
      "Epoch 104/1000\n",
      "3/3 [==============================] - 6s 2s/step - loss: 1.2709 - accuracy: 0.3985 - val_loss: 1.2724 - val_accuracy: 0.3997\n",
      "Epoch 105/1000\n",
      "3/3 [==============================] - 6s 2s/step - loss: 1.2731 - accuracy: 0.3946 - val_loss: 1.2724 - val_accuracy: 0.3876\n",
      "Epoch 106/1000\n",
      "3/3 [==============================] - 6s 2s/step - loss: 1.2674 - accuracy: 0.3986 - val_loss: 1.2679 - val_accuracy: 0.4063\n",
      "Epoch 107/1000\n",
      "3/3 [==============================] - 6s 2s/step - loss: 1.2668 - accuracy: 0.4029 - val_loss: 1.2623 - val_accuracy: 0.4065\n",
      "Epoch 108/1000\n",
      "3/3 [==============================] - 6s 2s/step - loss: 1.2638 - accuracy: 0.4049 - val_loss: 1.2649 - val_accuracy: 0.4028\n",
      "Epoch 109/1000\n",
      "3/3 [==============================] - 6s 2s/step - loss: 1.2643 - accuracy: 0.4042 - val_loss: 1.2720 - val_accuracy: 0.3986\n",
      "Epoch 110/1000\n",
      "3/3 [==============================] - 6s 2s/step - loss: 1.2701 - accuracy: 0.3993 - val_loss: 1.2596 - val_accuracy: 0.4104\n",
      "Epoch 111/1000\n",
      "3/3 [==============================] - 6s 2s/step - loss: 1.2626 - accuracy: 0.4074 - val_loss: 1.2631 - val_accuracy: 0.4087\n",
      "Epoch 112/1000\n",
      "3/3 [==============================] - 6s 2s/step - loss: 1.2603 - accuracy: 0.4082 - val_loss: 1.2645 - val_accuracy: 0.4047\n",
      "Epoch 113/1000\n",
      "3/3 [==============================] - 6s 2s/step - loss: 1.2690 - accuracy: 0.4002 - val_loss: 1.2611 - val_accuracy: 0.4112\n",
      "Epoch 114/1000\n",
      "3/3 [==============================] - 6s 2s/step - loss: 1.2634 - accuracy: 0.4076 - val_loss: 1.2577 - val_accuracy: 0.4052\n",
      "Epoch 115/1000\n",
      "3/3 [==============================] - 6s 2s/step - loss: 1.2566 - accuracy: 0.4083 - val_loss: 1.2652 - val_accuracy: 0.4024\n",
      "Epoch 116/1000\n",
      "3/3 [==============================] - 6s 2s/step - loss: 1.2625 - accuracy: 0.4075 - val_loss: 1.2561 - val_accuracy: 0.4092\n",
      "Epoch 117/1000\n"
     ]
    },
    {
     "name": "stdout",
     "output_type": "stream",
     "text": [
      "3/3 [==============================] - 6s 2s/step - loss: 1.2567 - accuracy: 0.4135 - val_loss: 1.2605 - val_accuracy: 0.4074\n",
      "Epoch 118/1000\n",
      "3/3 [==============================] - 6s 2s/step - loss: 1.2627 - accuracy: 0.4036 - val_loss: 1.2574 - val_accuracy: 0.4163\n",
      "Epoch 119/1000\n",
      "3/3 [==============================] - 6s 2s/step - loss: 1.2609 - accuracy: 0.4097 - val_loss: 1.2558 - val_accuracy: 0.4106\n",
      "Epoch 120/1000\n",
      "3/3 [==============================] - 6s 2s/step - loss: 1.2592 - accuracy: 0.4073 - val_loss: 1.2503 - val_accuracy: 0.4160\n",
      "Epoch 121/1000\n",
      "3/3 [==============================] - 6s 2s/step - loss: 1.2499 - accuracy: 0.4174 - val_loss: 1.2508 - val_accuracy: 0.4192\n",
      "Epoch 122/1000\n",
      "3/3 [==============================] - 5s 2s/step - loss: 1.2574 - accuracy: 0.4106 - val_loss: 1.2519 - val_accuracy: 0.4080\n",
      "Epoch 123/1000\n",
      "3/3 [==============================] - 6s 2s/step - loss: 1.2516 - accuracy: 0.4146 - val_loss: 1.2516 - val_accuracy: 0.4189\n",
      "Epoch 124/1000\n",
      "3/3 [==============================] - 6s 2s/step - loss: 1.2544 - accuracy: 0.4121 - val_loss: 1.2617 - val_accuracy: 0.4018\n",
      "Epoch 125/1000\n",
      "3/3 [==============================] - 6s 2s/step - loss: 1.2578 - accuracy: 0.4081 - val_loss: 1.2569 - val_accuracy: 0.4133\n",
      "Epoch 126/1000\n",
      "3/3 [==============================] - 6s 2s/step - loss: 1.2499 - accuracy: 0.4199 - val_loss: 1.2491 - val_accuracy: 0.4122\n",
      "Epoch 127/1000\n",
      "3/3 [==============================] - 6s 2s/step - loss: 1.2530 - accuracy: 0.4126 - val_loss: 1.2497 - val_accuracy: 0.4144\n",
      "Epoch 128/1000\n",
      "3/3 [==============================] - 6s 2s/step - loss: 1.2467 - accuracy: 0.4201 - val_loss: 1.2520 - val_accuracy: 0.4223\n",
      "Epoch 129/1000\n",
      "3/3 [==============================] - 6s 2s/step - loss: 1.2556 - accuracy: 0.4143 - val_loss: 1.2534 - val_accuracy: 0.4129\n",
      "Epoch 130/1000\n",
      "3/3 [==============================] - 6s 2s/step - loss: 1.2487 - accuracy: 0.4181 - val_loss: 1.2491 - val_accuracy: 0.4251\n",
      "Epoch 131/1000\n",
      "3/3 [==============================] - 6s 2s/step - loss: 1.2485 - accuracy: 0.4227 - val_loss: 1.2413 - val_accuracy: 0.4236\n",
      "Epoch 132/1000\n",
      "3/3 [==============================] - 6s 2s/step - loss: 1.2453 - accuracy: 0.4220 - val_loss: 1.2577 - val_accuracy: 0.4074\n",
      "Epoch 133/1000\n",
      "3/3 [==============================] - 6s 2s/step - loss: 1.2465 - accuracy: 0.4195 - val_loss: 1.2447 - val_accuracy: 0.4226\n",
      "Epoch 134/1000\n",
      "3/3 [==============================] - 6s 2s/step - loss: 1.2472 - accuracy: 0.4185 - val_loss: 1.2437 - val_accuracy: 0.4309\n",
      "Epoch 135/1000\n",
      "3/3 [==============================] - 6s 2s/step - loss: 1.2496 - accuracy: 0.4200 - val_loss: 1.2427 - val_accuracy: 0.4237\n",
      "Epoch 136/1000\n",
      "3/3 [==============================] - 6s 2s/step - loss: 1.2450 - accuracy: 0.4212 - val_loss: 1.2439 - val_accuracy: 0.4217\n",
      "Epoch 137/1000\n",
      "3/3 [==============================] - 6s 2s/step - loss: 1.2421 - accuracy: 0.4219 - val_loss: 1.2502 - val_accuracy: 0.4157\n",
      "Epoch 138/1000\n",
      "3/3 [==============================] - 6s 2s/step - loss: 1.2493 - accuracy: 0.4154 - val_loss: 1.2345 - val_accuracy: 0.4320\n",
      "Epoch 139/1000\n",
      "3/3 [==============================] - 6s 2s/step - loss: 1.2332 - accuracy: 0.4342 - val_loss: 1.2394 - val_accuracy: 0.4269\n",
      "Epoch 140/1000\n",
      "3/3 [==============================] - 6s 2s/step - loss: 1.2419 - accuracy: 0.4263 - val_loss: 1.2490 - val_accuracy: 0.4133\n",
      "Epoch 141/1000\n",
      "3/3 [==============================] - 6s 2s/step - loss: 1.2468 - accuracy: 0.4187 - val_loss: 1.2418 - val_accuracy: 0.4267\n",
      "Epoch 142/1000\n",
      "3/3 [==============================] - 6s 2s/step - loss: 1.2387 - accuracy: 0.4284 - val_loss: 1.2389 - val_accuracy: 0.4214\n",
      "Epoch 143/1000\n",
      "3/3 [==============================] - 5s 2s/step - loss: 1.2391 - accuracy: 0.4249 - val_loss: 1.2309 - val_accuracy: 0.4330\n",
      "Epoch 144/1000\n",
      "3/3 [==============================] - 6s 2s/step - loss: 1.2338 - accuracy: 0.4324 - val_loss: 1.2357 - val_accuracy: 0.4306\n",
      "Epoch 145/1000\n",
      "3/3 [==============================] - 6s 2s/step - loss: 1.2411 - accuracy: 0.4226 - val_loss: 1.2314 - val_accuracy: 0.4331\n",
      "Epoch 146/1000\n",
      "3/3 [==============================] - 6s 2s/step - loss: 1.2344 - accuracy: 0.4299 - val_loss: 1.2390 - val_accuracy: 0.4269\n",
      "Epoch 147/1000\n",
      "3/3 [==============================] - 6s 2s/step - loss: 1.2378 - accuracy: 0.4301 - val_loss: 1.2417 - val_accuracy: 0.4259\n",
      "Epoch 148/1000\n",
      "3/3 [==============================] - 6s 2s/step - loss: 1.2350 - accuracy: 0.4327 - val_loss: 1.2273 - val_accuracy: 0.4404\n",
      "Epoch 149/1000\n",
      "3/3 [==============================] - 6s 2s/step - loss: 1.2280 - accuracy: 0.4390 - val_loss: 1.2253 - val_accuracy: 0.4357\n",
      "Epoch 150/1000\n",
      "3/3 [==============================] - 6s 2s/step - loss: 1.2304 - accuracy: 0.4322 - val_loss: 1.2512 - val_accuracy: 0.4201\n",
      "Epoch 151/1000\n",
      "3/3 [==============================] - 6s 2s/step - loss: 1.2385 - accuracy: 0.4292 - val_loss: 1.2460 - val_accuracy: 0.4234\n",
      "Epoch 152/1000\n",
      "3/3 [==============================] - 6s 2s/step - loss: 1.2305 - accuracy: 0.4369 - val_loss: 1.2303 - val_accuracy: 0.4328\n",
      "Epoch 153/1000\n",
      "3/3 [==============================] - 5s 2s/step - loss: 1.2359 - accuracy: 0.4282 - val_loss: 1.2248 - val_accuracy: 0.4349\n",
      "Epoch 154/1000\n",
      "3/3 [==============================] - 6s 2s/step - loss: 1.2227 - accuracy: 0.4422 - val_loss: 1.2362 - val_accuracy: 0.4242\n",
      "Epoch 155/1000\n",
      "3/3 [==============================] - 5s 2s/step - loss: 1.2378 - accuracy: 0.4262 - val_loss: 1.2177 - val_accuracy: 0.4457\n",
      "Epoch 156/1000\n",
      "3/3 [==============================] - 6s 2s/step - loss: 1.2214 - accuracy: 0.4415 - val_loss: 1.2345 - val_accuracy: 0.4368\n",
      "Epoch 157/1000\n",
      "3/3 [==============================] - 6s 2s/step - loss: 1.2309 - accuracy: 0.4348 - val_loss: 1.2381 - val_accuracy: 0.4291\n",
      "Epoch 158/1000\n",
      "3/3 [==============================] - 6s 2s/step - loss: 1.2380 - accuracy: 0.4267 - val_loss: 1.2352 - val_accuracy: 0.4291\n",
      "Epoch 159/1000\n",
      "3/3 [==============================] - 6s 2s/step - loss: 1.2215 - accuracy: 0.4423 - val_loss: 1.2119 - val_accuracy: 0.4503\n",
      "Epoch 160/1000\n",
      "3/3 [==============================] - 6s 2s/step - loss: 1.2227 - accuracy: 0.4416 - val_loss: 1.2171 - val_accuracy: 0.4501\n",
      "Epoch 161/1000\n",
      "3/3 [==============================] - 6s 2s/step - loss: 1.2228 - accuracy: 0.4414 - val_loss: 1.2268 - val_accuracy: 0.4436\n",
      "Epoch 162/1000\n",
      "3/3 [==============================] - 6s 2s/step - loss: 1.2280 - accuracy: 0.4396 - val_loss: 1.2156 - val_accuracy: 0.4453\n",
      "Epoch 163/1000\n",
      "3/3 [==============================] - 6s 2s/step - loss: 1.2167 - accuracy: 0.4462 - val_loss: 1.2245 - val_accuracy: 0.4401\n",
      "Epoch 164/1000\n",
      "3/3 [==============================] - 5s 2s/step - loss: 1.2237 - accuracy: 0.4394 - val_loss: 1.2236 - val_accuracy: 0.4522\n",
      "Epoch 165/1000\n",
      "3/3 [==============================] - 5s 2s/step - loss: 1.2241 - accuracy: 0.4449 - val_loss: 1.2214 - val_accuracy: 0.4429\n",
      "Epoch 166/1000\n",
      "3/3 [==============================] - 6s 2s/step - loss: 1.2198 - accuracy: 0.4452 - val_loss: 1.2266 - val_accuracy: 0.4350\n",
      "Epoch 167/1000\n",
      "3/3 [==============================] - 5s 2s/step - loss: 1.2229 - accuracy: 0.4393 - val_loss: 1.2093 - val_accuracy: 0.4495\n",
      "Epoch 168/1000\n",
      "3/3 [==============================] - 6s 2s/step - loss: 1.2158 - accuracy: 0.4478 - val_loss: 1.2283 - val_accuracy: 0.4323\n",
      "Epoch 169/1000\n",
      "3/3 [==============================] - 5s 2s/step - loss: 1.2153 - accuracy: 0.4466 - val_loss: 1.2146 - val_accuracy: 0.4533\n",
      "Epoch 170/1000\n",
      "3/3 [==============================] - 6s 2s/step - loss: 1.2229 - accuracy: 0.4440 - val_loss: 1.2068 - val_accuracy: 0.4618\n",
      "Epoch 171/1000\n",
      "3/3 [==============================] - 6s 2s/step - loss: 1.2060 - accuracy: 0.4587 - val_loss: 1.2158 - val_accuracy: 0.4502\n",
      "Epoch 172/1000\n",
      "3/3 [==============================] - 6s 2s/step - loss: 1.2160 - accuracy: 0.4466 - val_loss: 1.2116 - val_accuracy: 0.4557\n",
      "Epoch 173/1000\n",
      "3/3 [==============================] - 5s 2s/step - loss: 1.2137 - accuracy: 0.4493 - val_loss: 1.2159 - val_accuracy: 0.4419\n",
      "Epoch 174/1000\n",
      "3/3 [==============================] - 6s 2s/step - loss: 1.2175 - accuracy: 0.4468 - val_loss: 1.2153 - val_accuracy: 0.4470\n",
      "Epoch 175/1000\n"
     ]
    },
    {
     "name": "stdout",
     "output_type": "stream",
     "text": [
      "3/3 [==============================] - 6s 2s/step - loss: 1.2140 - accuracy: 0.4478 - val_loss: 1.2250 - val_accuracy: 0.4374\n",
      "Epoch 176/1000\n",
      "3/3 [==============================] - 6s 2s/step - loss: 1.2128 - accuracy: 0.4467 - val_loss: 1.2096 - val_accuracy: 0.4488\n",
      "Epoch 177/1000\n",
      "3/3 [==============================] - 5s 2s/step - loss: 1.2112 - accuracy: 0.4487 - val_loss: 1.2187 - val_accuracy: 0.4445\n",
      "Epoch 178/1000\n",
      "3/3 [==============================] - 5s 2s/step - loss: 1.2185 - accuracy: 0.4413 - val_loss: 1.2024 - val_accuracy: 0.4597\n",
      "Epoch 179/1000\n",
      "3/3 [==============================] - 5s 2s/step - loss: 1.2012 - accuracy: 0.4615 - val_loss: 1.2100 - val_accuracy: 0.4500\n",
      "Epoch 180/1000\n",
      "3/3 [==============================] - 6s 2s/step - loss: 1.2062 - accuracy: 0.4541 - val_loss: 1.2113 - val_accuracy: 0.4488\n",
      "Epoch 181/1000\n",
      "3/3 [==============================] - 5s 2s/step - loss: 1.2233 - accuracy: 0.4401 - val_loss: 1.1927 - val_accuracy: 0.4654\n",
      "Epoch 182/1000\n",
      "3/3 [==============================] - 6s 2s/step - loss: 1.1956 - accuracy: 0.4626 - val_loss: 1.2324 - val_accuracy: 0.4419\n",
      "Epoch 183/1000\n",
      "3/3 [==============================] - 6s 2s/step - loss: 1.2260 - accuracy: 0.4440 - val_loss: 1.2160 - val_accuracy: 0.4482\n",
      "Epoch 184/1000\n",
      "3/3 [==============================] - 6s 2s/step - loss: 1.2125 - accuracy: 0.4533 - val_loss: 1.1928 - val_accuracy: 0.4661\n",
      "Epoch 185/1000\n",
      "3/3 [==============================] - 6s 2s/step - loss: 1.1971 - accuracy: 0.4614 - val_loss: 1.2143 - val_accuracy: 0.4501\n",
      "Epoch 186/1000\n",
      "3/3 [==============================] - 5s 2s/step - loss: 1.2059 - accuracy: 0.4534 - val_loss: 1.2017 - val_accuracy: 0.4524\n",
      "Epoch 187/1000\n",
      "3/3 [==============================] - 6s 2s/step - loss: 1.2009 - accuracy: 0.4534 - val_loss: 1.1958 - val_accuracy: 0.4537\n",
      "Epoch 188/1000\n",
      "3/3 [==============================] - 6s 2s/step - loss: 1.1971 - accuracy: 0.4577 - val_loss: 1.2091 - val_accuracy: 0.4434\n",
      "Epoch 189/1000\n",
      "3/3 [==============================] - 5s 2s/step - loss: 1.2123 - accuracy: 0.4471 - val_loss: 1.2007 - val_accuracy: 0.4595\n",
      "Epoch 190/1000\n",
      "3/3 [==============================] - 6s 2s/step - loss: 1.2046 - accuracy: 0.4547 - val_loss: 1.2008 - val_accuracy: 0.4516\n",
      "Epoch 191/1000\n",
      "3/3 [==============================] - 6s 2s/step - loss: 1.1929 - accuracy: 0.4616 - val_loss: 1.1864 - val_accuracy: 0.4699\n",
      "Epoch 192/1000\n",
      "3/3 [==============================] - 5s 2s/step - loss: 1.1968 - accuracy: 0.4619 - val_loss: 1.2182 - val_accuracy: 0.4462\n",
      "Epoch 193/1000\n",
      "3/3 [==============================] - 6s 2s/step - loss: 1.2013 - accuracy: 0.4569 - val_loss: 1.1986 - val_accuracy: 0.4593\n",
      "Epoch 194/1000\n",
      "3/3 [==============================] - 6s 2s/step - loss: 1.2035 - accuracy: 0.4536 - val_loss: 1.1991 - val_accuracy: 0.4573\n",
      "Epoch 195/1000\n",
      "3/3 [==============================] - 6s 2s/step - loss: 1.1947 - accuracy: 0.4597 - val_loss: 1.1897 - val_accuracy: 0.4644\n",
      "Epoch 196/1000\n",
      "3/3 [==============================] - 6s 2s/step - loss: 1.2006 - accuracy: 0.4571 - val_loss: 1.2093 - val_accuracy: 0.4499\n",
      "Epoch 197/1000\n",
      "3/3 [==============================] - 5s 2s/step - loss: 1.1970 - accuracy: 0.4606 - val_loss: 1.1975 - val_accuracy: 0.4611\n",
      "Epoch 198/1000\n",
      "3/3 [==============================] - 6s 2s/step - loss: 1.1953 - accuracy: 0.4610 - val_loss: 1.1926 - val_accuracy: 0.4633\n",
      "Epoch 199/1000\n",
      "3/3 [==============================] - 6s 2s/step - loss: 1.1996 - accuracy: 0.4549 - val_loss: 1.1990 - val_accuracy: 0.4580\n",
      "Epoch 200/1000\n",
      "3/3 [==============================] - 7s 2s/step - loss: 1.1902 - accuracy: 0.4668 - val_loss: 1.1960 - val_accuracy: 0.4675\n",
      "Epoch 201/1000\n",
      "3/3 [==============================] - 7s 2s/step - loss: 1.2031 - accuracy: 0.4568 - val_loss: 1.1835 - val_accuracy: 0.4728\n",
      "Epoch 202/1000\n",
      "3/3 [==============================] - 7s 2s/step - loss: 1.1863 - accuracy: 0.4687 - val_loss: 1.1892 - val_accuracy: 0.4651\n",
      "Epoch 203/1000\n",
      "3/3 [==============================] - 6s 2s/step - loss: 1.1947 - accuracy: 0.4589 - val_loss: 1.1849 - val_accuracy: 0.4737\n",
      "Epoch 204/1000\n",
      "3/3 [==============================] - 7s 2s/step - loss: 1.1868 - accuracy: 0.4729 - val_loss: 1.1967 - val_accuracy: 0.4554\n",
      "Epoch 205/1000\n",
      "3/3 [==============================] - 6s 2s/step - loss: 1.1828 - accuracy: 0.4709 - val_loss: 1.1907 - val_accuracy: 0.4675\n",
      "Epoch 206/1000\n",
      "3/3 [==============================] - 6s 2s/step - loss: 1.2004 - accuracy: 0.4552 - val_loss: 1.2150 - val_accuracy: 0.4483\n",
      "Epoch 207/1000\n",
      "3/3 [==============================] - 5s 2s/step - loss: 1.1984 - accuracy: 0.4583 - val_loss: 1.1757 - val_accuracy: 0.4778\n",
      "Epoch 208/1000\n",
      "3/3 [==============================] - 6s 2s/step - loss: 1.1767 - accuracy: 0.4763 - val_loss: 1.1859 - val_accuracy: 0.4717\n",
      "Epoch 209/1000\n",
      "3/3 [==============================] - 6s 2s/step - loss: 1.1835 - accuracy: 0.4694 - val_loss: 1.1826 - val_accuracy: 0.4752\n",
      "Epoch 210/1000\n",
      "3/3 [==============================] - 6s 2s/step - loss: 1.1804 - accuracy: 0.4740 - val_loss: 1.1728 - val_accuracy: 0.4786\n",
      "Epoch 211/1000\n",
      "3/3 [==============================] - 6s 2s/step - loss: 1.1803 - accuracy: 0.4740 - val_loss: 1.2096 - val_accuracy: 0.4400\n",
      "Epoch 212/1000\n",
      "3/3 [==============================] - 6s 2s/step - loss: 1.1904 - accuracy: 0.4607 - val_loss: 1.1857 - val_accuracy: 0.4618\n",
      "Epoch 213/1000\n",
      "3/3 [==============================] - 6s 2s/step - loss: 1.1834 - accuracy: 0.4650 - val_loss: 1.1838 - val_accuracy: 0.4635\n",
      "Epoch 214/1000\n",
      "3/3 [==============================] - 6s 2s/step - loss: 1.1816 - accuracy: 0.4691 - val_loss: 1.1783 - val_accuracy: 0.4689\n",
      "Epoch 215/1000\n",
      "3/3 [==============================] - 5s 2s/step - loss: 1.1771 - accuracy: 0.4748 - val_loss: 1.1827 - val_accuracy: 0.4741\n",
      "Epoch 216/1000\n",
      "3/3 [==============================] - 6s 2s/step - loss: 1.1857 - accuracy: 0.4665 - val_loss: 1.1723 - val_accuracy: 0.4808\n",
      "Epoch 217/1000\n",
      "3/3 [==============================] - 6s 2s/step - loss: 1.1811 - accuracy: 0.4723 - val_loss: 1.1802 - val_accuracy: 0.4743\n",
      "Epoch 218/1000\n",
      "3/3 [==============================] - 6s 2s/step - loss: 1.1714 - accuracy: 0.4782 - val_loss: 1.1835 - val_accuracy: 0.4595\n",
      "Epoch 219/1000\n",
      "3/3 [==============================] - 6s 2s/step - loss: 1.1932 - accuracy: 0.4530 - val_loss: 1.1726 - val_accuracy: 0.4771\n",
      "Epoch 220/1000\n",
      "3/3 [==============================] - 6s 2s/step - loss: 1.1725 - accuracy: 0.4787 - val_loss: 1.1763 - val_accuracy: 0.4741\n",
      "Epoch 221/1000\n",
      "3/3 [==============================] - 5s 2s/step - loss: 1.1750 - accuracy: 0.4760 - val_loss: 1.1813 - val_accuracy: 0.4710\n",
      "Epoch 222/1000\n",
      "3/3 [==============================] - 6s 2s/step - loss: 1.1770 - accuracy: 0.4726 - val_loss: 1.1772 - val_accuracy: 0.4726\n",
      "Epoch 223/1000\n",
      "3/3 [==============================] - 5s 2s/step - loss: 1.1745 - accuracy: 0.4759 - val_loss: 1.1620 - val_accuracy: 0.4847\n",
      "Epoch 224/1000\n",
      "3/3 [==============================] - 6s 2s/step - loss: 1.1665 - accuracy: 0.4812 - val_loss: 1.1773 - val_accuracy: 0.4725\n",
      "Epoch 225/1000\n",
      "3/3 [==============================] - 6s 2s/step - loss: 1.1925 - accuracy: 0.4626 - val_loss: 1.1812 - val_accuracy: 0.4740\n",
      "Epoch 226/1000\n",
      "3/3 [==============================] - 6s 2s/step - loss: 1.1769 - accuracy: 0.4740 - val_loss: 1.1604 - val_accuracy: 0.4881\n",
      "Epoch 227/1000\n",
      "3/3 [==============================] - 6s 2s/step - loss: 1.1574 - accuracy: 0.4858 - val_loss: 1.1626 - val_accuracy: 0.4799\n",
      "Epoch 228/1000\n",
      "3/3 [==============================] - 5s 2s/step - loss: 1.1779 - accuracy: 0.4671 - val_loss: 1.1846 - val_accuracy: 0.4678\n",
      "Epoch 229/1000\n",
      "3/3 [==============================] - 6s 2s/step - loss: 1.1710 - accuracy: 0.4814 - val_loss: 1.1693 - val_accuracy: 0.4836\n",
      "Epoch 230/1000\n",
      "3/3 [==============================] - 6s 2s/step - loss: 1.1741 - accuracy: 0.4776 - val_loss: 1.1664 - val_accuracy: 0.4845\n",
      "Epoch 231/1000\n",
      "3/3 [==============================] - 6s 2s/step - loss: 1.1592 - accuracy: 0.4905 - val_loss: 1.1677 - val_accuracy: 0.4748\n",
      "Epoch 232/1000\n",
      "3/3 [==============================] - 6s 2s/step - loss: 1.1741 - accuracy: 0.4746 - val_loss: 1.1552 - val_accuracy: 0.4904\n",
      "Epoch 233/1000\n"
     ]
    },
    {
     "name": "stdout",
     "output_type": "stream",
     "text": [
      "3/3 [==============================] - 6s 2s/step - loss: 1.1617 - accuracy: 0.4838 - val_loss: 1.2141 - val_accuracy: 0.4477\n",
      "Epoch 234/1000\n",
      "3/3 [==============================] - 6s 2s/step - loss: 1.1835 - accuracy: 0.4689 - val_loss: 1.1643 - val_accuracy: 0.4855\n",
      "Epoch 235/1000\n",
      "3/3 [==============================] - 6s 2s/step - loss: 1.1661 - accuracy: 0.4822 - val_loss: 1.1539 - val_accuracy: 0.4904\n",
      "Epoch 236/1000\n",
      "3/3 [==============================] - 6s 2s/step - loss: 1.1530 - accuracy: 0.4907 - val_loss: 1.1718 - val_accuracy: 0.4669\n",
      "Epoch 237/1000\n",
      "3/3 [==============================] - 6s 2s/step - loss: 1.1702 - accuracy: 0.4731 - val_loss: 1.1530 - val_accuracy: 0.4893\n",
      "Epoch 238/1000\n",
      "3/3 [==============================] - 6s 2s/step - loss: 1.1563 - accuracy: 0.4866 - val_loss: 1.1610 - val_accuracy: 0.4845\n",
      "Epoch 239/1000\n",
      "3/3 [==============================] - 6s 2s/step - loss: 1.1694 - accuracy: 0.4751 - val_loss: 1.1806 - val_accuracy: 0.4747\n",
      "Epoch 240/1000\n",
      "3/3 [==============================] - 6s 2s/step - loss: 1.1606 - accuracy: 0.4847 - val_loss: 1.1487 - val_accuracy: 0.4932\n",
      "Epoch 241/1000\n",
      "3/3 [==============================] - 6s 2s/step - loss: 1.1569 - accuracy: 0.4861 - val_loss: 1.1506 - val_accuracy: 0.4935\n",
      "Epoch 242/1000\n",
      "3/3 [==============================] - 5s 2s/step - loss: 1.1536 - accuracy: 0.4877 - val_loss: 1.1602 - val_accuracy: 0.4819\n",
      "Epoch 243/1000\n",
      "3/3 [==============================] - 6s 2s/step - loss: 1.1645 - accuracy: 0.4834 - val_loss: 1.1566 - val_accuracy: 0.4895\n",
      "Epoch 244/1000\n",
      "3/3 [==============================] - 6s 2s/step - loss: 1.1627 - accuracy: 0.4840 - val_loss: 1.1750 - val_accuracy: 0.4715\n",
      "Epoch 245/1000\n",
      "3/3 [==============================] - 6s 2s/step - loss: 1.1592 - accuracy: 0.4812 - val_loss: 1.1487 - val_accuracy: 0.4954\n",
      "Epoch 246/1000\n",
      "3/3 [==============================] - 6s 2s/step - loss: 1.1488 - accuracy: 0.4912 - val_loss: 1.1628 - val_accuracy: 0.4785\n",
      "Epoch 247/1000\n",
      "3/3 [==============================] - 6s 2s/step - loss: 1.1641 - accuracy: 0.4782 - val_loss: 1.1548 - val_accuracy: 0.4780\n",
      "Epoch 248/1000\n",
      "3/3 [==============================] - 6s 2s/step - loss: 1.1685 - accuracy: 0.4751 - val_loss: 1.1482 - val_accuracy: 0.4923\n",
      "Epoch 249/1000\n",
      "3/3 [==============================] - 6s 2s/step - loss: 1.1489 - accuracy: 0.4921 - val_loss: 1.1540 - val_accuracy: 0.4883\n",
      "Epoch 250/1000\n",
      "3/3 [==============================] - 6s 2s/step - loss: 1.1437 - accuracy: 0.4946 - val_loss: 1.1377 - val_accuracy: 0.4990\n",
      "Epoch 251/1000\n",
      "3/3 [==============================] - 6s 2s/step - loss: 1.1478 - accuracy: 0.4918 - val_loss: 1.1798 - val_accuracy: 0.4654\n",
      "Epoch 252/1000\n",
      "3/3 [==============================] - 6s 2s/step - loss: 1.1591 - accuracy: 0.4833 - val_loss: 1.1343 - val_accuracy: 0.4976\n",
      "Epoch 253/1000\n",
      "3/3 [==============================] - 6s 2s/step - loss: 1.1378 - accuracy: 0.4979 - val_loss: 1.1608 - val_accuracy: 0.4905\n",
      "Epoch 254/1000\n",
      "3/3 [==============================] - 6s 2s/step - loss: 1.1831 - accuracy: 0.4692 - val_loss: 1.1534 - val_accuracy: 0.4852\n",
      "Epoch 255/1000\n",
      "3/3 [==============================] - 6s 2s/step - loss: 1.1485 - accuracy: 0.4914 - val_loss: 1.1580 - val_accuracy: 0.4849\n",
      "Epoch 256/1000\n",
      "3/3 [==============================] - 6s 2s/step - loss: 1.1494 - accuracy: 0.4885 - val_loss: 1.1373 - val_accuracy: 0.4987\n",
      "Epoch 257/1000\n",
      "3/3 [==============================] - 6s 2s/step - loss: 1.1359 - accuracy: 0.4996 - val_loss: 1.1421 - val_accuracy: 0.4959\n",
      "Epoch 258/1000\n",
      "3/3 [==============================] - 5s 2s/step - loss: 1.1499 - accuracy: 0.4907 - val_loss: 1.1585 - val_accuracy: 0.4786\n",
      "Epoch 259/1000\n",
      "3/3 [==============================] - 6s 2s/step - loss: 1.1449 - accuracy: 0.4930 - val_loss: 1.1330 - val_accuracy: 0.5028\n",
      "Epoch 260/1000\n",
      "3/3 [==============================] - 6s 2s/step - loss: 1.1403 - accuracy: 0.4946 - val_loss: 1.1387 - val_accuracy: 0.4946\n",
      "Epoch 261/1000\n",
      "3/3 [==============================] - 6s 2s/step - loss: 1.1510 - accuracy: 0.4881 - val_loss: 1.1847 - val_accuracy: 0.4598\n",
      "Epoch 262/1000\n",
      "3/3 [==============================] - 6s 2s/step - loss: 1.1553 - accuracy: 0.4811 - val_loss: 1.1314 - val_accuracy: 0.5034\n",
      "Epoch 263/1000\n",
      "3/3 [==============================] - 6s 2s/step - loss: 1.1282 - accuracy: 0.5053 - val_loss: 1.1277 - val_accuracy: 0.5142\n",
      "Epoch 264/1000\n",
      "3/3 [==============================] - 6s 2s/step - loss: 1.1342 - accuracy: 0.5022 - val_loss: 1.1428 - val_accuracy: 0.4895\n",
      "Epoch 265/1000\n",
      "3/3 [==============================] - 6s 2s/step - loss: 1.1353 - accuracy: 0.4965 - val_loss: 1.1311 - val_accuracy: 0.5050\n",
      "Epoch 266/1000\n",
      "3/3 [==============================] - 6s 2s/step - loss: 1.1481 - accuracy: 0.4892 - val_loss: 1.1569 - val_accuracy: 0.4869\n",
      "Epoch 267/1000\n",
      "3/3 [==============================] - 6s 2s/step - loss: 1.1525 - accuracy: 0.4869 - val_loss: 1.1284 - val_accuracy: 0.4983\n",
      "Epoch 268/1000\n",
      "3/3 [==============================] - 6s 2s/step - loss: 1.1262 - accuracy: 0.5039 - val_loss: 1.1250 - val_accuracy: 0.5115\n",
      "Epoch 269/1000\n",
      "3/3 [==============================] - 6s 2s/step - loss: 1.1283 - accuracy: 0.5041 - val_loss: 1.1374 - val_accuracy: 0.4986\n",
      "Epoch 270/1000\n",
      "3/3 [==============================] - 6s 2s/step - loss: 1.1424 - accuracy: 0.4933 - val_loss: 1.1478 - val_accuracy: 0.4935\n",
      "Epoch 271/1000\n",
      "3/3 [==============================] - 6s 2s/step - loss: 1.1410 - accuracy: 0.4945 - val_loss: 1.1511 - val_accuracy: 0.4851\n",
      "Epoch 272/1000\n",
      "3/3 [==============================] - 6s 2s/step - loss: 1.1507 - accuracy: 0.4890 - val_loss: 1.1308 - val_accuracy: 0.5005\n",
      "Epoch 273/1000\n",
      "3/3 [==============================] - 6s 2s/step - loss: 1.1268 - accuracy: 0.5027 - val_loss: 1.1175 - val_accuracy: 0.5097\n",
      "Epoch 274/1000\n",
      "3/3 [==============================] - 6s 2s/step - loss: 1.1197 - accuracy: 0.5070 - val_loss: 1.1354 - val_accuracy: 0.4978\n",
      "Epoch 275/1000\n",
      "3/3 [==============================] - 6s 2s/step - loss: 1.1314 - accuracy: 0.5017 - val_loss: 1.1602 - val_accuracy: 0.4743\n",
      "Epoch 276/1000\n",
      "3/3 [==============================] - 6s 2s/step - loss: 1.1538 - accuracy: 0.4817 - val_loss: 1.1249 - val_accuracy: 0.5108\n",
      "Epoch 277/1000\n",
      "3/3 [==============================] - 6s 2s/step - loss: 1.1272 - accuracy: 0.5067 - val_loss: 1.1165 - val_accuracy: 0.5073\n",
      "Epoch 278/1000\n",
      "3/3 [==============================] - 6s 2s/step - loss: 1.1124 - accuracy: 0.5117 - val_loss: 1.1203 - val_accuracy: 0.5015\n",
      "Epoch 279/1000\n",
      "3/3 [==============================] - 5s 2s/step - loss: 1.1423 - accuracy: 0.4887 - val_loss: 1.1740 - val_accuracy: 0.4741\n",
      "Epoch 280/1000\n",
      "3/3 [==============================] - 6s 2s/step - loss: 1.1429 - accuracy: 0.4932 - val_loss: 1.1193 - val_accuracy: 0.5081\n",
      "Epoch 281/1000\n",
      "3/3 [==============================] - 6s 2s/step - loss: 1.1240 - accuracy: 0.5022 - val_loss: 1.1230 - val_accuracy: 0.4956\n",
      "Epoch 282/1000\n",
      "3/3 [==============================] - 6s 2s/step - loss: 1.1194 - accuracy: 0.5037 - val_loss: 1.1273 - val_accuracy: 0.5049\n",
      "Epoch 283/1000\n",
      "3/3 [==============================] - 6s 2s/step - loss: 1.1240 - accuracy: 0.5071 - val_loss: 1.1328 - val_accuracy: 0.5036\n",
      "Epoch 284/1000\n",
      "3/3 [==============================] - 6s 2s/step - loss: 1.1326 - accuracy: 0.4986 - val_loss: 1.1195 - val_accuracy: 0.5049\n",
      "Epoch 285/1000\n",
      "3/3 [==============================] - 6s 2s/step - loss: 1.1229 - accuracy: 0.5064 - val_loss: 1.1068 - val_accuracy: 0.5177\n",
      "Epoch 286/1000\n",
      "3/3 [==============================] - 6s 2s/step - loss: 1.1075 - accuracy: 0.5159 - val_loss: 1.1304 - val_accuracy: 0.5026\n",
      "Epoch 287/1000\n",
      "3/3 [==============================] - 6s 2s/step - loss: 1.1339 - accuracy: 0.5001 - val_loss: 1.1282 - val_accuracy: 0.5042\n",
      "Epoch 288/1000\n",
      "3/3 [==============================] - 6s 2s/step - loss: 1.1291 - accuracy: 0.5014 - val_loss: 1.1188 - val_accuracy: 0.5049\n",
      "Epoch 289/1000\n",
      "3/3 [==============================] - 6s 2s/step - loss: 1.1071 - accuracy: 0.5147 - val_loss: 1.1009 - val_accuracy: 0.5214\n",
      "Epoch 290/1000\n",
      "3/3 [==============================] - 6s 2s/step - loss: 1.1193 - accuracy: 0.5067 - val_loss: 1.2013 - val_accuracy: 0.4581\n",
      "Epoch 291/1000\n"
     ]
    },
    {
     "name": "stdout",
     "output_type": "stream",
     "text": [
      "3/3 [==============================] - 6s 2s/step - loss: 1.1569 - accuracy: 0.4856 - val_loss: 1.1190 - val_accuracy: 0.5040\n",
      "Epoch 292/1000\n",
      "3/3 [==============================] - 5s 2s/step - loss: 1.1263 - accuracy: 0.5043 - val_loss: 1.1073 - val_accuracy: 0.5177\n",
      "Epoch 293/1000\n",
      "3/3 [==============================] - 5s 2s/step - loss: 1.1156 - accuracy: 0.5088 - val_loss: 1.1072 - val_accuracy: 0.5098\n",
      "Epoch 294/1000\n",
      "3/3 [==============================] - 5s 2s/step - loss: 1.0989 - accuracy: 0.5183 - val_loss: 1.1052 - val_accuracy: 0.5144\n",
      "Epoch 295/1000\n",
      "3/3 [==============================] - 5s 2s/step - loss: 1.1134 - accuracy: 0.5059 - val_loss: 1.1290 - val_accuracy: 0.5026\n",
      "Epoch 296/1000\n",
      "3/3 [==============================] - 6s 2s/step - loss: 1.1221 - accuracy: 0.5096 - val_loss: 1.1101 - val_accuracy: 0.5161\n",
      "Epoch 297/1000\n",
      "3/3 [==============================] - 6s 2s/step - loss: 1.1162 - accuracy: 0.5100 - val_loss: 1.1003 - val_accuracy: 0.5176\n",
      "Epoch 298/1000\n",
      "3/3 [==============================] - 6s 2s/step - loss: 1.1017 - accuracy: 0.5178 - val_loss: 1.1070 - val_accuracy: 0.5181\n",
      "Epoch 299/1000\n",
      "3/3 [==============================] - 6s 2s/step - loss: 1.1060 - accuracy: 0.5151 - val_loss: 1.1319 - val_accuracy: 0.4960\n",
      "Epoch 300/1000\n",
      "3/3 [==============================] - 6s 2s/step - loss: 1.1391 - accuracy: 0.4951 - val_loss: 1.0941 - val_accuracy: 0.5181\n",
      "Epoch 301/1000\n",
      "3/3 [==============================] - 6s 2s/step - loss: 1.0936 - accuracy: 0.5226 - val_loss: 1.1026 - val_accuracy: 0.5194\n",
      "Epoch 302/1000\n",
      "3/3 [==============================] - 6s 2s/step - loss: 1.1168 - accuracy: 0.5080 - val_loss: 1.1243 - val_accuracy: 0.5056\n",
      "Epoch 303/1000\n",
      "3/3 [==============================] - 6s 2s/step - loss: 1.1221 - accuracy: 0.5065 - val_loss: 1.1012 - val_accuracy: 0.5228\n",
      "Epoch 304/1000\n",
      "3/3 [==============================] - 6s 2s/step - loss: 1.1011 - accuracy: 0.5211 - val_loss: 1.1089 - val_accuracy: 0.5132\n",
      "Epoch 305/1000\n",
      "3/3 [==============================] - 6s 2s/step - loss: 1.1182 - accuracy: 0.5077 - val_loss: 1.1315 - val_accuracy: 0.4979\n",
      "Epoch 306/1000\n",
      "3/3 [==============================] - 6s 2s/step - loss: 1.1124 - accuracy: 0.5127 - val_loss: 1.0895 - val_accuracy: 0.5295\n",
      "Epoch 307/1000\n",
      "3/3 [==============================] - 6s 2s/step - loss: 1.0861 - accuracy: 0.5302 - val_loss: 1.0937 - val_accuracy: 0.5148\n",
      "Epoch 308/1000\n",
      "3/3 [==============================] - 6s 2s/step - loss: 1.1064 - accuracy: 0.5101 - val_loss: 1.1547 - val_accuracy: 0.4891\n",
      "Epoch 309/1000\n",
      "3/3 [==============================] - 6s 2s/step - loss: 1.1174 - accuracy: 0.5093 - val_loss: 1.1097 - val_accuracy: 0.5095\n",
      "Epoch 310/1000\n",
      "3/3 [==============================] - 6s 2s/step - loss: 1.1147 - accuracy: 0.5084 - val_loss: 1.0855 - val_accuracy: 0.5266\n",
      "Epoch 311/1000\n",
      "3/3 [==============================] - 6s 2s/step - loss: 1.0853 - accuracy: 0.5256 - val_loss: 1.1014 - val_accuracy: 0.5070\n",
      "Epoch 312/1000\n",
      "3/3 [==============================] - 5s 2s/step - loss: 1.1098 - accuracy: 0.5053 - val_loss: 1.1133 - val_accuracy: 0.5131\n",
      "Epoch 313/1000\n",
      "3/3 [==============================] - 6s 2s/step - loss: 1.1047 - accuracy: 0.5202 - val_loss: 1.0936 - val_accuracy: 0.5220\n",
      "Epoch 314/1000\n",
      "3/3 [==============================] - 6s 2s/step - loss: 1.1008 - accuracy: 0.5152 - val_loss: 1.0993 - val_accuracy: 0.5158\n",
      "Epoch 315/1000\n",
      "3/3 [==============================] - 6s 2s/step - loss: 1.1022 - accuracy: 0.5141 - val_loss: 1.0970 - val_accuracy: 0.5226\n",
      "Epoch 316/1000\n",
      "3/3 [==============================] - 6s 2s/step - loss: 1.0841 - accuracy: 0.5319 - val_loss: 1.0797 - val_accuracy: 0.5321\n",
      "Epoch 317/1000\n",
      "3/3 [==============================] - 5s 2s/step - loss: 1.0937 - accuracy: 0.5214 - val_loss: 1.1503 - val_accuracy: 0.4862\n",
      "Epoch 318/1000\n",
      "3/3 [==============================] - 6s 2s/step - loss: 1.1442 - accuracy: 0.4891 - val_loss: 1.1061 - val_accuracy: 0.5106\n",
      "Epoch 319/1000\n",
      "3/3 [==============================] - 6s 2s/step - loss: 1.0983 - accuracy: 0.5157 - val_loss: 1.0739 - val_accuracy: 0.5342\n",
      "Epoch 320/1000\n",
      "3/3 [==============================] - 6s 2s/step - loss: 1.0731 - accuracy: 0.5358 - val_loss: 1.0850 - val_accuracy: 0.5263\n",
      "Epoch 321/1000\n",
      "3/3 [==============================] - 6s 2s/step - loss: 1.0998 - accuracy: 0.5169 - val_loss: 1.0990 - val_accuracy: 0.5226\n",
      "Epoch 322/1000\n",
      "3/3 [==============================] - 6s 2s/step - loss: 1.0934 - accuracy: 0.5249 - val_loss: 1.1034 - val_accuracy: 0.5132\n",
      "Epoch 323/1000\n",
      "3/3 [==============================] - 6s 2s/step - loss: 1.1056 - accuracy: 0.5123 - val_loss: 1.0764 - val_accuracy: 0.5311\n",
      "Epoch 324/1000\n",
      "3/3 [==============================] - 6s 2s/step - loss: 1.0708 - accuracy: 0.5371 - val_loss: 1.0801 - val_accuracy: 0.5360\n",
      "Epoch 325/1000\n",
      "3/3 [==============================] - 6s 2s/step - loss: 1.0853 - accuracy: 0.5286 - val_loss: 1.1154 - val_accuracy: 0.5069\n",
      "Epoch 326/1000\n",
      "3/3 [==============================] - 6s 2s/step - loss: 1.1169 - accuracy: 0.5057 - val_loss: 1.0846 - val_accuracy: 0.5286\n",
      "Epoch 327/1000\n",
      "3/3 [==============================] - 6s 2s/step - loss: 1.1043 - accuracy: 0.5141 - val_loss: 1.0745 - val_accuracy: 0.5331\n",
      "Epoch 328/1000\n",
      "3/3 [==============================] - 6s 2s/step - loss: 1.0683 - accuracy: 0.5402 - val_loss: 1.0664 - val_accuracy: 0.5418\n",
      "Epoch 329/1000\n",
      "3/3 [==============================] - 5s 2s/step - loss: 1.0695 - accuracy: 0.5375 - val_loss: 1.0907 - val_accuracy: 0.5271\n",
      "Epoch 330/1000\n",
      "3/3 [==============================] - 6s 2s/step - loss: 1.0907 - accuracy: 0.5247 - val_loss: 1.0833 - val_accuracy: 0.5242\n",
      "Epoch 331/1000\n",
      "3/3 [==============================] - 6s 2s/step - loss: 1.0780 - accuracy: 0.5295 - val_loss: 1.0669 - val_accuracy: 0.5430\n",
      "Epoch 332/1000\n",
      "3/3 [==============================] - 6s 2s/step - loss: 1.0677 - accuracy: 0.5377 - val_loss: 1.1097 - val_accuracy: 0.5086\n",
      "Epoch 333/1000\n",
      "3/3 [==============================] - 5s 2s/step - loss: 1.1073 - accuracy: 0.5123 - val_loss: 1.0851 - val_accuracy: 0.5260\n",
      "Epoch 334/1000\n",
      "3/3 [==============================] - 5s 2s/step - loss: 1.0880 - accuracy: 0.5232 - val_loss: 1.0939 - val_accuracy: 0.5256\n",
      "Epoch 335/1000\n",
      "3/3 [==============================] - 6s 2s/step - loss: 1.0851 - accuracy: 0.5261 - val_loss: 1.1241 - val_accuracy: 0.5008\n",
      "Epoch 336/1000\n",
      "3/3 [==============================] - 6s 2s/step - loss: 1.1236 - accuracy: 0.4994 - val_loss: 1.0789 - val_accuracy: 0.5355\n",
      "Epoch 337/1000\n",
      "3/3 [==============================] - 6s 2s/step - loss: 1.0745 - accuracy: 0.5338 - val_loss: 1.0749 - val_accuracy: 0.5332\n",
      "Epoch 338/1000\n",
      "3/3 [==============================] - 6s 2s/step - loss: 1.0770 - accuracy: 0.5307 - val_loss: 1.0651 - val_accuracy: 0.5352\n",
      "Epoch 339/1000\n",
      "3/3 [==============================] - 6s 2s/step - loss: 1.0607 - accuracy: 0.5397 - val_loss: 1.0803 - val_accuracy: 0.5269\n",
      "Epoch 340/1000\n",
      "3/3 [==============================] - 5s 2s/step - loss: 1.0826 - accuracy: 0.5266 - val_loss: 1.0615 - val_accuracy: 0.5469\n",
      "Epoch 341/1000\n",
      "3/3 [==============================] - 6s 2s/step - loss: 1.0657 - accuracy: 0.5410 - val_loss: 1.0648 - val_accuracy: 0.5375\n",
      "Epoch 342/1000\n",
      "3/3 [==============================] - 6s 2s/step - loss: 1.0623 - accuracy: 0.5400 - val_loss: 1.0800 - val_accuracy: 0.5297\n",
      "Epoch 343/1000\n",
      "3/3 [==============================] - 6s 2s/step - loss: 1.0795 - accuracy: 0.5278 - val_loss: 1.0688 - val_accuracy: 0.5279\n",
      "Epoch 344/1000\n",
      "3/3 [==============================] - 6s 2s/step - loss: 1.0739 - accuracy: 0.5291 - val_loss: 1.1095 - val_accuracy: 0.5099\n",
      "Epoch 345/1000\n",
      "3/3 [==============================] - 6s 2s/step - loss: 1.0969 - accuracy: 0.5184 - val_loss: 1.1008 - val_accuracy: 0.5104\n",
      "Epoch 346/1000\n",
      "3/3 [==============================] - 6s 2s/step - loss: 1.0843 - accuracy: 0.5223 - val_loss: 1.0548 - val_accuracy: 0.5451\n",
      "Epoch 347/1000\n",
      "3/3 [==============================] - 6s 2s/step - loss: 1.0539 - accuracy: 0.5442 - val_loss: 1.0654 - val_accuracy: 0.5379\n",
      "Epoch 348/1000\n",
      "3/3 [==============================] - 6s 2s/step - loss: 1.0743 - accuracy: 0.5300 - val_loss: 1.0647 - val_accuracy: 0.5361\n",
      "Epoch 349/1000\n"
     ]
    },
    {
     "name": "stdout",
     "output_type": "stream",
     "text": [
      "3/3 [==============================] - 6s 2s/step - loss: 1.0780 - accuracy: 0.5300 - val_loss: 1.0978 - val_accuracy: 0.5128\n",
      "Epoch 350/1000\n",
      "3/3 [==============================] - 6s 2s/step - loss: 1.0751 - accuracy: 0.5293 - val_loss: 1.0585 - val_accuracy: 0.5396\n",
      "Epoch 351/1000\n",
      "3/3 [==============================] - 6s 2s/step - loss: 1.0543 - accuracy: 0.5436 - val_loss: 1.0589 - val_accuracy: 0.5420\n",
      "Epoch 352/1000\n",
      "3/3 [==============================] - 6s 2s/step - loss: 1.0673 - accuracy: 0.5362 - val_loss: 1.0534 - val_accuracy: 0.5494\n",
      "Epoch 353/1000\n",
      "3/3 [==============================] - 6s 2s/step - loss: 1.0481 - accuracy: 0.5475 - val_loss: 1.0641 - val_accuracy: 0.5405\n",
      "Epoch 354/1000\n",
      "3/3 [==============================] - 6s 2s/step - loss: 1.0817 - accuracy: 0.5273 - val_loss: 1.0787 - val_accuracy: 0.5310\n",
      "Epoch 355/1000\n",
      "3/3 [==============================] - 6s 2s/step - loss: 1.0809 - accuracy: 0.5260 - val_loss: 1.0785 - val_accuracy: 0.5325\n",
      "Epoch 356/1000\n",
      "3/3 [==============================] - 6s 2s/step - loss: 1.0846 - accuracy: 0.5262 - val_loss: 1.0457 - val_accuracy: 0.5488\n",
      "Epoch 357/1000\n",
      "3/3 [==============================] - 5s 2s/step - loss: 1.0491 - accuracy: 0.5463 - val_loss: 1.0534 - val_accuracy: 0.5486\n",
      "Epoch 358/1000\n",
      "3/3 [==============================] - 6s 2s/step - loss: 1.0468 - accuracy: 0.5483 - val_loss: 1.0487 - val_accuracy: 0.5418\n",
      "Epoch 359/1000\n",
      "3/3 [==============================] - 6s 2s/step - loss: 1.0581 - accuracy: 0.5379 - val_loss: 1.0691 - val_accuracy: 0.5363\n",
      "Epoch 360/1000\n",
      "3/3 [==============================] - 6s 2s/step - loss: 1.0856 - accuracy: 0.5267 - val_loss: 1.1065 - val_accuracy: 0.5095\n",
      "Epoch 361/1000\n",
      "3/3 [==============================] - 5s 2s/step - loss: 1.0806 - accuracy: 0.5268 - val_loss: 1.0372 - val_accuracy: 0.5575\n",
      "Epoch 362/1000\n",
      "3/3 [==============================] - 6s 2s/step - loss: 1.0347 - accuracy: 0.5577 - val_loss: 1.0378 - val_accuracy: 0.5558\n",
      "Epoch 363/1000\n",
      "3/3 [==============================] - 6s 2s/step - loss: 1.0461 - accuracy: 0.5513 - val_loss: 1.0802 - val_accuracy: 0.5305\n",
      "Epoch 364/1000\n",
      "3/3 [==============================] - 6s 2s/step - loss: 1.0657 - accuracy: 0.5393 - val_loss: 1.0681 - val_accuracy: 0.5332\n",
      "Epoch 365/1000\n",
      "3/3 [==============================] - 6s 2s/step - loss: 1.0688 - accuracy: 0.5307 - val_loss: 1.0382 - val_accuracy: 0.5567\n",
      "Epoch 366/1000\n",
      "3/3 [==============================] - 6s 2s/step - loss: 1.0326 - accuracy: 0.5610 - val_loss: 1.0399 - val_accuracy: 0.5578\n",
      "Epoch 367/1000\n",
      "3/3 [==============================] - 6s 2s/step - loss: 1.0450 - accuracy: 0.5486 - val_loss: 1.0490 - val_accuracy: 0.5391\n",
      "Epoch 368/1000\n",
      "3/3 [==============================] - 6s 2s/step - loss: 1.0695 - accuracy: 0.5315 - val_loss: 1.1897 - val_accuracy: 0.4681\n",
      "Epoch 369/1000\n",
      "3/3 [==============================] - 6s 2s/step - loss: 1.1426 - accuracy: 0.4953 - val_loss: 1.0468 - val_accuracy: 0.5539\n",
      "Epoch 370/1000\n",
      "3/3 [==============================] - 6s 2s/step - loss: 1.0352 - accuracy: 0.5605 - val_loss: 1.0271 - val_accuracy: 0.5639\n",
      "Epoch 371/1000\n",
      "3/3 [==============================] - 6s 2s/step - loss: 1.0305 - accuracy: 0.5615 - val_loss: 1.0400 - val_accuracy: 0.5597\n",
      "Epoch 372/1000\n",
      "3/3 [==============================] - 6s 2s/step - loss: 1.0337 - accuracy: 0.5598 - val_loss: 1.0331 - val_accuracy: 0.5567\n",
      "Epoch 373/1000\n",
      "3/3 [==============================] - 5s 2s/step - loss: 1.0425 - accuracy: 0.5520 - val_loss: 1.1106 - val_accuracy: 0.5135\n",
      "Epoch 374/1000\n",
      "3/3 [==============================] - 6s 2s/step - loss: 1.0947 - accuracy: 0.5227 - val_loss: 1.0421 - val_accuracy: 0.5432\n",
      "Epoch 375/1000\n",
      "3/3 [==============================] - 6s 2s/step - loss: 1.0283 - accuracy: 0.5591 - val_loss: 1.0205 - val_accuracy: 0.5671\n",
      "Epoch 376/1000\n",
      "3/3 [==============================] - 6s 2s/step - loss: 1.0238 - accuracy: 0.5639 - val_loss: 1.0677 - val_accuracy: 0.5375\n",
      "Epoch 377/1000\n",
      "3/3 [==============================] - 6s 2s/step - loss: 1.0505 - accuracy: 0.5454 - val_loss: 1.0337 - val_accuracy: 0.5556\n",
      "Epoch 378/1000\n",
      "3/3 [==============================] - 6s 2s/step - loss: 1.0401 - accuracy: 0.5553 - val_loss: 1.0370 - val_accuracy: 0.5558\n",
      "Epoch 379/1000\n",
      "3/3 [==============================] - 6s 2s/step - loss: 1.0507 - accuracy: 0.5458 - val_loss: 1.0619 - val_accuracy: 0.5331\n",
      "Epoch 380/1000\n",
      "3/3 [==============================] - 6s 2s/step - loss: 1.0423 - accuracy: 0.5501 - val_loss: 1.0329 - val_accuracy: 0.5540\n",
      "Epoch 381/1000\n",
      "3/3 [==============================] - 6s 2s/step - loss: 1.0510 - accuracy: 0.5438 - val_loss: 1.1877 - val_accuracy: 0.4756\n",
      "Epoch 382/1000\n",
      "3/3 [==============================] - 6s 2s/step - loss: 1.1090 - accuracy: 0.5134 - val_loss: 1.0228 - val_accuracy: 0.5642\n",
      "Epoch 383/1000\n",
      "3/3 [==============================] - 6s 2s/step - loss: 1.0169 - accuracy: 0.5668 - val_loss: 1.0170 - val_accuracy: 0.5678\n",
      "Epoch 384/1000\n",
      "3/3 [==============================] - 6s 2s/step - loss: 1.0171 - accuracy: 0.5673 - val_loss: 1.0296 - val_accuracy: 0.5572\n",
      "Epoch 385/1000\n",
      "3/3 [==============================] - 6s 2s/step - loss: 1.0480 - accuracy: 0.5477 - val_loss: 1.0600 - val_accuracy: 0.5385\n",
      "Epoch 386/1000\n",
      "3/3 [==============================] - 6s 2s/step - loss: 1.0421 - accuracy: 0.5480 - val_loss: 1.0252 - val_accuracy: 0.5661\n",
      "Epoch 387/1000\n",
      "3/3 [==============================] - 5s 2s/step - loss: 1.0237 - accuracy: 0.5636 - val_loss: 1.0141 - val_accuracy: 0.5698\n",
      "Epoch 388/1000\n",
      "3/3 [==============================] - 5s 2s/step - loss: 1.0207 - accuracy: 0.5664 - val_loss: 1.0824 - val_accuracy: 0.5291\n",
      "Epoch 389/1000\n",
      "3/3 [==============================] - 4s 2s/step - loss: 1.1063 - accuracy: 0.5159 - val_loss: 1.1219 - val_accuracy: 0.4990\n",
      "Epoch 390/1000\n",
      "3/3 [==============================] - 4s 1s/step - loss: 1.0642 - accuracy: 0.5399 - val_loss: 1.0053 - val_accuracy: 0.5794\n",
      "Epoch 391/1000\n",
      "3/3 [==============================] - 4s 1s/step - loss: 1.0019 - accuracy: 0.5802 - val_loss: 1.0073 - val_accuracy: 0.5683\n",
      "Epoch 392/1000\n",
      "3/3 [==============================] - 4s 1s/step - loss: 1.0135 - accuracy: 0.5674 - val_loss: 1.0385 - val_accuracy: 0.5594\n",
      "Epoch 393/1000\n",
      "3/3 [==============================] - 4s 1s/step - loss: 1.0527 - accuracy: 0.5444 - val_loss: 1.0346 - val_accuracy: 0.5586\n",
      "Epoch 394/1000\n",
      "3/3 [==============================] - 4s 1s/step - loss: 1.0222 - accuracy: 0.5663 - val_loss: 1.0138 - val_accuracy: 0.5695\n",
      "Epoch 395/1000\n",
      "3/3 [==============================] - 4s 1s/step - loss: 1.0192 - accuracy: 0.5658 - val_loss: 1.0252 - val_accuracy: 0.5687\n",
      "Epoch 396/1000\n",
      "3/3 [==============================] - 4s 1s/step - loss: 1.0296 - accuracy: 0.5617 - val_loss: 1.0421 - val_accuracy: 0.5549\n",
      "Epoch 397/1000\n",
      "3/3 [==============================] - 4s 1s/step - loss: 1.0310 - accuracy: 0.5591 - val_loss: 1.0196 - val_accuracy: 0.5611\n",
      "Epoch 398/1000\n",
      "3/3 [==============================] - 4s 1s/step - loss: 1.0145 - accuracy: 0.5660 - val_loss: 1.0322 - val_accuracy: 0.5556\n",
      "Epoch 399/1000\n",
      "3/3 [==============================] - 4s 1s/step - loss: 1.0434 - accuracy: 0.5505 - val_loss: 1.0599 - val_accuracy: 0.5455\n",
      "Epoch 400/1000\n",
      "3/3 [==============================] - 4s 1s/step - loss: 1.0343 - accuracy: 0.5562 - val_loss: 1.0046 - val_accuracy: 0.5716\n",
      "Epoch 401/1000\n",
      "3/3 [==============================] - 4s 1s/step - loss: 1.0241 - accuracy: 0.5596 - val_loss: 1.0312 - val_accuracy: 0.5561\n",
      "Epoch 402/1000\n",
      "3/3 [==============================] - 4s 1s/step - loss: 1.0314 - accuracy: 0.5545 - val_loss: 1.0372 - val_accuracy: 0.5599\n",
      "Epoch 403/1000\n",
      "3/3 [==============================] - 4s 1s/step - loss: 1.0360 - accuracy: 0.5571 - val_loss: 1.0528 - val_accuracy: 0.5403\n",
      "Epoch 404/1000\n",
      "3/3 [==============================] - 4s 1s/step - loss: 1.0371 - accuracy: 0.5505 - val_loss: 1.0024 - val_accuracy: 0.5742\n",
      "Epoch 405/1000\n",
      "3/3 [==============================] - 4s 1s/step - loss: 0.9954 - accuracy: 0.5813 - val_loss: 0.9934 - val_accuracy: 0.5805\n",
      "Epoch 406/1000\n",
      "3/3 [==============================] - 4s 2s/step - loss: 0.9990 - accuracy: 0.5767 - val_loss: 1.0141 - val_accuracy: 0.5723\n",
      "Epoch 407/1000\n"
     ]
    },
    {
     "name": "stdout",
     "output_type": "stream",
     "text": [
      "3/3 [==============================] - 4s 1s/step - loss: 1.0315 - accuracy: 0.5590 - val_loss: 1.0740 - val_accuracy: 0.5283\n",
      "Epoch 408/1000\n",
      "3/3 [==============================] - 4s 1s/step - loss: 1.0416 - accuracy: 0.5489 - val_loss: 0.9972 - val_accuracy: 0.5760\n",
      "Epoch 409/1000\n",
      "3/3 [==============================] - 4s 1s/step - loss: 0.9963 - accuracy: 0.5776 - val_loss: 1.0336 - val_accuracy: 0.5552\n",
      "Epoch 410/1000\n",
      "3/3 [==============================] - 4s 1s/step - loss: 1.0521 - accuracy: 0.5445 - val_loss: 1.0227 - val_accuracy: 0.5598\n",
      "Epoch 411/1000\n",
      "3/3 [==============================] - 4s 1s/step - loss: 1.0145 - accuracy: 0.5633 - val_loss: 1.0055 - val_accuracy: 0.5682\n",
      "Epoch 412/1000\n",
      "3/3 [==============================] - 4s 1s/step - loss: 1.0001 - accuracy: 0.5732 - val_loss: 1.0046 - val_accuracy: 0.5700\n",
      "Epoch 413/1000\n",
      "3/3 [==============================] - 4s 1s/step - loss: 1.0182 - accuracy: 0.5654 - val_loss: 1.0207 - val_accuracy: 0.5628\n",
      "Epoch 414/1000\n",
      "3/3 [==============================] - 4s 1s/step - loss: 1.0134 - accuracy: 0.5685 - val_loss: 1.0369 - val_accuracy: 0.5524\n",
      "Epoch 415/1000\n",
      "3/3 [==============================] - 4s 1s/step - loss: 1.0206 - accuracy: 0.5594 - val_loss: 0.9789 - val_accuracy: 0.5849\n",
      "Epoch 416/1000\n",
      "3/3 [==============================] - 4s 1s/step - loss: 0.9783 - accuracy: 0.5887 - val_loss: 1.0245 - val_accuracy: 0.5596\n",
      "Epoch 417/1000\n",
      "3/3 [==============================] - 4s 1s/step - loss: 1.0562 - accuracy: 0.5454 - val_loss: 1.1348 - val_accuracy: 0.4968\n",
      "Epoch 418/1000\n",
      "3/3 [==============================] - 4s 2s/step - loss: 1.0621 - accuracy: 0.5388 - val_loss: 1.0017 - val_accuracy: 0.5686\n",
      "Epoch 419/1000\n",
      "3/3 [==============================] - 4s 1s/step - loss: 0.9968 - accuracy: 0.5772 - val_loss: 0.9756 - val_accuracy: 0.5987\n",
      "Epoch 420/1000\n",
      "3/3 [==============================] - 4s 1s/step - loss: 0.9739 - accuracy: 0.5954 - val_loss: 0.9969 - val_accuracy: 0.5764\n",
      "Epoch 421/1000\n",
      "3/3 [==============================] - 4s 1s/step - loss: 1.0054 - accuracy: 0.5718 - val_loss: 0.9975 - val_accuracy: 0.5738\n",
      "Epoch 422/1000\n",
      "3/3 [==============================] - 4s 1s/step - loss: 0.9900 - accuracy: 0.5811 - val_loss: 0.9881 - val_accuracy: 0.5837\n",
      "Epoch 423/1000\n",
      "3/3 [==============================] - 4s 1s/step - loss: 1.0068 - accuracy: 0.5712 - val_loss: 1.0528 - val_accuracy: 0.5403\n",
      "Epoch 424/1000\n",
      "3/3 [==============================] - 4s 1s/step - loss: 1.0733 - accuracy: 0.5274 - val_loss: 1.0442 - val_accuracy: 0.5543\n",
      "Epoch 425/1000\n",
      "3/3 [==============================] - 4s 1s/step - loss: 1.0393 - accuracy: 0.5562 - val_loss: 0.9855 - val_accuracy: 0.5835\n",
      "Epoch 426/1000\n",
      "3/3 [==============================] - 4s 1s/step - loss: 0.9807 - accuracy: 0.5883 - val_loss: 0.9827 - val_accuracy: 0.5901\n",
      "Epoch 427/1000\n",
      "3/3 [==============================] - 4s 1s/step - loss: 0.9799 - accuracy: 0.5865 - val_loss: 0.9772 - val_accuracy: 0.5783\n",
      "Epoch 428/1000\n",
      "3/3 [==============================] - 4s 1s/step - loss: 0.9819 - accuracy: 0.5830 - val_loss: 0.9959 - val_accuracy: 0.5814\n",
      "Epoch 429/1000\n",
      "3/3 [==============================] - 4s 1s/step - loss: 1.0070 - accuracy: 0.5702 - val_loss: 1.0235 - val_accuracy: 0.5656\n",
      "Restoring model weights from the end of the best epoch.\n",
      "Epoch 00429: early stopping\n"
     ]
    }
   ],
   "source": [
    "model.compile(\n",
    "    optimizer = \"rmsprop\", loss = \"categorical_crossentropy\", metrics = [\"accuracy\"]\n",
    ")\n",
    "\n",
    "es = EarlyStopping(monitor='val_loss', min_delta = 0, patience = 10, verbose = 1, restore_best_weights = True)\n",
    "\n",
    "log = model.fit(\n",
    "    [ encoder_input_data, decoder_input_data ],\n",
    "    decoder_target_data,\n",
    "    batch_size = batch_size,\n",
    "    epochs = epochs,\n",
    "    callbacks = [ es ],\n",
    "    validation_split = 0.2,\n",
    ")"
   ]
  },
  {
   "cell_type": "code",
   "execution_count": 26,
   "metadata": {
    "ExecuteTime": {
     "end_time": "2021-04-25T14:43:14.871141Z",
     "start_time": "2021-04-25T14:43:08.655581Z"
    }
   },
   "outputs": [],
   "source": [
    "import matplotlib.pyplot as plt\n",
    "\n",
    "%matplotlib inline\n",
    "plt.rcParams['figure.figsize'] = (16, 8)\n",
    "\n",
    "# Save model\n",
    "# model.save(\"data/ncbi_02/model\")"
   ]
  },
  {
   "cell_type": "code",
   "execution_count": 27,
   "metadata": {
    "ExecuteTime": {
     "end_time": "2021-04-25T14:44:02.441854Z",
     "start_time": "2021-04-25T14:44:02.061450Z"
    }
   },
   "outputs": [
    {
     "data": {
      "image/png": "[encoded data removed]",
      "text/plain": [
       "<Figure size 1152x576 with 1 Axes>"
      ]
     },
     "metadata": {
      "needs_background": "light"
     },
     "output_type": "display_data"
    },
    {
     "data": {
      "image/png": "[encoded data removed]",
      "text/plain": [
       "<Figure size 1152x576 with 1 Axes>"
      ]
     },
     "metadata": {
      "needs_background": "light"
     },
     "output_type": "display_data"
    }
   ],
   "source": [
    "\n",
    "plt.plot(log.history['accuracy'], label = 'mokymo')\n",
    "plt.plot(log.history['val_accuracy'], label = 'validavimo')\n",
    "plt.ylabel('tikslumas')\n",
    "plt.xlabel('epocha')\n",
    "plt.legend()\n",
    "plt.show()\n",
    "\n",
    "plt.plot(log.history['loss'], '--', label = 'mokymo')\n",
    "plt.plot(log.history['val_loss'], '--', label = 'validavimo')\n",
    "plt.ylabel('netektis')\n",
    "plt.xlabel('epocha')\n",
    "plt.legend()\n",
    "plt.show()\n"
   ]
  },
  {
   "cell_type": "markdown",
   "metadata": {},
   "source": [
    "## Inference"
   ]
  },
  {
   "cell_type": "code",
   "execution_count": null,
   "metadata": {
    "ExecuteTime": {
     "end_time": "2021-04-25T14:45:14.366061Z",
     "start_time": "2021-04-25T14:45:11.329936Z"
    }
   },
   "outputs": [],
   "source": [
    "# Define sampling models\n",
    "# Restore the model and construct the encoder and decoder.\n",
    "model = keras.models.load_model(\"data/ncbi/raxml\")"
   ]
  },
  {
   "cell_type": "code",
   "execution_count": null,
   "metadata": {
    "ExecuteTime": {
     "end_time": "2021-04-25T15:02:43.649357Z",
     "start_time": "2021-04-25T15:02:43.453271Z"
    }
   },
   "outputs": [],
   "source": [
    "encoder_inputs = model.input[0]  # input_1\n",
    "encoder_outputs, state_h_enc, state_c_enc = model.layers[2].output  # lstm_1\n",
    "encoder_states = [state_h_enc, state_c_enc]\n",
    "encoder_model = keras.Model(encoder_inputs, encoder_states)\n",
    "\n",
    "decoder_inputs = model.input[1]  # input_2\n",
    "decoder_state_input_h = keras.Input(shape=(latent_dim,))\n",
    "decoder_state_input_c = keras.Input(shape=(latent_dim,))\n",
    "decoder_states_inputs = [decoder_state_input_h, decoder_state_input_c]\n",
    "decoder_lstm = model.layers[3]\n",
    "decoder_outputs, state_h_dec, state_c_dec = decoder_lstm(\n",
    "    decoder_inputs, initial_state=decoder_states_inputs\n",
    ")\n",
    "decoder_states = [state_h_dec, state_c_dec]\n",
    "decoder_dense = model.layers[4]\n",
    "decoder_outputs = decoder_dense(decoder_outputs)\n",
    "decoder_model = keras.Model(\n",
    "    [decoder_inputs] + decoder_states_inputs, [decoder_outputs] + decoder_states\n",
    ")\n",
    "\n",
    "# Reverse-lookup token index to decode sequences back to\n",
    "# something readable.\n",
    "reverse_input_char_index = dict((i, char) for char, i in input_token_index.items())\n",
    "reverse_target_char_index = dict((i, char) for char, i in target_token_index.items())"
   ]
  },
  {
   "cell_type": "code",
   "execution_count": null,
   "metadata": {
    "ExecuteTime": {
     "end_time": "2021-04-25T15:02:46.122326Z",
     "start_time": "2021-04-25T15:02:46.110383Z"
    }
   },
   "outputs": [],
   "source": [
    "def decode_sequence(input_seq):\n",
    "    # Encode the input as state vectors.\n",
    "    states_value = encoder_model.predict(input_seq)\n",
    "\n",
    "    # Generate empty target sequence of length 1.\n",
    "    target_seq = np.zeros((1, 1, num_decoder_tokens))\n",
    "    # Populate the first character of target sequence with the start character.\n",
    "    target_seq[0, 0, target_token_index[\"\\t\"]] = 1.0\n",
    "\n",
    "    # Sampling loop for a batch of sequences\n",
    "    # (to simplify, here we assume a batch of size 1).\n",
    "    stop_condition = False\n",
    "    decoded_sentence = \"\"\n",
    "    while not stop_condition:\n",
    "        output_tokens, h, c = decoder_model.predict([target_seq] + states_value)\n",
    "\n",
    "        # Sample a token\n",
    "        sampled_token_index = np.argmax(output_tokens[0, -1, :])\n",
    "        sampled_char = reverse_target_char_index[sampled_token_index]\n",
    "        decoded_sentence += sampled_char\n",
    "\n",
    "        # Exit condition: either hit max length\n",
    "        # or find stop character.\n",
    "        if sampled_char == \"\\n\" or len(decoded_sentence) > max_decoder_seq_length:\n",
    "            stop_condition = True\n",
    "\n",
    "        # Update the target sequence (of length 1).\n",
    "        target_seq = np.zeros((1, 1, num_decoder_tokens))\n",
    "        target_seq[0, 0, sampled_token_index] = 1.0\n",
    "\n",
    "        # Update states\n",
    "        states_value = [h, c]\n",
    "    return decoded_sentence"
   ]
  },
  {
   "cell_type": "code",
   "execution_count": null,
   "metadata": {
    "ExecuteTime": {
     "end_time": "2021-04-25T15:02:56.164836Z",
     "start_time": "2021-04-25T15:02:56.159767Z"
    }
   },
   "outputs": [],
   "source": [
    "# for seq_index in range(20):\n",
    "#     # Take one sequence (part of the training set)\n",
    "#     # for trying out decoding.\n",
    "#     input_seq = encoder_input_data[seq_index : seq_index + 1]\n",
    "#     decoded_sentence = decode_sequence(input_seq)\n",
    "#     print(\"-\")\n",
    "#     print(\"Input sentence:\", input_texts[seq_index])\n",
    "#     print(\"Decoded sentence:\", decoded_sentence)"
   ]
  },
  {
   "cell_type": "code",
   "execution_count": null,
   "metadata": {},
   "outputs": [],
   "source": []
  }
 ],
 "metadata": {
  "kernelspec": {
   "display_name": "covid-seq2seq",
   "language": "python",
   "name": "covid-seq2seq"
  },
  "language_info": {
   "codemirror_mode": {
    "name": "ipython",
    "version": 3
   },
   "file_extension": ".py",
   "mimetype": "text/x-python",
   "name": "python",
   "nbconvert_exporter": "python",
   "pygments_lexer": "ipython3",
   "version": "3.8.10"
  },
  "varInspector": {
   "cols": {
    "lenName": 16,
    "lenType": 16,
    "lenVar": 40
   },
   "kernels_config": {
    "python": {
     "delete_cmd_postfix": "",
     "delete_cmd_prefix": "del ",
     "library": "var_list.py",
     "varRefreshCmd": "print(var_dic_list())"
    },
    "r": {
     "delete_cmd_postfix": ") ",
     "delete_cmd_prefix": "rm(",
     "library": "var_list.r",
     "varRefreshCmd": "cat(var_dic_list()) "
    }
   },
   "types_to_exclude": [
    "module",
    "function",
    "builtin_function_or_method",
    "instance",
    "_Feature"
   ],
   "window_display": false
  }
 },
 "nbformat": 4,
 "nbformat_minor": 2
}
